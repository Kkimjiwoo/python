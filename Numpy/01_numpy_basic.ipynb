{
 "cells": [
  {
   "cell_type": "code",
   "execution_count": null,
   "metadata": {},
   "outputs": [],
   "source": [
    "import numpy as np "
   ]
  },
  {
   "cell_type": "code",
   "execution_count": 4,
   "metadata": {},
   "outputs": [
    {
     "name": "stdout",
     "output_type": "stream",
     "text": [
      "[1, 2, 3]\n"
     ]
    }
   ],
   "source": [
    "# 리스트와 넘파이 차이 \n",
    "\n",
    "list_ = [1,2,3]\n",
    "print(list_)"
   ]
  },
  {
   "cell_type": "code",
   "execution_count": 5,
   "metadata": {},
   "outputs": [
    {
     "data": {
      "text/plain": [
       "array([1, 2, 3])"
      ]
     },
     "execution_count": 5,
     "metadata": {},
     "output_type": "execute_result"
    }
   ],
   "source": [
    "np.array([1,2,3])\n",
    "# array : 배열 \n",
    "# np.array(리스트)"
   ]
  },
  {
   "cell_type": "code",
   "execution_count": 6,
   "metadata": {},
   "outputs": [
    {
     "name": "stdout",
     "output_type": "stream",
     "text": [
      "[1 2 3]\n",
      "1\n",
      "3\n"
     ]
    }
   ],
   "source": [
    "arr = np.array([1,2,3])\n",
    "print(arr) # 리스트와 같이 출력됨(',' 없음, 콤마 상실)\n",
    "print(arr[0]) # 리스트와 같이 indexing 됨 >> 순서가 있다는 의미네~ \n",
    "print(arr[-1])"
   ]
  },
  {
   "cell_type": "code",
   "execution_count": 7,
   "metadata": {},
   "outputs": [
    {
     "data": {
      "text/plain": [
       "[1, 2, 3, 4, 5, 6]"
      ]
     },
     "execution_count": 7,
     "metadata": {},
     "output_type": "execute_result"
    }
   ],
   "source": [
    "# 왜 넘파이를 배우지? \n",
    "\n",
    "# 리스트와 리스트 더하면 >> 연장됨 (크기가 커짐)\n",
    "[1,2,3] + [4,5,6]"
   ]
  },
  {
   "cell_type": "code",
   "execution_count": 8,
   "metadata": {},
   "outputs": [
    {
     "name": "stdout",
     "output_type": "stream",
     "text": [
      "[1, 2, 3, 4, 5, 6]\n",
      "6\n"
     ]
    }
   ],
   "source": [
    "c = [1,2,3] + [4,5,6]\n",
    "print(c)\n",
    "print(len(c))"
   ]
  },
  {
   "cell_type": "code",
   "execution_count": 154,
   "metadata": {},
   "outputs": [
    {
     "data": {
      "text/plain": [
       "array([5, 7, 9])"
      ]
     },
     "execution_count": 154,
     "metadata": {},
     "output_type": "execute_result"
    }
   ],
   "source": [
    "arr_a = np.array([1,2,3])\n",
    "arr_b = np.array([4,5,6])\n",
    "\n",
    "arr_a + arr_b \n",
    "# 같은 위치에 있는 원소(element)끼리 더해짐 \n",
    "# >> 연산이 됨"
   ]
  },
  {
   "cell_type": "code",
   "execution_count": 121,
   "metadata": {},
   "outputs": [
    {
     "data": {
      "text/plain": [
       "array([[1, 2, 3],\n",
       "       [4, 5, 6],\n",
       "       [7, 8, 9]])"
      ]
     },
     "execution_count": 121,
     "metadata": {},
     "output_type": "execute_result"
    }
   ],
   "source": [
    "np.array([[1,2,3],[4,5,6],[7,8,9]]) # 2차원\n",
    "# >> np.array([arr_1, arr_2, arr_3])\n",
    "# 어떤 리스트 집단에 리스트로 묶인 요소들이 있다. \n",
    "# 1차원이 3개가 리스트로 묶여있으면 2차원"
   ]
  },
  {
   "cell_type": "code",
   "execution_count": 122,
   "metadata": {},
   "outputs": [
    {
     "data": {
      "text/plain": [
       "9"
      ]
     },
     "execution_count": 122,
     "metadata": {},
     "output_type": "execute_result"
    }
   ],
   "source": [
    "arr_e = np.array([[1,2,3],[4,5,6],[7,8,9]]) \n",
    "arr_e[-1][-1]"
   ]
  },
  {
   "cell_type": "markdown",
   "metadata": {},
   "source": [
    "넘파이 배열 속성"
   ]
  },
  {
   "cell_type": "code",
   "execution_count": 12,
   "metadata": {},
   "outputs": [
    {
     "name": "stdout",
     "output_type": "stream",
     "text": [
      "[[1 2 3]\n",
      " [4 5 6]\n",
      " [7 8 9]]\n",
      "(3, 3)\n"
     ]
    }
   ],
   "source": [
    "arr_e = np.array([[1,2,3],[4,5,6],[7,8,9]]) \n",
    "print(arr_e)\n",
    "\n",
    "# 배열의 형상 \n",
    "print(arr_e.shape)\n",
    "# (3,3) : 3행 3열 "
   ]
  },
  {
   "cell_type": "code",
   "execution_count": 125,
   "metadata": {},
   "outputs": [
    {
     "name": "stdout",
     "output_type": "stream",
     "text": [
      "[[1 2 3]\n",
      " [4 5 6]]\n",
      "\n",
      "(2, 3)\n"
     ]
    }
   ],
   "source": [
    "arr_z = np.array([[1,2,3],[4,5,6]])\n",
    "print(arr_z)\n",
    "print()\n",
    "print(arr_z.shape) "
   ]
  },
  {
   "cell_type": "code",
   "execution_count": 56,
   "metadata": {},
   "outputs": [
    {
     "name": "stdout",
     "output_type": "stream",
     "text": [
      "[[1]\n",
      " [4]\n",
      " [7]]\n",
      "(3, 1)\n"
     ]
    }
   ],
   "source": [
    "arr_y = np.array([[1],[4],[7]]) \n",
    "print(arr_y)\n",
    "\n",
    "# 배열의 형상 \n",
    "print(arr_y.shape)"
   ]
  },
  {
   "cell_type": "code",
   "execution_count": 71,
   "metadata": {},
   "outputs": [
    {
     "name": "stdout",
     "output_type": "stream",
     "text": [
      "[1]\n",
      "[4]\n",
      "[7]\n",
      "[1 4 7]\n",
      "[[1]]\n",
      "[[4]]\n",
      "[[7]]\n",
      "[[1 4 7]]\n"
     ]
    }
   ],
   "source": [
    "arr_y = np.array([[1],[4],[7]]) \n",
    "a = arr_y[0]\n",
    "print(a)\n",
    "b = arr_y[1]\n",
    "print(b)\n",
    "c = arr_y[2]\n",
    "print(c)\n",
    "\n",
    "concat_1 = np.concatenate((a,b,c),axis=0)\n",
    "print(concat_1)\n",
    "\n",
    "# axis=0이면 배열을 수직으로 연결(위아래)\n",
    "# axis=1이면 배열을 수평으로 연결(좌우로)\n",
    "'''\n",
    "# axis =1을 사용하려면 각 배열이 열 벡터가 아니라 행 벡터여야 하낟.\n",
    "# 일반적으로 numpy 배열에서 벡터는 열 벡터로 표현\n",
    "a = arr_y[0].reshape(1,-1)\n",
    "print(a)\n",
    "b = arr_y[1].reshape(1,-1)\n",
    "print(b)\n",
    "c = arr_y[2].reshape(1,-1)\n",
    "print(c)\n",
    "\n",
    "concat_1 = np.concatenate((a,b,c),axis=1)\n",
    "print(concat_1)\n",
    "'''"
   ]
  },
  {
   "cell_type": "code",
   "execution_count": 47,
   "metadata": {},
   "outputs": [
    {
     "name": "stdout",
     "output_type": "stream",
     "text": [
      "[1 2 3]\n",
      "(3,)\n"
     ]
    }
   ],
   "source": [
    "arr_a = np.array([1,2,3])\n",
    "print(arr_a)\n",
    "print(arr_a.shape) # 1차원 \n",
    "# (3,)과 (3,1)은 다르다"
   ]
  },
  {
   "cell_type": "code",
   "execution_count": 25,
   "metadata": {},
   "outputs": [
    {
     "name": "stdout",
     "output_type": "stream",
     "text": [
      "[[1]\n",
      " [2]\n",
      " [3]]\n",
      "(3, 1)\n"
     ]
    }
   ],
   "source": [
    "arr_f = np.array([[1],[2],[3]])\n",
    "print(arr_f)\n",
    "print(arr_f.shape) # 2차원 "
   ]
  },
  {
   "cell_type": "code",
   "execution_count": 26,
   "metadata": {},
   "outputs": [
    {
     "name": "stdout",
     "output_type": "stream",
     "text": [
      "1\n",
      "\n",
      "2\n"
     ]
    }
   ],
   "source": [
    "# 배열의 차원 수 \n",
    "\n",
    "print(arr_a.ndim) # 1차원\n",
    "print()\n",
    "print(arr_f.ndim) # 2차원\n",
    "\n",
    "# ndim : number of dimension (차원 수)"
   ]
  },
  {
   "cell_type": "code",
   "execution_count": 27,
   "metadata": {},
   "outputs": [
    {
     "data": {
      "text/plain": [
       "array([[1],\n",
       "       [2],\n",
       "       [3]])"
      ]
     },
     "execution_count": 27,
     "metadata": {},
     "output_type": "execute_result"
    }
   ],
   "source": [
    "arr_f"
   ]
  },
  {
   "cell_type": "code",
   "execution_count": 28,
   "metadata": {},
   "outputs": [
    {
     "name": "stdout",
     "output_type": "stream",
     "text": [
      "[[1]\n",
      " [2]\n",
      " [3]]\n"
     ]
    }
   ],
   "source": [
    "print(arr_f) # 배열 : 콤마상실 "
   ]
  },
  {
   "cell_type": "code",
   "execution_count": 29,
   "metadata": {},
   "outputs": [
    {
     "data": {
      "text/plain": [
       "dtype('int32')"
      ]
     },
     "execution_count": 29,
     "metadata": {},
     "output_type": "execute_result"
    }
   ],
   "source": [
    "# 요소의 자료형 \n",
    "\n",
    "arr_f.dtype\n",
    "# dtype : data type "
   ]
  },
  {
   "cell_type": "code",
   "execution_count": 30,
   "metadata": {},
   "outputs": [
    {
     "data": {
      "text/plain": [
       "4"
      ]
     },
     "execution_count": 30,
     "metadata": {},
     "output_type": "execute_result"
    }
   ],
   "source": [
    "# 요소의 한 개의 크기 \n",
    "\n",
    "arr_f.itemsize"
   ]
  },
  {
   "cell_type": "code",
   "execution_count": 31,
   "metadata": {},
   "outputs": [
    {
     "data": {
      "text/plain": [
       "3"
      ]
     },
     "execution_count": 31,
     "metadata": {},
     "output_type": "execute_result"
    }
   ],
   "source": [
    "# 전체 요소의 개수 \n",
    "\n",
    "arr_f.size "
   ]
  },
  {
   "cell_type": "code",
   "execution_count": 32,
   "metadata": {},
   "outputs": [
    {
     "data": {
      "text/plain": [
       "array([[0., 0., 0., 0.],\n",
       "       [0., 0., 0., 0.],\n",
       "       [0., 0., 0., 0.]])"
      ]
     },
     "execution_count": 32,
     "metadata": {},
     "output_type": "execute_result"
    }
   ],
   "source": [
    "# zeros(), eye(), ones() 함수 \n",
    "\n",
    "np.zeros((3,4))\n",
    "# 3*4 매트리스를 만드는데 for 문을 이용하여 채울 수 있다. \n",
    "# sero로 만들어줘"
   ]
  },
  {
   "cell_type": "code",
   "execution_count": 33,
   "metadata": {},
   "outputs": [
    {
     "data": {
      "text/plain": [
       "array([[1., 1., 1., 1.],\n",
       "       [1., 1., 1., 1.],\n",
       "       [1., 1., 1., 1.]])"
      ]
     },
     "execution_count": 33,
     "metadata": {},
     "output_type": "execute_result"
    }
   ],
   "source": [
    "np.ones((3,4))\n",
    "# 3*4 매트리스는 one으로 만들어줘"
   ]
  },
  {
   "cell_type": "code",
   "execution_count": 34,
   "metadata": {},
   "outputs": [
    {
     "data": {
      "text/plain": [
       "dtype('float64')"
      ]
     },
     "execution_count": 34,
     "metadata": {},
     "output_type": "execute_result"
    }
   ],
   "source": [
    "np.ones((3,4)).dtype"
   ]
  },
  {
   "cell_type": "code",
   "execution_count": 35,
   "metadata": {},
   "outputs": [
    {
     "data": {
      "text/plain": [
       "array([[1., 0., 0.],\n",
       "       [0., 1., 0.],\n",
       "       [0., 0., 1.]])"
      ]
     },
     "execution_count": 35,
     "metadata": {},
     "output_type": "execute_result"
    }
   ],
   "source": [
    "np.eye(3)"
   ]
  },
  {
   "cell_type": "code",
   "execution_count": 36,
   "metadata": {},
   "outputs": [
    {
     "data": {
      "text/plain": [
       "array([0, 1, 2, 3, 4])"
      ]
     },
     "execution_count": 36,
     "metadata": {},
     "output_type": "execute_result"
    }
   ],
   "source": [
    "# arange() : array + range 배열의 범위 \n",
    "# np.arange(start, stop, step)\n",
    "\n",
    "np.arange(5)"
   ]
  },
  {
   "cell_type": "code",
   "execution_count": 37,
   "metadata": {},
   "outputs": [
    {
     "name": "stdout",
     "output_type": "stream",
     "text": [
      "[0 1 2 3 4]\n"
     ]
    }
   ],
   "source": [
    "print(np.arange(5))"
   ]
  },
  {
   "cell_type": "code",
   "execution_count": 38,
   "metadata": {},
   "outputs": [
    {
     "data": {
      "text/plain": [
       "array([1, 2, 3, 4, 5])"
      ]
     },
     "execution_count": 38,
     "metadata": {},
     "output_type": "execute_result"
    }
   ],
   "source": [
    "np.arange(1,6)"
   ]
  },
  {
   "cell_type": "code",
   "execution_count": 39,
   "metadata": {},
   "outputs": [
    {
     "data": {
      "text/plain": [
       "array([1, 3, 5, 7, 9])"
      ]
     },
     "execution_count": 39,
     "metadata": {},
     "output_type": "execute_result"
    }
   ],
   "source": [
    "np.arange(1,10,2)"
   ]
  },
  {
   "cell_type": "code",
   "execution_count": 40,
   "metadata": {},
   "outputs": [
    {
     "data": {
      "text/plain": [
       "array([ 0.        ,  1.11111111,  2.22222222,  3.33333333,  4.44444444,\n",
       "        5.55555556,  6.66666667,  7.77777778,  8.88888889, 10.        ])"
      ]
     },
     "execution_count": 40,
     "metadata": {},
     "output_type": "execute_result"
    }
   ],
   "source": [
    "# linspace () 함수 \n",
    "\n",
    "np.linspace(0, 10, 10)\n",
    "#  0부터 10(포함) 사이에 동등하게 10개로 균등하게 나눠서 보여줘 (세속어: n빵)"
   ]
  },
  {
   "cell_type": "code",
   "execution_count": 41,
   "metadata": {},
   "outputs": [
    {
     "data": {
      "text/plain": [
       "array([ 1.  ,  3.25,  5.5 ,  7.75, 10.  ])"
      ]
     },
     "execution_count": 41,
     "metadata": {},
     "output_type": "execute_result"
    }
   ],
   "source": [
    "np.linspace(1,10,5)\n",
    "#arange(1,10)에서 10을 포함하지 않지만 linspace는 10을 포함함"
   ]
  },
  {
   "cell_type": "code",
   "execution_count": 51,
   "metadata": {},
   "outputs": [
    {
     "name": "stdout",
     "output_type": "stream",
     "text": [
      "[[1 2]\n",
      " [3 4]]\n",
      "\n",
      "[[5 6]\n",
      " [7 8]]\n"
     ]
    }
   ],
   "source": [
    "# 2개의 배열 합치기 \n",
    "\n",
    "np.array([[1,2],[3,4]])     # 2개의 리스트가 있고 각각의 원소는 2개 총 원소는 4개\n",
    "\n",
    "x = np.array([[1,2],[3,4]])\n",
    "y = np.array([[5,6],[7,8]])\n",
    "\n",
    "print(x)\n",
    "print()\n",
    "print(y)"
   ]
  },
  {
   "cell_type": "code",
   "execution_count": 52,
   "metadata": {},
   "outputs": [
    {
     "data": {
      "text/plain": [
       "array([[ 6,  8],\n",
       "       [10, 12]])"
      ]
     },
     "execution_count": 52,
     "metadata": {},
     "output_type": "execute_result"
    }
   ],
   "source": [
    "x + y "
   ]
  },
  {
   "cell_type": "code",
   "execution_count": 53,
   "metadata": {},
   "outputs": [
    {
     "name": "stdout",
     "output_type": "stream",
     "text": [
      "[[1 2]\n",
      " [3 4]\n",
      " [5 6]\n",
      " [7 8]]\n",
      "(4, 2)\n"
     ]
    }
   ],
   "source": [
    "concat_0 = np.concatenate((x,y))\n",
    "\n",
    "print(concat_0) \n",
    "print(concat_0.shape)\n",
    "\n",
    "# default: axis=0 서로다른 행끼리 (열 방향) ex) 김 이 박"
   ]
  },
  {
   "cell_type": "code",
   "execution_count": 35,
   "metadata": {},
   "outputs": [
    {
     "name": "stdout",
     "output_type": "stream",
     "text": [
      "[[1 2 5 6]\n",
      " [3 4 7 8]]\n",
      "(2, 4)\n"
     ]
    }
   ],
   "source": [
    "concat_1 = np.concatenate((x,y), axis=1)\n",
    "\n",
    "print(concat_1) \n",
    "print(concat_1.shape)\n",
    "# axis=1 서로다른 열끼리(행방향)"
   ]
  },
  {
   "cell_type": "code",
   "execution_count": 129,
   "metadata": {},
   "outputs": [
    {
     "name": "stdout",
     "output_type": "stream",
     "text": [
      "[[1 2]\n",
      " [3 4]\n",
      " [5 6]\n",
      " [7 8]]\n",
      "\n",
      "[[1 2]\n",
      " [3 4]\n",
      " [5 6]\n",
      " [7 8]]\n"
     ]
    }
   ],
   "source": [
    "# vstack, hstack \n",
    "\n",
    "# 1. vstack : v(Vertical 수직의) + stack (쌓아 올리다)\n",
    "\n",
    "print(np.vstack((x,y)))\n",
    "print()\n",
    "print(np.concatenate((x,y), axis=0))"
   ]
  },
  {
   "cell_type": "code",
   "execution_count": 130,
   "metadata": {},
   "outputs": [
    {
     "name": "stdout",
     "output_type": "stream",
     "text": [
      "[[1 2 5 6]\n",
      " [3 4 7 8]]\n",
      "\n",
      "[[1 2 5 6]\n",
      " [3 4 7 8]]\n"
     ]
    }
   ],
   "source": [
    "# 2. hstack : h(horizontal) 수평의) + stack (쌓아 올리다)\n",
    "\n",
    "print(np.hstack((x,y)))\n",
    "print()\n",
    "print(np.concatenate((x,y), axis=1))"
   ]
  },
  {
   "cell_type": "markdown",
   "metadata": {},
   "source": [
    "reshape(****)"
   ]
  },
  {
   "cell_type": "code",
   "execution_count": 132,
   "metadata": {},
   "outputs": [
    {
     "data": {
      "text/plain": [
       "array([ 0,  1,  2,  3,  4,  5,  6,  7,  8,  9, 10, 11])"
      ]
     },
     "execution_count": 132,
     "metadata": {},
     "output_type": "execute_result"
    }
   ],
   "source": [
    "np.arange(12)"
   ]
  },
  {
   "cell_type": "code",
   "execution_count": 133,
   "metadata": {},
   "outputs": [
    {
     "name": "stdout",
     "output_type": "stream",
     "text": [
      "(12,)\n"
     ]
    }
   ],
   "source": [
    "a = np.arange(12)\n",
    "print(a.shape)  # 1차원, (행은 1개만 있음, 열 없음)\n",
    "# 12개 요소를 가진 1차원 배열"
   ]
  },
  {
   "cell_type": "code",
   "execution_count": 134,
   "metadata": {},
   "outputs": [
    {
     "name": "stdout",
     "output_type": "stream",
     "text": [
      "[ 0  1  2  3  4  5  6  7  8  9 10 11]\n"
     ]
    }
   ],
   "source": [
    "# reshape() : 형태를 변경하겠다는 의미\n",
    "\n",
    "# 1차원 >> 2차원\n",
    "\n",
    "print(a)"
   ]
  },
  {
   "cell_type": "code",
   "execution_count": 135,
   "metadata": {},
   "outputs": [
    {
     "data": {
      "text/plain": [
       "array([[ 0,  1,  2,  3],\n",
       "       [ 4,  5,  6,  7],\n",
       "       [ 8,  9, 10, 11]])"
      ]
     },
     "execution_count": 135,
     "metadata": {},
     "output_type": "execute_result"
    }
   ],
   "source": [
    "a.reshape(3,4)"
   ]
  },
  {
   "cell_type": "code",
   "execution_count": 136,
   "metadata": {},
   "outputs": [
    {
     "name": "stdout",
     "output_type": "stream",
     "text": [
      "(3, 4)\n",
      "2\n"
     ]
    }
   ],
   "source": [
    "dim_2 = a.reshape(3,4) # 2차원\n",
    "print(dim_2.shape)\n",
    "print(dim_2.ndim)\n"
   ]
  },
  {
   "cell_type": "code",
   "execution_count": 137,
   "metadata": {},
   "outputs": [
    {
     "data": {
      "text/plain": [
       "array([[ 0,  1,  2,  3],\n",
       "       [ 4,  5,  6,  7],\n",
       "       [ 8,  9, 10, 11]])"
      ]
     },
     "execution_count": 137,
     "metadata": {},
     "output_type": "execute_result"
    }
   ],
   "source": [
    "a.reshape(3,-1)\n",
    "# 형태를 행은 3개를 만들고 싶은데 \n",
    "# 열은 그냥 전체 원소 (12개)를 고려해서 끝(-1)을 맞췆"
   ]
  },
  {
   "cell_type": "code",
   "execution_count": 44,
   "metadata": {},
   "outputs": [
    {
     "data": {
      "text/plain": [
       "array([[ 0,  1],\n",
       "       [ 2,  3],\n",
       "       [ 4,  5],\n",
       "       [ 6,  7],\n",
       "       [ 8,  9],\n",
       "       [10, 11]])"
      ]
     },
     "execution_count": 44,
     "metadata": {},
     "output_type": "execute_result"
    }
   ],
   "source": [
    "a.reshape(6,-1)"
   ]
  },
  {
   "cell_type": "code",
   "execution_count": 138,
   "metadata": {},
   "outputs": [],
   "source": [
    "temp = np.arange(11)\n",
    "# 원소의 개수를 맞춰야함"
   ]
  },
  {
   "cell_type": "code",
   "execution_count": 139,
   "metadata": {},
   "outputs": [
    {
     "data": {
      "text/plain": [
       "array([ 0,  1,  2,  3,  4,  5,  6,  7,  8,  9, 10])"
      ]
     },
     "execution_count": 139,
     "metadata": {},
     "output_type": "execute_result"
    }
   ],
   "source": [
    "temp"
   ]
  },
  {
   "cell_type": "code",
   "execution_count": 160,
   "metadata": {},
   "outputs": [],
   "source": [
    "# temp.reshape(3,-1)\n",
    "# value erro 발생 (원소가 3으로 떨어지지 않음)\n",
    "# ValueError: cannot reshape array of size 11 into shape (3,newaxis)"
   ]
  },
  {
   "cell_type": "code",
   "execution_count": 161,
   "metadata": {},
   "outputs": [
    {
     "name": "stdout",
     "output_type": "stream",
     "text": [
      "[[ 0  1  2  3  4  5  6  7  8  9]\n",
      " [10 11 12 13 14 15 16 17 18 19]\n",
      " [20 21 22 23 24 25 26 27 28 29]]\n"
     ]
    }
   ],
   "source": [
    "# 배열 분활하기\n",
    "arr = np.arange(30).reshape(-1,10)\n",
    "print(arr)\n",
    "# 열만 10개로 맞춰줘"
   ]
  },
  {
   "cell_type": "code",
   "execution_count": 49,
   "metadata": {},
   "outputs": [
    {
     "data": {
      "text/plain": [
       "[array([[ 0,  1,  2],\n",
       "        [10, 11, 12],\n",
       "        [20, 21, 22]]),\n",
       " array([[ 3,  4,  5,  6,  7,  8,  9],\n",
       "        [13, 14, 15, 16, 17, 18, 19],\n",
       "        [23, 24, 25, 26, 27, 28, 29]])]"
      ]
     },
     "execution_count": 49,
     "metadata": {},
     "output_type": "execute_result"
    }
   ],
   "source": [
    "np.split(arr,[3],axis = 1)  # 열 방향으로 \n",
    "# 3을 기준으로 열방향으로 분활한다"
   ]
  },
  {
   "cell_type": "code",
   "execution_count": 50,
   "metadata": {},
   "outputs": [
    {
     "name": "stdout",
     "output_type": "stream",
     "text": [
      "[[ 0  1  2]\n",
      " [10 11 12]\n",
      " [20 21 22]]\n",
      "\n",
      "[[ 3  4  5  6  7  8  9]\n",
      " [13 14 15 16 17 18 19]\n",
      " [23 24 25 26 27 28 29]]\n"
     ]
    }
   ],
   "source": [
    "arr1, arr2 = np.split(arr, [3], axis = 1)\n",
    "\n",
    "print(arr1)\n",
    "print()\n",
    "print(arr2)"
   ]
  },
  {
   "cell_type": "code",
   "execution_count": 142,
   "metadata": {},
   "outputs": [
    {
     "name": "stdout",
     "output_type": "stream",
     "text": [
      "[1 2 3 4 5 6]\n",
      "\n",
      "(6,)\n"
     ]
    }
   ],
   "source": [
    "# 배열(array)에 새로운 축 추가하기\n",
    "a = np.array([1,2,3,4,5,6])\n",
    "print(a) # 콤마 상실\n",
    "print()\n",
    "print(a.shape)  # 1차원(원소 6개)"
   ]
  },
  {
   "cell_type": "code",
   "execution_count": 143,
   "metadata": {},
   "outputs": [
    {
     "data": {
      "text/plain": [
       "array([[1, 2, 3, 4, 5, 6]])"
      ]
     },
     "execution_count": 143,
     "metadata": {},
     "output_type": "execute_result"
    }
   ],
   "source": [
    "a[np.newaxis, :] # 차원이 하나 만들어 짐, 묶음이 두개  \n",
    "# a 배열의 각 열에 새로운 축을 추가하는 것"
   ]
  },
  {
   "cell_type": "code",
   "execution_count": 144,
   "metadata": {},
   "outputs": [
    {
     "name": "stdout",
     "output_type": "stream",
     "text": [
      "[[1 2 3 4 5 6]]\n",
      "\n",
      "(1, 6)\n"
     ]
    }
   ],
   "source": [
    "a1 = a[np.newaxis, :] \n",
    "print(a1)\n",
    "print()\n",
    "print(a1.shape) # 1 * 6 행렬(2차원)"
   ]
  },
  {
   "cell_type": "code",
   "execution_count": 54,
   "metadata": {},
   "outputs": [
    {
     "data": {
      "text/plain": [
       "array([[1],\n",
       "       [2],\n",
       "       [3],\n",
       "       [4],\n",
       "       [5],\n",
       "       [6]])"
      ]
     },
     "execution_count": 54,
     "metadata": {},
     "output_type": "execute_result"
    }
   ],
   "source": [
    "a[:, np.newaxis]\n",
    "# a 배 축을 추가하는 것,(np.newaxis)은 새로운 축을 추가를 의미\n",
    "# :은 슬라이싱을 의미하는데 모든 행을 선택열의 각 행에 새로운"
   ]
  },
  {
   "cell_type": "code",
   "execution_count": 145,
   "metadata": {},
   "outputs": [
    {
     "name": "stdout",
     "output_type": "stream",
     "text": [
      "[[1]\n",
      " [2]\n",
      " [3]\n",
      " [4]\n",
      " [5]\n",
      " [6]]\n",
      "\n",
      "(6, 1)\n"
     ]
    }
   ],
   "source": [
    "a2 = a[:, np.newaxis]\n",
    "print(a2)\n",
    "print()\n",
    "print(a2.shape) # 6*1 행렬구조\n",
    "# 컴마없이 표현"
   ]
  },
  {
   "cell_type": "code",
   "execution_count": 56,
   "metadata": {},
   "outputs": [
    {
     "data": {
      "text/plain": [
       "array([18, 19, 25, 30, 28])"
      ]
     },
     "execution_count": 56,
     "metadata": {},
     "output_type": "execute_result"
    }
   ],
   "source": [
    "# 인덱스와 슬라이싱\n",
    "\n",
    "np.array([18,19,25,30,28])"
   ]
  },
  {
   "cell_type": "code",
   "execution_count": 57,
   "metadata": {},
   "outputs": [
    {
     "data": {
      "text/plain": [
       "25"
      ]
     },
     "execution_count": 57,
     "metadata": {},
     "output_type": "execute_result"
    }
   ],
   "source": [
    "ages = np.array([18,19,25,30,28])\n",
    "\n",
    "# 인덱싱\n",
    "ages[2]"
   ]
  },
  {
   "cell_type": "code",
   "execution_count": 58,
   "metadata": {},
   "outputs": [
    {
     "name": "stdout",
     "output_type": "stream",
     "text": [
      "[19 25]\n",
      "[18 19 25]\n"
     ]
    }
   ],
   "source": [
    "# 슬라이싱\n",
    "\n",
    "print(ages[1:3])\n",
    "print(ages[:-2])"
   ]
  },
  {
   "cell_type": "code",
   "execution_count": 59,
   "metadata": {},
   "outputs": [
    {
     "data": {
      "text/plain": [
       "array([False, False,  True,  True,  True])"
      ]
     },
     "execution_count": 59,
     "metadata": {},
     "output_type": "execute_result"
    }
   ],
   "source": [
    "# 논리적 인덱싱\n",
    "ages > 20 # 비교연산자"
   ]
  },
  {
   "cell_type": "code",
   "execution_count": 60,
   "metadata": {},
   "outputs": [],
   "source": [
    "condition = (ages > 20)\n",
    "# 이것만 input으로 받고 사용자 정의 함수로 호출하면 바로 답을 얻을 수 있다. "
   ]
  },
  {
   "cell_type": "code",
   "execution_count": 61,
   "metadata": {},
   "outputs": [
    {
     "data": {
      "text/plain": [
       "array([25, 30, 28])"
      ]
     },
     "execution_count": 61,
     "metadata": {},
     "output_type": "execute_result"
    }
   ],
   "source": [
    "ages[condition]"
   ]
  },
  {
   "cell_type": "code",
   "execution_count": 62,
   "metadata": {},
   "outputs": [
    {
     "data": {
      "text/plain": [
       "array([25, 30, 28])"
      ]
     },
     "execution_count": 62,
     "metadata": {},
     "output_type": "execute_result"
    }
   ],
   "source": [
    "ages[(ages > 20)]"
   ]
  },
  {
   "cell_type": "code",
   "execution_count": 63,
   "metadata": {},
   "outputs": [
    {
     "data": {
      "text/plain": [
       "array([[1, 2, 3],\n",
       "       [4, 5, 6],\n",
       "       [7, 8, 9]])"
      ]
     },
     "execution_count": 63,
     "metadata": {},
     "output_type": "execute_result"
    }
   ],
   "source": [
    "# 2차원 배열 인덱싱\n",
    "np.array([[1,2,3],[4,5,6],[7,8,9]])\n",
    "# 0,1,2 3개의 리스트가 있고, 각 리스트 안에 3개의 원소가 있다."
   ]
  },
  {
   "cell_type": "code",
   "execution_count": 147,
   "metadata": {},
   "outputs": [
    {
     "name": "stdout",
     "output_type": "stream",
     "text": [
      "[[1 2 3]\n",
      " [4 5 6]\n",
      " [7 8 9]]\n",
      "\n",
      "[1 2 3]\n",
      "\n",
      "3\n",
      "\n",
      "3\n",
      "\n",
      "1\n"
     ]
    }
   ],
   "source": [
    "a = np.array([[1,2,3],[4,5,6],[7,8,9]])\n",
    "print(a)\n",
    "print()\n",
    "print(a[0])\n",
    "print()\n",
    "print(a[0][2])\n",
    "print()\n",
    "print(a[0,2])\n",
    "print()\n",
    "print(a[0,0])  #0번이라는 리스트에 0번째 원소"
   ]
  },
  {
   "cell_type": "code",
   "execution_count": 65,
   "metadata": {},
   "outputs": [
    {
     "name": "stdout",
     "output_type": "stream",
     "text": [
      "[[12  2  3]\n",
      " [ 4  5  6]\n",
      " [ 7  8  9]]\n",
      "\n",
      "(3, 3)\n"
     ]
    }
   ],
   "source": [
    "# 값을 지정하여 바꾸고 싶을 때\n",
    "a[0,0] = 12\n",
    "print(a)\n",
    "print()\n",
    "print(a.shape)"
   ]
  },
  {
   "cell_type": "code",
   "execution_count": 66,
   "metadata": {},
   "outputs": [
    {
     "name": "stdout",
     "output_type": "stream",
     "text": [
      "[[12  2  3]\n",
      " [ 4  5  6]]\n",
      "\n",
      "(2, 3)\n"
     ]
    }
   ],
   "source": [
    "# 차원에서 3*3 > 2*3으로 바뀜 (shape)\n",
    "a[0:2]\n",
    "print(a[0:2])\n",
    "print()\n",
    "print(a[0:2].shape)"
   ]
  },
  {
   "cell_type": "code",
   "execution_count": 67,
   "metadata": {},
   "outputs": [
    {
     "name": "stdout",
     "output_type": "stream",
     "text": [
      "[[12  2  3]\n",
      " [ 4  5  6]\n",
      " [ 7  8  9]]\n",
      "\n",
      "[[2 3]\n",
      " [5 6]]\n"
     ]
    }
   ],
   "source": [
    "print(a)\n",
    "print()\n",
    "print(a[0:2, 1:3])  # a[행, 열]\n",
    "# 내가 필요한 부분만 추출해오기가 가능해짐"
   ]
  },
  {
   "cell_type": "code",
   "execution_count": 68,
   "metadata": {},
   "outputs": [
    {
     "data": {
      "text/plain": [
       "array([[12,  3],\n",
       "       [ 7,  9]])"
      ]
     },
     "execution_count": 68,
     "metadata": {},
     "output_type": "execute_result"
    }
   ],
   "source": [
    "a[::2,::2]"
   ]
  },
  {
   "cell_type": "markdown",
   "metadata": {},
   "source": [
    "넘파이 연산"
   ]
  },
  {
   "cell_type": "code",
   "execution_count": 69,
   "metadata": {},
   "outputs": [
    {
     "data": {
      "text/plain": [
       "array([[1, 2],\n",
       "       [3, 4],\n",
       "       [5, 6]])"
      ]
     },
     "execution_count": 69,
     "metadata": {},
     "output_type": "execute_result"
    }
   ],
   "source": [
    "np.array([[1,2],[3,4],[5,6]])"
   ]
  },
  {
   "cell_type": "code",
   "execution_count": 70,
   "metadata": {},
   "outputs": [],
   "source": [
    "arr1 = np.array([[1,2],[3,4],[5,6]])\n",
    "arr2 = np.array([[1,1],[1,1],[1,1]])"
   ]
  },
  {
   "cell_type": "code",
   "execution_count": 71,
   "metadata": {},
   "outputs": [
    {
     "data": {
      "text/plain": [
       "array([[2, 3],\n",
       "       [4, 5],\n",
       "       [6, 7]])"
      ]
     },
     "execution_count": 71,
     "metadata": {},
     "output_type": "execute_result"
    }
   ],
   "source": [
    "result = arr1 + arr2\n",
    "result"
   ]
  },
  {
   "cell_type": "code",
   "execution_count": 72,
   "metadata": {},
   "outputs": [
    {
     "data": {
      "text/plain": [
       "[1, 2, 3, 4, 5, 6, 7, 8]"
      ]
     },
     "execution_count": 72,
     "metadata": {},
     "output_type": "execute_result"
    }
   ],
   "source": [
    "# cf) list + list\n",
    "a= [1,2,3,4]\n",
    "b= [5,6,7,8]\n",
    "a+b"
   ]
  },
  {
   "cell_type": "code",
   "execution_count": 73,
   "metadata": {},
   "outputs": [],
   "source": [
    "a.extend(b)\n",
    "# a 자체가 변경이 됨"
   ]
  },
  {
   "cell_type": "code",
   "execution_count": 74,
   "metadata": {},
   "outputs": [
    {
     "name": "stdout",
     "output_type": "stream",
     "text": [
      "[1, 2, 3, 4, 5, 6, 7, 8]\n"
     ]
    }
   ],
   "source": [
    "print(a)"
   ]
  },
  {
   "cell_type": "code",
   "execution_count": 75,
   "metadata": {},
   "outputs": [
    {
     "data": {
      "text/plain": [
       "array([1, 2, 3])"
      ]
     },
     "execution_count": 75,
     "metadata": {},
     "output_type": "execute_result"
    }
   ],
   "source": [
    "# 브로드 캐스팅\n",
    "\n",
    "np.array([1,2,3])     # (3,) 1차원"
   ]
  },
  {
   "cell_type": "code",
   "execution_count": 76,
   "metadata": {},
   "outputs": [
    {
     "data": {
      "text/plain": [
       "array([1.6, 3.2, 4.8])"
      ]
     },
     "execution_count": 76,
     "metadata": {},
     "output_type": "execute_result"
    }
   ],
   "source": [
    "miles = np.array([1,2,3])\n",
    "miles * 1.6"
   ]
  },
  {
   "cell_type": "code",
   "execution_count": 77,
   "metadata": {},
   "outputs": [
    {
     "data": {
      "text/plain": [
       "10"
      ]
     },
     "execution_count": 77,
     "metadata": {},
     "output_type": "execute_result"
    }
   ],
   "source": [
    "# 특정 값만 바꾸고 싶을 때\n",
    "miles[0] * 10"
   ]
  },
  {
   "cell_type": "code",
   "execution_count": 78,
   "metadata": {},
   "outputs": [],
   "source": [
    "# 리스트는 될까?\n",
    "# [1,2,3]*1.6\n",
    "# TypeError: can't multiply sequence by non-int of type 'float'\n",
    "# 데이터 타입이 다를 때 불가능"
   ]
  },
  {
   "cell_type": "code",
   "execution_count": 149,
   "metadata": {},
   "outputs": [],
   "source": [
    "# 넘파이 곱셈\n",
    "arr1 = np.array([[1,2],[3,4],[5,6]])\n",
    "arr2 = np.array([[2,2],[2,2],[2,2]])"
   ]
  },
  {
   "cell_type": "code",
   "execution_count": 151,
   "metadata": {},
   "outputs": [],
   "source": [
    "result = arr1 * arr2"
   ]
  },
  {
   "cell_type": "code",
   "execution_count": 152,
   "metadata": {},
   "outputs": [
    {
     "name": "stdout",
     "output_type": "stream",
     "text": [
      "[[1 2]\n",
      " [3 4]\n",
      " [5 6]]\n",
      "\n",
      "[[2 2]\n",
      " [2 2]\n",
      " [2 2]]\n",
      "\n",
      "[[ 2  4]\n",
      " [ 6  8]\n",
      " [10 12]]\n",
      "\n"
     ]
    }
   ],
   "source": [
    "print(arr1)\n",
    "print()\n",
    "print(arr2)\n",
    "print()\n",
    "print(result)\n",
    "print()\n",
    "\n",
    "# 각각 원소끼리 접근, 같은 위치의 원소끼리(elemrnt- wise) 곱해짐"
   ]
  },
  {
   "cell_type": "code",
   "execution_count": 82,
   "metadata": {},
   "outputs": [
    {
     "name": "stdout",
     "output_type": "stream",
     "text": [
      "(3, 2)\n",
      "(3, 2)\n"
     ]
    }
   ],
   "source": [
    "# 내적 (dot product): 행렬 끕\n",
    "# 입력 행렬 열 @ 추력되는 행이 같아야함\n",
    "#ex) (x,3)@(3,y) >> (x,y)\n",
    "\n",
    "print(arr1.shape)\n",
    "print(arr2.shape)"
   ]
  },
  {
   "cell_type": "code",
   "execution_count": 83,
   "metadata": {},
   "outputs": [],
   "source": [
    "#arr1 @ arr2\n",
    "# matual(matrix multiply)\n",
    "# ValueError: matmul: Input operand 1 has a mismatch in its core dimension 0, \n",
    "# with gufunc signature (n?,k),(k,m?)->(n?,m?) (size 3 is different from 2)\n",
    "# (m,k) @ (k,n) >>(m,n)\n",
    "\n",
    "# 행렬 구조로 (2,3)  (3,2) 이어야 가능"
   ]
  },
  {
   "cell_type": "code",
   "execution_count": 162,
   "metadata": {},
   "outputs": [
    {
     "data": {
      "text/plain": [
       "array([[2, 2],\n",
       "       [2, 2],\n",
       "       [2, 2]])"
      ]
     },
     "execution_count": 162,
     "metadata": {},
     "output_type": "execute_result"
    }
   ],
   "source": [
    "arr2 # (3,2)"
   ]
  },
  {
   "cell_type": "code",
   "execution_count": 163,
   "metadata": {},
   "outputs": [
    {
     "data": {
      "text/plain": [
       "array([[2, 2, 2],\n",
       "       [2, 2, 2]])"
      ]
     },
     "execution_count": 163,
     "metadata": {},
     "output_type": "execute_result"
    }
   ],
   "source": [
    "arr2.T #(2,3)\n",
    "# 전치행렬 (T: transpose) : 행/ 열을 바꿈"
   ]
  },
  {
   "cell_type": "code",
   "execution_count": 164,
   "metadata": {},
   "outputs": [
    {
     "data": {
      "text/plain": [
       "array([[ 6,  6,  6],\n",
       "       [14, 14, 14],\n",
       "       [22, 22, 22]])"
      ]
     },
     "execution_count": 164,
     "metadata": {},
     "output_type": "execute_result"
    }
   ],
   "source": [
    "#내적, 행렬 곱\n",
    "arr1 @ arr2.T"
   ]
  },
  {
   "cell_type": "code",
   "execution_count": 165,
   "metadata": {},
   "outputs": [
    {
     "name": "stdout",
     "output_type": "stream",
     "text": [
      "(3, 3)\n"
     ]
    }
   ],
   "source": [
    "arr3 = arr1 @ arr2.T\n",
    "print(arr3.shape)"
   ]
  },
  {
   "cell_type": "code",
   "execution_count": 167,
   "metadata": {},
   "outputs": [
    {
     "name": "stdout",
     "output_type": "stream",
     "text": [
      "[[18 24]\n",
      " [18 24]]\n",
      "\n",
      "(2, 2)\n"
     ]
    }
   ],
   "source": [
    "arr4 =arr2.T@arr1\n",
    "print(arr4)\n",
    "print()\n",
    "print(arr4.shape)"
   ]
  },
  {
   "cell_type": "code",
   "execution_count": 88,
   "metadata": {},
   "outputs": [
    {
     "data": {
      "text/plain": [
       "array([0, 1, 2, 3])"
      ]
     },
     "execution_count": 88,
     "metadata": {},
     "output_type": "execute_result"
    }
   ],
   "source": [
    "# 넘파일 배열에 함수 적용하기\n",
    "\n",
    "np.array([0,1,2,3])"
   ]
  },
  {
   "cell_type": "code",
   "execution_count": 89,
   "metadata": {},
   "outputs": [
    {
     "name": "stdout",
     "output_type": "stream",
     "text": [
      "[0 1 2 3]\n",
      "\n",
      "[0, 1, 2, 3]\n"
     ]
    }
   ],
   "source": [
    "a = np.array([0,1,2,3])\n",
    "print(a)    # 콤마 상실\n",
    "print()\n",
    "print([0,1,2,3])"
   ]
  },
  {
   "cell_type": "code",
   "execution_count": 90,
   "metadata": {},
   "outputs": [
    {
     "data": {
      "text/plain": [
       "array([0.        , 0.84147098, 0.90929743, 0.14112001])"
      ]
     },
     "execution_count": 90,
     "metadata": {},
     "output_type": "execute_result"
    }
   ],
   "source": [
    "np.sin(a)\n",
    "# sin(0), sin(1)...의 값 "
   ]
  },
  {
   "cell_type": "code",
   "execution_count": 91,
   "metadata": {},
   "outputs": [
    {
     "data": {
      "text/plain": [
       "array([0.        , 8.41470985, 9.09297427, 1.41120008])"
      ]
     },
     "execution_count": 91,
     "metadata": {},
     "output_type": "execute_result"
    }
   ],
   "source": [
    "10*np.sin(a)\n",
    "# 넘파이 sin() 함수 적용\n",
    "# >> 배열 요소(element)의 원소 모두에 sin() 함수가 적용됨(브로드캐스팅)"
   ]
  },
  {
   "cell_type": "code",
   "execution_count": 92,
   "metadata": {},
   "outputs": [
    {
     "name": "stdout",
     "output_type": "stream",
     "text": [
      "[[1 2 3]\n",
      " [4 5 6]\n",
      " [7 8 9]]\n",
      "\n",
      "45\n",
      "\n",
      "1\n",
      "\n",
      "9\n"
     ]
    }
   ],
   "source": [
    "# 넘파이 배열 메소드\n",
    "\n",
    "np.array([[1,2,3],[4,5,6],[7,8,9]])\n",
    "\n",
    "a = np.array([[1,2,3],[4,5,6],[7,8,9]])\n",
    "\n",
    "print(a)\n",
    "print()\n",
    "print(a.sum())\n",
    "print()\n",
    "print(a.min())\n",
    "print()\n",
    "print(a.max())"
   ]
  },
  {
   "cell_type": "code",
   "execution_count": 168,
   "metadata": {},
   "outputs": [
    {
     "data": {
      "text/plain": [
       "array([[99, 93, 60],\n",
       "       [98, 82, 93],\n",
       "       [93, 65, 81],\n",
       "       [78, 82, 81]])"
      ]
     },
     "execution_count": 168,
     "metadata": {},
     "output_type": "execute_result"
    }
   ],
   "source": [
    "# 문제\n",
    "# 특정 행이나 열에 넘파이 메소드 적용\n",
    "# (학생별 국, 영, 수 점수 배열 활용)\n",
    "np.array([[99,93,60],[98,82,93],[93,65,81],[78,82,81]])\n",
    "# 4명의 학생들 국, 영, 수 점수"
   ]
  },
  {
   "cell_type": "code",
   "execution_count": 94,
   "metadata": {},
   "outputs": [
    {
     "data": {
      "text/plain": [
       "array([368, 322, 315])"
      ]
     },
     "execution_count": 94,
     "metadata": {},
     "output_type": "execute_result"
    }
   ],
   "source": [
    "scores = np.array([[99,93,60],[98,82,93],[93,65,81],[78,82,81]])\n",
    "scores.sum(axis = 0)    # 열끼리\n",
    "# 국어, 영어, 수학 각 과목의 총점\n",
    "# 행세(axis = 0) 연가 (axis = 1)"
   ]
  },
  {
   "cell_type": "code",
   "execution_count": 95,
   "metadata": {},
   "outputs": [
    {
     "data": {
      "text/plain": [
       "array([252, 273, 239, 241])"
      ]
     },
     "execution_count": 95,
     "metadata": {},
     "output_type": "execute_result"
    }
   ],
   "source": [
    "scores.sum(axis = 1)\n",
    "# 4명의 학생, 각 학생이 받은 국, 영, 수 총점"
   ]
  },
  {
   "cell_type": "code",
   "execution_count": 96,
   "metadata": {},
   "outputs": [
    {
     "data": {
      "text/plain": [
       "array([92.  , 80.5 , 78.75])"
      ]
     },
     "execution_count": 96,
     "metadata": {},
     "output_type": "execute_result"
    }
   ],
   "source": [
    "scores.mean(axis = 0)\n",
    "# 국어, 영어, 수학의 평균"
   ]
  },
  {
   "cell_type": "code",
   "execution_count": 97,
   "metadata": {},
   "outputs": [
    {
     "data": {
      "text/plain": [
       "array([84.        , 91.        , 79.66666667, 80.33333333])"
      ]
     },
     "execution_count": 97,
     "metadata": {},
     "output_type": "execute_result"
    }
   ],
   "source": [
    "scores.mean(axis = 1)"
   ]
  },
  {
   "cell_type": "markdown",
   "metadata": {},
   "source": [
    "균일 분포에서 난수 생성하기"
   ]
  },
  {
   "cell_type": "code",
   "execution_count": 98,
   "metadata": {},
   "outputs": [
    {
     "data": {
      "text/plain": [
       "array([0.15722336, 0.75974753, 0.2219545 , 0.33988763, 0.48946947])"
      ]
     },
     "execution_count": 98,
     "metadata": {},
     "output_type": "execute_result"
    }
   ],
   "source": [
    "# 시드값 설정 안함\n",
    "# >> 시드값을 설정하지 않으면 값이 계속 변함\n",
    "# >> 데이터로 사용하고 싶어도 계속 값이 바껴서 사용할 수가 없음\n",
    "import numpy as np\n",
    "\n",
    "np.random.rand(5)\n",
    "# MinMax 스케일링-일반적으로 0과 1 사이\n",
    "# standard scaler는 데이터를 정규분포로 표준화하는 데이터 전처리 방법"
   ]
  },
  {
   "cell_type": "code",
   "execution_count": 99,
   "metadata": {},
   "outputs": [
    {
     "data": {
      "text/plain": [
       "array([0.54340494, 0.27836939, 0.42451759, 0.84477613, 0.00471886])"
      ]
     },
     "execution_count": 99,
     "metadata": {},
     "output_type": "execute_result"
    }
   ],
   "source": [
    "import numpy as np\n",
    "\n",
    "np.random.seed(100)\n",
    "np.random.rand(5)\n",
    "# seed(몇번째 번호를 사용하겠다(숫자 상관없음)) \n",
    "# 무작위하게 생성된 값 중 고정된 결과값을 사용하겠다는 선언 \n",
    "\n",
    "# 무작위, 일반화, 임의로 >> 과학적인 통계방법\n",
    "# random \n",
    "# rand : 무작위(random)하게 0~1 사이 값에서 추출"
   ]
  },
  {
   "cell_type": "code",
   "execution_count": 100,
   "metadata": {},
   "outputs": [
    {
     "data": {
      "text/plain": [
       "array([[0.12156912, 0.67074908, 0.82585276],\n",
       "       [0.13670659, 0.57509333, 0.89132195],\n",
       "       [0.20920212, 0.18532822, 0.10837689],\n",
       "       [0.21969749, 0.97862378, 0.81168315],\n",
       "       [0.17194101, 0.81622475, 0.27407375]])"
      ]
     },
     "execution_count": 100,
     "metadata": {},
     "output_type": "execute_result"
    }
   ],
   "source": [
    "np.random.rand(5,3)"
   ]
  },
  {
   "cell_type": "code",
   "execution_count": 101,
   "metadata": {},
   "outputs": [
    {
     "data": {
      "text/plain": [
       "array([ 0.67272081, -0.10441114, -0.53128038,  1.02973269, -0.43813562])"
      ]
     },
     "execution_count": 101,
     "metadata": {},
     "output_type": "execute_result"
    }
   ],
   "source": [
    "# 정규분포(normal distribution) 난수 생성\n",
    "\n",
    "np.random.randn(5)\n",
    "# 평균 0, 표준편차가 1인 정규분포를 바탕으로 생성\n",
    "# 마이너스 값이 있을 수 밖에 없음 정규분포의 평균의 0이므로 "
   ]
  },
  {
   "cell_type": "code",
   "execution_count": 103,
   "metadata": {},
   "outputs": [
    {
     "data": {
      "text/plain": [
       "array([[-1.11831825,  1.61898166,  1.54160517, -0.25187914],\n",
       "       [-0.84243574,  0.18451869,  0.9370822 ,  0.73100034],\n",
       "       [ 1.36155613, -0.32623806,  0.05567601,  0.22239961],\n",
       "       [-1.443217  , -0.75635231,  0.81645401,  0.75044476],\n",
       "       [-0.45594693,  1.18962227, -1.69061683, -1.35639905]])"
      ]
     },
     "execution_count": 103,
     "metadata": {},
     "output_type": "execute_result"
    }
   ],
   "source": [
    "np.random.randn(5,4)"
   ]
  },
  {
   "cell_type": "code",
   "execution_count": 104,
   "metadata": {},
   "outputs": [
    {
     "data": {
      "text/plain": [
       "array([-0.12324345, -0.05444392, -0.06681717,  0.00073146, -0.06129387])"
      ]
     },
     "execution_count": 104,
     "metadata": {},
     "output_type": "execute_result"
    }
   ],
   "source": [
    "# m: mu(평균)\n",
    "# sigma: 편차(평균에서 떨어진 정도)\n",
    "\n",
    "mu, sigma = 0, 0.1\n",
    "\n",
    "mu + sigma *np.random.randn(5)"
   ]
  },
  {
   "cell_type": "code",
   "execution_count": 170,
   "metadata": {},
   "outputs": [
    {
     "data": {
      "text/plain": [
       "array([ 0.01088635,  0.05078096, -0.08622273,  0.12494697, -0.00796112])"
      ]
     },
     "execution_count": 170,
     "metadata": {},
     "output_type": "execute_result"
    }
   ],
   "source": [
    "mu, sigma = 0, 0.1\n",
    "np.random.normal(mu,sigma,5)\n",
    "# 이 코드를 실행하면 지정한 평균(mu)과 표준변파(sigma)를 갖는 정규분포에서 \n",
    "# 무작위로 5개의 숫자가 생성됩"
   ]
  },
  {
   "cell_type": "code",
   "execution_count": 106,
   "metadata": {},
   "outputs": [
    {
     "data": {
      "text/plain": [
       "array([11, 12, 13, 14, 15, 11, 16, 57, 21, 20])"
      ]
     },
     "execution_count": 106,
     "metadata": {},
     "output_type": "execute_result"
    }
   ],
   "source": [
    "# 고유항목 및 개수를 얻는 방법\n",
    "np.array([11,12,13,14,15,11,16,57,21,20])"
   ]
  },
  {
   "cell_type": "code",
   "execution_count": 171,
   "metadata": {},
   "outputs": [
    {
     "name": "stdout",
     "output_type": "stream",
     "text": [
      "[11 12 13 14 15 11 13 12 15 16 57 21 20]\n",
      "\n",
      "[11 12 13 14 15 16 20 21 57]\n",
      "9\n"
     ]
    }
   ],
   "source": [
    "a = np.array([11,12,13,14,15,11,13,12,15,16,57,21,20])\n",
    "\n",
    "print(a)\n",
    "print()\n",
    "print(np.unique(a)) # unique 중복인 값\n",
    "print(len(np.unique(a)))\n",
    "# 중복된 배열이 있을 때 unique 한 값만 가지고 싶을 때"
   ]
  },
  {
   "cell_type": "code",
   "execution_count": 108,
   "metadata": {},
   "outputs": [
    {
     "data": {
      "text/html": [
       "<div>\n",
       "<style scoped>\n",
       "    .dataframe tbody tr th:only-of-type {\n",
       "        vertical-align: middle;\n",
       "    }\n",
       "\n",
       "    .dataframe tbody tr th {\n",
       "        vertical-align: top;\n",
       "    }\n",
       "\n",
       "    .dataframe thead th {\n",
       "        text-align: right;\n",
       "    }\n",
       "</style>\n",
       "<table border=\"1\" class=\"dataframe\">\n",
       "  <thead>\n",
       "    <tr style=\"text-align: right;\">\n",
       "      <th></th>\n",
       "      <th>이름</th>\n",
       "    </tr>\n",
       "  </thead>\n",
       "  <tbody>\n",
       "    <tr>\n",
       "      <th>0</th>\n",
       "      <td>이예진</td>\n",
       "    </tr>\n",
       "    <tr>\n",
       "      <th>1</th>\n",
       "      <td>예동완</td>\n",
       "    </tr>\n",
       "    <tr>\n",
       "      <th>2</th>\n",
       "      <td>박민석</td>\n",
       "    </tr>\n",
       "    <tr>\n",
       "      <th>3</th>\n",
       "      <td>최인우</td>\n",
       "    </tr>\n",
       "  </tbody>\n",
       "</table>\n",
       "</div>"
      ],
      "text/plain": [
       "    이름\n",
       "0  이예진\n",
       "1  예동완\n",
       "2  박민석\n",
       "3  최인우"
      ]
     },
     "execution_count": 108,
     "metadata": {},
     "output_type": "execute_result"
    }
   ],
   "source": [
    "import pandas as pd\n",
    "data = {'이름': ['이예진','예동완','박민석','최인우']}\n",
    "pd.DataFrame(data)"
   ]
  },
  {
   "cell_type": "code",
   "execution_count": 109,
   "metadata": {},
   "outputs": [
    {
     "name": "stdout",
     "output_type": "stream",
     "text": [
      "    이름\n",
      "0  이예진\n",
      "1  예동완\n",
      "2  박민석\n",
      "3  최인우\n",
      "\n",
      "0    이예진\n",
      "1    예동완\n",
      "2    박민석\n",
      "3    최인우\n",
      "Name: 이름, dtype: object\n"
     ]
    }
   ],
   "source": [
    "df = pd.DataFrame(data)\n",
    "\n",
    "print(df)       # 데이터프레임 형식 출력\n",
    "print()\n",
    "print(df['이름'])   # Series 형식 출력(기본 단위, index 딸려 있음)"
   ]
  },
  {
   "cell_type": "code",
   "execution_count": 68,
   "metadata": {},
   "outputs": [
    {
     "data": {
      "text/html": [
       "<div>\n",
       "<style scoped>\n",
       "    .dataframe tbody tr th:only-of-type {\n",
       "        vertical-align: middle;\n",
       "    }\n",
       "\n",
       "    .dataframe tbody tr th {\n",
       "        vertical-align: top;\n",
       "    }\n",
       "\n",
       "    .dataframe thead th {\n",
       "        text-align: right;\n",
       "    }\n",
       "</style>\n",
       "<table border=\"1\" class=\"dataframe\">\n",
       "  <thead>\n",
       "    <tr style=\"text-align: right;\">\n",
       "      <th></th>\n",
       "      <th>이름</th>\n",
       "    </tr>\n",
       "  </thead>\n",
       "  <tbody>\n",
       "    <tr>\n",
       "      <th>0</th>\n",
       "      <td>최인우</td>\n",
       "    </tr>\n",
       "    <tr>\n",
       "      <th>1</th>\n",
       "      <td>성수린</td>\n",
       "    </tr>\n",
       "    <tr>\n",
       "      <th>2</th>\n",
       "      <td>김건우</td>\n",
       "    </tr>\n",
       "    <tr>\n",
       "      <th>3</th>\n",
       "      <td>사라정</td>\n",
       "    </tr>\n",
       "    <tr>\n",
       "      <th>4</th>\n",
       "      <td>성수린</td>\n",
       "    </tr>\n",
       "    <tr>\n",
       "      <th>5</th>\n",
       "      <td>김건우</td>\n",
       "    </tr>\n",
       "    <tr>\n",
       "      <th>6</th>\n",
       "      <td>사라정</td>\n",
       "    </tr>\n",
       "  </tbody>\n",
       "</table>\n",
       "</div>"
      ],
      "text/plain": [
       "    이름\n",
       "0  최인우\n",
       "1  성수린\n",
       "2  김건우\n",
       "3  사라정\n",
       "4  성수린\n",
       "5  김건우\n",
       "6  사라정"
      ]
     },
     "execution_count": 68,
     "metadata": {},
     "output_type": "execute_result"
    }
   ],
   "source": [
    "import pandas as pd\n",
    "data = {'이름': ['최인우','성수린','김건우','사라정','성수린','김건우','사라정']}\n",
    "pd.DataFrame(data)"
   ]
  },
  {
   "cell_type": "code",
   "execution_count": 67,
   "metadata": {},
   "outputs": [
    {
     "name": "stdout",
     "output_type": "stream",
     "text": [
      "    이름\n",
      "0  최인우\n",
      "1  성수린\n",
      "2  김건우\n",
      "3  사라정\n",
      "4  성수린\n",
      "5  김건우\n",
      "6  사라정\n",
      "\n",
      "0    최인우\n",
      "1    성수린\n",
      "2    김건우\n",
      "3    사라정\n",
      "4    성수린\n",
      "5    김건우\n",
      "6    사라정\n",
      "Name: 이름, dtype: object\n",
      "\n",
      "['최인우' '성수린' '김건우' '사라정']\n"
     ]
    }
   ],
   "source": [
    "df = pd.DataFrame(data)\n",
    "print(df)\n",
    "print()\n",
    "print(df['이름'])\n",
    "print()\n",
    "print(df['이름'].unique())\n",
    "# print(np.unique(a)) 넘파이와 차이"
   ]
  },
  {
   "cell_type": "markdown",
   "metadata": {},
   "source": [
    "전치 행렬(행과 열을 바꾸어 줌)"
   ]
  },
  {
   "cell_type": "code",
   "execution_count": 112,
   "metadata": {},
   "outputs": [
    {
     "data": {
      "text/plain": [
       "array([[1, 2],\n",
       "       [3, 4],\n",
       "       [5, 6],\n",
       "       [7, 8]])"
      ]
     },
     "execution_count": 112,
     "metadata": {},
     "output_type": "execute_result"
    }
   ],
   "source": [
    "np.array([[1,2],[3,4],[5,6],[7,8]])"
   ]
  },
  {
   "cell_type": "code",
   "execution_count": 113,
   "metadata": {},
   "outputs": [
    {
     "data": {
      "text/plain": [
       "array([[1, 3, 5, 7],\n",
       "       [2, 4, 6, 8]])"
      ]
     },
     "execution_count": 113,
     "metadata": {},
     "output_type": "execute_result"
    }
   ],
   "source": [
    "arr = np.array([[1,2],[3,4],[5,6],[7,8]])\n",
    "arr.T"
   ]
  },
  {
   "cell_type": "markdown",
   "metadata": {},
   "source": [
    "다차원 배열의 평탄화(***)"
   ]
  },
  {
   "cell_type": "code",
   "execution_count": 114,
   "metadata": {},
   "outputs": [
    {
     "name": "stdout",
     "output_type": "stream",
     "text": [
      "[[1 2]\n",
      " [3 4]\n",
      " [5 6]\n",
      " [7 8]]\n",
      "\n",
      "[1 2 3 4 5 6 7 8]\n"
     ]
    }
   ],
   "source": [
    "print(arr)\n",
    "print()\n",
    "print(arr.flatten())    # 한방에 일차원으로 바꿔줌"
   ]
  },
  {
   "cell_type": "code",
   "execution_count": 115,
   "metadata": {},
   "outputs": [
    {
     "name": "stdout",
     "output_type": "stream",
     "text": [
      "(4, 2)\n",
      "\n",
      "(8,)\n"
     ]
    }
   ],
   "source": [
    "print(arr.shape)    # (4,2) >> 행렬(2차원)\n",
    "print()\n",
    "print(arr.flatten().shape)     # 원소 8개 있음 (배열) (1차원)"
   ]
  },
  {
   "cell_type": "markdown",
   "metadata": {},
   "source": [
    "넘파이 활용.csv 파일 읽기"
   ]
  },
  {
   "cell_type": "code",
   "execution_count": 173,
   "metadata": {},
   "outputs": [
    {
     "data": {
      "text/html": [
       "<div>\n",
       "<style scoped>\n",
       "    .dataframe tbody tr th:only-of-type {\n",
       "        vertical-align: middle;\n",
       "    }\n",
       "\n",
       "    .dataframe tbody tr th {\n",
       "        vertical-align: top;\n",
       "    }\n",
       "\n",
       "    .dataframe thead th {\n",
       "        text-align: right;\n",
       "    }\n",
       "</style>\n",
       "<table border=\"1\" class=\"dataframe\">\n",
       "  <thead>\n",
       "    <tr style=\"text-align: right;\">\n",
       "      <th></th>\n",
       "      <th>'KR'</th>\n",
       "      <th>'Korea'</th>\n",
       "      <th>98480</th>\n",
       "      <th>'Seoul'</th>\n",
       "      <th>48422644</th>\n",
       "    </tr>\n",
       "  </thead>\n",
       "  <tbody>\n",
       "    <tr>\n",
       "      <th>0</th>\n",
       "      <td>'US'</td>\n",
       "      <td>'USA'</td>\n",
       "      <td>9629091</td>\n",
       "      <td>'Washington'</td>\n",
       "      <td>310232863</td>\n",
       "    </tr>\n",
       "    <tr>\n",
       "      <th>1</th>\n",
       "      <td>'JP'</td>\n",
       "      <td>'Japan'</td>\n",
       "      <td>377835</td>\n",
       "      <td>'Tokyo'</td>\n",
       "      <td>127288000</td>\n",
       "    </tr>\n",
       "    <tr>\n",
       "      <th>2</th>\n",
       "      <td>'CN'</td>\n",
       "      <td>'China'</td>\n",
       "      <td>9596960</td>\n",
       "      <td>'Beijing'</td>\n",
       "      <td>1330044000</td>\n",
       "    </tr>\n",
       "    <tr>\n",
       "      <th>3</th>\n",
       "      <td>'RU'</td>\n",
       "      <td>'Russia'</td>\n",
       "      <td>17100000</td>\n",
       "      <td>'Moscow'</td>\n",
       "      <td>140702000</td>\n",
       "    </tr>\n",
       "  </tbody>\n",
       "</table>\n",
       "</div>"
      ],
      "text/plain": [
       "   'KR'    'Korea'     98480        'Seoul'    48422644\n",
       "0  'US'      'USA'   9629091   'Washington'   310232863\n",
       "1  'JP'    'Japan'    377835        'Tokyo'   127288000\n",
       "2  'CN'    'China'   9596960      'Beijing'  1330044000\n",
       "3  'RU'   'Russia'  17100000       'Moscow'   140702000"
      ]
     },
     "execution_count": 173,
     "metadata": {},
     "output_type": "execute_result"
    }
   ],
   "source": [
    "import numpy as np\n",
    "import pandas as pd\n",
    "\n",
    "path ='../data/countries_data.csv'\n",
    "pd.read_csv(path)\n",
    "\n",
    "# 데이터를 물고옴"
   ]
  },
  {
   "cell_type": "code",
   "execution_count": 174,
   "metadata": {},
   "outputs": [
    {
     "data": {
      "text/html": [
       "<div>\n",
       "<style scoped>\n",
       "    .dataframe tbody tr th:only-of-type {\n",
       "        vertical-align: middle;\n",
       "    }\n",
       "\n",
       "    .dataframe tbody tr th {\n",
       "        vertical-align: top;\n",
       "    }\n",
       "\n",
       "    .dataframe thead th {\n",
       "        text-align: right;\n",
       "    }\n",
       "</style>\n",
       "<table border=\"1\" class=\"dataframe\">\n",
       "  <thead>\n",
       "    <tr style=\"text-align: right;\">\n",
       "      <th></th>\n",
       "      <th>0</th>\n",
       "      <th>1</th>\n",
       "      <th>2</th>\n",
       "      <th>3</th>\n",
       "      <th>4</th>\n",
       "    </tr>\n",
       "  </thead>\n",
       "  <tbody>\n",
       "    <tr>\n",
       "      <th>0</th>\n",
       "      <td>'KR'</td>\n",
       "      <td>'Korea'</td>\n",
       "      <td>98480</td>\n",
       "      <td>'Seoul'</td>\n",
       "      <td>48422644</td>\n",
       "    </tr>\n",
       "    <tr>\n",
       "      <th>1</th>\n",
       "      <td>'US'</td>\n",
       "      <td>'USA'</td>\n",
       "      <td>9629091</td>\n",
       "      <td>'Washington'</td>\n",
       "      <td>310232863</td>\n",
       "    </tr>\n",
       "    <tr>\n",
       "      <th>2</th>\n",
       "      <td>'JP'</td>\n",
       "      <td>'Japan'</td>\n",
       "      <td>377835</td>\n",
       "      <td>'Tokyo'</td>\n",
       "      <td>127288000</td>\n",
       "    </tr>\n",
       "    <tr>\n",
       "      <th>3</th>\n",
       "      <td>'CN'</td>\n",
       "      <td>'China'</td>\n",
       "      <td>9596960</td>\n",
       "      <td>'Beijing'</td>\n",
       "      <td>1330044000</td>\n",
       "    </tr>\n",
       "    <tr>\n",
       "      <th>4</th>\n",
       "      <td>'RU'</td>\n",
       "      <td>'Russia'</td>\n",
       "      <td>17100000</td>\n",
       "      <td>'Moscow'</td>\n",
       "      <td>140702000</td>\n",
       "    </tr>\n",
       "  </tbody>\n",
       "</table>\n",
       "</div>"
      ],
      "text/plain": [
       "      0          1         2              3           4\n",
       "0  'KR'    'Korea'     98480        'Seoul'    48422644\n",
       "1  'US'      'USA'   9629091   'Washington'   310232863\n",
       "2  'JP'    'Japan'    377835        'Tokyo'   127288000\n",
       "3  'CN'    'China'   9596960      'Beijing'  1330044000\n",
       "4  'RU'   'Russia'  17100000       'Moscow'   140702000"
      ]
     },
     "execution_count": 174,
     "metadata": {},
     "output_type": "execute_result"
    }
   ],
   "source": [
    "pd.read_csv(path,header=None)\n",
    "# header=None >> 첫번째 행부터 data로 인식하고 싶을 때 사용\n",
    "# cf) hearder = 0\n",
    "# >> index 로 0(첫번째 행)을 컬럼의 이름 (header)로 사용함"
   ]
  },
  {
   "cell_type": "code",
   "execution_count": 175,
   "metadata": {},
   "outputs": [
    {
     "data": {
      "text/html": [
       "<div>\n",
       "<style scoped>\n",
       "    .dataframe tbody tr th:only-of-type {\n",
       "        vertical-align: middle;\n",
       "    }\n",
       "\n",
       "    .dataframe tbody tr th {\n",
       "        vertical-align: top;\n",
       "    }\n",
       "\n",
       "    .dataframe thead th {\n",
       "        text-align: right;\n",
       "    }\n",
       "</style>\n",
       "<table border=\"1\" class=\"dataframe\">\n",
       "  <thead>\n",
       "    <tr style=\"text-align: right;\">\n",
       "      <th></th>\n",
       "      <th>'KR'</th>\n",
       "      <th>'Korea'</th>\n",
       "      <th>98480</th>\n",
       "      <th>'Seoul'</th>\n",
       "      <th>48422644</th>\n",
       "    </tr>\n",
       "  </thead>\n",
       "  <tbody>\n",
       "    <tr>\n",
       "      <th>0</th>\n",
       "      <td>'US'</td>\n",
       "      <td>'USA'</td>\n",
       "      <td>9629091</td>\n",
       "      <td>'Washington'</td>\n",
       "      <td>310232863</td>\n",
       "    </tr>\n",
       "    <tr>\n",
       "      <th>1</th>\n",
       "      <td>'JP'</td>\n",
       "      <td>'Japan'</td>\n",
       "      <td>377835</td>\n",
       "      <td>'Tokyo'</td>\n",
       "      <td>127288000</td>\n",
       "    </tr>\n",
       "    <tr>\n",
       "      <th>2</th>\n",
       "      <td>'CN'</td>\n",
       "      <td>'China'</td>\n",
       "      <td>9596960</td>\n",
       "      <td>'Beijing'</td>\n",
       "      <td>1330044000</td>\n",
       "    </tr>\n",
       "    <tr>\n",
       "      <th>3</th>\n",
       "      <td>'RU'</td>\n",
       "      <td>'Russia'</td>\n",
       "      <td>17100000</td>\n",
       "      <td>'Moscow'</td>\n",
       "      <td>140702000</td>\n",
       "    </tr>\n",
       "  </tbody>\n",
       "</table>\n",
       "</div>"
      ],
      "text/plain": [
       "   'KR'    'Korea'     98480        'Seoul'    48422644\n",
       "0  'US'      'USA'   9629091   'Washington'   310232863\n",
       "1  'JP'    'Japan'    377835        'Tokyo'   127288000\n",
       "2  'CN'    'China'   9596960      'Beijing'  1330044000\n",
       "3  'RU'   'Russia'  17100000       'Moscow'   140702000"
      ]
     },
     "execution_count": 175,
     "metadata": {},
     "output_type": "execute_result"
    }
   ],
   "source": [
    "pd.read_csv(path,header=0)\n",
    "# 첫번째 행을 행으로 쓰겠다"
   ]
  },
  {
   "cell_type": "code",
   "execution_count": 119,
   "metadata": {},
   "outputs": [
    {
     "data": {
      "text/html": [
       "<div>\n",
       "<style scoped>\n",
       "    .dataframe tbody tr th:only-of-type {\n",
       "        vertical-align: middle;\n",
       "    }\n",
       "\n",
       "    .dataframe tbody tr th {\n",
       "        vertical-align: top;\n",
       "    }\n",
       "\n",
       "    .dataframe thead th {\n",
       "        text-align: right;\n",
       "    }\n",
       "</style>\n",
       "<table border=\"1\" class=\"dataframe\">\n",
       "  <thead>\n",
       "    <tr style=\"text-align: right;\">\n",
       "      <th></th>\n",
       "      <th>0</th>\n",
       "      <th>1</th>\n",
       "      <th>2</th>\n",
       "      <th>3</th>\n",
       "      <th>4</th>\n",
       "    </tr>\n",
       "  </thead>\n",
       "  <tbody>\n",
       "    <tr>\n",
       "      <th>0</th>\n",
       "      <td>'KR'</td>\n",
       "      <td>'Korea'</td>\n",
       "      <td>98480</td>\n",
       "      <td>'Seoul'</td>\n",
       "      <td>48422644</td>\n",
       "    </tr>\n",
       "    <tr>\n",
       "      <th>1</th>\n",
       "      <td>'US'</td>\n",
       "      <td>'USA'</td>\n",
       "      <td>9629091</td>\n",
       "      <td>'Washington'</td>\n",
       "      <td>310232863</td>\n",
       "    </tr>\n",
       "    <tr>\n",
       "      <th>2</th>\n",
       "      <td>'JP'</td>\n",
       "      <td>'Japan'</td>\n",
       "      <td>377835</td>\n",
       "      <td>'Tokyo'</td>\n",
       "      <td>127288000</td>\n",
       "    </tr>\n",
       "    <tr>\n",
       "      <th>3</th>\n",
       "      <td>'CN'</td>\n",
       "      <td>'China'</td>\n",
       "      <td>9596960</td>\n",
       "      <td>'Beijing'</td>\n",
       "      <td>1330044000</td>\n",
       "    </tr>\n",
       "    <tr>\n",
       "      <th>4</th>\n",
       "      <td>'RU'</td>\n",
       "      <td>'Russia'</td>\n",
       "      <td>17100000</td>\n",
       "      <td>'Moscow'</td>\n",
       "      <td>140702000</td>\n",
       "    </tr>\n",
       "  </tbody>\n",
       "</table>\n",
       "</div>"
      ],
      "text/plain": [
       "      0          1         2              3           4\n",
       "0  'KR'    'Korea'     98480        'Seoul'    48422644\n",
       "1  'US'      'USA'   9629091   'Washington'   310232863\n",
       "2  'JP'    'Japan'    377835        'Tokyo'   127288000\n",
       "3  'CN'    'China'   9596960      'Beijing'  1330044000\n",
       "4  'RU'   'Russia'  17100000       'Moscow'   140702000"
      ]
     },
     "execution_count": 119,
     "metadata": {},
     "output_type": "execute_result"
    }
   ],
   "source": [
    "pd.read_csv(path,header=None)\n"
   ]
  },
  {
   "cell_type": "markdown",
   "metadata": {},
   "source": [
    "전통적인 방법"
   ]
  },
  {
   "cell_type": "code",
   "execution_count": 176,
   "metadata": {},
   "outputs": [
    {
     "data": {
      "text/html": [
       "<div>\n",
       "<style scoped>\n",
       "    .dataframe tbody tr th:only-of-type {\n",
       "        vertical-align: middle;\n",
       "    }\n",
       "\n",
       "    .dataframe tbody tr th {\n",
       "        vertical-align: top;\n",
       "    }\n",
       "\n",
       "    .dataframe thead th {\n",
       "        text-align: right;\n",
       "    }\n",
       "</style>\n",
       "<table border=\"1\" class=\"dataframe\">\n",
       "  <thead>\n",
       "    <tr style=\"text-align: right;\">\n",
       "      <th></th>\n",
       "      <th>nation_domain</th>\n",
       "      <th>Nation</th>\n",
       "      <th>zip_code</th>\n",
       "      <th>capital</th>\n",
       "      <th>code</th>\n",
       "    </tr>\n",
       "  </thead>\n",
       "  <tbody>\n",
       "    <tr>\n",
       "      <th>0</th>\n",
       "      <td>'KR'</td>\n",
       "      <td>'Korea'</td>\n",
       "      <td>98480</td>\n",
       "      <td>'Seoul'</td>\n",
       "      <td>48422644</td>\n",
       "    </tr>\n",
       "    <tr>\n",
       "      <th>1</th>\n",
       "      <td>'US'</td>\n",
       "      <td>'USA'</td>\n",
       "      <td>9629091</td>\n",
       "      <td>'Washington'</td>\n",
       "      <td>310232863</td>\n",
       "    </tr>\n",
       "    <tr>\n",
       "      <th>2</th>\n",
       "      <td>'JP'</td>\n",
       "      <td>'Japan'</td>\n",
       "      <td>377835</td>\n",
       "      <td>'Tokyo'</td>\n",
       "      <td>127288000</td>\n",
       "    </tr>\n",
       "    <tr>\n",
       "      <th>3</th>\n",
       "      <td>'CN'</td>\n",
       "      <td>'China'</td>\n",
       "      <td>9596960</td>\n",
       "      <td>'Beijing'</td>\n",
       "      <td>1330044000</td>\n",
       "    </tr>\n",
       "    <tr>\n",
       "      <th>4</th>\n",
       "      <td>'RU'</td>\n",
       "      <td>'Russia'</td>\n",
       "      <td>17100000</td>\n",
       "      <td>'Moscow'</td>\n",
       "      <td>140702000</td>\n",
       "    </tr>\n",
       "  </tbody>\n",
       "</table>\n",
       "</div>"
      ],
      "text/plain": [
       "  nation_domain     Nation  zip_code        capital        code\n",
       "0          'KR'    'Korea'     98480        'Seoul'    48422644\n",
       "1          'US'      'USA'   9629091   'Washington'   310232863\n",
       "2          'JP'    'Japan'    377835        'Tokyo'   127288000\n",
       "3          'CN'    'China'   9596960      'Beijing'  1330044000\n",
       "4          'RU'   'Russia'  17100000       'Moscow'   140702000"
      ]
     },
     "execution_count": 176,
     "metadata": {},
     "output_type": "execute_result"
    }
   ],
   "source": [
    "# 컬럼 명이 비어있을 때 이 방법 사용\n",
    "pd.read_csv(path, header=None, \n",
    "            names=['nation_domain','Nation'\t,'zip_code','capital','code'])"
   ]
  },
  {
   "cell_type": "markdown",
   "metadata": {},
   "source": [
    "딕셔너리 활용 방법"
   ]
  },
  {
   "cell_type": "code",
   "execution_count": 178,
   "metadata": {},
   "outputs": [
    {
     "data": {
      "text/html": [
       "<div>\n",
       "<style scoped>\n",
       "    .dataframe tbody tr th:only-of-type {\n",
       "        vertical-align: middle;\n",
       "    }\n",
       "\n",
       "    .dataframe tbody tr th {\n",
       "        vertical-align: top;\n",
       "    }\n",
       "\n",
       "    .dataframe thead th {\n",
       "        text-align: right;\n",
       "    }\n",
       "</style>\n",
       "<table border=\"1\" class=\"dataframe\">\n",
       "  <thead>\n",
       "    <tr style=\"text-align: right;\">\n",
       "      <th></th>\n",
       "      <th>0</th>\n",
       "      <th>1</th>\n",
       "      <th>2</th>\n",
       "      <th>3</th>\n",
       "      <th>4</th>\n",
       "    </tr>\n",
       "  </thead>\n",
       "  <tbody>\n",
       "    <tr>\n",
       "      <th>0</th>\n",
       "      <td>'KR'</td>\n",
       "      <td>'Korea'</td>\n",
       "      <td>98480</td>\n",
       "      <td>'Seoul'</td>\n",
       "      <td>48422644</td>\n",
       "    </tr>\n",
       "    <tr>\n",
       "      <th>1</th>\n",
       "      <td>'US'</td>\n",
       "      <td>'USA'</td>\n",
       "      <td>9629091</td>\n",
       "      <td>'Washington'</td>\n",
       "      <td>310232863</td>\n",
       "    </tr>\n",
       "    <tr>\n",
       "      <th>2</th>\n",
       "      <td>'JP'</td>\n",
       "      <td>'Japan'</td>\n",
       "      <td>377835</td>\n",
       "      <td>'Tokyo'</td>\n",
       "      <td>127288000</td>\n",
       "    </tr>\n",
       "    <tr>\n",
       "      <th>3</th>\n",
       "      <td>'CN'</td>\n",
       "      <td>'China'</td>\n",
       "      <td>9596960</td>\n",
       "      <td>'Beijing'</td>\n",
       "      <td>1330044000</td>\n",
       "    </tr>\n",
       "    <tr>\n",
       "      <th>4</th>\n",
       "      <td>'RU'</td>\n",
       "      <td>'Russia'</td>\n",
       "      <td>17100000</td>\n",
       "      <td>'Moscow'</td>\n",
       "      <td>140702000</td>\n",
       "    </tr>\n",
       "  </tbody>\n",
       "</table>\n",
       "</div>"
      ],
      "text/plain": [
       "      0          1         2              3           4\n",
       "0  'KR'    'Korea'     98480        'Seoul'    48422644\n",
       "1  'US'      'USA'   9629091   'Washington'   310232863\n",
       "2  'JP'    'Japan'    377835        'Tokyo'   127288000\n",
       "3  'CN'    'China'   9596960      'Beijing'  1330044000\n",
       "4  'RU'   'Russia'  17100000       'Moscow'   140702000"
      ]
     },
     "execution_count": 178,
     "metadata": {},
     "output_type": "execute_result"
    }
   ],
   "source": [
    "pd.read_csv(path, header=None)"
   ]
  },
  {
   "cell_type": "code",
   "execution_count": 179,
   "metadata": {},
   "outputs": [],
   "source": [
    "df =pd.read_csv(path, header=None)"
   ]
  },
  {
   "cell_type": "code",
   "execution_count": 182,
   "metadata": {},
   "outputs": [],
   "source": [
    "# ['nation_domain','Nation','zip_code','capital','code']\n",
    "new_columns = {\n",
    "    0:'nation_domain',\n",
    "    1: 'Nation',\n",
    "    2: 'zip_code',\n",
    "    3: 'capital',\n",
    "    4: 'code'\n",
    "\n",
    "}\n",
    "df.rename(columns = new_columns, inplace = True)\n",
    "# inplace=True를 적으면 알아서 df로 바꿈 df =  안해도 됨\n",
    "# df를 자동으로 업데이트 하겠다.\n",
    "\n",
    "# 이름만 바꿔줌\n",
    "\n",
    "# in place of : ~을 대신하다\n",
    "\n",
    "# 잘 못 업데이트하면 위에부터 새로 run 시켜야함"
   ]
  },
  {
   "cell_type": "code",
   "execution_count": null,
   "metadata": {},
   "outputs": [
    {
     "data": {
      "text/html": [
       "<div>\n",
       "<style scoped>\n",
       "    .dataframe tbody tr th:only-of-type {\n",
       "        vertical-align: middle;\n",
       "    }\n",
       "\n",
       "    .dataframe tbody tr th {\n",
       "        vertical-align: top;\n",
       "    }\n",
       "\n",
       "    .dataframe thead th {\n",
       "        text-align: right;\n",
       "    }\n",
       "</style>\n",
       "<table border=\"1\" class=\"dataframe\">\n",
       "  <thead>\n",
       "    <tr style=\"text-align: right;\">\n",
       "      <th></th>\n",
       "      <th>nation_domain</th>\n",
       "      <th>Nation</th>\n",
       "      <th>zip_code</th>\n",
       "      <th>capital</th>\n",
       "      <th>code</th>\n",
       "    </tr>\n",
       "  </thead>\n",
       "  <tbody>\n",
       "    <tr>\n",
       "      <th>0</th>\n",
       "      <td>'nation_domain'</td>\n",
       "      <td>'Nation'</td>\n",
       "      <td>'zip_code'</td>\n",
       "      <td>'capital'</td>\n",
       "      <td>'code'</td>\n",
       "    </tr>\n",
       "    <tr>\n",
       "      <th>1</th>\n",
       "      <td>'KR'</td>\n",
       "      <td>'Korea'</td>\n",
       "      <td>98480</td>\n",
       "      <td>'Seoul'</td>\n",
       "      <td>48422644</td>\n",
       "    </tr>\n",
       "    <tr>\n",
       "      <th>2</th>\n",
       "      <td>'US'</td>\n",
       "      <td>'USA'</td>\n",
       "      <td>9629091</td>\n",
       "      <td>'Washington'</td>\n",
       "      <td>310232863</td>\n",
       "    </tr>\n",
       "    <tr>\n",
       "      <th>3</th>\n",
       "      <td>'JP'</td>\n",
       "      <td>'Japan'</td>\n",
       "      <td>377835</td>\n",
       "      <td>'Tokyo'</td>\n",
       "      <td>127288000</td>\n",
       "    </tr>\n",
       "    <tr>\n",
       "      <th>4</th>\n",
       "      <td>'CN'</td>\n",
       "      <td>'China'</td>\n",
       "      <td>9596960</td>\n",
       "      <td>'Beijing'</td>\n",
       "      <td>1330044000</td>\n",
       "    </tr>\n",
       "    <tr>\n",
       "      <th>5</th>\n",
       "      <td>'RU'</td>\n",
       "      <td>'Russia'</td>\n",
       "      <td>17100000</td>\n",
       "      <td>'Moscow'</td>\n",
       "      <td>140702000</td>\n",
       "    </tr>\n",
       "  </tbody>\n",
       "</table>\n",
       "</div>"
      ],
      "text/plain": [
       "     nation_domain     Nation     zip_code        capital         code\n",
       "0  'nation_domain'   'Nation'   'zip_code'      'capital'       'code'\n",
       "1             'KR'    'Korea'        98480        'Seoul'     48422644\n",
       "2             'US'      'USA'      9629091   'Washington'    310232863\n",
       "3             'JP'    'Japan'       377835        'Tokyo'    127288000\n",
       "4             'CN'    'China'      9596960      'Beijing'   1330044000\n",
       "5             'RU'   'Russia'     17100000       'Moscow'    140702000"
      ]
     },
     "execution_count": 271,
     "metadata": {},
     "output_type": "execute_result"
    }
   ],
   "source": [
    "df"
   ]
  },
  {
   "cell_type": "code",
   "execution_count": 181,
   "metadata": {},
   "outputs": [
    {
     "data": {
      "text/html": [
       "<div>\n",
       "<style scoped>\n",
       "    .dataframe tbody tr th:only-of-type {\n",
       "        vertical-align: middle;\n",
       "    }\n",
       "\n",
       "    .dataframe tbody tr th {\n",
       "        vertical-align: top;\n",
       "    }\n",
       "\n",
       "    .dataframe thead th {\n",
       "        text-align: right;\n",
       "    }\n",
       "</style>\n",
       "<table border=\"1\" class=\"dataframe\">\n",
       "  <thead>\n",
       "    <tr style=\"text-align: right;\">\n",
       "      <th></th>\n",
       "      <th>nation_domain</th>\n",
       "      <th>Nation</th>\n",
       "      <th>zip_code</th>\n",
       "      <th>capital</th>\n",
       "      <th>code</th>\n",
       "    </tr>\n",
       "  </thead>\n",
       "  <tbody>\n",
       "    <tr>\n",
       "      <th>0</th>\n",
       "      <td>'KR'</td>\n",
       "      <td>'Korea'</td>\n",
       "      <td>98480</td>\n",
       "      <td>'Seoul'</td>\n",
       "      <td>48422644</td>\n",
       "    </tr>\n",
       "    <tr>\n",
       "      <th>1</th>\n",
       "      <td>'US'</td>\n",
       "      <td>'USA'</td>\n",
       "      <td>9629091</td>\n",
       "      <td>'Washington'</td>\n",
       "      <td>310232863</td>\n",
       "    </tr>\n",
       "    <tr>\n",
       "      <th>2</th>\n",
       "      <td>'JP'</td>\n",
       "      <td>'Japan'</td>\n",
       "      <td>377835</td>\n",
       "      <td>'Tokyo'</td>\n",
       "      <td>127288000</td>\n",
       "    </tr>\n",
       "    <tr>\n",
       "      <th>3</th>\n",
       "      <td>'CN'</td>\n",
       "      <td>'China'</td>\n",
       "      <td>9596960</td>\n",
       "      <td>'Beijing'</td>\n",
       "      <td>1330044000</td>\n",
       "    </tr>\n",
       "    <tr>\n",
       "      <th>4</th>\n",
       "      <td>'RU'</td>\n",
       "      <td>'Russia'</td>\n",
       "      <td>17100000</td>\n",
       "      <td>'Moscow'</td>\n",
       "      <td>140702000</td>\n",
       "    </tr>\n",
       "  </tbody>\n",
       "</table>\n",
       "</div>"
      ],
      "text/plain": [
       "  nation_domain     Nation  zip_code        capital        code\n",
       "0          'KR'    'Korea'     98480        'Seoul'    48422644\n",
       "1          'US'      'USA'   9629091   'Washington'   310232863\n",
       "2          'JP'    'Japan'    377835        'Tokyo'   127288000\n",
       "3          'CN'    'China'   9596960      'Beijing'  1330044000\n",
       "4          'RU'   'Russia'  17100000       'Moscow'   140702000"
      ]
     },
     "execution_count": 181,
     "metadata": {},
     "output_type": "execute_result"
    }
   ],
   "source": [
    "raw = pd.read_csv(path, header=None, \n",
    "            names=['nation_domain','Nation'\t,'zip_code','capital','code'])\n",
    "\n",
    "df = raw.copy()\n",
    "df.head()\n",
    "# 새로 run 하지 않으려면 copy를 만들고 확인하고 실행"
   ]
  },
  {
   "cell_type": "code",
   "execution_count": 184,
   "metadata": {},
   "outputs": [
    {
     "data": {
      "image/png": "[encoded data removed]",
      "text/plain": [
       "<Figure size 900x400 with 2 Axes>"
      ]
     },
     "metadata": {},
     "output_type": "display_data"
    }
   ],
   "source": [
    "# 그림판\n",
    "# matplotlib라는 사이트에서 tutorials\n",
    "import matplotlib.pyplot as plt \n",
    "import numpy as np \n",
    "\n",
    "fig, axs = plt.subplots(nrows=1, ncols=2, figsize=(9,4))\n",
    "# 그림 2개를 그리는데  행은 1개 컬럼은 2개\n",
    "# 9인치 4인치\n",
    "# 하나는 그림으로 그려주고 한개는  axs로 할당\n",
    "\n",
    "np.random.seed(100)\n",
    "# 랜덤하게 데이터 생성\n",
    "\n",
    "all_data = [np.random.normal(0, std, 100) for std in range(6,10)]\n",
    "# RANGE를 6부터 9 중에서 각각 나온 숫자 중에 std에 가서 100개를 만들어서 ~\n",
    "# 1. std 6인 정규분포에서 무작위로 추출된 100개의 숫자\n",
    "# 2. std 7인 정규분포에서 무작위로 추출된 100개의 숫자\n",
    "# 3. std 8인 정규분포에서 무작위로 추출된 100개의 숫자\n",
    "# 4. std 9인 정규분포에서 무작위로 추출된 100개의 숫자\n",
    "\n",
    "# violin plot\n",
    "# 왼쪽, 첫번째 그림 바이올린 처럼 생긴 부분\n",
    "\n",
    "axs[0].violinplot(all_data, \n",
    "                  showmeans = False, showmedians=True)\n",
    "# 첫번째 그림을 violinplot로 그리고 평균값은 표시하지 않고, 중위수는 표현한다\n",
    "\n",
    "\n",
    "axs[0].set_title('Violin plot')\n",
    "# 첫번째 그림의 title을 적어준다. \n",
    "\n",
    "# box plot\n",
    "# 오른쪽, 두번째 그림에는 \n",
    "axs[1].boxplot(all_data)\n",
    "axs[1].set_title('Box plot')\n",
    "\n",
    "for ax in axs: \n",
    "    ax.yaxis.grid(True) \n",
    "    ax.set_xticks( [y+1 for y in range(len(all_data))], \n",
    "                 labels=['x1','x2','x3','x4'] )\n",
    "    ax.set_xlabel('Four separated samples')\n",
    "    ax.set_ylabel('observed values')\n",
    "# grid: 격자, tick: 눈금자, label: 라벨, 명칭 ,  legend: 범례\n",
    "# std=6일때 샘플 데이터를 x1로 표현, x2\n",
    "plt.show()"
   ]
  },
  {
   "cell_type": "code",
   "execution_count": 8,
   "metadata": {},
   "outputs": [
    {
     "data": {
      "text/plain": [
       "Text(0.5, 1.0, 'Temperature of cities in korea')"
      ]
     },
     "execution_count": 8,
     "metadata": {},
     "output_type": "execute_result"
    },
    {
     "data": {
      "image/png": "[encoded data removed]",
      "text/plain": [
       "<Figure size 640x480 with 1 Axes>"
      ]
     },
     "metadata": {},
     "output_type": "display_data"
    }
   ],
   "source": [
    "# 파이썬으로 그림 그릭(선 그래프, LINE GRAPTH)\n",
    "import matplotlib.pyplot as plt\n",
    "%matplotlib inline \n",
    "# 라인 안에 선을 그어겠다. \n",
    "\n",
    "x = ['mon','tue', 'wed','thur','fri','sat','sun']\n",
    " \n",
    "y1 = [15.6,14.2,16.3,18.2,17.1,20.2,22.4]\n",
    "y2 = [20.1,23.1,23.8,25.9,23.4,25.1,26.3]\n",
    "\n",
    "plt.plot(x, y1, label = 'seoul')    # 서울 그래프\n",
    "plt.plot(x, y2, label = 'busan')    # 부산 그래프\n",
    "\n",
    "plt.xlabel(\"day\")   # x 축 이름\n",
    "plt.ylabel(\"temperature\")   # y 축 이름\n",
    "\n",
    "plt.legend(loc = 'upper left')  # 범례\n",
    "plt.title(\"Temperature of cities in korea\") # 그림 제목\n"
   ]
  },
  {
   "cell_type": "code",
   "execution_count": null,
   "metadata": {},
   "outputs": [],
   "source": [
    "import numpy as np\n",
    "import pandas as pd\n",
    "import matplotlib.pyplot as plt"
   ]
  },
  {
   "cell_type": "code",
   "execution_count": 40,
   "metadata": {},
   "outputs": [
    {
     "data": {
      "image/png": "[encoded data removed]",
      "text/plain": [
       "<Figure size 640x480 with 1 Axes>"
      ]
     },
     "metadata": {},
     "output_type": "display_data"
    }
   ],
   "source": [
    "# 산점도(SCATTER PLOT)\n",
    "# 산점도 >> 관측한 실 데이터\n",
    "\n",
    "import matplotlib.pyplot as plt\n",
    "%matplotlib inline\n",
    "x = ['mon','tue', 'wed','thur','fri','sat','sun']\n",
    "\n",
    "# plt.plot(x, [15,14,16,18,17,20,22])\n",
    "\n",
    "# plot code 사용시 \n",
    "# plt.plot(x, [15,14,16,18,17,20,22],\"sm\")\n",
    "# sm : s(square) 사각형 m: margenta(보라색)\n",
    "\n",
    "plt.scatter(x,[15,14,16,18,17,20,22], color = 'm', marker = 's')\n",
    "\n",
    "plt.show()"
   ]
  },
  {
   "cell_type": "code",
   "execution_count": 35,
   "metadata": {},
   "outputs": [
    {
     "name": "stderr",
     "output_type": "stream",
     "text": [
      "No artists with labels found to put in legend.  Note that artists whose label start with an underscore are ignored when legend() is called with no argument.\n"
     ]
    },
    {
     "data": {
      "image/png": "[encoded data removed]",
      "text/plain": [
       "<Figure size 640x480 with 1 Axes>"
      ]
     },
     "metadata": {},
     "output_type": "display_data"
    }
   ],
   "source": [
    "# bar graph (막대 그래프)\n",
    "import matplotlib.pyplot as plt\n",
    "%matplotlib inline\n",
    "\n",
    "x = ['mon','tue', 'wed','thur','fri','sat','sun']\n",
    "# x 데이터: 범주형 데이터 (서울, 대전, 대구, 부산 )(남자, 여자)\n",
    "y = [15,14,16,18,17,20,22]  # 온도\n",
    "\n",
    "plt.legend(loc = 'upper left') \n",
    "plt.bar(x,y)\n",
    "plt.show()"
   ]
  },
  {
   "cell_type": "code",
   "execution_count": 24,
   "metadata": {},
   "outputs": [
    {
     "name": "stdout",
     "output_type": "stream",
     "text": [
      "[ 1.14970442 -0.51758534 -0.10679311 ...  0.43931208  0.7206643\n",
      " -0.57885873]\n"
     ]
    },
    {
     "data": {
      "image/png": "[encoded data removed]",
      "text/plain": [
       "<Figure size 640x480 with 1 Axes>"
      ]
     },
     "metadata": {},
     "output_type": "display_data"
    }
   ],
   "source": [
    "# histogram (히스토그램)\n",
    "\n",
    "import numpy as np\n",
    "import pandas as pd\n",
    "import matplotlib.pyplot as plt\n",
    "%matplotlib inline\n",
    "\n",
    "numbers = np.random.normal(size=10000)\n",
    "print(numbers)  # 연속형 데이터\n",
    "\n",
    "plt.hist(numbers)\n",
    "\n",
    "plt.xlabel(\"value\")\n",
    "plt.ylabel(\"freq\")\n",
    "\n",
    "plt.show()\n",
    "# 정규분포"
   ]
  },
  {
   "cell_type": "code",
   "execution_count": 28,
   "metadata": {},
   "outputs": [
    {
     "data": {
      "image/png": "[encoded data removed]",
      "text/plain": [
       "<Figure size 640x480 with 1 Axes>"
      ]
     },
     "metadata": {},
     "output_type": "display_data"
    }
   ],
   "source": [
    "data = np.random.randn(1000)\n",
    "\n",
    "# 히스토그램 그리기\n",
    "plt.hist(data, bins = 10)    # 계급 나누기 bins\n",
    "plt.title(\"histogram\")\n",
    "\n",
    "plt.xlabel(\"value\")\n",
    "plt.ylabel(\"freq\")\n",
    "\n",
    "plt.grid(True)  # 격자\n",
    "\n",
    "plt.show()"
   ]
  },
  {
   "cell_type": "code",
   "execution_count": 30,
   "metadata": {},
   "outputs": [
    {
     "data": {
      "image/png": "[encoded data removed]",
      "text/plain": [
       "<Figure size 640x480 with 1 Axes>"
      ]
     },
     "metadata": {},
     "output_type": "display_data"
    }
   ],
   "source": [
    "# 지수 함수\n",
    "\n",
    "x = np.arange(0,10)\n",
    "y = x**2\n",
    "\n",
    "plt.plot(x,y)\n",
    "plt.show()"
   ]
  },
  {
   "cell_type": "code",
   "execution_count": 41,
   "metadata": {},
   "outputs": [
    {
     "data": {
      "image/png": "[encoded data removed]",
      "text/plain": [
       "<Figure size 640x480 with 1 Axes>"
      ]
     },
     "metadata": {},
     "output_type": "display_data"
    }
   ],
   "source": [
    "x = np.arange(0,10)\n",
    "\n",
    "y1 = np.ones(10)    # 1이 10개\n",
    "y2 = x\n",
    "y3 = x**2\n",
    "\n",
    "# plt.plot(x,y1,y2,y3)\n",
    "plt.plot(x,y1, label='y=1')\n",
    "plt.plot(x,y2, label='y=x')\n",
    "plt.plot(x,y3, label='y=x^2')\n",
    "\n",
    "plt.legend()\n",
    "plt.show()"
   ]
  },
  {
   "cell_type": "code",
   "execution_count": 43,
   "metadata": {},
   "outputs": [
    {
     "data": {
      "image/png": "[encoded data removed]",
      "text/plain": [
       "<Figure size 640x480 with 1 Axes>"
      ]
     },
     "metadata": {},
     "output_type": "display_data"
    }
   ],
   "source": [
    "import matplotlib.pyplot as plt\n",
    "import numpy as np\n",
    "\n",
    "def sigmoid(x):\n",
    "    s=1 / (1+np.exp(-x))    # sigmoid (시그모이드) 공식\n",
    "    ds = s*(1-s)\n",
    "    return s,ds\n",
    "\n",
    "x = np.linspace(-10,10,100) \n",
    "y1, y2 = sigmoid(x)\n",
    "\n",
    "plt.plot(x, y1)\n",
    "plt.plot(x, y2)\n",
    "plt.xlabel(\"x\")\n",
    "plt.ylabel(\"sigmoid(x), sigmpoid_prime(x)\")\n",
    "\n",
    "\n",
    "plt.show()\n",
    "         "
   ]
  },
  {
   "cell_type": "code",
   "execution_count": 44,
   "metadata": {},
   "outputs": [
    {
     "data": {
      "text/plain": [
       "array([[2, 3],\n",
       "       [5, 2]])"
      ]
     },
     "execution_count": 44,
     "metadata": {},
     "output_type": "execute_result"
    }
   ],
   "source": [
    "import numpy as np\n",
    "\n",
    "np.array([[2,3],[5,2]])"
   ]
  },
  {
   "cell_type": "code",
   "execution_count": 45,
   "metadata": {},
   "outputs": [
    {
     "data": {
      "text/plain": [
       "(array([[ 1,  2,  3,  4,  5],\n",
       "        [ 6,  7,  8,  9, 10],\n",
       "        [11, 12, 13, 14, 15]]),)"
      ]
     },
     "execution_count": 45,
     "metadata": {},
     "output_type": "execute_result"
    }
   ],
   "source": [
    "# 배열 슬라이싱\n",
    "np.array([[1,2,3,4,5],[6,7,8,9,10],[11,12,13,14,15]])"
   ]
  },
  {
   "cell_type": "code",
   "execution_count": 50,
   "metadata": {},
   "outputs": [
    {
     "name": "stdout",
     "output_type": "stream",
     "text": [
      "[[ 1  2  3  4  5]\n",
      " [ 6  7  8  9 10]\n",
      " [11 12 13 14 15]]\n",
      "\n",
      "[ 6  7  8  9 10]\n",
      "8\n",
      "8\n",
      "[[ 9 10]\n",
      " [14 15]]\n"
     ]
    }
   ],
   "source": [
    "d = np.array([[1,2,3,4,5],[6,7,8,9,10],[11,12,13,14,15]])\n",
    "\n",
    "print(d)\n",
    "print()\n",
    "print(d[1])\n",
    "print(d[1][2])\n",
    "print(d[1,2])\n",
    "print(d[1:,3:])"
   ]
  },
  {
   "cell_type": "code",
   "execution_count": 51,
   "metadata": {},
   "outputs": [
    {
     "name": "stdout",
     "output_type": "stream",
     "text": [
      "[2 3 4 5 6]\n",
      "(5,)\n"
     ]
    }
   ],
   "source": [
    "# 배열의 크기(shape)\n",
    "\n",
    "np.array([2,3,4,5,6])\n",
    "a = np.array([2,3,4,5,6])\n",
    "\n",
    "print(a)\n",
    "print(a.shape)"
   ]
  },
  {
   "cell_type": "code",
   "execution_count": 52,
   "metadata": {},
   "outputs": [
    {
     "data": {
      "text/plain": [
       "dtype('int32')"
      ]
     },
     "execution_count": 52,
     "metadata": {},
     "output_type": "execute_result"
    }
   ],
   "source": [
    "# 배열의 원소 유형\n",
    "\n",
    "a.dtype"
   ]
  },
  {
   "cell_type": "code",
   "execution_count": 55,
   "metadata": {},
   "outputs": [
    {
     "name": "stdout",
     "output_type": "stream",
     "text": [
      "[[1 2 3 4]\n",
      " [5 6 7 8]]\n",
      "(2, 4)\n"
     ]
    }
   ],
   "source": [
    "np.array([[1,2,3,4],[5,6,7,8]]) # 2차원 \n",
    "b = np.array([[1,2,3,4],[5,6,7,8]]) # 2차원\n",
    "print(b)\n",
    "print(b.shape)\n",
    "# 2개 배열 각 배열에 4개의 원소가 존재"
   ]
  },
  {
   "cell_type": "code",
   "execution_count": null,
   "metadata": {},
   "outputs": [],
   "source": [
    "# 배열의 유형 "
   ]
  },
  {
   "cell_type": "code",
   "execution_count": 56,
   "metadata": {},
   "outputs": [
    {
     "data": {
      "text/plain": [
       "dtype('int32')"
      ]
     },
     "execution_count": 56,
     "metadata": {},
     "output_type": "execute_result"
    }
   ],
   "source": [
    "data = np.arange(1,5)\n",
    "data.dtype\n",
    "# data('int32') >> 정수 (integer)"
   ]
  },
  {
   "cell_type": "code",
   "execution_count": 58,
   "metadata": {},
   "outputs": [],
   "source": [
    "# 배열의 타입 변경 : 정수 >> 실수(부동소수점)\n",
    "\n",
    "data.astype('float64')\n",
    "\n",
    "data = data.astype('float64')"
   ]
  },
  {
   "cell_type": "code",
   "execution_count": 60,
   "metadata": {},
   "outputs": [
    {
     "data": {
      "text/plain": [
       "dtype('float64')"
      ]
     },
     "execution_count": 60,
     "metadata": {},
     "output_type": "execute_result"
    }
   ],
   "source": [
    "data.dtype"
   ]
  },
  {
   "cell_type": "code",
   "execution_count": 61,
   "metadata": {},
   "outputs": [
    {
     "data": {
      "text/plain": [
       "array([1., 2., 3., 4.])"
      ]
     },
     "execution_count": 61,
     "metadata": {},
     "output_type": "execute_result"
    }
   ],
   "source": [
    "data"
   ]
  },
  {
   "cell_type": "code",
   "execution_count": 63,
   "metadata": {},
   "outputs": [
    {
     "name": "stdout",
     "output_type": "stream",
     "text": [
      "[1 2 3 4]\n",
      "int32\n"
     ]
    }
   ],
   "source": [
    "data.astype('int32')\n",
    "data = data.astype('int32')\n",
    "\n",
    "print(data)\n",
    "print(data.dtype)"
   ]
  },
  {
   "cell_type": "code",
   "execution_count": 64,
   "metadata": {},
   "outputs": [],
   "source": [
    "# int(정수), unit(unsigned), float(실수)\n",
    "# unsigned : +,- 기호 없음\n",
    "\n",
    "# complex(복소수: 실수 + 허수 3+4i, i^2 = -1)\n",
    "# bool (참/거짓), string(문자열), object(객체)"
   ]
  },
  {
   "cell_type": "code",
   "execution_count": 65,
   "metadata": {},
   "outputs": [
    {
     "data": {
      "text/plain": [
       "array([[0., 0., 0., 0., 0., 0., 0., 0., 0., 0.],\n",
       "       [0., 0., 0., 0., 0., 0., 0., 0., 0., 0.]])"
      ]
     },
     "execution_count": 65,
     "metadata": {},
     "output_type": "execute_result"
    }
   ],
   "source": [
    "# 0으로 이루어진 배열 만들기\n",
    "# np.zeros()\n",
    "np.zeros((2,10))"
   ]
  },
  {
   "cell_type": "code",
   "execution_count": 67,
   "metadata": {},
   "outputs": [
    {
     "data": {
      "text/plain": [
       "array([2, 3, 4, 5, 6, 7, 8, 9])"
      ]
     },
     "execution_count": 67,
     "metadata": {},
     "output_type": "execute_result"
    }
   ],
   "source": [
    "# 연속형 정수 생성하기\n",
    "# np.arange()\n",
    "np.arange(2,10)"
   ]
  },
  {
   "cell_type": "code",
   "execution_count": 69,
   "metadata": {},
   "outputs": [
    {
     "name": "stdout",
     "output_type": "stream",
     "text": [
      "[[1. 1. 1.]\n",
      " [1. 1. 1.]]\n",
      "\n",
      "[[1. 1.]\n",
      " [1. 1.]\n",
      " [1. 1.]]\n"
     ]
    }
   ],
   "source": [
    "# 전치 행렬: 행과 열을 바꾸기\n",
    "\n",
    "a = np.ones((2,3))\n",
    "print(a)\n",
    "print()\n",
    "\n",
    "b = np.transpose(a)\n",
    "print(b)"
   ]
  },
  {
   "cell_type": "code",
   "execution_count": 70,
   "metadata": {},
   "outputs": [
    {
     "name": "stdout",
     "output_type": "stream",
     "text": [
      "[[2 3 4]\n",
      " [6 7 8]]\n",
      "\n",
      "[[10 11 12]\n",
      " [13 14 15]]\n",
      "\n",
      "[[12 14 16]\n",
      " [19 21 23]]\n"
     ]
    }
   ],
   "source": [
    "# 배열의 사칙연산\n",
    "# 배열의 덧셈(원소끼리 더해짐)\n",
    "\n",
    "a = np.array([[2,3,4],[6,7,8]])\n",
    "b = np.array([[10,11,12],[13,14,15]])\n",
    "\n",
    "print(a)\n",
    "print()\n",
    "print(b)\n",
    "print()\n",
    "print(a+b)"
   ]
  },
  {
   "cell_type": "code",
   "execution_count": 72,
   "metadata": {},
   "outputs": [
    {
     "name": "stdout",
     "output_type": "stream",
     "text": [
      "[[ 20  33  48]\n",
      " [ 78  98 120]]\n",
      "\n",
      "[[0.2        0.27272727 0.33333333]\n",
      " [0.46153846 0.5        0.53333333]]\n"
     ]
    }
   ],
   "source": [
    "# 배열의 곱셈, 나눗셈\n",
    "print(a*b)\n",
    "print()\n",
    "print(a/b)"
   ]
  },
  {
   "cell_type": "code",
   "execution_count": 73,
   "metadata": {},
   "outputs": [
    {
     "name": "stdout",
     "output_type": "stream",
     "text": [
      "[100 200 300]\n"
     ]
    }
   ],
   "source": [
    "# 크기가 서로 다른 배열끼리 더하기\n",
    "# 넘파이 쌉 가능 >> 브로드캐스팅(broadcasting)\n",
    "c = np.array([100,200,300])\n",
    "print(c)"
   ]
  },
  {
   "cell_type": "code",
   "execution_count": 74,
   "metadata": {},
   "outputs": [
    {
     "name": "stdout",
     "output_type": "stream",
     "text": [
      "[[2 3 4]\n",
      " [6 7 8]]\n",
      "\n",
      "[100 200 300]\n"
     ]
    }
   ],
   "source": [
    "print(a)\n",
    "print()\n",
    "print(c)"
   ]
  },
  {
   "cell_type": "code",
   "execution_count": 76,
   "metadata": {},
   "outputs": [
    {
     "name": "stdout",
     "output_type": "stream",
     "text": [
      "(2, 3)\n",
      "\n",
      "(3,)\n"
     ]
    }
   ],
   "source": [
    "print(a.shape)  # 2*3행렬\n",
    "print()\n",
    "print(c.shape)  # 1차원"
   ]
  },
  {
   "cell_type": "code",
   "execution_count": 77,
   "metadata": {},
   "outputs": [
    {
     "data": {
      "text/plain": [
       "array([[102, 203, 304],\n",
       "       [106, 207, 308]])"
      ]
     },
     "execution_count": 77,
     "metadata": {},
     "output_type": "execute_result"
    }
   ],
   "source": [
    "a + c"
   ]
  },
  {
   "cell_type": "code",
   "execution_count": 80,
   "metadata": {},
   "outputs": [
    {
     "name": "stdout",
     "output_type": "stream",
     "text": [
      "[[2 3 4]\n",
      " [6 7 8]]\n",
      "(2, 3)\n",
      "\n",
      "[ 1  2  3  4  5  6  7  8  9 10]\n",
      "(10,)\n"
     ]
    }
   ],
   "source": [
    "# 브로드 캐스팅이 안 되는 경우\n",
    "\n",
    "d = np.array([1,2,3,4,5,6,7,8,9,10])\n",
    "\n",
    "print(a)\n",
    "print(a.shape)\n",
    "print()\n",
    "print(d)\n",
    "print(d.shape)\n"
   ]
  },
  {
   "cell_type": "code",
   "execution_count": 82,
   "metadata": {},
   "outputs": [],
   "source": [
    "# a+d\n",
    "# ValueError: operands could not be broadcast together with shapes (2,3) (10,) \n",
    "# 행과 열의 크기가 모드 다 다른 배열은 브로드캐스팅 해서 더할 수 없음"
   ]
  },
  {
   "cell_type": "code",
   "execution_count": 84,
   "metadata": {},
   "outputs": [
    {
     "name": "stdout",
     "output_type": "stream",
     "text": [
      "[[9]\n",
      " [3]]\n",
      "(2, 1)\n"
     ]
    }
   ],
   "source": [
    "np.array([[9],[3]])\n",
    "# 두 개의 배열이 있는데 각각 하나의 원소를 가짐\n",
    "\n",
    "e = np.array([[9],[3]])\n",
    "print(e)\n",
    "print(e.shape)"
   ]
  },
  {
   "cell_type": "code",
   "execution_count": 85,
   "metadata": {},
   "outputs": [
    {
     "name": "stdout",
     "output_type": "stream",
     "text": [
      "[[2 3 4]\n",
      " [6 7 8]]\n",
      "(2, 3)\n",
      "\n",
      "[[9]\n",
      " [3]]\n",
      "(2, 1)\n"
     ]
    }
   ],
   "source": [
    "print(a)\n",
    "print(a.shape)\n",
    "print()\n",
    "print(e)\n",
    "print(e.shape)"
   ]
  },
  {
   "cell_type": "code",
   "execution_count": 86,
   "metadata": {},
   "outputs": [
    {
     "data": {
      "text/plain": [
       "array([[11, 12, 13],\n",
       "       [ 9, 10, 11]])"
      ]
     },
     "execution_count": 86,
     "metadata": {},
     "output_type": "execute_result"
    }
   ],
   "source": [
    "a+e"
   ]
  },
  {
   "cell_type": "code",
   "execution_count": 88,
   "metadata": {},
   "outputs": [
    {
     "name": "stdout",
     "output_type": "stream",
     "text": [
      "[[ 1  2  3  4  5]\n",
      " [ 6  7  8  9 10]\n",
      " [11 12 13 14 15]]\n",
      "\n",
      "<class 'numpy.ndarray'>\n"
     ]
    }
   ],
   "source": [
    "# 파이썬 리스트와 넘파이 배열의 차이점(*****)\n",
    "np.array([[1,2,3,4,5],[6,7,8,9,10],[11,12,13,14,15]])\n",
    "f = np.array([[1,2,3,4,5],[6,7,8,9,10],[11,12,13,14,15]])\n",
    "print(f)\n",
    "print()\n",
    "print(type(f))"
   ]
  },
  {
   "cell_type": "code",
   "execution_count": 91,
   "metadata": {},
   "outputs": [
    {
     "name": "stdout",
     "output_type": "stream",
     "text": [
      "[[1, 2, 3, 4, 5], [6, 7, 8, 9, 10], [11, 12, 13, 14, 15]]\n",
      "\n",
      "<class 'list'>\n"
     ]
    }
   ],
   "source": [
    "f_list = [[1,2,3,4,5],[6,7,8,9,10],[11,12,13,14,15]]\n",
    "print(f_list)\n",
    "print()\n",
    "print(type(f_list))"
   ]
  },
  {
   "cell_type": "code",
   "execution_count": 92,
   "metadata": {},
   "outputs": [
    {
     "data": {
      "text/plain": [
       "[[1, 2, 3, 4, 5], [6, 7, 8, 9, 10]]"
      ]
     },
     "execution_count": 92,
     "metadata": {},
     "output_type": "execute_result"
    }
   ],
   "source": [
    "f_list[:2]"
   ]
  },
  {
   "cell_type": "code",
   "execution_count": 94,
   "metadata": {},
   "outputs": [],
   "source": [
    "# f_list[:2] = 0 \n",
    "# TypeError: can only assign an iterable\n",
    "# >> 리스트의 두 번째 원소까지 슬라이싱해서 0 저장해줘\n",
    "# >> nope 불가능"
   ]
  },
  {
   "cell_type": "code",
   "execution_count": 95,
   "metadata": {},
   "outputs": [
    {
     "data": {
      "text/plain": [
       "[0, [6, 7, 8, 9, 10], [11, 12, 13, 14, 15]]"
      ]
     },
     "execution_count": 95,
     "metadata": {},
     "output_type": "execute_result"
    }
   ],
   "source": [
    "f_list[0] = 0\n",
    "f_list"
   ]
  },
  {
   "cell_type": "code",
   "execution_count": 96,
   "metadata": {},
   "outputs": [
    {
     "data": {
      "text/plain": [
       "[0, [0, 0, 0, 0, 0], [11, 12, 13, 14, 15]]"
      ]
     },
     "execution_count": 96,
     "metadata": {},
     "output_type": "execute_result"
    }
   ],
   "source": [
    "f_list[1] = [0]*5\n",
    "f_list"
   ]
  },
  {
   "cell_type": "code",
   "execution_count": 98,
   "metadata": {},
   "outputs": [
    {
     "name": "stdout",
     "output_type": "stream",
     "text": [
      "[[ 1  2  3  4  5]\n",
      " [ 6  7  8  9 10]\n",
      " [11 12 13 14 15]]\n",
      "\n",
      "[[ 1  2  3  4  5]\n",
      " [ 6  7  8  9 10]]\n"
     ]
    }
   ],
   "source": [
    "print(f)    # 넘파이\n",
    "print()\n",
    "print(f[:2])"
   ]
  },
  {
   "cell_type": "code",
   "execution_count": 99,
   "metadata": {},
   "outputs": [
    {
     "name": "stdout",
     "output_type": "stream",
     "text": [
      "[[ 0  0  0  0  0]\n",
      " [ 0  0  0  0  0]\n",
      " [11 12 13 14 15]]\n"
     ]
    }
   ],
   "source": [
    "f[:2] = 0\n",
    "print(f)    # 넘파이를 이용한 전처리\n",
    "# 넘파이는 각 원소에 접근할 수 있다."
   ]
  },
  {
   "cell_type": "markdown",
   "metadata": {},
   "source": [
    "인덱싱(indexing)가 슬라이싱(slicing)연습"
   ]
  },
  {
   "cell_type": "code",
   "execution_count": 100,
   "metadata": {},
   "outputs": [
    {
     "data": {
      "text/plain": [
       "array([0, 1, 2, 3, 4, 5, 6, 7, 8, 9])"
      ]
     },
     "execution_count": 100,
     "metadata": {},
     "output_type": "execute_result"
    }
   ],
   "source": [
    "np.arange(10)"
   ]
  },
  {
   "cell_type": "code",
   "execution_count": 101,
   "metadata": {},
   "outputs": [],
   "source": [
    "arr = np.arange(10)"
   ]
  },
  {
   "cell_type": "code",
   "execution_count": 103,
   "metadata": {},
   "outputs": [
    {
     "name": "stdout",
     "output_type": "stream",
     "text": [
      "[0 1 2 3 4]\n",
      "[6 7 8 9]\n"
     ]
    }
   ],
   "source": [
    "print(arr[:5])\n",
    "print(arr[-4:])"
   ]
  },
  {
   "cell_type": "code",
   "execution_count": 116,
   "metadata": {},
   "outputs": [
    {
     "data": {
      "text/plain": [
       "array([[2, 3, 4],\n",
       "       [6, 7, 8]])"
      ]
     },
     "execution_count": 116,
     "metadata": {},
     "output_type": "execute_result"
    }
   ],
   "source": [
    "np.array([[2,3,4],[6,7,8]])"
   ]
  },
  {
   "cell_type": "code",
   "execution_count": 112,
   "metadata": {},
   "outputs": [
    {
     "data": {
      "text/plain": [
       "8"
      ]
     },
     "execution_count": 112,
     "metadata": {},
     "output_type": "execute_result"
    }
   ],
   "source": [
    "a = np.array([2,3,4,6,7,8]).reshape(2,3)\n",
    "a[1,2]"
   ]
  },
  {
   "cell_type": "code",
   "execution_count": 113,
   "metadata": {},
   "outputs": [
    {
     "data": {
      "text/plain": [
       "array([4, 8])"
      ]
     },
     "execution_count": 113,
     "metadata": {},
     "output_type": "execute_result"
    }
   ],
   "source": [
    "a[:,2]"
   ]
  },
  {
   "cell_type": "code",
   "execution_count": 183,
   "metadata": {},
   "outputs": [
    {
     "data": {
      "text/plain": [
       "<matplotlib.legend.Legend at 0x20337e3f850>"
      ]
     },
     "execution_count": 183,
     "metadata": {},
     "output_type": "execute_result"
    },
    {
     "data": {
      "image/png": "[encoded data removed]",
      "text/plain": [
       "<Figure size 640x480 with 1 Axes>"
      ]
     },
     "metadata": {},
     "output_type": "display_data"
    }
   ],
   "source": [
    "# matplotlib 사이트 example\n",
    "import matplotlib.pyplot as plt\n",
    "import numpy as np\n",
    "\n",
    "fig = plt.figure()\n",
    "x = np.arange(10)\n",
    "y = 2.5 * np.sin(x / 20 * np.pi)\n",
    "yerr = np.linspace(0.05, 0.2, 10)\n",
    "\n",
    "plt.errorbar(x, y + 3, yerr=yerr, label='both limits (default)')\n",
    "\n",
    "plt.errorbar(x, y + 2, yerr=yerr, uplims=True, label='uplims=True')\n",
    "\n",
    "plt.errorbar(x, y + 1, yerr=yerr, uplims=True, lolims=True,\n",
    "             label='uplims=True, lolims=True')\n",
    "\n",
    "upperlimits = [True, False] * 5\n",
    "lowerlimits = [False, True] * 5\n",
    "plt.errorbar(x, y, yerr=yerr, uplims=upperlimits, lolims=lowerlimits,\n",
    "             label='subsets of uplims and lolims')\n",
    "\n",
    "plt.legend(loc='lower right')"
   ]
  },
  {
   "cell_type": "code",
   "execution_count": null,
   "metadata": {},
   "outputs": [],
   "source": []
  }
 ],
 "metadata": {
  "kernelspec": {
   "display_name": "base",
   "language": "python",
   "name": "python3"
  },
  "language_info": {
   "codemirror_mode": {
    "name": "ipython",
    "version": 3
   },
   "file_extension": ".py",
   "mimetype": "text/x-python",
   "name": "python",
   "nbconvert_exporter": "python",
   "pygments_lexer": "ipython3",
   "version": "3.11.7"
  }
 },
 "nbformat": 4,
 "nbformat_minor": 2
}
