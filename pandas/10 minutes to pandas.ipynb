{
 "cells": [
  {
   "cell_type": "code",
   "execution_count": 2,
   "id": "55b08e0d-fd72-492b-9c7f-7f8afe97cc75",
   "metadata": {},
   "outputs": [],
   "source": [
    "# 10 minutes to pandas\n",
    "\n",
    "import numpy as np\n",
    "import pandas as pd\n",
    "\n",
    "## numpy 라이브러리를 가져와서 np라는 이름으로 사용\n",
    "## pandas 라이브러리를 가져와서 pd라는 이름으로 사용\n"
   ]
  },
  {
   "cell_type": "code",
   "execution_count": 3,
   "id": "81dd13d6-0a3e-4da4-b3f0-69b3de6dcfd7",
   "metadata": {},
   "outputs": [
    {
     "data": {
      "text/plain": [
       "'\\n1. Series : 1차원 배열로, 각 데이터에 라벨이 지정됨\\n- 이 데이터는 정수, 문자열, 파이썬 객체 등 모든 유형의 데이터를 담을 수 있다.\\n\\n# 2. DataFrame : 행과 열로 구성된 2차원 데이터 구조임\\n- 두 차원 배열이나 행과 열로 이루어진 테이블과 같은 데이터를 담는다. \\n'"
      ]
     },
     "execution_count": 3,
     "metadata": {},
     "output_type": "execute_result"
    }
   ],
   "source": [
    "#  1. Basic data structures in pandas\n",
    "# 판다스에서 기본 데이터 구조\n",
    "'''\n",
    "1. Series : 1차원 배열로, 각 데이터에 라벨이 지정됨\n",
    "- 이 데이터는 정수, 문자열, 파이썬 객체 등 모든 유형의 데이터를 담을 수 있다.\n",
    "\n",
    "# 2. DataFrame : 행과 열로 구성된 2차원 데이터 구조임\n",
    "- 두 차원 배열이나 행과 열로 이루어진 테이블과 같은 데이터를 담는다. \n",
    "'''"
   ]
  },
  {
   "cell_type": "code",
   "execution_count": 4,
   "id": "e649d097-40da-476e-a5c1-b023735186bf",
   "metadata": {},
   "outputs": [],
   "source": [
    "# Object creation\n",
    "# 데이터 구조 생성"
   ]
  },
  {
   "cell_type": "code",
   "execution_count": 5,
   "id": "47e108e2-da06-4c47-80ad-5a90125ffbdf",
   "metadata": {},
   "outputs": [
    {
     "data": {
      "text/plain": [
       "'\\n값 리스트를 전달하여 series를 생성하고, \\npandas가 기본적으로 RangeIndex(연속적인 정수로 이루어진 인덱)를 생성하도록 하는 것\\n'"
      ]
     },
     "execution_count": 5,
     "metadata": {},
     "output_type": "execute_result"
    }
   ],
   "source": [
    "# Series\n",
    "'''\n",
    "값 리스트를 전달하여 series를 생성하고, \n",
    "pandas가 기본적으로 RangeIndex(연속적인 정수로 이루어진 인덱)를 생성하도록 하는 것\n",
    "'''"
   ]
  },
  {
   "cell_type": "code",
   "execution_count": 6,
   "id": "5c2a6239-ad71-4341-92ba-158da465e4a3",
   "metadata": {},
   "outputs": [
    {
     "name": "stdout",
     "output_type": "stream",
     "text": [
      "0    1.0\n",
      "1    3.0\n",
      "2    5.0\n",
      "3    NaN\n",
      "4    6.0\n",
      "5    8.0\n",
      "dtype: float64\n"
     ]
    }
   ],
   "source": [
    "s = pd.Series([1,3,5,np.nan,6,8])\n",
    "print(s)\n",
    "##np.nan은 NumPy 라이브러리에서 사용되는 Not a Number로 결측치나 비어 있는 값을 나타냄'''"
   ]
  },
  {
   "cell_type": "code",
   "execution_count": 7,
   "id": "955e86dc-5c05-46a4-8013-4e10be9e67f2",
   "metadata": {},
   "outputs": [
    {
     "name": "stdout",
     "output_type": "stream",
     "text": [
      "a    5\n",
      "b    5\n",
      "c    5\n",
      "d    5\n",
      "e    5\n",
      "dtype: int64\n"
     ]
    }
   ],
   "source": [
    "series = pd.Series(5, index=['a', 'b', 'c', 'd', 'e'])\n",
    "print(series)\n",
    "# pd.Series(배열, 행인덱스)  "
   ]
  },
  {
   "cell_type": "code",
   "execution_count": 8,
   "id": "aa7ab96c-8b34-45c7-bc38-614fbd6e8b76",
   "metadata": {},
   "outputs": [
    {
     "data": {
      "text/plain": [
       "'\\ndate_range()를 사용하여 datetime 인덱스가 있는 NumPy 배열을 전달하고 \\n레이블이 지정된 열을 사용하여 DataFrame을 생성\\n'"
      ]
     },
     "execution_count": 8,
     "metadata": {},
     "output_type": "execute_result"
    }
   ],
   "source": [
    "# DataFrame\n",
    "'''\n",
    "date_range()를 사용하여 datetime 인덱스가 있는 NumPy 배열을 전달하고 \n",
    "레이블이 지정된 열을 사용하여 DataFrame을 생성\n",
    "'''"
   ]
  },
  {
   "cell_type": "code",
   "execution_count": 9,
   "id": "535652ea-83a2-4665-850e-7667878d311d",
   "metadata": {},
   "outputs": [
    {
     "data": {
      "text/plain": [
       "DatetimeIndex(['2012-01-01', '2012-01-02', '2012-01-03', '2012-01-04',\n",
       "               '2012-01-05', '2012-01-06'],\n",
       "              dtype='datetime64[ns]', freq='D')"
      ]
     },
     "execution_count": 9,
     "metadata": {},
     "output_type": "execute_result"
    }
   ],
   "source": [
    "dates = pd.date_range(\"20120101\", periods = 6) ## 시작 날짜부터 6개의 연속된 날짜 생성\n",
    "dates\n",
    "## date_range(): 판다스에서 제공하는 함수, 지정된 기간에 대한 날짜 인덱스 생성\n",
    "##    -> 이를 NumPy 배열과 함께 DataFrame에 전달하여 DataFrame 생성"
   ]
  },
  {
   "cell_type": "code",
   "execution_count": 10,
   "id": "92138f3f-b5d2-472d-8f88-7b019f715d81",
   "metadata": {},
   "outputs": [
    {
     "data": {
      "text/html": [
       "<div>\n",
       "<style scoped>\n",
       "    .dataframe tbody tr th:only-of-type {\n",
       "        vertical-align: middle;\n",
       "    }\n",
       "\n",
       "    .dataframe tbody tr th {\n",
       "        vertical-align: top;\n",
       "    }\n",
       "\n",
       "    .dataframe thead th {\n",
       "        text-align: right;\n",
       "    }\n",
       "</style>\n",
       "<table border=\"1\" class=\"dataframe\">\n",
       "  <thead>\n",
       "    <tr style=\"text-align: right;\">\n",
       "      <th></th>\n",
       "      <th>A</th>\n",
       "      <th>B</th>\n",
       "      <th>C</th>\n",
       "      <th>D</th>\n",
       "    </tr>\n",
       "  </thead>\n",
       "  <tbody>\n",
       "    <tr>\n",
       "      <th>2012-01-01</th>\n",
       "      <td>0.757767</td>\n",
       "      <td>0.790816</td>\n",
       "      <td>0.175544</td>\n",
       "      <td>1.399283</td>\n",
       "    </tr>\n",
       "    <tr>\n",
       "      <th>2012-01-02</th>\n",
       "      <td>-0.159399</td>\n",
       "      <td>-0.160975</td>\n",
       "      <td>-1.428154</td>\n",
       "      <td>0.057080</td>\n",
       "    </tr>\n",
       "    <tr>\n",
       "      <th>2012-01-03</th>\n",
       "      <td>-0.084007</td>\n",
       "      <td>-0.130685</td>\n",
       "      <td>0.100007</td>\n",
       "      <td>1.058895</td>\n",
       "    </tr>\n",
       "    <tr>\n",
       "      <th>2012-01-04</th>\n",
       "      <td>1.492442</td>\n",
       "      <td>0.735142</td>\n",
       "      <td>0.656513</td>\n",
       "      <td>0.252356</td>\n",
       "    </tr>\n",
       "    <tr>\n",
       "      <th>2012-01-05</th>\n",
       "      <td>1.098571</td>\n",
       "      <td>-0.361257</td>\n",
       "      <td>-0.071733</td>\n",
       "      <td>0.233654</td>\n",
       "    </tr>\n",
       "    <tr>\n",
       "      <th>2012-01-06</th>\n",
       "      <td>-0.671209</td>\n",
       "      <td>0.166887</td>\n",
       "      <td>-1.510392</td>\n",
       "      <td>-0.761975</td>\n",
       "    </tr>\n",
       "  </tbody>\n",
       "</table>\n",
       "</div>"
      ],
      "text/plain": [
       "                   A         B         C         D\n",
       "2012-01-01  0.757767  0.790816  0.175544  1.399283\n",
       "2012-01-02 -0.159399 -0.160975 -1.428154  0.057080\n",
       "2012-01-03 -0.084007 -0.130685  0.100007  1.058895\n",
       "2012-01-04  1.492442  0.735142  0.656513  0.252356\n",
       "2012-01-05  1.098571 -0.361257 -0.071733  0.233654\n",
       "2012-01-06 -0.671209  0.166887 -1.510392 -0.761975"
      ]
     },
     "execution_count": 10,
     "metadata": {},
     "output_type": "execute_result"
    }
   ],
   "source": [
    "df = pd.DataFrame(np.random.randn(6,4), index = dates, columns = list(\"ABCD\"))\n",
    "df\n",
    "## np.random.randn(6,4): 함수를 사용하여 정규분포를 따르는 6x4크기의 난수 배열을 생성함\n",
    "## 데이터 프레임의 행 인덱스를 dates로 지정\n",
    "## columns = list(\"ABCD\"): 데이터프레임의 열 레이블을 지정 'A','B','C','D'"
   ]
  },
  {
   "cell_type": "code",
   "execution_count": 11,
   "id": "3303a56e-91b6-4081-b84b-e18546bc4961",
   "metadata": {},
   "outputs": [
    {
     "data": {
      "text/plain": [
       "'\\n딕셔너리를 전달하여 데이터프레임을 생성\\n딕셔너리의 키: 열 레이블\\n딕셔너리의 값: 열 \\n'"
      ]
     },
     "execution_count": 11,
     "metadata": {},
     "output_type": "execute_result"
    }
   ],
   "source": [
    "'''\n",
    "딕셔너리를 전달하여 데이터프레임을 생성\n",
    "딕셔너리의 키: 열 레이블\n",
    "딕셔너리의 값: 열 \n",
    "'''"
   ]
  },
  {
   "cell_type": "code",
   "execution_count": 12,
   "id": "26a79ce9-c5c1-4046-aa11-13d9d418f51a",
   "metadata": {},
   "outputs": [
    {
     "data": {
      "text/html": [
       "<div>\n",
       "<style scoped>\n",
       "    .dataframe tbody tr th:only-of-type {\n",
       "        vertical-align: middle;\n",
       "    }\n",
       "\n",
       "    .dataframe tbody tr th {\n",
       "        vertical-align: top;\n",
       "    }\n",
       "\n",
       "    .dataframe thead th {\n",
       "        text-align: right;\n",
       "    }\n",
       "</style>\n",
       "<table border=\"1\" class=\"dataframe\">\n",
       "  <thead>\n",
       "    <tr style=\"text-align: right;\">\n",
       "      <th></th>\n",
       "      <th>A</th>\n",
       "      <th>B</th>\n",
       "      <th>c</th>\n",
       "      <th>D</th>\n",
       "      <th>E</th>\n",
       "      <th>F</th>\n",
       "    </tr>\n",
       "  </thead>\n",
       "  <tbody>\n",
       "    <tr>\n",
       "      <th>0</th>\n",
       "      <td>1.0</td>\n",
       "      <td>2013-01-02</td>\n",
       "      <td>1.0</td>\n",
       "      <td>3</td>\n",
       "      <td>test</td>\n",
       "      <td>foo</td>\n",
       "    </tr>\n",
       "    <tr>\n",
       "      <th>1</th>\n",
       "      <td>1.0</td>\n",
       "      <td>2013-01-02</td>\n",
       "      <td>1.0</td>\n",
       "      <td>3</td>\n",
       "      <td>train</td>\n",
       "      <td>foo</td>\n",
       "    </tr>\n",
       "    <tr>\n",
       "      <th>2</th>\n",
       "      <td>1.0</td>\n",
       "      <td>2013-01-02</td>\n",
       "      <td>1.0</td>\n",
       "      <td>3</td>\n",
       "      <td>test</td>\n",
       "      <td>foo</td>\n",
       "    </tr>\n",
       "    <tr>\n",
       "      <th>3</th>\n",
       "      <td>1.0</td>\n",
       "      <td>2013-01-02</td>\n",
       "      <td>1.0</td>\n",
       "      <td>3</td>\n",
       "      <td>train</td>\n",
       "      <td>foo</td>\n",
       "    </tr>\n",
       "  </tbody>\n",
       "</table>\n",
       "</div>"
      ],
      "text/plain": [
       "     A          B    c  D      E    F\n",
       "0  1.0 2013-01-02  1.0  3   test  foo\n",
       "1  1.0 2013-01-02  1.0  3  train  foo\n",
       "2  1.0 2013-01-02  1.0  3   test  foo\n",
       "3  1.0 2013-01-02  1.0  3  train  foo"
      ]
     },
     "execution_count": 12,
     "metadata": {},
     "output_type": "execute_result"
    }
   ],
   "source": [
    "df2 = pd.DataFrame(\n",
    "    {\n",
    "        \"A\":1.0,\n",
    "        \"B\": pd.Timestamp(\"20130102\"),\n",
    "        ## B라는 열에 위 함수를 사용하여 2013년 1월 2일에 해당하는 타임스탬프 값을 갖도록 함\n",
    "        \"c\": pd.Series(1, index = list(range(4)), dtype=\"float32\"),\n",
    "        ## 모든 값이 1로 설정되고, 인덱스는 0부터 3까지의 정수\n",
    "        \"D\": np.array([3]*4, dtype = \"int32\"),\n",
    "        ## 3이 4번 반복되는 배열 [3,3,3,3]\n",
    "        \"E\": pd.Categorical([\"test\", \"train\", \"test\", \"train\"]),\n",
    "        # 두 가지 범주가 반복되고, 각 값은 범주형 데이터 타입으로 변환 \n",
    "        \"F\": \"foo\"        \n",
    "    }\n",
    ")\n",
    "df2"
   ]
  },
  {
   "cell_type": "code",
   "execution_count": 13,
   "id": "4017a123-fc89-4ca9-baf8-807295456c07",
   "metadata": {},
   "outputs": [
    {
     "data": {
      "text/plain": [
       "A          float64\n",
       "B    datetime64[s]\n",
       "c          float32\n",
       "D            int32\n",
       "E         category\n",
       "F           object\n",
       "dtype: object"
      ]
     },
     "execution_count": 13,
     "metadata": {},
     "output_type": "execute_result"
    }
   ],
   "source": [
    "'''\n",
    "데이터프레임의 열이 서로 다른 데이터 유형을 가지고 있음\n",
    "판다스의 데이터프레임은 각 열마다 독립적으로 데이터 유형을 가질 수 있\n",
    "'''\n",
    "df2.dtypes"
   ]
  },
  {
   "cell_type": "code",
   "execution_count": 14,
   "id": "5b563c06-4ad3-4308-a8ab-96d099b1df58",
   "metadata": {},
   "outputs": [
    {
     "data": {
      "text/plain": [
       "'\\n파이썬 환경에서 열 이름과 공개 속성들에 대한 tap 완선 기능이 자동으로 활성화됨\\n>> 탭 완성 기능이 자동으로 활성화되면, 열 이름 확인이나 df의 다른 속성을 빠르게 찾을 수 있다\\n\\n\\ndf2.A : df의 열 중 A라는 이름을 가진 열을 선택함                  \\ndf2.bool : 불리언 조건을 적용하고 만족하는 항목이 있는지 확인, 조건에 따라 특정항목 선택 가능\\ndf2.abs : 모든 값을 절댓값으로              \\ndf2.boxplot : 열에 대한 상자그림 생성, 데이터의 이상치와 분포를 시각적으로 확인 가능\\ndf2.add : df 또는 시리즈에 대해 요소별 덧셈 연산을 수행  \\ndf2.add_prefix : df의 모든 열 이름에 접두사를 추가, 열 이름을 변경 또는 일괄 처리가능         \\ndf2.clip : df의 값들을 지정된 최솟값과 최댓값 사이로 자름. 이를 통해 데이터 범위 제한, 이상치 처리\\ndf2.add_suffix : df의 모든 열 이름에 접미사를 추가, 열 이름 변경 또는 일괄 처리가능      \\ndf2.columns : df의 열 이름을 반환, 이를 통해 열 이름을 확인하거나 조작 가능\\ndf2.align : 두개의 df을 특정 축(axix)에 맞추고 정렬, 두 df 간의 인덱스나 열을 일치시키기 가능            \\ndf2.copy : df를 복사, 원본 df을 변경하지 않고 안전하게 작업 가능\\ndf2.all : df의 모든 요소가 참인지 여부 확인, 각 요소에 대해 조건 적용하고 조건 충족 여부 확인 \\ndf2.any : df의 모든 요소 중 하나 이상이 참인지 여부, 각 요소에 조건 적용 후 하나 이상의 조건 충족 여부\\ndf2.count : df의 각 열에 대해 비어 있지 않은 값의 수를 반환\\ndf2.combine : 두개의 df을 결합하여 새로운 df 생성\\ndf2.append : df에 새로운 행을 추가 또는 여러개의 df 결합 가능\\ndf2.apply : df의 각 열 또는 행에 함수를 적용하여 결과를 반환\\ndf2.describe : df의 요약 통계 정보 제공(각 열에 대한 편균, 최솟값, 최댓값, 표준편차...)\\ndf2.applymap : df의 모든 요소에 동일한 함수 적용 가능\\ndf2.diff : df의 각 요소에 대해 이전 요소와의 차이를 계산(차분)         \\ndf2.duplicated : df의 각 행이 중복되는지 여부를 확인, 중복된 행을 식별 가능\\n'"
      ]
     },
     "execution_count": 14,
     "metadata": {},
     "output_type": "execute_result"
    }
   ],
   "source": [
    "'''\n",
    "파이썬 환경에서 열 이름과 공개 속성들에 대한 tap 완선 기능이 자동으로 활성화됨\n",
    ">> 탭 완성 기능이 자동으로 활성화되면, 열 이름 확인이나 df의 다른 속성을 빠르게 찾을 수 있다\n",
    "\n",
    "\n",
    "df2.A : df의 열 중 A라는 이름을 가진 열을 선택함                  \n",
    "df2.bool : 불리언 조건을 적용하고 만족하는 항목이 있는지 확인, 조건에 따라 특정항목 선택 가능\n",
    "df2.abs : 모든 값을 절댓값으로              \n",
    "df2.boxplot : 열에 대한 상자그림 생성, 데이터의 이상치와 분포를 시각적으로 확인 가능\n",
    "df2.add : df 또는 시리즈에 대해 요소별 덧셈 연산을 수행  \n",
    "df2.add_prefix : df의 모든 열 이름에 접두사를 추가, 열 이름을 변경 또는 일괄 처리가능         \n",
    "df2.clip : df의 값들을 지정된 최솟값과 최댓값 사이로 자름. 이를 통해 데이터 범위 제한, 이상치 처리\n",
    "df2.add_suffix : df의 모든 열 이름에 접미사를 추가, 열 이름 변경 또는 일괄 처리가능      \n",
    "df2.columns : df의 열 이름을 반환, 이를 통해 열 이름을 확인하거나 조작 가능\n",
    "df2.align : 두개의 df을 특정 축(axix)에 맞추고 정렬, 두 df 간의 인덱스나 열을 일치시키기 가능            \n",
    "df2.copy : df를 복사, 원본 df을 변경하지 않고 안전하게 작업 가능\n",
    "df2.all : df의 모든 요소가 참인지 여부 확인, 각 요소에 대해 조건 적용하고 조건 충족 여부 확인 \n",
    "df2.any : df의 모든 요소 중 하나 이상이 참인지 여부, 각 요소에 조건 적용 후 하나 이상의 조건 충족 여부\n",
    "df2.count : df의 각 열에 대해 비어 있지 않은 값의 수를 반환\n",
    "df2.combine : 두개의 df을 결합하여 새로운 df 생성\n",
    "df2.append : df에 새로운 행을 추가 또는 여러개의 df 결합 가능\n",
    "df2.apply : df의 각 열 또는 행에 함수를 적용하여 결과를 반환\n",
    "df2.describe : df의 요약 통계 정보 제공(각 열에 대한 편균, 최솟값, 최댓값, 표준편차...)\n",
    "df2.applymap : df의 모든 요소에 동일한 함수 적용 가능\n",
    "df2.diff : df의 각 요소에 대해 이전 요소와의 차이를 계산(차분)         \n",
    "df2.duplicated : df의 각 행이 중복되는지 여부를 확인, 중복된 행을 식별 가능\n",
    "'''"
   ]
  },
  {
   "cell_type": "code",
   "execution_count": 15,
   "id": "175e5b5e-4b10-49e8-841f-adc18579bcf0",
   "metadata": {},
   "outputs": [],
   "source": [
    "# Viewing data\n",
    "# 데이터 보기"
   ]
  },
  {
   "cell_type": "code",
   "execution_count": 16,
   "id": "a06ff267-8f07-4f66-a773-904850b629ae",
   "metadata": {},
   "outputs": [
    {
     "data": {
      "text/html": [
       "<div>\n",
       "<style scoped>\n",
       "    .dataframe tbody tr th:only-of-type {\n",
       "        vertical-align: middle;\n",
       "    }\n",
       "\n",
       "    .dataframe tbody tr th {\n",
       "        vertical-align: top;\n",
       "    }\n",
       "\n",
       "    .dataframe thead th {\n",
       "        text-align: right;\n",
       "    }\n",
       "</style>\n",
       "<table border=\"1\" class=\"dataframe\">\n",
       "  <thead>\n",
       "    <tr style=\"text-align: right;\">\n",
       "      <th></th>\n",
       "      <th>A</th>\n",
       "      <th>B</th>\n",
       "      <th>C</th>\n",
       "      <th>D</th>\n",
       "    </tr>\n",
       "  </thead>\n",
       "  <tbody>\n",
       "    <tr>\n",
       "      <th>2012-01-01</th>\n",
       "      <td>0.757767</td>\n",
       "      <td>0.790816</td>\n",
       "      <td>0.175544</td>\n",
       "      <td>1.399283</td>\n",
       "    </tr>\n",
       "    <tr>\n",
       "      <th>2012-01-02</th>\n",
       "      <td>-0.159399</td>\n",
       "      <td>-0.160975</td>\n",
       "      <td>-1.428154</td>\n",
       "      <td>0.057080</td>\n",
       "    </tr>\n",
       "    <tr>\n",
       "      <th>2012-01-03</th>\n",
       "      <td>-0.084007</td>\n",
       "      <td>-0.130685</td>\n",
       "      <td>0.100007</td>\n",
       "      <td>1.058895</td>\n",
       "    </tr>\n",
       "    <tr>\n",
       "      <th>2012-01-04</th>\n",
       "      <td>1.492442</td>\n",
       "      <td>0.735142</td>\n",
       "      <td>0.656513</td>\n",
       "      <td>0.252356</td>\n",
       "    </tr>\n",
       "    <tr>\n",
       "      <th>2012-01-05</th>\n",
       "      <td>1.098571</td>\n",
       "      <td>-0.361257</td>\n",
       "      <td>-0.071733</td>\n",
       "      <td>0.233654</td>\n",
       "    </tr>\n",
       "  </tbody>\n",
       "</table>\n",
       "</div>"
      ],
      "text/plain": [
       "                   A         B         C         D\n",
       "2012-01-01  0.757767  0.790816  0.175544  1.399283\n",
       "2012-01-02 -0.159399 -0.160975 -1.428154  0.057080\n",
       "2012-01-03 -0.084007 -0.130685  0.100007  1.058895\n",
       "2012-01-04  1.492442  0.735142  0.656513  0.252356\n",
       "2012-01-05  1.098571 -0.361257 -0.071733  0.233654"
      ]
     },
     "execution_count": 16,
     "metadata": {},
     "output_type": "execute_result"
    }
   ],
   "source": [
    "'''\n",
    "df의 top행과 bottom 행들을 보기 위해 DataFrame.head() 와 DataFrame.tail() 사용\n",
    "'''\n",
    "df.head()  ## df의 행은 6개 tail과 겹칠 수 있음"
   ]
  },
  {
   "cell_type": "code",
   "execution_count": 17,
   "id": "fde015df-9509-4bad-a5c3-d262ebe0c79b",
   "metadata": {},
   "outputs": [
    {
     "data": {
      "text/html": [
       "<div>\n",
       "<style scoped>\n",
       "    .dataframe tbody tr th:only-of-type {\n",
       "        vertical-align: middle;\n",
       "    }\n",
       "\n",
       "    .dataframe tbody tr th {\n",
       "        vertical-align: top;\n",
       "    }\n",
       "\n",
       "    .dataframe thead th {\n",
       "        text-align: right;\n",
       "    }\n",
       "</style>\n",
       "<table border=\"1\" class=\"dataframe\">\n",
       "  <thead>\n",
       "    <tr style=\"text-align: right;\">\n",
       "      <th></th>\n",
       "      <th>A</th>\n",
       "      <th>B</th>\n",
       "      <th>C</th>\n",
       "      <th>D</th>\n",
       "    </tr>\n",
       "  </thead>\n",
       "  <tbody>\n",
       "    <tr>\n",
       "      <th>2012-01-02</th>\n",
       "      <td>-0.159399</td>\n",
       "      <td>-0.160975</td>\n",
       "      <td>-1.428154</td>\n",
       "      <td>0.057080</td>\n",
       "    </tr>\n",
       "    <tr>\n",
       "      <th>2012-01-03</th>\n",
       "      <td>-0.084007</td>\n",
       "      <td>-0.130685</td>\n",
       "      <td>0.100007</td>\n",
       "      <td>1.058895</td>\n",
       "    </tr>\n",
       "    <tr>\n",
       "      <th>2012-01-04</th>\n",
       "      <td>1.492442</td>\n",
       "      <td>0.735142</td>\n",
       "      <td>0.656513</td>\n",
       "      <td>0.252356</td>\n",
       "    </tr>\n",
       "    <tr>\n",
       "      <th>2012-01-05</th>\n",
       "      <td>1.098571</td>\n",
       "      <td>-0.361257</td>\n",
       "      <td>-0.071733</td>\n",
       "      <td>0.233654</td>\n",
       "    </tr>\n",
       "    <tr>\n",
       "      <th>2012-01-06</th>\n",
       "      <td>-0.671209</td>\n",
       "      <td>0.166887</td>\n",
       "      <td>-1.510392</td>\n",
       "      <td>-0.761975</td>\n",
       "    </tr>\n",
       "  </tbody>\n",
       "</table>\n",
       "</div>"
      ],
      "text/plain": [
       "                   A         B         C         D\n",
       "2012-01-02 -0.159399 -0.160975 -1.428154  0.057080\n",
       "2012-01-03 -0.084007 -0.130685  0.100007  1.058895\n",
       "2012-01-04  1.492442  0.735142  0.656513  0.252356\n",
       "2012-01-05  1.098571 -0.361257 -0.071733  0.233654\n",
       "2012-01-06 -0.671209  0.166887 -1.510392 -0.761975"
      ]
     },
     "execution_count": 17,
     "metadata": {},
     "output_type": "execute_result"
    }
   ],
   "source": [
    "df.tail()"
   ]
  },
  {
   "cell_type": "code",
   "execution_count": 18,
   "id": "272d53c5-85fb-4442-b397-f6de0c748da9",
   "metadata": {},
   "outputs": [
    {
     "data": {
      "text/plain": [
       "DatetimeIndex(['2012-01-01', '2012-01-02', '2012-01-03', '2012-01-04',\n",
       "               '2012-01-05', '2012-01-06'],\n",
       "              dtype='datetime64[ns]', freq='D')"
      ]
     },
     "execution_count": 18,
     "metadata": {},
     "output_type": "execute_result"
    }
   ],
   "source": [
    "'''\n",
    "df의 인덱스와 열 이름을 표시하기 위해 DataFrame.index과 DataFrame.columns 사용\n",
    "'''\n",
    "df.index"
   ]
  },
  {
   "cell_type": "code",
   "execution_count": 19,
   "id": "9b929983-9be4-42fa-b024-871c43fdd394",
   "metadata": {},
   "outputs": [
    {
     "data": {
      "text/plain": [
       "Index(['A', 'B', 'C', 'D'], dtype='object')"
      ]
     },
     "execution_count": 19,
     "metadata": {},
     "output_type": "execute_result"
    }
   ],
   "source": [
    "df.columns"
   ]
  },
  {
   "cell_type": "code",
   "execution_count": 20,
   "id": "3407fa8c-6a26-4244-a8aa-1eed73d28916",
   "metadata": {},
   "outputs": [
    {
     "data": {
      "text/plain": [
       "array([[ 0.75776696,  0.79081636,  0.17554378,  1.39928321],\n",
       "       [-0.15939884, -0.16097485, -1.42815447,  0.05707982],\n",
       "       [-0.08400663, -0.13068524,  0.10000748,  1.05889507],\n",
       "       [ 1.49244211,  0.73514194,  0.65651346,  0.25235598],\n",
       "       [ 1.09857056, -0.36125673, -0.07173344,  0.23365414],\n",
       "       [-0.67120915,  0.16688662, -1.51039157, -0.76197517]])"
      ]
     },
     "execution_count": 20,
     "metadata": {},
     "output_type": "execute_result"
    }
   ],
   "source": [
    "'''\n",
    "DataFrame.to_numpy()\n",
    "인덱스나 열 라벨없이 df 값을 NumPy 배열로 반환\n",
    "'''\n",
    "df.to_numpy()"
   ]
  },
  {
   "cell_type": "code",
   "execution_count": 21,
   "id": "3d8855bd-cf78-47ee-a008-07c270b586a7",
   "metadata": {},
   "outputs": [
    {
     "data": {
      "text/plain": [
       "A          float64\n",
       "B    datetime64[s]\n",
       "c          float32\n",
       "D            int32\n",
       "E         category\n",
       "F           object\n",
       "dtype: object"
      ]
     },
     "execution_count": 21,
     "metadata": {},
     "output_type": "execute_result"
    }
   ],
   "source": [
    "'''\n",
    "NumPy 배열은 전체 배열에 하나의 데이터 유형을 가지고 있지만,\n",
    "판다스 데이터 프레임은 각 열마다 별도의 데이터 유형을 가진다.\n",
    "df.to_numpy()를 호출할 때, df에 다양한 데이터 유형이 섞여 있는 경우, \n",
    "df의 모든 데이터를 수용할 수 있는 가장 일반적인 데이터 유형인 object 타입을 사용\n",
    "이때 numpy 배열로 변환할 때, 메모리에서 데이터를 한 위치에서 다른 위치로 \n",
    "복사하는 과정인 복사작업으로 일관된 형태의 numpy배열에 저장\n",
    "=> 복사로 인해 메모리 사용량이 많아짐\n",
    "\n",
    "but, 동일한 유형의 df인 경우 복사없이 numpy 배열 생상\n",
    "'''\n",
    "df2.dtypes"
   ]
  },
  {
   "cell_type": "code",
   "execution_count": 22,
   "id": "9656c1c8-257f-4664-9c3e-3144424460a4",
   "metadata": {},
   "outputs": [
    {
     "data": {
      "text/plain": [
       "array([[1.0, Timestamp('2013-01-02 00:00:00'), 1.0, 3, 'test', 'foo'],\n",
       "       [1.0, Timestamp('2013-01-02 00:00:00'), 1.0, 3, 'train', 'foo'],\n",
       "       [1.0, Timestamp('2013-01-02 00:00:00'), 1.0, 3, 'test', 'foo'],\n",
       "       [1.0, Timestamp('2013-01-02 00:00:00'), 1.0, 3, 'train', 'foo']],\n",
       "      dtype=object)"
      ]
     },
     "execution_count": 22,
     "metadata": {},
     "output_type": "execute_result"
    }
   ],
   "source": [
    "df2.to_numpy()\n",
    "# dtype이 object로 변함"
   ]
  },
  {
   "cell_type": "code",
   "execution_count": 23,
   "id": "23aedca1-cf9c-43e1-9f93-e8c79c4a6887",
   "metadata": {},
   "outputs": [
    {
     "data": {
      "text/html": [
       "<div>\n",
       "<style scoped>\n",
       "    .dataframe tbody tr th:only-of-type {\n",
       "        vertical-align: middle;\n",
       "    }\n",
       "\n",
       "    .dataframe tbody tr th {\n",
       "        vertical-align: top;\n",
       "    }\n",
       "\n",
       "    .dataframe thead th {\n",
       "        text-align: right;\n",
       "    }\n",
       "</style>\n",
       "<table border=\"1\" class=\"dataframe\">\n",
       "  <thead>\n",
       "    <tr style=\"text-align: right;\">\n",
       "      <th></th>\n",
       "      <th>A</th>\n",
       "      <th>B</th>\n",
       "      <th>C</th>\n",
       "      <th>D</th>\n",
       "    </tr>\n",
       "  </thead>\n",
       "  <tbody>\n",
       "    <tr>\n",
       "      <th>count</th>\n",
       "      <td>6.000000</td>\n",
       "      <td>6.000000</td>\n",
       "      <td>6.000000</td>\n",
       "      <td>6.000000</td>\n",
       "    </tr>\n",
       "    <tr>\n",
       "      <th>mean</th>\n",
       "      <td>0.405694</td>\n",
       "      <td>0.173321</td>\n",
       "      <td>-0.346369</td>\n",
       "      <td>0.373216</td>\n",
       "    </tr>\n",
       "    <tr>\n",
       "      <th>std</th>\n",
       "      <td>0.837127</td>\n",
       "      <td>0.487223</td>\n",
       "      <td>0.903111</td>\n",
       "      <td>0.767549</td>\n",
       "    </tr>\n",
       "    <tr>\n",
       "      <th>min</th>\n",
       "      <td>-0.671209</td>\n",
       "      <td>-0.361257</td>\n",
       "      <td>-1.510392</td>\n",
       "      <td>-0.761975</td>\n",
       "    </tr>\n",
       "    <tr>\n",
       "      <th>25%</th>\n",
       "      <td>-0.140551</td>\n",
       "      <td>-0.153402</td>\n",
       "      <td>-1.089049</td>\n",
       "      <td>0.101223</td>\n",
       "    </tr>\n",
       "    <tr>\n",
       "      <th>50%</th>\n",
       "      <td>0.336880</td>\n",
       "      <td>0.018101</td>\n",
       "      <td>0.014137</td>\n",
       "      <td>0.243005</td>\n",
       "    </tr>\n",
       "    <tr>\n",
       "      <th>75%</th>\n",
       "      <td>1.013370</td>\n",
       "      <td>0.593078</td>\n",
       "      <td>0.156660</td>\n",
       "      <td>0.857260</td>\n",
       "    </tr>\n",
       "    <tr>\n",
       "      <th>max</th>\n",
       "      <td>1.492442</td>\n",
       "      <td>0.790816</td>\n",
       "      <td>0.656513</td>\n",
       "      <td>1.399283</td>\n",
       "    </tr>\n",
       "  </tbody>\n",
       "</table>\n",
       "</div>"
      ],
      "text/plain": [
       "              A         B         C         D\n",
       "count  6.000000  6.000000  6.000000  6.000000\n",
       "mean   0.405694  0.173321 -0.346369  0.373216\n",
       "std    0.837127  0.487223  0.903111  0.767549\n",
       "min   -0.671209 -0.361257 -1.510392 -0.761975\n",
       "25%   -0.140551 -0.153402 -1.089049  0.101223\n",
       "50%    0.336880  0.018101  0.014137  0.243005\n",
       "75%    1.013370  0.593078  0.156660  0.857260\n",
       "max    1.492442  0.790816  0.656513  1.399283"
      ]
     },
     "execution_count": 23,
     "metadata": {},
     "output_type": "execute_result"
    }
   ],
   "source": [
    "'''\n",
    "describe()는 데이터의 간단한 통계적 요약을 볼 수 있다.\n",
    "'''\n",
    "df.describe()"
   ]
  },
  {
   "cell_type": "code",
   "execution_count": 24,
   "id": "5b5f818d-4b97-4f07-9b46-9bd554f1a25b",
   "metadata": {},
   "outputs": [
    {
     "data": {
      "text/html": [
       "<div>\n",
       "<style scoped>\n",
       "    .dataframe tbody tr th:only-of-type {\n",
       "        vertical-align: middle;\n",
       "    }\n",
       "\n",
       "    .dataframe tbody tr th {\n",
       "        vertical-align: top;\n",
       "    }\n",
       "\n",
       "    .dataframe thead th {\n",
       "        text-align: right;\n",
       "    }\n",
       "</style>\n",
       "<table border=\"1\" class=\"dataframe\">\n",
       "  <thead>\n",
       "    <tr style=\"text-align: right;\">\n",
       "      <th></th>\n",
       "      <th>2012-01-01</th>\n",
       "      <th>2012-01-02</th>\n",
       "      <th>2012-01-03</th>\n",
       "      <th>2012-01-04</th>\n",
       "      <th>2012-01-05</th>\n",
       "      <th>2012-01-06</th>\n",
       "    </tr>\n",
       "  </thead>\n",
       "  <tbody>\n",
       "    <tr>\n",
       "      <th>A</th>\n",
       "      <td>0.757767</td>\n",
       "      <td>-0.159399</td>\n",
       "      <td>-0.084007</td>\n",
       "      <td>1.492442</td>\n",
       "      <td>1.098571</td>\n",
       "      <td>-0.671209</td>\n",
       "    </tr>\n",
       "    <tr>\n",
       "      <th>B</th>\n",
       "      <td>0.790816</td>\n",
       "      <td>-0.160975</td>\n",
       "      <td>-0.130685</td>\n",
       "      <td>0.735142</td>\n",
       "      <td>-0.361257</td>\n",
       "      <td>0.166887</td>\n",
       "    </tr>\n",
       "    <tr>\n",
       "      <th>C</th>\n",
       "      <td>0.175544</td>\n",
       "      <td>-1.428154</td>\n",
       "      <td>0.100007</td>\n",
       "      <td>0.656513</td>\n",
       "      <td>-0.071733</td>\n",
       "      <td>-1.510392</td>\n",
       "    </tr>\n",
       "    <tr>\n",
       "      <th>D</th>\n",
       "      <td>1.399283</td>\n",
       "      <td>0.057080</td>\n",
       "      <td>1.058895</td>\n",
       "      <td>0.252356</td>\n",
       "      <td>0.233654</td>\n",
       "      <td>-0.761975</td>\n",
       "    </tr>\n",
       "  </tbody>\n",
       "</table>\n",
       "</div>"
      ],
      "text/plain": [
       "   2012-01-01  2012-01-02  2012-01-03  2012-01-04  2012-01-05  2012-01-06\n",
       "A    0.757767   -0.159399   -0.084007    1.492442    1.098571   -0.671209\n",
       "B    0.790816   -0.160975   -0.130685    0.735142   -0.361257    0.166887\n",
       "C    0.175544   -1.428154    0.100007    0.656513   -0.071733   -1.510392\n",
       "D    1.399283    0.057080    1.058895    0.252356    0.233654   -0.761975"
      ]
     },
     "execution_count": 24,
     "metadata": {},
     "output_type": "execute_result"
    }
   ],
   "source": [
    "'''\n",
    "DataFrame.T(DataFrame.transpose())는 데이터를 전치한다는 것, 이는 행과 열을 서로 바꾸는 작업을 말함\n",
    "행이 관측치를 나타내고 열이 변수를 나타내는 경우,\n",
    "데이터를 전치하면 행이 변수를 나타내고 열이 관측치를 나타내는 형태로 바\n",
    "'''\n",
    "df.transpose()\n",
    "#df.T 와 동일"
   ]
  },
  {
   "cell_type": "code",
   "execution_count": 25,
   "id": "75e5f5fa-cc55-4500-9951-7505fdd1db11",
   "metadata": {
    "scrolled": true
   },
   "outputs": [
    {
     "data": {
      "text/html": [
       "<div>\n",
       "<style scoped>\n",
       "    .dataframe tbody tr th:only-of-type {\n",
       "        vertical-align: middle;\n",
       "    }\n",
       "\n",
       "    .dataframe tbody tr th {\n",
       "        vertical-align: top;\n",
       "    }\n",
       "\n",
       "    .dataframe thead th {\n",
       "        text-align: right;\n",
       "    }\n",
       "</style>\n",
       "<table border=\"1\" class=\"dataframe\">\n",
       "  <thead>\n",
       "    <tr style=\"text-align: right;\">\n",
       "      <th></th>\n",
       "      <th>D</th>\n",
       "      <th>C</th>\n",
       "      <th>B</th>\n",
       "      <th>A</th>\n",
       "    </tr>\n",
       "  </thead>\n",
       "  <tbody>\n",
       "    <tr>\n",
       "      <th>2012-01-01</th>\n",
       "      <td>1.399283</td>\n",
       "      <td>0.175544</td>\n",
       "      <td>0.790816</td>\n",
       "      <td>0.757767</td>\n",
       "    </tr>\n",
       "    <tr>\n",
       "      <th>2012-01-02</th>\n",
       "      <td>0.057080</td>\n",
       "      <td>-1.428154</td>\n",
       "      <td>-0.160975</td>\n",
       "      <td>-0.159399</td>\n",
       "    </tr>\n",
       "    <tr>\n",
       "      <th>2012-01-03</th>\n",
       "      <td>1.058895</td>\n",
       "      <td>0.100007</td>\n",
       "      <td>-0.130685</td>\n",
       "      <td>-0.084007</td>\n",
       "    </tr>\n",
       "    <tr>\n",
       "      <th>2012-01-04</th>\n",
       "      <td>0.252356</td>\n",
       "      <td>0.656513</td>\n",
       "      <td>0.735142</td>\n",
       "      <td>1.492442</td>\n",
       "    </tr>\n",
       "    <tr>\n",
       "      <th>2012-01-05</th>\n",
       "      <td>0.233654</td>\n",
       "      <td>-0.071733</td>\n",
       "      <td>-0.361257</td>\n",
       "      <td>1.098571</td>\n",
       "    </tr>\n",
       "    <tr>\n",
       "      <th>2012-01-06</th>\n",
       "      <td>-0.761975</td>\n",
       "      <td>-1.510392</td>\n",
       "      <td>0.166887</td>\n",
       "      <td>-0.671209</td>\n",
       "    </tr>\n",
       "  </tbody>\n",
       "</table>\n",
       "</div>"
      ],
      "text/plain": [
       "                   D         C         B         A\n",
       "2012-01-01  1.399283  0.175544  0.790816  0.757767\n",
       "2012-01-02  0.057080 -1.428154 -0.160975 -0.159399\n",
       "2012-01-03  1.058895  0.100007 -0.130685 -0.084007\n",
       "2012-01-04  0.252356  0.656513  0.735142  1.492442\n",
       "2012-01-05  0.233654 -0.071733 -0.361257  1.098571\n",
       "2012-01-06 -0.761975 -1.510392  0.166887 -0.671209"
      ]
     },
     "execution_count": 25,
     "metadata": {},
     "output_type": "execute_result"
    }
   ],
   "source": [
    "'''\n",
    "DataFrame.sort_index()는 특정 축(axis)를 기준으로 데이터를 정렬\n",
    "데이터의 행 또는 열이 인덱스 값에 따라 정렬됨\n",
    "이는 호출할 때 별도로 지정하지 않으면 행의 인덱스 \n",
    "\n",
    "- 인덱스를 기준으로 df를 오름차순 또는 내림차순으로 정렬(axis=0)\n",
    "- 열 이름을 기준으로 정렬(axis=1)\n",
    "'''\n",
    "df.sort_index(axis=1, ascending=False) ## ascending=False 내림차순\n",
    "# 열 이름을 기준으로 내림차순"
   ]
  },
  {
   "cell_type": "code",
   "execution_count": 26,
   "id": "0d504bdc-3219-4392-bad2-d5f555f57968",
   "metadata": {},
   "outputs": [
    {
     "data": {
      "text/html": [
       "<div>\n",
       "<style scoped>\n",
       "    .dataframe tbody tr th:only-of-type {\n",
       "        vertical-align: middle;\n",
       "    }\n",
       "\n",
       "    .dataframe tbody tr th {\n",
       "        vertical-align: top;\n",
       "    }\n",
       "\n",
       "    .dataframe thead th {\n",
       "        text-align: right;\n",
       "    }\n",
       "</style>\n",
       "<table border=\"1\" class=\"dataframe\">\n",
       "  <thead>\n",
       "    <tr style=\"text-align: right;\">\n",
       "      <th></th>\n",
       "      <th>A</th>\n",
       "      <th>B</th>\n",
       "      <th>C</th>\n",
       "      <th>D</th>\n",
       "    </tr>\n",
       "  </thead>\n",
       "  <tbody>\n",
       "    <tr>\n",
       "      <th>2012-01-06</th>\n",
       "      <td>-0.671209</td>\n",
       "      <td>0.166887</td>\n",
       "      <td>-1.510392</td>\n",
       "      <td>-0.761975</td>\n",
       "    </tr>\n",
       "    <tr>\n",
       "      <th>2012-01-02</th>\n",
       "      <td>-0.159399</td>\n",
       "      <td>-0.160975</td>\n",
       "      <td>-1.428154</td>\n",
       "      <td>0.057080</td>\n",
       "    </tr>\n",
       "    <tr>\n",
       "      <th>2012-01-05</th>\n",
       "      <td>1.098571</td>\n",
       "      <td>-0.361257</td>\n",
       "      <td>-0.071733</td>\n",
       "      <td>0.233654</td>\n",
       "    </tr>\n",
       "    <tr>\n",
       "      <th>2012-01-03</th>\n",
       "      <td>-0.084007</td>\n",
       "      <td>-0.130685</td>\n",
       "      <td>0.100007</td>\n",
       "      <td>1.058895</td>\n",
       "    </tr>\n",
       "    <tr>\n",
       "      <th>2012-01-01</th>\n",
       "      <td>0.757767</td>\n",
       "      <td>0.790816</td>\n",
       "      <td>0.175544</td>\n",
       "      <td>1.399283</td>\n",
       "    </tr>\n",
       "    <tr>\n",
       "      <th>2012-01-04</th>\n",
       "      <td>1.492442</td>\n",
       "      <td>0.735142</td>\n",
       "      <td>0.656513</td>\n",
       "      <td>0.252356</td>\n",
       "    </tr>\n",
       "  </tbody>\n",
       "</table>\n",
       "</div>"
      ],
      "text/plain": [
       "                   A         B         C         D\n",
       "2012-01-06 -0.671209  0.166887 -1.510392 -0.761975\n",
       "2012-01-02 -0.159399 -0.160975 -1.428154  0.057080\n",
       "2012-01-05  1.098571 -0.361257 -0.071733  0.233654\n",
       "2012-01-03 -0.084007 -0.130685  0.100007  1.058895\n",
       "2012-01-01  0.757767  0.790816  0.175544  1.399283\n",
       "2012-01-04  1.492442  0.735142  0.656513  0.252356"
      ]
     },
     "execution_count": 26,
     "metadata": {},
     "output_type": "execute_result"
    }
   ],
   "source": [
    "'''\n",
    "DataFrame.sort_values()는 값을 기준으로 데이터를 정렬\n",
    "이는 호출할때 별도로 지정하지 않으면 열의 값 기준으로 데이터를 정렬함\n",
    "정렬할 열을 따로 지정하지 않으면 첫 번째 열을 기준으로 정렬\n",
    "다른 열을 기준으로 정렬 DataFrame.sort_values(by=\"A\")\n",
    "\n",
    "axis 매개변수 없고, 기본적으로 열의 값을 기준\n",
    "\n",
    "sort_values() 함수를 사용하여 행의 값을 기준으로 정렬 \n",
    "- DataFrame.sort_values(by=\"행 이름(열의 라벨)\")\n",
    "- 위 열의 값을 오름차순으로 정렬\n",
    "'''\n",
    "df.sort_values(by=\"C\")    ## ascending=False 내림차순 등 매개변수 사용 가능"
   ]
  },
  {
   "cell_type": "code",
   "execution_count": 27,
   "id": "056b9feb-453a-4104-b34e-127e60feb2ed",
   "metadata": {},
   "outputs": [
    {
     "data": {
      "text/plain": [
       "'\\n리스트에서 값을 선택하거나 설정할 때 인덱스를 사용하는 것과 같은 유사방법\\nDataFrame.at(): 행과 열의 라벨을 사용하여 단일 값에 접근 \\nDataFrame.iat(): 행과 열의 정수 위치를 사용하여 단일 값에 접근 (정수 인덱싱 지원)\\nDataFrame.loc(): 행이나 열의 라벨을 이용하여 해당 부분집합에 접근\\nDataFrame.iloc(): 행이나 열의 정수 위치를 사용하여 해당 부분집합에 접근(정수 인덱싱 지원)\\n'"
      ]
     },
     "execution_count": 27,
     "metadata": {},
     "output_type": "execute_result"
    }
   ],
   "source": [
    "# 2. Selection\n",
    "'''\n",
    "리스트에서 값을 선택하거나 설정할 때 인덱스를 사용하는 것과 같은 유사방법\n",
    "DataFrame.at(): 행과 열의 라벨을 사용하여 단일 값에 접근 \n",
    "DataFrame.iat(): 행과 열의 정수 위치를 사용하여 단일 값에 접근 (정수 인덱싱 지원)\n",
    "DataFrame.loc(): 행이나 열의 라벨을 이용하여 해당 부분집합에 접근\n",
    "DataFrame.iloc(): 행이나 열의 정수 위치를 사용하여 해당 부분집합에 접근(정수 인덱싱 지원)\n",
    "'''"
   ]
  },
  {
   "cell_type": "code",
   "execution_count": 28,
   "id": "c97c58ec-4b2f-452d-a73b-72ebe4e9dc7c",
   "metadata": {},
   "outputs": [
    {
     "data": {
      "text/plain": [
       "2012-01-01    0.757767\n",
       "2012-01-02   -0.159399\n",
       "2012-01-03   -0.084007\n",
       "2012-01-04    1.492442\n",
       "2012-01-05    1.098571\n",
       "2012-01-06   -0.671209\n",
       "Freq: D, Name: A, dtype: float64"
      ]
     },
     "execution_count": 28,
     "metadata": {},
     "output_type": "execute_result"
    }
   ],
   "source": [
    "'''\n",
    "df에서 단일 라밸(열 이름이나 행 인덱스)에 해당하는 열을 선택\n",
    "해당 열의 데이터를 포함하는 시리즈 반환\n",
    "\n",
    "but, 행 인덱스에 해당하는 행을 선택하는 방법은 DataFrame.loc[] 또는 DataFrame.iloc[]\n",
    "DataFrame.loc[2]를 사용하여 행 인덱스가 2인 행\n",
    "'''\n",
    "df[\"A\"] ## 라벨 A 열에 해당하는 열 반"
   ]
  },
  {
   "cell_type": "code",
   "execution_count": 29,
   "id": "8813e1be-c835-40b5-8510-ff76b74193e1",
   "metadata": {},
   "outputs": [
    {
     "data": {
      "text/html": [
       "<div>\n",
       "<style scoped>\n",
       "    .dataframe tbody tr th:only-of-type {\n",
       "        vertical-align: middle;\n",
       "    }\n",
       "\n",
       "    .dataframe tbody tr th {\n",
       "        vertical-align: top;\n",
       "    }\n",
       "\n",
       "    .dataframe thead th {\n",
       "        text-align: right;\n",
       "    }\n",
       "</style>\n",
       "<table border=\"1\" class=\"dataframe\">\n",
       "  <thead>\n",
       "    <tr style=\"text-align: right;\">\n",
       "      <th></th>\n",
       "      <th>A</th>\n",
       "      <th>B</th>\n",
       "      <th>C</th>\n",
       "      <th>D</th>\n",
       "    </tr>\n",
       "  </thead>\n",
       "  <tbody>\n",
       "    <tr>\n",
       "      <th>2012-01-01</th>\n",
       "      <td>0.757767</td>\n",
       "      <td>0.790816</td>\n",
       "      <td>0.175544</td>\n",
       "      <td>1.399283</td>\n",
       "    </tr>\n",
       "    <tr>\n",
       "      <th>2012-01-02</th>\n",
       "      <td>-0.159399</td>\n",
       "      <td>-0.160975</td>\n",
       "      <td>-1.428154</td>\n",
       "      <td>0.057080</td>\n",
       "    </tr>\n",
       "    <tr>\n",
       "      <th>2012-01-03</th>\n",
       "      <td>-0.084007</td>\n",
       "      <td>-0.130685</td>\n",
       "      <td>0.100007</td>\n",
       "      <td>1.058895</td>\n",
       "    </tr>\n",
       "  </tbody>\n",
       "</table>\n",
       "</div>"
      ],
      "text/plain": [
       "                   A         B         C         D\n",
       "2012-01-01  0.757767  0.790816  0.175544  1.399283\n",
       "2012-01-02 -0.159399 -0.160975 -1.428154  0.057080\n",
       "2012-01-03 -0.084007 -0.130685  0.100007  1.058895"
      ]
     },
     "execution_count": 29,
     "metadata": {},
     "output_type": "execute_result"
    }
   ],
   "source": [
    "'''\n",
    "slice는 df에서 특정 범위의 행을 선택하고자 할떄 \n",
    "'''\n",
    "df[0:3]"
   ]
  },
  {
   "cell_type": "code",
   "execution_count": 30,
   "id": "8477ddf0-23b4-4c4c-a55f-72265a7ea7a2",
   "metadata": {},
   "outputs": [
    {
     "data": {
      "text/html": [
       "<div>\n",
       "<style scoped>\n",
       "    .dataframe tbody tr th:only-of-type {\n",
       "        vertical-align: middle;\n",
       "    }\n",
       "\n",
       "    .dataframe tbody tr th {\n",
       "        vertical-align: top;\n",
       "    }\n",
       "\n",
       "    .dataframe thead th {\n",
       "        text-align: right;\n",
       "    }\n",
       "</style>\n",
       "<table border=\"1\" class=\"dataframe\">\n",
       "  <thead>\n",
       "    <tr style=\"text-align: right;\">\n",
       "      <th></th>\n",
       "      <th>A</th>\n",
       "      <th>B</th>\n",
       "      <th>C</th>\n",
       "      <th>D</th>\n",
       "    </tr>\n",
       "  </thead>\n",
       "  <tbody>\n",
       "    <tr>\n",
       "      <th>2012-01-02</th>\n",
       "      <td>-0.159399</td>\n",
       "      <td>-0.160975</td>\n",
       "      <td>-1.428154</td>\n",
       "      <td>0.057080</td>\n",
       "    </tr>\n",
       "    <tr>\n",
       "      <th>2012-01-03</th>\n",
       "      <td>-0.084007</td>\n",
       "      <td>-0.130685</td>\n",
       "      <td>0.100007</td>\n",
       "      <td>1.058895</td>\n",
       "    </tr>\n",
       "    <tr>\n",
       "      <th>2012-01-04</th>\n",
       "      <td>1.492442</td>\n",
       "      <td>0.735142</td>\n",
       "      <td>0.656513</td>\n",
       "      <td>0.252356</td>\n",
       "    </tr>\n",
       "  </tbody>\n",
       "</table>\n",
       "</div>"
      ],
      "text/plain": [
       "                   A         B         C         D\n",
       "2012-01-02 -0.159399 -0.160975 -1.428154  0.057080\n",
       "2012-01-03 -0.084007 -0.130685  0.100007  1.058895\n",
       "2012-01-04  1.492442  0.735142  0.656513  0.252356"
      ]
     },
     "execution_count": 30,
     "metadata": {},
     "output_type": "execute_result"
    }
   ],
   "source": [
    "df[\"20120102\":\"20120104\"]"
   ]
  },
  {
   "cell_type": "code",
   "execution_count": 31,
   "id": "5d4cf6d5-3e4e-4e49-85e5-4e4e67966ba7",
   "metadata": {},
   "outputs": [
    {
     "data": {
      "text/plain": [
       "'\\nDataFrame.loc(): 행이나 열의 라벨을 이용하여 해당 부분집합에 접근\\nDataFrame.iloc(): 행이나 열의 정수 위치를 사용하여 해당 부분집합에 접근(정수 인덱싱 지원)\\nDataFrame.at()\\n'"
      ]
     },
     "execution_count": 31,
     "metadata": {},
     "output_type": "execute_result"
    }
   ],
   "source": [
    "# Selection by label\n",
    "'''\n",
    "DataFrame.loc(): 행이나 열의 라벨을 이용하여 해당 부분집합에 접근\n",
    "DataFrame.iloc(): 행이나 열의 정수 위치를 사용하여 해당 부분집합에 접근(정수 인덱싱 지원)\n",
    "DataFrame.at()\n",
    "'''"
   ]
  },
  {
   "cell_type": "code",
   "execution_count": 32,
   "id": "7d099f2c-a0b8-43ab-b42a-03d6767ca97d",
   "metadata": {},
   "outputs": [
    {
     "data": {
      "text/plain": [
       "A    0.757767\n",
       "B    0.790816\n",
       "C    0.175544\n",
       "D    1.399283\n",
       "Name: 2012-01-01 00:00:00, dtype: float64"
      ]
     },
     "execution_count": 32,
     "metadata": {},
     "output_type": "execute_result"
    }
   ],
   "source": [
    "'''DataFrame.loc()라벨과 일치하는 행 선택'''\n",
    "df.loc[dates[0]]\n",
    "## dates를 행의 인덱스로 지정함, 그리고 인덱스 0에 해당하는 행의 부분 집합"
   ]
  },
  {
   "cell_type": "code",
   "execution_count": 33,
   "id": "4d39c052-b8a5-49be-852e-bb7b7073d0cf",
   "metadata": {},
   "outputs": [
    {
     "data": {
      "text/html": [
       "<div>\n",
       "<style scoped>\n",
       "    .dataframe tbody tr th:only-of-type {\n",
       "        vertical-align: middle;\n",
       "    }\n",
       "\n",
       "    .dataframe tbody tr th {\n",
       "        vertical-align: top;\n",
       "    }\n",
       "\n",
       "    .dataframe thead th {\n",
       "        text-align: right;\n",
       "    }\n",
       "</style>\n",
       "<table border=\"1\" class=\"dataframe\">\n",
       "  <thead>\n",
       "    <tr style=\"text-align: right;\">\n",
       "      <th></th>\n",
       "      <th>A</th>\n",
       "      <th>B</th>\n",
       "    </tr>\n",
       "  </thead>\n",
       "  <tbody>\n",
       "    <tr>\n",
       "      <th>2012-01-01</th>\n",
       "      <td>0.757767</td>\n",
       "      <td>0.790816</td>\n",
       "    </tr>\n",
       "    <tr>\n",
       "      <th>2012-01-02</th>\n",
       "      <td>-0.159399</td>\n",
       "      <td>-0.160975</td>\n",
       "    </tr>\n",
       "    <tr>\n",
       "      <th>2012-01-03</th>\n",
       "      <td>-0.084007</td>\n",
       "      <td>-0.130685</td>\n",
       "    </tr>\n",
       "    <tr>\n",
       "      <th>2012-01-04</th>\n",
       "      <td>1.492442</td>\n",
       "      <td>0.735142</td>\n",
       "    </tr>\n",
       "    <tr>\n",
       "      <th>2012-01-05</th>\n",
       "      <td>1.098571</td>\n",
       "      <td>-0.361257</td>\n",
       "    </tr>\n",
       "    <tr>\n",
       "      <th>2012-01-06</th>\n",
       "      <td>-0.671209</td>\n",
       "      <td>0.166887</td>\n",
       "    </tr>\n",
       "  </tbody>\n",
       "</table>\n",
       "</div>"
      ],
      "text/plain": [
       "                   A         B\n",
       "2012-01-01  0.757767  0.790816\n",
       "2012-01-02 -0.159399 -0.160975\n",
       "2012-01-03 -0.084007 -0.130685\n",
       "2012-01-04  1.492442  0.735142\n",
       "2012-01-05  1.098571 -0.361257\n",
       "2012-01-06 -0.671209  0.166887"
      ]
     },
     "execution_count": 33,
     "metadata": {},
     "output_type": "execute_result"
    }
   ],
   "source": [
    "df.loc[ : ,[\"A\",\"B\"]]\n",
    "## 모든 행과 A열 B열만 포"
   ]
  },
  {
   "cell_type": "code",
   "execution_count": 34,
   "id": "2c802255-1c69-4596-a5b9-76ef299cf5c6",
   "metadata": {},
   "outputs": [
    {
     "data": {
      "text/html": [
       "<div>\n",
       "<style scoped>\n",
       "    .dataframe tbody tr th:only-of-type {\n",
       "        vertical-align: middle;\n",
       "    }\n",
       "\n",
       "    .dataframe tbody tr th {\n",
       "        vertical-align: top;\n",
       "    }\n",
       "\n",
       "    .dataframe thead th {\n",
       "        text-align: right;\n",
       "    }\n",
       "</style>\n",
       "<table border=\"1\" class=\"dataframe\">\n",
       "  <thead>\n",
       "    <tr style=\"text-align: right;\">\n",
       "      <th></th>\n",
       "      <th>A</th>\n",
       "      <th>B</th>\n",
       "    </tr>\n",
       "  </thead>\n",
       "  <tbody>\n",
       "    <tr>\n",
       "      <th>2012-01-02</th>\n",
       "      <td>-0.159399</td>\n",
       "      <td>-0.160975</td>\n",
       "    </tr>\n",
       "    <tr>\n",
       "      <th>2012-01-03</th>\n",
       "      <td>-0.084007</td>\n",
       "      <td>-0.130685</td>\n",
       "    </tr>\n",
       "    <tr>\n",
       "      <th>2012-01-04</th>\n",
       "      <td>1.492442</td>\n",
       "      <td>0.735142</td>\n",
       "    </tr>\n",
       "  </tbody>\n",
       "</table>\n",
       "</div>"
      ],
      "text/plain": [
       "                   A         B\n",
       "2012-01-02 -0.159399 -0.160975\n",
       "2012-01-03 -0.084007 -0.130685\n",
       "2012-01-04  1.492442  0.735142"
      ]
     },
     "execution_count": 34,
     "metadata": {},
     "output_type": "execute_result"
    }
   ],
   "source": [
    "df.loc[\"20120102\":\"20120104\",[\"A\",\"B\"]]"
   ]
  },
  {
   "cell_type": "code",
   "execution_count": 35,
   "id": "d8e9f33b-b4be-403a-8f8c-517b3cd8c138",
   "metadata": {},
   "outputs": [
    {
     "data": {
      "text/plain": [
       "0.7577669585866007"
      ]
     },
     "execution_count": 35,
     "metadata": {},
     "output_type": "execute_result"
    }
   ],
   "source": [
    "df.loc[dates[0],\"A\"]"
   ]
  },
  {
   "cell_type": "code",
   "execution_count": 36,
   "id": "16de5c97-3463-4d63-9870-c4c266d86d97",
   "metadata": {},
   "outputs": [
    {
     "data": {
      "text/plain": [
       "0.7577669585866007"
      ]
     },
     "execution_count": 36,
     "metadata": {},
     "output_type": "execute_result"
    }
   ],
   "source": [
    "df.at[dates[0],\"A\"]\n",
    "## DataFrame.at(): 행과 열의 라벨을 사용하여 단일 값에 접근 "
   ]
  },
  {
   "cell_type": "code",
   "execution_count": 37,
   "id": "fed174c8-358d-483f-925d-a1b621d12fdb",
   "metadata": {},
   "outputs": [
    {
     "data": {
      "text/plain": [
       "'\\nDataFrame.iloc() 및 DataFrame.iat()은 데이터프레임에서 \\n위치(정수 인덱스)를 기반으로 행과 열을 선택하는 메서드\\n'"
      ]
     },
     "execution_count": 37,
     "metadata": {},
     "output_type": "execute_result"
    }
   ],
   "source": [
    "# Selection by position\n",
    "'''\n",
    "DataFrame.iloc() 및 DataFrame.iat()은 데이터프레임에서 \n",
    "위치(정수 인덱스)를 기반으로 행과 열을 선택하는 메서드\n",
    "'''"
   ]
  },
  {
   "cell_type": "code",
   "execution_count": 38,
   "id": "58ce0f72-a499-4c30-a292-2ad825b3ebe9",
   "metadata": {},
   "outputs": [
    {
     "data": {
      "text/plain": [
       "A    1.492442\n",
       "B    0.735142\n",
       "C    0.656513\n",
       "D    0.252356\n",
       "Name: 2012-01-04 00:00:00, dtype: float64"
      ]
     },
     "execution_count": 38,
     "metadata": {},
     "output_type": "execute_result"
    }
   ],
   "source": [
    "df.iloc[3]  ##3행에 해당하는 부분집"
   ]
  },
  {
   "cell_type": "code",
   "execution_count": 39,
   "id": "33091007-76d4-4795-b04e-c8c9aa8660ad",
   "metadata": {},
   "outputs": [
    {
     "data": {
      "text/html": [
       "<div>\n",
       "<style scoped>\n",
       "    .dataframe tbody tr th:only-of-type {\n",
       "        vertical-align: middle;\n",
       "    }\n",
       "\n",
       "    .dataframe tbody tr th {\n",
       "        vertical-align: top;\n",
       "    }\n",
       "\n",
       "    .dataframe thead th {\n",
       "        text-align: right;\n",
       "    }\n",
       "</style>\n",
       "<table border=\"1\" class=\"dataframe\">\n",
       "  <thead>\n",
       "    <tr style=\"text-align: right;\">\n",
       "      <th></th>\n",
       "      <th>A</th>\n",
       "      <th>B</th>\n",
       "    </tr>\n",
       "  </thead>\n",
       "  <tbody>\n",
       "    <tr>\n",
       "      <th>2012-01-04</th>\n",
       "      <td>1.492442</td>\n",
       "      <td>0.735142</td>\n",
       "    </tr>\n",
       "    <tr>\n",
       "      <th>2012-01-05</th>\n",
       "      <td>1.098571</td>\n",
       "      <td>-0.361257</td>\n",
       "    </tr>\n",
       "  </tbody>\n",
       "</table>\n",
       "</div>"
      ],
      "text/plain": [
       "                   A         B\n",
       "2012-01-04  1.492442  0.735142\n",
       "2012-01-05  1.098571 -0.361257"
      ]
     },
     "execution_count": 39,
     "metadata": {},
     "output_type": "execute_result"
    }
   ],
   "source": [
    "df.iloc[3:5, 0:2]\n",
    "##  .iloc[ : , : ] --> [행, 열]"
   ]
  },
  {
   "cell_type": "code",
   "execution_count": 40,
   "id": "6065ccee-7284-4183-acc6-77d00f4e9f8a",
   "metadata": {},
   "outputs": [
    {
     "data": {
      "text/html": [
       "<div>\n",
       "<style scoped>\n",
       "    .dataframe tbody tr th:only-of-type {\n",
       "        vertical-align: middle;\n",
       "    }\n",
       "\n",
       "    .dataframe tbody tr th {\n",
       "        vertical-align: top;\n",
       "    }\n",
       "\n",
       "    .dataframe thead th {\n",
       "        text-align: right;\n",
       "    }\n",
       "</style>\n",
       "<table border=\"1\" class=\"dataframe\">\n",
       "  <thead>\n",
       "    <tr style=\"text-align: right;\">\n",
       "      <th></th>\n",
       "      <th>A</th>\n",
       "      <th>C</th>\n",
       "    </tr>\n",
       "  </thead>\n",
       "  <tbody>\n",
       "    <tr>\n",
       "      <th>2012-01-02</th>\n",
       "      <td>-0.159399</td>\n",
       "      <td>-1.428154</td>\n",
       "    </tr>\n",
       "    <tr>\n",
       "      <th>2012-01-03</th>\n",
       "      <td>-0.084007</td>\n",
       "      <td>0.100007</td>\n",
       "    </tr>\n",
       "    <tr>\n",
       "      <th>2012-01-05</th>\n",
       "      <td>1.098571</td>\n",
       "      <td>-0.071733</td>\n",
       "    </tr>\n",
       "  </tbody>\n",
       "</table>\n",
       "</div>"
      ],
      "text/plain": [
       "                   A         C\n",
       "2012-01-02 -0.159399 -1.428154\n",
       "2012-01-03 -0.084007  0.100007\n",
       "2012-01-05  1.098571 -0.071733"
      ]
     },
     "execution_count": 40,
     "metadata": {},
     "output_type": "execute_result"
    }
   ],
   "source": [
    "'''\n",
    "위치를 리스트로 표현\n",
    "'''\n",
    "df.iloc[[1,2,4],[0,2]]"
   ]
  },
  {
   "cell_type": "code",
   "execution_count": 41,
   "id": "9a286777-cd45-4056-8977-b65811a9134b",
   "metadata": {},
   "outputs": [
    {
     "data": {
      "text/html": [
       "<div>\n",
       "<style scoped>\n",
       "    .dataframe tbody tr th:only-of-type {\n",
       "        vertical-align: middle;\n",
       "    }\n",
       "\n",
       "    .dataframe tbody tr th {\n",
       "        vertical-align: top;\n",
       "    }\n",
       "\n",
       "    .dataframe thead th {\n",
       "        text-align: right;\n",
       "    }\n",
       "</style>\n",
       "<table border=\"1\" class=\"dataframe\">\n",
       "  <thead>\n",
       "    <tr style=\"text-align: right;\">\n",
       "      <th></th>\n",
       "      <th>A</th>\n",
       "      <th>B</th>\n",
       "      <th>C</th>\n",
       "      <th>D</th>\n",
       "    </tr>\n",
       "  </thead>\n",
       "  <tbody>\n",
       "    <tr>\n",
       "      <th>2012-01-02</th>\n",
       "      <td>-0.159399</td>\n",
       "      <td>-0.160975</td>\n",
       "      <td>-1.428154</td>\n",
       "      <td>0.057080</td>\n",
       "    </tr>\n",
       "    <tr>\n",
       "      <th>2012-01-03</th>\n",
       "      <td>-0.084007</td>\n",
       "      <td>-0.130685</td>\n",
       "      <td>0.100007</td>\n",
       "      <td>1.058895</td>\n",
       "    </tr>\n",
       "  </tbody>\n",
       "</table>\n",
       "</div>"
      ],
      "text/plain": [
       "                   A         B         C         D\n",
       "2012-01-02 -0.159399 -0.160975 -1.428154  0.057080\n",
       "2012-01-03 -0.084007 -0.130685  0.100007  1.058895"
      ]
     },
     "execution_count": 41,
     "metadata": {},
     "output_type": "execute_result"
    }
   ],
   "source": [
    "'''\n",
    "행을 명시적으로 슬라이싱\n",
    "'''\n",
    "df.iloc[1 : 3, : ]"
   ]
  },
  {
   "cell_type": "code",
   "execution_count": 42,
   "id": "ac405191-b1ad-471d-a03c-0a9465278217",
   "metadata": {},
   "outputs": [
    {
     "data": {
      "text/html": [
       "<div>\n",
       "<style scoped>\n",
       "    .dataframe tbody tr th:only-of-type {\n",
       "        vertical-align: middle;\n",
       "    }\n",
       "\n",
       "    .dataframe tbody tr th {\n",
       "        vertical-align: top;\n",
       "    }\n",
       "\n",
       "    .dataframe thead th {\n",
       "        text-align: right;\n",
       "    }\n",
       "</style>\n",
       "<table border=\"1\" class=\"dataframe\">\n",
       "  <thead>\n",
       "    <tr style=\"text-align: right;\">\n",
       "      <th></th>\n",
       "      <th>B</th>\n",
       "      <th>C</th>\n",
       "    </tr>\n",
       "  </thead>\n",
       "  <tbody>\n",
       "    <tr>\n",
       "      <th>2012-01-01</th>\n",
       "      <td>0.790816</td>\n",
       "      <td>0.175544</td>\n",
       "    </tr>\n",
       "    <tr>\n",
       "      <th>2012-01-02</th>\n",
       "      <td>-0.160975</td>\n",
       "      <td>-1.428154</td>\n",
       "    </tr>\n",
       "    <tr>\n",
       "      <th>2012-01-03</th>\n",
       "      <td>-0.130685</td>\n",
       "      <td>0.100007</td>\n",
       "    </tr>\n",
       "    <tr>\n",
       "      <th>2012-01-04</th>\n",
       "      <td>0.735142</td>\n",
       "      <td>0.656513</td>\n",
       "    </tr>\n",
       "    <tr>\n",
       "      <th>2012-01-05</th>\n",
       "      <td>-0.361257</td>\n",
       "      <td>-0.071733</td>\n",
       "    </tr>\n",
       "    <tr>\n",
       "      <th>2012-01-06</th>\n",
       "      <td>0.166887</td>\n",
       "      <td>-1.510392</td>\n",
       "    </tr>\n",
       "  </tbody>\n",
       "</table>\n",
       "</div>"
      ],
      "text/plain": [
       "                   B         C\n",
       "2012-01-01  0.790816  0.175544\n",
       "2012-01-02 -0.160975 -1.428154\n",
       "2012-01-03 -0.130685  0.100007\n",
       "2012-01-04  0.735142  0.656513\n",
       "2012-01-05 -0.361257 -0.071733\n",
       "2012-01-06  0.166887 -1.510392"
      ]
     },
     "execution_count": 42,
     "metadata": {},
     "output_type": "execute_result"
    }
   ],
   "source": [
    "'''\n",
    "열을 명시적으로 슬라이싱\n",
    "'''\n",
    "df.iloc[ : , 1:3]"
   ]
  },
  {
   "cell_type": "code",
   "execution_count": 43,
   "id": "4e5c62b8-54bc-427f-91f9-3adf2a2fd7da",
   "metadata": {},
   "outputs": [
    {
     "data": {
      "text/plain": [
       "-0.1609748454313833"
      ]
     },
     "execution_count": 43,
     "metadata": {},
     "output_type": "execute_result"
    }
   ],
   "source": [
    "'''\n",
    "값을 명확하게 얻기\n",
    "'''\n",
    "df.iloc[1,1]"
   ]
  },
  {
   "cell_type": "code",
   "execution_count": 44,
   "id": "c24de9d7-2781-49ff-a81b-5d3b213aaa3e",
   "metadata": {},
   "outputs": [
    {
     "data": {
      "text/plain": [
       "-0.1609748454313833"
      ]
     },
     "execution_count": 44,
     "metadata": {},
     "output_type": "execute_result"
    }
   ],
   "source": [
    "'''\n",
    "스칼라 값을 빠르게 반환(단일 값에 빠르게 접근)\n",
    "\n",
    "'''\n",
    "df.iat[1,1] ## 인덱스 위치기반으로 단일값 접근, \n",
    "## 행과 열의 라벨을 사용하는 DataFrame.at()와 다름"
   ]
  },
  {
   "cell_type": "code",
   "execution_count": 45,
   "id": "c7d2d3c9-501f-46ed-8778-e56acf6bf2f5",
   "metadata": {},
   "outputs": [],
   "source": [
    "# Boolean indexing"
   ]
  },
  {
   "cell_type": "code",
   "execution_count": 46,
   "id": "1ed4b566-8a57-47b5-a156-cc3d81c77e52",
   "metadata": {},
   "outputs": [
    {
     "data": {
      "text/html": [
       "<div>\n",
       "<style scoped>\n",
       "    .dataframe tbody tr th:only-of-type {\n",
       "        vertical-align: middle;\n",
       "    }\n",
       "\n",
       "    .dataframe tbody tr th {\n",
       "        vertical-align: top;\n",
       "    }\n",
       "\n",
       "    .dataframe thead th {\n",
       "        text-align: right;\n",
       "    }\n",
       "</style>\n",
       "<table border=\"1\" class=\"dataframe\">\n",
       "  <thead>\n",
       "    <tr style=\"text-align: right;\">\n",
       "      <th></th>\n",
       "      <th>A</th>\n",
       "      <th>B</th>\n",
       "      <th>C</th>\n",
       "      <th>D</th>\n",
       "    </tr>\n",
       "  </thead>\n",
       "  <tbody>\n",
       "    <tr>\n",
       "      <th>2012-01-01</th>\n",
       "      <td>0.757767</td>\n",
       "      <td>0.790816</td>\n",
       "      <td>0.175544</td>\n",
       "      <td>1.399283</td>\n",
       "    </tr>\n",
       "    <tr>\n",
       "      <th>2012-01-04</th>\n",
       "      <td>1.492442</td>\n",
       "      <td>0.735142</td>\n",
       "      <td>0.656513</td>\n",
       "      <td>0.252356</td>\n",
       "    </tr>\n",
       "    <tr>\n",
       "      <th>2012-01-05</th>\n",
       "      <td>1.098571</td>\n",
       "      <td>-0.361257</td>\n",
       "      <td>-0.071733</td>\n",
       "      <td>0.233654</td>\n",
       "    </tr>\n",
       "  </tbody>\n",
       "</table>\n",
       "</div>"
      ],
      "text/plain": [
       "                   A         B         C         D\n",
       "2012-01-01  0.757767  0.790816  0.175544  1.399283\n",
       "2012-01-04  1.492442  0.735142  0.656513  0.252356\n",
       "2012-01-05  1.098571 -0.361257 -0.071733  0.233654"
      ]
     },
     "execution_count": 46,
     "metadata": {},
     "output_type": "execute_result"
    }
   ],
   "source": [
    "'''\n",
    "df.A가 0보다 큰 행을 선택해라\n",
    "## df.A : df의 열 중 A라는 이름을 가진 열을 선택함\n",
    "'''\n",
    "df[df.A >0]\n",
    "## 열 이름이 공백이나 특수문자를 포함하지 않을 떄만 사용할 수 있음"
   ]
  },
  {
   "cell_type": "code",
   "execution_count": 47,
   "id": "b301294b-cdd1-42e4-a668-b053c20db90a",
   "metadata": {},
   "outputs": [
    {
     "data": {
      "text/html": [
       "<div>\n",
       "<style scoped>\n",
       "    .dataframe tbody tr th:only-of-type {\n",
       "        vertical-align: middle;\n",
       "    }\n",
       "\n",
       "    .dataframe tbody tr th {\n",
       "        vertical-align: top;\n",
       "    }\n",
       "\n",
       "    .dataframe thead th {\n",
       "        text-align: right;\n",
       "    }\n",
       "</style>\n",
       "<table border=\"1\" class=\"dataframe\">\n",
       "  <thead>\n",
       "    <tr style=\"text-align: right;\">\n",
       "      <th></th>\n",
       "      <th>A</th>\n",
       "      <th>B</th>\n",
       "      <th>C</th>\n",
       "      <th>D</th>\n",
       "    </tr>\n",
       "  </thead>\n",
       "  <tbody>\n",
       "    <tr>\n",
       "      <th>2012-01-01</th>\n",
       "      <td>0.757767</td>\n",
       "      <td>0.790816</td>\n",
       "      <td>0.175544</td>\n",
       "      <td>1.399283</td>\n",
       "    </tr>\n",
       "    <tr>\n",
       "      <th>2012-01-04</th>\n",
       "      <td>1.492442</td>\n",
       "      <td>0.735142</td>\n",
       "      <td>0.656513</td>\n",
       "      <td>0.252356</td>\n",
       "    </tr>\n",
       "    <tr>\n",
       "      <th>2012-01-05</th>\n",
       "      <td>1.098571</td>\n",
       "      <td>-0.361257</td>\n",
       "      <td>-0.071733</td>\n",
       "      <td>0.233654</td>\n",
       "    </tr>\n",
       "  </tbody>\n",
       "</table>\n",
       "</div>"
      ],
      "text/plain": [
       "                   A         B         C         D\n",
       "2012-01-01  0.757767  0.790816  0.175544  1.399283\n",
       "2012-01-04  1.492442  0.735142  0.656513  0.252356\n",
       "2012-01-05  1.098571 -0.361257 -0.071733  0.233654"
      ]
     },
     "execution_count": 47,
     "metadata": {},
     "output_type": "execute_result"
    }
   ],
   "source": [
    "df[df[\"A\"]>0]\n",
    "## 열 이름에 공백이나 특수 문자가 포함되어 있을 때 사용할 수 있음"
   ]
  },
  {
   "cell_type": "code",
   "execution_count": 48,
   "id": "77413e1a-1270-47ea-a847-bb43266fb157",
   "metadata": {},
   "outputs": [
    {
     "data": {
      "text/html": [
       "<div>\n",
       "<style scoped>\n",
       "    .dataframe tbody tr th:only-of-type {\n",
       "        vertical-align: middle;\n",
       "    }\n",
       "\n",
       "    .dataframe tbody tr th {\n",
       "        vertical-align: top;\n",
       "    }\n",
       "\n",
       "    .dataframe thead th {\n",
       "        text-align: right;\n",
       "    }\n",
       "</style>\n",
       "<table border=\"1\" class=\"dataframe\">\n",
       "  <thead>\n",
       "    <tr style=\"text-align: right;\">\n",
       "      <th></th>\n",
       "      <th>A</th>\n",
       "      <th>B</th>\n",
       "      <th>C</th>\n",
       "      <th>D</th>\n",
       "    </tr>\n",
       "  </thead>\n",
       "  <tbody>\n",
       "    <tr>\n",
       "      <th>2012-01-01</th>\n",
       "      <td>0.757767</td>\n",
       "      <td>0.790816</td>\n",
       "      <td>0.175544</td>\n",
       "      <td>1.399283</td>\n",
       "    </tr>\n",
       "    <tr>\n",
       "      <th>2012-01-02</th>\n",
       "      <td>NaN</td>\n",
       "      <td>NaN</td>\n",
       "      <td>NaN</td>\n",
       "      <td>0.057080</td>\n",
       "    </tr>\n",
       "    <tr>\n",
       "      <th>2012-01-03</th>\n",
       "      <td>NaN</td>\n",
       "      <td>NaN</td>\n",
       "      <td>0.100007</td>\n",
       "      <td>1.058895</td>\n",
       "    </tr>\n",
       "    <tr>\n",
       "      <th>2012-01-04</th>\n",
       "      <td>1.492442</td>\n",
       "      <td>0.735142</td>\n",
       "      <td>0.656513</td>\n",
       "      <td>0.252356</td>\n",
       "    </tr>\n",
       "    <tr>\n",
       "      <th>2012-01-05</th>\n",
       "      <td>1.098571</td>\n",
       "      <td>NaN</td>\n",
       "      <td>NaN</td>\n",
       "      <td>0.233654</td>\n",
       "    </tr>\n",
       "    <tr>\n",
       "      <th>2012-01-06</th>\n",
       "      <td>NaN</td>\n",
       "      <td>0.166887</td>\n",
       "      <td>NaN</td>\n",
       "      <td>NaN</td>\n",
       "    </tr>\n",
       "  </tbody>\n",
       "</table>\n",
       "</div>"
      ],
      "text/plain": [
       "                   A         B         C         D\n",
       "2012-01-01  0.757767  0.790816  0.175544  1.399283\n",
       "2012-01-02       NaN       NaN       NaN  0.057080\n",
       "2012-01-03       NaN       NaN  0.100007  1.058895\n",
       "2012-01-04  1.492442  0.735142  0.656513  0.252356\n",
       "2012-01-05  1.098571       NaN       NaN  0.233654\n",
       "2012-01-06       NaN  0.166887       NaN       NaN"
      ]
     },
     "execution_count": 48,
     "metadata": {},
     "output_type": "execute_result"
    }
   ],
   "source": [
    "'''\n",
    "df에서 불리언 조건을 충족하는 값을 선택하는 것\n",
    "해당 조건이 참인 행만 선택하여 새로운 df를 생성한다. \n",
    "'''\n",
    "df[df>0]\n",
    "## 충족하지 못하는 행은 Nan값으로 출력된다."
   ]
  },
  {
   "cell_type": "code",
   "execution_count": 49,
   "id": "257f9050-92cf-4030-9124-8cfd029e3115",
   "metadata": {},
   "outputs": [
    {
     "data": {
      "text/plain": [
       "'\\n새로운 열을 추가한 df 생성\\n- 원본데이터 copy\\n'"
      ]
     },
     "execution_count": 49,
     "metadata": {},
     "output_type": "execute_result"
    }
   ],
   "source": [
    "'''\n",
    "새로운 열을 추가한 df 생성\n",
    "- 원본데이터 copy\n",
    "'''"
   ]
  },
  {
   "cell_type": "code",
   "execution_count": 50,
   "id": "4d24eb6b-70b8-47ca-9079-d4fa12a25e8b",
   "metadata": {},
   "outputs": [],
   "source": [
    "df2 = df.copy()"
   ]
  },
  {
   "cell_type": "code",
   "execution_count": 51,
   "id": "6ebb723e-04b5-4306-8953-d0e74b6c505c",
   "metadata": {},
   "outputs": [
    {
     "data": {
      "text/html": [
       "<div>\n",
       "<style scoped>\n",
       "    .dataframe tbody tr th:only-of-type {\n",
       "        vertical-align: middle;\n",
       "    }\n",
       "\n",
       "    .dataframe tbody tr th {\n",
       "        vertical-align: top;\n",
       "    }\n",
       "\n",
       "    .dataframe thead th {\n",
       "        text-align: right;\n",
       "    }\n",
       "</style>\n",
       "<table border=\"1\" class=\"dataframe\">\n",
       "  <thead>\n",
       "    <tr style=\"text-align: right;\">\n",
       "      <th></th>\n",
       "      <th>A</th>\n",
       "      <th>B</th>\n",
       "      <th>C</th>\n",
       "      <th>D</th>\n",
       "      <th>E</th>\n",
       "    </tr>\n",
       "  </thead>\n",
       "  <tbody>\n",
       "    <tr>\n",
       "      <th>2012-01-01</th>\n",
       "      <td>0.757767</td>\n",
       "      <td>0.790816</td>\n",
       "      <td>0.175544</td>\n",
       "      <td>1.399283</td>\n",
       "      <td>one</td>\n",
       "    </tr>\n",
       "    <tr>\n",
       "      <th>2012-01-02</th>\n",
       "      <td>-0.159399</td>\n",
       "      <td>-0.160975</td>\n",
       "      <td>-1.428154</td>\n",
       "      <td>0.057080</td>\n",
       "      <td>one</td>\n",
       "    </tr>\n",
       "    <tr>\n",
       "      <th>2012-01-03</th>\n",
       "      <td>-0.084007</td>\n",
       "      <td>-0.130685</td>\n",
       "      <td>0.100007</td>\n",
       "      <td>1.058895</td>\n",
       "      <td>two</td>\n",
       "    </tr>\n",
       "    <tr>\n",
       "      <th>2012-01-04</th>\n",
       "      <td>1.492442</td>\n",
       "      <td>0.735142</td>\n",
       "      <td>0.656513</td>\n",
       "      <td>0.252356</td>\n",
       "      <td>three</td>\n",
       "    </tr>\n",
       "    <tr>\n",
       "      <th>2012-01-05</th>\n",
       "      <td>1.098571</td>\n",
       "      <td>-0.361257</td>\n",
       "      <td>-0.071733</td>\n",
       "      <td>0.233654</td>\n",
       "      <td>four</td>\n",
       "    </tr>\n",
       "    <tr>\n",
       "      <th>2012-01-06</th>\n",
       "      <td>-0.671209</td>\n",
       "      <td>0.166887</td>\n",
       "      <td>-1.510392</td>\n",
       "      <td>-0.761975</td>\n",
       "      <td>three</td>\n",
       "    </tr>\n",
       "  </tbody>\n",
       "</table>\n",
       "</div>"
      ],
      "text/plain": [
       "                   A         B         C         D      E\n",
       "2012-01-01  0.757767  0.790816  0.175544  1.399283    one\n",
       "2012-01-02 -0.159399 -0.160975 -1.428154  0.057080    one\n",
       "2012-01-03 -0.084007 -0.130685  0.100007  1.058895    two\n",
       "2012-01-04  1.492442  0.735142  0.656513  0.252356  three\n",
       "2012-01-05  1.098571 -0.361257 -0.071733  0.233654   four\n",
       "2012-01-06 -0.671209  0.166887 -1.510392 -0.761975  three"
      ]
     },
     "execution_count": 51,
     "metadata": {},
     "output_type": "execute_result"
    }
   ],
   "source": [
    "df2[\"E\"] = [\"one\",\"one\",\"two\",\"three\",\"four\",\"three\"]\n",
    "df2"
   ]
  },
  {
   "cell_type": "code",
   "execution_count": 52,
   "id": "d51163af-ab91-45ea-a901-51a2151b3ed6",
   "metadata": {},
   "outputs": [
    {
     "data": {
      "text/html": [
       "<div>\n",
       "<style scoped>\n",
       "    .dataframe tbody tr th:only-of-type {\n",
       "        vertical-align: middle;\n",
       "    }\n",
       "\n",
       "    .dataframe tbody tr th {\n",
       "        vertical-align: top;\n",
       "    }\n",
       "\n",
       "    .dataframe thead th {\n",
       "        text-align: right;\n",
       "    }\n",
       "</style>\n",
       "<table border=\"1\" class=\"dataframe\">\n",
       "  <thead>\n",
       "    <tr style=\"text-align: right;\">\n",
       "      <th></th>\n",
       "      <th>A</th>\n",
       "      <th>B</th>\n",
       "      <th>C</th>\n",
       "      <th>D</th>\n",
       "      <th>E</th>\n",
       "    </tr>\n",
       "  </thead>\n",
       "  <tbody>\n",
       "    <tr>\n",
       "      <th>2012-01-03</th>\n",
       "      <td>-0.084007</td>\n",
       "      <td>-0.130685</td>\n",
       "      <td>0.100007</td>\n",
       "      <td>1.058895</td>\n",
       "      <td>two</td>\n",
       "    </tr>\n",
       "    <tr>\n",
       "      <th>2012-01-05</th>\n",
       "      <td>1.098571</td>\n",
       "      <td>-0.361257</td>\n",
       "      <td>-0.071733</td>\n",
       "      <td>0.233654</td>\n",
       "      <td>four</td>\n",
       "    </tr>\n",
       "  </tbody>\n",
       "</table>\n",
       "</div>"
      ],
      "text/plain": [
       "                   A         B         C         D     E\n",
       "2012-01-03 -0.084007 -0.130685  0.100007  1.058895   two\n",
       "2012-01-05  1.098571 -0.361257 -0.071733  0.233654  four"
      ]
     },
     "execution_count": 52,
     "metadata": {},
     "output_type": "execute_result"
    }
   ],
   "source": [
    "'''\n",
    "필터링을 위해 isin()방법을 사용\n",
    "'''\n",
    "df2[df2[\"E\"].isin([\"two\",\"four\"])]\n",
    "## 열 E의 값이 \"two\",\"four\"인 행을 선택하는 것"
   ]
  },
  {
   "cell_type": "code",
   "execution_count": 53,
   "id": "7746dc57-8981-477c-9e73-381181519965",
   "metadata": {},
   "outputs": [],
   "source": [
    "# setting"
   ]
  },
  {
   "cell_type": "code",
   "execution_count": 54,
   "id": "2addbb6a-8f6a-4871-8b97-9e9b93fddfd9",
   "metadata": {},
   "outputs": [
    {
     "data": {
      "text/plain": [
       "2012-01-02    1\n",
       "2012-01-03    2\n",
       "2012-01-04    3\n",
       "2012-01-05    4\n",
       "2012-01-06    5\n",
       "2012-01-07    6\n",
       "Freq: D, dtype: int64"
      ]
     },
     "execution_count": 54,
     "metadata": {},
     "output_type": "execute_result"
    }
   ],
   "source": [
    "'''\n",
    "새로운 열을 설정할 때 데이터가 자동으로 인덱스에 따라 정렬\n",
    "'''\n",
    "s1 = pd.Series([1,2,3,4,5,6], index = pd.date_range(\"20120102\",periods = 6)) ## 일차원 배열\n",
    "## date_range(): 판다스에서 제공하는 함수, 지정된 기간에 대한 날짜 인덱스 생성\n",
    "s1\n",
    "## index가 연속된 6개의 날짜로 표시됨"
   ]
  },
  {
   "cell_type": "code",
   "execution_count": 55,
   "id": "7673f183-1d3e-402a-8c03-d140da1a5973",
   "metadata": {},
   "outputs": [
    {
     "data": {
      "text/html": [
       "<div>\n",
       "<style scoped>\n",
       "    .dataframe tbody tr th:only-of-type {\n",
       "        vertical-align: middle;\n",
       "    }\n",
       "\n",
       "    .dataframe tbody tr th {\n",
       "        vertical-align: top;\n",
       "    }\n",
       "\n",
       "    .dataframe thead th {\n",
       "        text-align: right;\n",
       "    }\n",
       "</style>\n",
       "<table border=\"1\" class=\"dataframe\">\n",
       "  <thead>\n",
       "    <tr style=\"text-align: right;\">\n",
       "      <th></th>\n",
       "      <th>A</th>\n",
       "      <th>B</th>\n",
       "      <th>C</th>\n",
       "      <th>D</th>\n",
       "      <th>F</th>\n",
       "    </tr>\n",
       "  </thead>\n",
       "  <tbody>\n",
       "    <tr>\n",
       "      <th>2012-01-01</th>\n",
       "      <td>0.757767</td>\n",
       "      <td>0.790816</td>\n",
       "      <td>0.175544</td>\n",
       "      <td>1.399283</td>\n",
       "      <td>NaN</td>\n",
       "    </tr>\n",
       "    <tr>\n",
       "      <th>2012-01-02</th>\n",
       "      <td>-0.159399</td>\n",
       "      <td>-0.160975</td>\n",
       "      <td>-1.428154</td>\n",
       "      <td>0.057080</td>\n",
       "      <td>1.0</td>\n",
       "    </tr>\n",
       "    <tr>\n",
       "      <th>2012-01-03</th>\n",
       "      <td>-0.084007</td>\n",
       "      <td>-0.130685</td>\n",
       "      <td>0.100007</td>\n",
       "      <td>1.058895</td>\n",
       "      <td>2.0</td>\n",
       "    </tr>\n",
       "    <tr>\n",
       "      <th>2012-01-04</th>\n",
       "      <td>1.492442</td>\n",
       "      <td>0.735142</td>\n",
       "      <td>0.656513</td>\n",
       "      <td>0.252356</td>\n",
       "      <td>3.0</td>\n",
       "    </tr>\n",
       "    <tr>\n",
       "      <th>2012-01-05</th>\n",
       "      <td>1.098571</td>\n",
       "      <td>-0.361257</td>\n",
       "      <td>-0.071733</td>\n",
       "      <td>0.233654</td>\n",
       "      <td>4.0</td>\n",
       "    </tr>\n",
       "    <tr>\n",
       "      <th>2012-01-06</th>\n",
       "      <td>-0.671209</td>\n",
       "      <td>0.166887</td>\n",
       "      <td>-1.510392</td>\n",
       "      <td>-0.761975</td>\n",
       "      <td>5.0</td>\n",
       "    </tr>\n",
       "  </tbody>\n",
       "</table>\n",
       "</div>"
      ],
      "text/plain": [
       "                   A         B         C         D    F\n",
       "2012-01-01  0.757767  0.790816  0.175544  1.399283  NaN\n",
       "2012-01-02 -0.159399 -0.160975 -1.428154  0.057080  1.0\n",
       "2012-01-03 -0.084007 -0.130685  0.100007  1.058895  2.0\n",
       "2012-01-04  1.492442  0.735142  0.656513  0.252356  3.0\n",
       "2012-01-05  1.098571 -0.361257 -0.071733  0.233654  4.0\n",
       "2012-01-06 -0.671209  0.166887 -1.510392 -0.761975  5.0"
      ]
     },
     "execution_count": 55,
     "metadata": {},
     "output_type": "execute_result"
    }
   ],
   "source": [
    "df[\"F\"] = s1\n",
    "df"
   ]
  },
  {
   "cell_type": "code",
   "execution_count": 56,
   "id": "e887d827-f717-4274-98aa-2a07d4e9b6a1",
   "metadata": {},
   "outputs": [
    {
     "data": {
      "text/html": [
       "<div>\n",
       "<style scoped>\n",
       "    .dataframe tbody tr th:only-of-type {\n",
       "        vertical-align: middle;\n",
       "    }\n",
       "\n",
       "    .dataframe tbody tr th {\n",
       "        vertical-align: top;\n",
       "    }\n",
       "\n",
       "    .dataframe thead th {\n",
       "        text-align: right;\n",
       "    }\n",
       "</style>\n",
       "<table border=\"1\" class=\"dataframe\">\n",
       "  <thead>\n",
       "    <tr style=\"text-align: right;\">\n",
       "      <th></th>\n",
       "      <th>A</th>\n",
       "      <th>B</th>\n",
       "      <th>C</th>\n",
       "      <th>D</th>\n",
       "      <th>F</th>\n",
       "    </tr>\n",
       "  </thead>\n",
       "  <tbody>\n",
       "    <tr>\n",
       "      <th>2012-01-01</th>\n",
       "      <td>0.000000</td>\n",
       "      <td>0.790816</td>\n",
       "      <td>0.175544</td>\n",
       "      <td>1.399283</td>\n",
       "      <td>NaN</td>\n",
       "    </tr>\n",
       "    <tr>\n",
       "      <th>2012-01-02</th>\n",
       "      <td>-0.159399</td>\n",
       "      <td>-0.160975</td>\n",
       "      <td>-1.428154</td>\n",
       "      <td>0.057080</td>\n",
       "      <td>1.0</td>\n",
       "    </tr>\n",
       "    <tr>\n",
       "      <th>2012-01-03</th>\n",
       "      <td>-0.084007</td>\n",
       "      <td>-0.130685</td>\n",
       "      <td>0.100007</td>\n",
       "      <td>1.058895</td>\n",
       "      <td>2.0</td>\n",
       "    </tr>\n",
       "    <tr>\n",
       "      <th>2012-01-04</th>\n",
       "      <td>1.492442</td>\n",
       "      <td>0.735142</td>\n",
       "      <td>0.656513</td>\n",
       "      <td>0.252356</td>\n",
       "      <td>3.0</td>\n",
       "    </tr>\n",
       "    <tr>\n",
       "      <th>2012-01-05</th>\n",
       "      <td>1.098571</td>\n",
       "      <td>-0.361257</td>\n",
       "      <td>-0.071733</td>\n",
       "      <td>0.233654</td>\n",
       "      <td>4.0</td>\n",
       "    </tr>\n",
       "    <tr>\n",
       "      <th>2012-01-06</th>\n",
       "      <td>-0.671209</td>\n",
       "      <td>0.166887</td>\n",
       "      <td>-1.510392</td>\n",
       "      <td>-0.761975</td>\n",
       "      <td>5.0</td>\n",
       "    </tr>\n",
       "  </tbody>\n",
       "</table>\n",
       "</div>"
      ],
      "text/plain": [
       "                   A         B         C         D    F\n",
       "2012-01-01  0.000000  0.790816  0.175544  1.399283  NaN\n",
       "2012-01-02 -0.159399 -0.160975 -1.428154  0.057080  1.0\n",
       "2012-01-03 -0.084007 -0.130685  0.100007  1.058895  2.0\n",
       "2012-01-04  1.492442  0.735142  0.656513  0.252356  3.0\n",
       "2012-01-05  1.098571 -0.361257 -0.071733  0.233654  4.0\n",
       "2012-01-06 -0.671209  0.166887 -1.510392 -0.761975  5.0"
      ]
     },
     "execution_count": 56,
     "metadata": {},
     "output_type": "execute_result"
    }
   ],
   "source": [
    "'''\n",
    "라벨에 의해 값을 설정\n",
    "'''\n",
    "df.at[dates[0],\"A\"] = 0\n",
    "df\n",
    "## DataFrame.at() 행과 열의 라벨을 사용\n",
    "## df의 특정 위치에 값을 설정할 수 있고, 해당 위치에 이미 값이 있으면 그 값을 덮음\n",
    "## s1의 값에 의해 새로운 열을 생성했는데 df.iat[0,4]값이 Nan으로 출력됨\n",
    "## s1의 인덱스가 20120102부터 연속 6개로 들어갸져 있기 때문"
   ]
  },
  {
   "cell_type": "code",
   "execution_count": 57,
   "id": "701f98b8-fdd3-44c4-92db-f39e19a82ea4",
   "metadata": {},
   "outputs": [
    {
     "data": {
      "text/html": [
       "<div>\n",
       "<style scoped>\n",
       "    .dataframe tbody tr th:only-of-type {\n",
       "        vertical-align: middle;\n",
       "    }\n",
       "\n",
       "    .dataframe tbody tr th {\n",
       "        vertical-align: top;\n",
       "    }\n",
       "\n",
       "    .dataframe thead th {\n",
       "        text-align: right;\n",
       "    }\n",
       "</style>\n",
       "<table border=\"1\" class=\"dataframe\">\n",
       "  <thead>\n",
       "    <tr style=\"text-align: right;\">\n",
       "      <th></th>\n",
       "      <th>A</th>\n",
       "      <th>B</th>\n",
       "      <th>C</th>\n",
       "      <th>D</th>\n",
       "      <th>F</th>\n",
       "    </tr>\n",
       "  </thead>\n",
       "  <tbody>\n",
       "    <tr>\n",
       "      <th>2012-01-01</th>\n",
       "      <td>0.000000</td>\n",
       "      <td>0.000000</td>\n",
       "      <td>0.175544</td>\n",
       "      <td>1.399283</td>\n",
       "      <td>NaN</td>\n",
       "    </tr>\n",
       "    <tr>\n",
       "      <th>2012-01-02</th>\n",
       "      <td>-0.159399</td>\n",
       "      <td>-0.160975</td>\n",
       "      <td>-1.428154</td>\n",
       "      <td>0.057080</td>\n",
       "      <td>1.0</td>\n",
       "    </tr>\n",
       "    <tr>\n",
       "      <th>2012-01-03</th>\n",
       "      <td>-0.084007</td>\n",
       "      <td>-0.130685</td>\n",
       "      <td>0.100007</td>\n",
       "      <td>1.058895</td>\n",
       "      <td>2.0</td>\n",
       "    </tr>\n",
       "    <tr>\n",
       "      <th>2012-01-04</th>\n",
       "      <td>1.492442</td>\n",
       "      <td>0.735142</td>\n",
       "      <td>0.656513</td>\n",
       "      <td>0.252356</td>\n",
       "      <td>3.0</td>\n",
       "    </tr>\n",
       "    <tr>\n",
       "      <th>2012-01-05</th>\n",
       "      <td>1.098571</td>\n",
       "      <td>-0.361257</td>\n",
       "      <td>-0.071733</td>\n",
       "      <td>0.233654</td>\n",
       "      <td>4.0</td>\n",
       "    </tr>\n",
       "    <tr>\n",
       "      <th>2012-01-06</th>\n",
       "      <td>-0.671209</td>\n",
       "      <td>0.166887</td>\n",
       "      <td>-1.510392</td>\n",
       "      <td>-0.761975</td>\n",
       "      <td>5.0</td>\n",
       "    </tr>\n",
       "  </tbody>\n",
       "</table>\n",
       "</div>"
      ],
      "text/plain": [
       "                   A         B         C         D    F\n",
       "2012-01-01  0.000000  0.000000  0.175544  1.399283  NaN\n",
       "2012-01-02 -0.159399 -0.160975 -1.428154  0.057080  1.0\n",
       "2012-01-03 -0.084007 -0.130685  0.100007  1.058895  2.0\n",
       "2012-01-04  1.492442  0.735142  0.656513  0.252356  3.0\n",
       "2012-01-05  1.098571 -0.361257 -0.071733  0.233654  4.0\n",
       "2012-01-06 -0.671209  0.166887 -1.510392 -0.761975  5.0"
      ]
     },
     "execution_count": 57,
     "metadata": {},
     "output_type": "execute_result"
    }
   ],
   "source": [
    "'''\n",
    "위치에 의해 값 설정(인덱스 이용)\n",
    "'''\n",
    "df.iat[0,1] = 0\n",
    "df"
   ]
  },
  {
   "cell_type": "code",
   "execution_count": 58,
   "id": "1c2f56b7-09b8-4182-aa55-7d5ef8afaa98",
   "metadata": {},
   "outputs": [
    {
     "data": {
      "text/html": [
       "<div>\n",
       "<style scoped>\n",
       "    .dataframe tbody tr th:only-of-type {\n",
       "        vertical-align: middle;\n",
       "    }\n",
       "\n",
       "    .dataframe tbody tr th {\n",
       "        vertical-align: top;\n",
       "    }\n",
       "\n",
       "    .dataframe thead th {\n",
       "        text-align: right;\n",
       "    }\n",
       "</style>\n",
       "<table border=\"1\" class=\"dataframe\">\n",
       "  <thead>\n",
       "    <tr style=\"text-align: right;\">\n",
       "      <th></th>\n",
       "      <th>A</th>\n",
       "      <th>B</th>\n",
       "      <th>C</th>\n",
       "      <th>D</th>\n",
       "      <th>F</th>\n",
       "    </tr>\n",
       "  </thead>\n",
       "  <tbody>\n",
       "    <tr>\n",
       "      <th>2012-01-01</th>\n",
       "      <td>0.000000</td>\n",
       "      <td>0.000000</td>\n",
       "      <td>0.175544</td>\n",
       "      <td>5.0</td>\n",
       "      <td>NaN</td>\n",
       "    </tr>\n",
       "    <tr>\n",
       "      <th>2012-01-02</th>\n",
       "      <td>-0.159399</td>\n",
       "      <td>-0.160975</td>\n",
       "      <td>-1.428154</td>\n",
       "      <td>5.0</td>\n",
       "      <td>1.0</td>\n",
       "    </tr>\n",
       "    <tr>\n",
       "      <th>2012-01-03</th>\n",
       "      <td>-0.084007</td>\n",
       "      <td>-0.130685</td>\n",
       "      <td>0.100007</td>\n",
       "      <td>5.0</td>\n",
       "      <td>2.0</td>\n",
       "    </tr>\n",
       "    <tr>\n",
       "      <th>2012-01-04</th>\n",
       "      <td>1.492442</td>\n",
       "      <td>0.735142</td>\n",
       "      <td>0.656513</td>\n",
       "      <td>5.0</td>\n",
       "      <td>3.0</td>\n",
       "    </tr>\n",
       "    <tr>\n",
       "      <th>2012-01-05</th>\n",
       "      <td>1.098571</td>\n",
       "      <td>-0.361257</td>\n",
       "      <td>-0.071733</td>\n",
       "      <td>5.0</td>\n",
       "      <td>4.0</td>\n",
       "    </tr>\n",
       "    <tr>\n",
       "      <th>2012-01-06</th>\n",
       "      <td>-0.671209</td>\n",
       "      <td>0.166887</td>\n",
       "      <td>-1.510392</td>\n",
       "      <td>5.0</td>\n",
       "      <td>5.0</td>\n",
       "    </tr>\n",
       "  </tbody>\n",
       "</table>\n",
       "</div>"
      ],
      "text/plain": [
       "                   A         B         C    D    F\n",
       "2012-01-01  0.000000  0.000000  0.175544  5.0  NaN\n",
       "2012-01-02 -0.159399 -0.160975 -1.428154  5.0  1.0\n",
       "2012-01-03 -0.084007 -0.130685  0.100007  5.0  2.0\n",
       "2012-01-04  1.492442  0.735142  0.656513  5.0  3.0\n",
       "2012-01-05  1.098571 -0.361257 -0.071733  5.0  4.0\n",
       "2012-01-06 -0.671209  0.166887 -1.510392  5.0  5.0"
      ]
     },
     "execution_count": 58,
     "metadata": {},
     "output_type": "execute_result"
    }
   ],
   "source": [
    "'''\n",
    "NumPy 배열을 사용하여 값을 할당하여 설정하는 것을 의미 \n",
    "'''\n",
    "df.loc[:,\"D\"] = np.array([5]*len(df))\n",
    "df\n",
    "## len(df)은 df의 행의 수를 반환"
   ]
  },
  {
   "cell_type": "code",
   "execution_count": 59,
   "id": "b3a36ddd-4b12-487c-9740-418e7fc54d24",
   "metadata": {},
   "outputs": [
    {
     "name": "stdout",
     "output_type": "stream",
     "text": [
      "    A   B\n",
      "0   6  10\n",
      "1   7  20\n",
      "2   8  30\n",
      "3   9  40\n",
      "4  10  50\n"
     ]
    }
   ],
   "source": [
    "'''\n",
    "ex) NumPy 배열을 사용하여 값을 할당\n",
    "'''\n",
    "# 예시 DataFrame 생성\n",
    "ex_df = pd.DataFrame({'A': [1, 2, 3, 4, 5],\n",
    "                   'B': [10, 20, 30, 40, 50]})\n",
    "\n",
    "# NumPy 배열 생성\n",
    "new_values = np.array([6, 7, 8, 9, 10])\n",
    "\n",
    "# 'A' 열에 NumPy 배열을 할당하여 값 설정\n",
    "ex_df['A'] = new_values\n",
    "\n",
    "print(ex_df)\n",
    "\n",
    "## 해당 열에 새로운 값 설정"
   ]
  },
  {
   "cell_type": "code",
   "execution_count": 60,
   "id": "560835aa-e6af-4cfe-9e5f-9dc9973be0a5",
   "metadata": {},
   "outputs": [
    {
     "data": {
      "text/html": [
       "<div>\n",
       "<style scoped>\n",
       "    .dataframe tbody tr th:only-of-type {\n",
       "        vertical-align: middle;\n",
       "    }\n",
       "\n",
       "    .dataframe tbody tr th {\n",
       "        vertical-align: top;\n",
       "    }\n",
       "\n",
       "    .dataframe thead th {\n",
       "        text-align: right;\n",
       "    }\n",
       "</style>\n",
       "<table border=\"1\" class=\"dataframe\">\n",
       "  <thead>\n",
       "    <tr style=\"text-align: right;\">\n",
       "      <th></th>\n",
       "      <th>A</th>\n",
       "      <th>B</th>\n",
       "      <th>C</th>\n",
       "      <th>D</th>\n",
       "      <th>F</th>\n",
       "    </tr>\n",
       "  </thead>\n",
       "  <tbody>\n",
       "    <tr>\n",
       "      <th>2012-01-01</th>\n",
       "      <td>0.000000</td>\n",
       "      <td>0.000000</td>\n",
       "      <td>-0.175544</td>\n",
       "      <td>-5.0</td>\n",
       "      <td>NaN</td>\n",
       "    </tr>\n",
       "    <tr>\n",
       "      <th>2012-01-02</th>\n",
       "      <td>-0.159399</td>\n",
       "      <td>-0.160975</td>\n",
       "      <td>-1.428154</td>\n",
       "      <td>-5.0</td>\n",
       "      <td>-1.0</td>\n",
       "    </tr>\n",
       "    <tr>\n",
       "      <th>2012-01-03</th>\n",
       "      <td>-0.084007</td>\n",
       "      <td>-0.130685</td>\n",
       "      <td>-0.100007</td>\n",
       "      <td>-5.0</td>\n",
       "      <td>-2.0</td>\n",
       "    </tr>\n",
       "    <tr>\n",
       "      <th>2012-01-04</th>\n",
       "      <td>-1.492442</td>\n",
       "      <td>-0.735142</td>\n",
       "      <td>-0.656513</td>\n",
       "      <td>-5.0</td>\n",
       "      <td>-3.0</td>\n",
       "    </tr>\n",
       "    <tr>\n",
       "      <th>2012-01-05</th>\n",
       "      <td>-1.098571</td>\n",
       "      <td>-0.361257</td>\n",
       "      <td>-0.071733</td>\n",
       "      <td>-5.0</td>\n",
       "      <td>-4.0</td>\n",
       "    </tr>\n",
       "    <tr>\n",
       "      <th>2012-01-06</th>\n",
       "      <td>-0.671209</td>\n",
       "      <td>-0.166887</td>\n",
       "      <td>-1.510392</td>\n",
       "      <td>-5.0</td>\n",
       "      <td>-5.0</td>\n",
       "    </tr>\n",
       "  </tbody>\n",
       "</table>\n",
       "</div>"
      ],
      "text/plain": [
       "                   A         B         C    D    F\n",
       "2012-01-01  0.000000  0.000000 -0.175544 -5.0  NaN\n",
       "2012-01-02 -0.159399 -0.160975 -1.428154 -5.0 -1.0\n",
       "2012-01-03 -0.084007 -0.130685 -0.100007 -5.0 -2.0\n",
       "2012-01-04 -1.492442 -0.735142 -0.656513 -5.0 -3.0\n",
       "2012-01-05 -1.098571 -0.361257 -0.071733 -5.0 -4.0\n",
       "2012-01-06 -0.671209 -0.166887 -1.510392 -5.0 -5.0"
      ]
     },
     "execution_count": 60,
     "metadata": {},
     "output_type": "execute_result"
    }
   ],
   "source": [
    "'''\n",
    "df에서 특정 조건을 만족하는 값을 선택하고 그 값을 다른 값으로 성정\n",
    "일종의 필터링과 값 설정 작업을 결\n",
    "'''\n",
    "df2 = df.copy()\n",
    "df2[df2 > 0] = -df2\n",
    "df2"
   ]
  },
  {
   "cell_type": "code",
   "execution_count": 61,
   "id": "fb49be69-d536-4d9e-8441-95b6e340b739",
   "metadata": {},
   "outputs": [
    {
     "data": {
      "text/html": [
       "<div>\n",
       "<style scoped>\n",
       "    .dataframe tbody tr th:only-of-type {\n",
       "        vertical-align: middle;\n",
       "    }\n",
       "\n",
       "    .dataframe tbody tr th {\n",
       "        vertical-align: top;\n",
       "    }\n",
       "\n",
       "    .dataframe thead th {\n",
       "        text-align: right;\n",
       "    }\n",
       "</style>\n",
       "<table border=\"1\" class=\"dataframe\">\n",
       "  <thead>\n",
       "    <tr style=\"text-align: right;\">\n",
       "      <th></th>\n",
       "      <th>A</th>\n",
       "      <th>B</th>\n",
       "      <th>C</th>\n",
       "      <th>D</th>\n",
       "      <th>F</th>\n",
       "    </tr>\n",
       "  </thead>\n",
       "  <tbody>\n",
       "    <tr>\n",
       "      <th>2012-01-01</th>\n",
       "      <td>0.000000</td>\n",
       "      <td>0.000000</td>\n",
       "      <td>0.175544</td>\n",
       "      <td>5.0</td>\n",
       "      <td>NaN</td>\n",
       "    </tr>\n",
       "    <tr>\n",
       "      <th>2012-01-02</th>\n",
       "      <td>-0.159399</td>\n",
       "      <td>-0.160975</td>\n",
       "      <td>-1.428154</td>\n",
       "      <td>5.0</td>\n",
       "      <td>1.0</td>\n",
       "    </tr>\n",
       "    <tr>\n",
       "      <th>2012-01-03</th>\n",
       "      <td>-0.084007</td>\n",
       "      <td>-0.130685</td>\n",
       "      <td>0.100007</td>\n",
       "      <td>5.0</td>\n",
       "      <td>2.0</td>\n",
       "    </tr>\n",
       "    <tr>\n",
       "      <th>2012-01-04</th>\n",
       "      <td>1.492442</td>\n",
       "      <td>0.735142</td>\n",
       "      <td>0.656513</td>\n",
       "      <td>5.0</td>\n",
       "      <td>3.0</td>\n",
       "    </tr>\n",
       "    <tr>\n",
       "      <th>2012-01-05</th>\n",
       "      <td>1.098571</td>\n",
       "      <td>-0.361257</td>\n",
       "      <td>-0.071733</td>\n",
       "      <td>5.0</td>\n",
       "      <td>4.0</td>\n",
       "    </tr>\n",
       "    <tr>\n",
       "      <th>2012-01-06</th>\n",
       "      <td>-0.671209</td>\n",
       "      <td>0.166887</td>\n",
       "      <td>-1.510392</td>\n",
       "      <td>5.0</td>\n",
       "      <td>5.0</td>\n",
       "    </tr>\n",
       "  </tbody>\n",
       "</table>\n",
       "</div>"
      ],
      "text/plain": [
       "                   A         B         C    D    F\n",
       "2012-01-01  0.000000  0.000000  0.175544  5.0  NaN\n",
       "2012-01-02 -0.159399 -0.160975 -1.428154  5.0  1.0\n",
       "2012-01-03 -0.084007 -0.130685  0.100007  5.0  2.0\n",
       "2012-01-04  1.492442  0.735142  0.656513  5.0  3.0\n",
       "2012-01-05  1.098571 -0.361257 -0.071733  5.0  4.0\n",
       "2012-01-06 -0.671209  0.166887 -1.510392  5.0  5.0"
      ]
     },
     "execution_count": 61,
     "metadata": {},
     "output_type": "execute_result"
    }
   ],
   "source": [
    "# Missing data\n",
    "'''\n",
    "NumPy 데이터 유형에서, np.nan은 결측 데이터를 나타내며,\n",
    "기본적으로 계산에 포함하지 않음\n",
    "\n",
    "단점은 원래의 데이터 유형이 np.float64 or object호 강제 변환될 수 있음\n",
    "이는 원래의 데이터 유형을 유지하는 데 중요한 경우에 문\n",
    "'''\n",
    "df"
   ]
  },
  {
   "cell_type": "code",
   "execution_count": 62,
   "id": "aa192992-de7b-4dee-bf72-28e89a16b9a5",
   "metadata": {},
   "outputs": [
    {
     "data": {
      "text/html": [
       "<div>\n",
       "<style scoped>\n",
       "    .dataframe tbody tr th:only-of-type {\n",
       "        vertical-align: middle;\n",
       "    }\n",
       "\n",
       "    .dataframe tbody tr th {\n",
       "        vertical-align: top;\n",
       "    }\n",
       "\n",
       "    .dataframe thead th {\n",
       "        text-align: right;\n",
       "    }\n",
       "</style>\n",
       "<table border=\"1\" class=\"dataframe\">\n",
       "  <thead>\n",
       "    <tr style=\"text-align: right;\">\n",
       "      <th></th>\n",
       "      <th>A</th>\n",
       "      <th>B</th>\n",
       "      <th>C</th>\n",
       "      <th>D</th>\n",
       "      <th>F</th>\n",
       "      <th>E</th>\n",
       "    </tr>\n",
       "  </thead>\n",
       "  <tbody>\n",
       "    <tr>\n",
       "      <th>2012-01-01</th>\n",
       "      <td>0.000000</td>\n",
       "      <td>0.000000</td>\n",
       "      <td>0.175544</td>\n",
       "      <td>5.0</td>\n",
       "      <td>NaN</td>\n",
       "      <td>1.0</td>\n",
       "    </tr>\n",
       "    <tr>\n",
       "      <th>2012-01-02</th>\n",
       "      <td>-0.159399</td>\n",
       "      <td>-0.160975</td>\n",
       "      <td>-1.428154</td>\n",
       "      <td>5.0</td>\n",
       "      <td>1.0</td>\n",
       "      <td>1.0</td>\n",
       "    </tr>\n",
       "    <tr>\n",
       "      <th>2012-01-03</th>\n",
       "      <td>-0.084007</td>\n",
       "      <td>-0.130685</td>\n",
       "      <td>0.100007</td>\n",
       "      <td>5.0</td>\n",
       "      <td>2.0</td>\n",
       "      <td>NaN</td>\n",
       "    </tr>\n",
       "    <tr>\n",
       "      <th>2012-01-04</th>\n",
       "      <td>1.492442</td>\n",
       "      <td>0.735142</td>\n",
       "      <td>0.656513</td>\n",
       "      <td>5.0</td>\n",
       "      <td>3.0</td>\n",
       "      <td>NaN</td>\n",
       "    </tr>\n",
       "  </tbody>\n",
       "</table>\n",
       "</div>"
      ],
      "text/plain": [
       "                   A         B         C    D    F    E\n",
       "2012-01-01  0.000000  0.000000  0.175544  5.0  NaN  1.0\n",
       "2012-01-02 -0.159399 -0.160975 -1.428154  5.0  1.0  1.0\n",
       "2012-01-03 -0.084007 -0.130685  0.100007  5.0  2.0  NaN\n",
       "2012-01-04  1.492442  0.735142  0.656513  5.0  3.0  NaN"
      ]
     },
     "execution_count": 62,
     "metadata": {},
     "output_type": "execute_result"
    }
   ],
   "source": [
    "'''\n",
    "인덱스를 변경하거나 추가하거나 삭제하여 지정된 축에서 데이터를 재색인할 수 있음\n",
    "이는 데이터 복사본을 반환함\n",
    "이를 통해 원하는 인덱스 구조를 만들거나 기존의 인덱스를 다시 정렬할 수 있다.\n",
    "(데이터 구조 변경 or 데이터를 다른 형태로 변환할 때 유용)\n",
    "- 데이터 구조 변경: 행과 열의 수를 변경 or 특정 열을 인덱스로 설정, 리스트 -> 딕셔너리와 같\n",
    "- 데이터를 다른 형태로 변환: 정수를 실수로, 문자열 데이터 숫자로\n",
    "'''\n",
    "df1 = df.reindex(index=dates[0:4], columns = list(df.columns)) ## 데이터 구조 변경의 \n",
    "## list(df.columns) ==> ['A', 'B', 'C', 'D', 'F']\n",
    "\n",
    "df1.loc[dates[0]:dates[1], \"E\"] = 1\n",
    "df1\n"
   ]
  },
  {
   "cell_type": "code",
   "execution_count": 63,
   "id": "4389170e-ffe1-4823-a622-ab5b68d46368",
   "metadata": {},
   "outputs": [
    {
     "data": {
      "text/html": [
       "<div>\n",
       "<style scoped>\n",
       "    .dataframe tbody tr th:only-of-type {\n",
       "        vertical-align: middle;\n",
       "    }\n",
       "\n",
       "    .dataframe tbody tr th {\n",
       "        vertical-align: top;\n",
       "    }\n",
       "\n",
       "    .dataframe thead th {\n",
       "        text-align: right;\n",
       "    }\n",
       "</style>\n",
       "<table border=\"1\" class=\"dataframe\">\n",
       "  <thead>\n",
       "    <tr style=\"text-align: right;\">\n",
       "      <th></th>\n",
       "      <th>A</th>\n",
       "      <th>B</th>\n",
       "      <th>C</th>\n",
       "      <th>D</th>\n",
       "      <th>F</th>\n",
       "      <th>E</th>\n",
       "    </tr>\n",
       "  </thead>\n",
       "  <tbody>\n",
       "    <tr>\n",
       "      <th>2012-01-02</th>\n",
       "      <td>-0.159399</td>\n",
       "      <td>-0.160975</td>\n",
       "      <td>-1.428154</td>\n",
       "      <td>5.0</td>\n",
       "      <td>1.0</td>\n",
       "      <td>1.0</td>\n",
       "    </tr>\n",
       "  </tbody>\n",
       "</table>\n",
       "</div>"
      ],
      "text/plain": [
       "                   A         B         C    D    F    E\n",
       "2012-01-02 -0.159399 -0.160975 -1.428154  5.0  1.0  1.0"
      ]
     },
     "execution_count": 63,
     "metadata": {},
     "output_type": "execute_result"
    }
   ],
   "source": [
    "'''\n",
    "DataFrame.dropna()은 결측값을 가지는 어떤 행을 삭제. \n",
    "DataFrame.dropna(*, axis=0, how=_NoDefault.no_default, thresh=_NoDefault.no_default, subset=None, inplace=False, ignore_index=False)\n",
    "'''\n",
    "df1.dropna(how='any')\n",
    "## 결측 데이터를 포함하지 않는 행은 1개다"
   ]
  },
  {
   "cell_type": "code",
   "execution_count": 64,
   "id": "062cf01d-b0ae-4a23-bf99-74f54e1565b5",
   "metadata": {},
   "outputs": [
    {
     "data": {
      "text/html": [
       "<div>\n",
       "<style scoped>\n",
       "    .dataframe tbody tr th:only-of-type {\n",
       "        vertical-align: middle;\n",
       "    }\n",
       "\n",
       "    .dataframe tbody tr th {\n",
       "        vertical-align: top;\n",
       "    }\n",
       "\n",
       "    .dataframe thead th {\n",
       "        text-align: right;\n",
       "    }\n",
       "</style>\n",
       "<table border=\"1\" class=\"dataframe\">\n",
       "  <thead>\n",
       "    <tr style=\"text-align: right;\">\n",
       "      <th></th>\n",
       "      <th>A</th>\n",
       "      <th>B</th>\n",
       "      <th>C</th>\n",
       "      <th>D</th>\n",
       "      <th>F</th>\n",
       "      <th>E</th>\n",
       "    </tr>\n",
       "  </thead>\n",
       "  <tbody>\n",
       "    <tr>\n",
       "      <th>2012-01-01</th>\n",
       "      <td>0.000000</td>\n",
       "      <td>0.000000</td>\n",
       "      <td>0.175544</td>\n",
       "      <td>5.0</td>\n",
       "      <td>5.0</td>\n",
       "      <td>1.0</td>\n",
       "    </tr>\n",
       "    <tr>\n",
       "      <th>2012-01-02</th>\n",
       "      <td>-0.159399</td>\n",
       "      <td>-0.160975</td>\n",
       "      <td>-1.428154</td>\n",
       "      <td>5.0</td>\n",
       "      <td>1.0</td>\n",
       "      <td>1.0</td>\n",
       "    </tr>\n",
       "    <tr>\n",
       "      <th>2012-01-03</th>\n",
       "      <td>-0.084007</td>\n",
       "      <td>-0.130685</td>\n",
       "      <td>0.100007</td>\n",
       "      <td>5.0</td>\n",
       "      <td>2.0</td>\n",
       "      <td>5.0</td>\n",
       "    </tr>\n",
       "    <tr>\n",
       "      <th>2012-01-04</th>\n",
       "      <td>1.492442</td>\n",
       "      <td>0.735142</td>\n",
       "      <td>0.656513</td>\n",
       "      <td>5.0</td>\n",
       "      <td>3.0</td>\n",
       "      <td>5.0</td>\n",
       "    </tr>\n",
       "  </tbody>\n",
       "</table>\n",
       "</div>"
      ],
      "text/plain": [
       "                   A         B         C    D    F    E\n",
       "2012-01-01  0.000000  0.000000  0.175544  5.0  5.0  1.0\n",
       "2012-01-02 -0.159399 -0.160975 -1.428154  5.0  1.0  1.0\n",
       "2012-01-03 -0.084007 -0.130685  0.100007  5.0  2.0  5.0\n",
       "2012-01-04  1.492442  0.735142  0.656513  5.0  3.0  5.0"
      ]
     },
     "execution_count": 64,
     "metadata": {},
     "output_type": "execute_result"
    }
   ],
   "source": [
    "'''\n",
    "DataFrame.fillna()은 결측 데이터를 특정 값으로 채움\n",
    "'''\n",
    "df1.fillna(value = 5)\n",
    "#df1.fillna(5)"
   ]
  },
  {
   "cell_type": "code",
   "execution_count": 65,
   "id": "c872dde5-9fbe-4be6-b460-d22be0c0e020",
   "metadata": {},
   "outputs": [
    {
     "data": {
      "text/html": [
       "<div>\n",
       "<style scoped>\n",
       "    .dataframe tbody tr th:only-of-type {\n",
       "        vertical-align: middle;\n",
       "    }\n",
       "\n",
       "    .dataframe tbody tr th {\n",
       "        vertical-align: top;\n",
       "    }\n",
       "\n",
       "    .dataframe thead th {\n",
       "        text-align: right;\n",
       "    }\n",
       "</style>\n",
       "<table border=\"1\" class=\"dataframe\">\n",
       "  <thead>\n",
       "    <tr style=\"text-align: right;\">\n",
       "      <th></th>\n",
       "      <th>A</th>\n",
       "      <th>B</th>\n",
       "      <th>C</th>\n",
       "      <th>D</th>\n",
       "      <th>F</th>\n",
       "      <th>E</th>\n",
       "    </tr>\n",
       "  </thead>\n",
       "  <tbody>\n",
       "    <tr>\n",
       "      <th>2012-01-01</th>\n",
       "      <td>False</td>\n",
       "      <td>False</td>\n",
       "      <td>False</td>\n",
       "      <td>False</td>\n",
       "      <td>True</td>\n",
       "      <td>False</td>\n",
       "    </tr>\n",
       "    <tr>\n",
       "      <th>2012-01-02</th>\n",
       "      <td>False</td>\n",
       "      <td>False</td>\n",
       "      <td>False</td>\n",
       "      <td>False</td>\n",
       "      <td>False</td>\n",
       "      <td>False</td>\n",
       "    </tr>\n",
       "    <tr>\n",
       "      <th>2012-01-03</th>\n",
       "      <td>False</td>\n",
       "      <td>False</td>\n",
       "      <td>False</td>\n",
       "      <td>False</td>\n",
       "      <td>False</td>\n",
       "      <td>True</td>\n",
       "    </tr>\n",
       "    <tr>\n",
       "      <th>2012-01-04</th>\n",
       "      <td>False</td>\n",
       "      <td>False</td>\n",
       "      <td>False</td>\n",
       "      <td>False</td>\n",
       "      <td>False</td>\n",
       "      <td>True</td>\n",
       "    </tr>\n",
       "  </tbody>\n",
       "</table>\n",
       "</div>"
      ],
      "text/plain": [
       "                A      B      C      D      F      E\n",
       "2012-01-01  False  False  False  False   True  False\n",
       "2012-01-02  False  False  False  False  False  False\n",
       "2012-01-03  False  False  False  False  False   True\n",
       "2012-01-04  False  False  False  False  False   True"
      ]
     },
     "execution_count": 65,
     "metadata": {},
     "output_type": "execute_result"
    }
   ],
   "source": [
    "'''\n",
    "isna()은 값이 Nan인 위치에 bool로 표현\n",
    "- Nan 값인 위치는 True\n",
    "- 그렇지 않은 위치는 False\n",
    "'''\n",
    "pd.isna(df1)\n",
    "# 배열에서 true인 것은 Nan의 값을 가진 위치"
   ]
  },
  {
   "cell_type": "code",
   "execution_count": 66,
   "id": "49629167-de60-4d2f-b347-11d7a353a0bc",
   "metadata": {},
   "outputs": [
    {
     "data": {
      "text/plain": [
       "'\\n이항 연산에 대한 기본적인 내용(덧셈, 곱셈, 나눗셈과 같은 산술 연산뿐만 아니라 \\n비교연산과 논리연산도 포함될 수 있다.\\n'"
      ]
     },
     "execution_count": 66,
     "metadata": {},
     "output_type": "execute_result"
    }
   ],
   "source": [
    "# 3. Operation (Basic section on Binary Ops.)\n",
    "'''\n",
    "이항 연산에 대한 기본적인 내용(덧셈, 곱셈, 나눗셈과 같은 산술 연산뿐만 아니라 \n",
    "비교연산과 논리연산도 포함될 수 있다.\n",
    "'''"
   ]
  },
  {
   "cell_type": "code",
   "execution_count": 67,
   "id": "737cedb2-139b-47ff-ac4e-1687e42ba210",
   "metadata": {},
   "outputs": [],
   "source": [
    "# Stats\n",
    "## 결측 데이터를 포함하는 일반적인 연산"
   ]
  },
  {
   "cell_type": "code",
   "execution_count": 68,
   "id": "9f757f1b-1baa-4837-b56b-7c45b11e70c1",
   "metadata": {},
   "outputs": [
    {
     "data": {
      "text/plain": [
       "A    0.279400\n",
       "B    0.041519\n",
       "C   -0.346369\n",
       "D    5.000000\n",
       "F    3.000000\n",
       "dtype: float64"
      ]
     },
     "execution_count": 68,
     "metadata": {},
     "output_type": "execute_result"
    }
   ],
   "source": [
    "'''\n",
    "각 열의 평균을 계산\n",
    "'''\n",
    "df.mean()\n",
    "## 각 열끼리 axis = 0"
   ]
  },
  {
   "cell_type": "code",
   "execution_count": 69,
   "id": "a908cba4-6b42-4701-bc6e-b74a987fab79",
   "metadata": {},
   "outputs": [
    {
     "data": {
      "text/plain": [
       "2012-01-01    1.293886\n",
       "2012-01-02    0.850294\n",
       "2012-01-03    1.377063\n",
       "2012-01-04    2.176820\n",
       "2012-01-05    1.933116\n",
       "2012-01-06    1.597057\n",
       "Freq: D, dtype: float64"
      ]
     },
     "execution_count": 69,
     "metadata": {},
     "output_type": "execute_result"
    }
   ],
   "source": [
    "'''\n",
    "각 행의 평균 계산\n",
    "'''\n",
    "df.mean(axis=1)\n",
    "## 각 행끼리 axis = 1\n",
    "## axis= 1 열 이름을 기준으로 내림차순을 할떄도 행끼리 해야함"
   ]
  },
  {
   "cell_type": "code",
   "execution_count": 70,
   "id": "838c37d0-6f46-4809-80ca-6dfbab096b5e",
   "metadata": {},
   "outputs": [
    {
     "data": {
      "text/plain": [
       "'\\n다른 인덱스 또는 열을 가진 Series 또는 DataFrame과 연산을 수행할 때 동작하는 방식을 설명 \\n인덱스 또는 열이 일치하지 않더라도, 해당 라벨의 합집합에 맞게 결과를 정렬하고,\\n누락된 값은 NaN으로 채워짐\\n또한, 판다스는 브로드캐스트를 수행하여 각 요소에 연산을 적용\\n'"
      ]
     },
     "execution_count": 70,
     "metadata": {},
     "output_type": "execute_result"
    }
   ],
   "source": [
    "'''\n",
    "다른 인덱스 또는 열을 가진 Series 또는 DataFrame과 연산을 수행할 때 동작하는 방식을 설명 \n",
    "인덱스 또는 열이 일치하지 않더라도, 해당 라벨의 합집합에 맞게 결과를 정렬하고,\n",
    "누락된 값은 NaN으로 채워짐\n",
    "또한, 판다스는 브로드캐스트를 수행하여 각 요소에 연산을 적용\n",
    "'''\n",
    "## 브로드캐스트는 두 배열 간의 크기가 다르더라도 이를 사용하면 다른 배열을 서로 맞춰서 연산을 수행할 수 있음\n",
    "## 서로 다른 크기의 배열간의 산술 연산을 수행할 때 사용"
   ]
  },
  {
   "cell_type": "code",
   "execution_count": 71,
   "id": "7778487d-0bc0-4f2b-b907-7966ad254a36",
   "metadata": {},
   "outputs": [
    {
     "data": {
      "text/html": [
       "<div>\n",
       "<style scoped>\n",
       "    .dataframe tbody tr th:only-of-type {\n",
       "        vertical-align: middle;\n",
       "    }\n",
       "\n",
       "    .dataframe tbody tr th {\n",
       "        vertical-align: top;\n",
       "    }\n",
       "\n",
       "    .dataframe thead th {\n",
       "        text-align: right;\n",
       "    }\n",
       "</style>\n",
       "<table border=\"1\" class=\"dataframe\">\n",
       "  <thead>\n",
       "    <tr style=\"text-align: right;\">\n",
       "      <th></th>\n",
       "      <th>A</th>\n",
       "      <th>B</th>\n",
       "      <th>C</th>\n",
       "      <th>D</th>\n",
       "      <th>F</th>\n",
       "    </tr>\n",
       "  </thead>\n",
       "  <tbody>\n",
       "    <tr>\n",
       "      <th>2012-01-01</th>\n",
       "      <td>0.000000</td>\n",
       "      <td>0.000000</td>\n",
       "      <td>0.175544</td>\n",
       "      <td>5.0</td>\n",
       "      <td>NaN</td>\n",
       "    </tr>\n",
       "    <tr>\n",
       "      <th>2012-01-02</th>\n",
       "      <td>-0.159399</td>\n",
       "      <td>-0.160975</td>\n",
       "      <td>-1.428154</td>\n",
       "      <td>5.0</td>\n",
       "      <td>1.0</td>\n",
       "    </tr>\n",
       "    <tr>\n",
       "      <th>2012-01-03</th>\n",
       "      <td>-0.084007</td>\n",
       "      <td>-0.130685</td>\n",
       "      <td>0.100007</td>\n",
       "      <td>5.0</td>\n",
       "      <td>2.0</td>\n",
       "    </tr>\n",
       "    <tr>\n",
       "      <th>2012-01-04</th>\n",
       "      <td>1.492442</td>\n",
       "      <td>0.735142</td>\n",
       "      <td>0.656513</td>\n",
       "      <td>5.0</td>\n",
       "      <td>3.0</td>\n",
       "    </tr>\n",
       "    <tr>\n",
       "      <th>2012-01-05</th>\n",
       "      <td>1.098571</td>\n",
       "      <td>-0.361257</td>\n",
       "      <td>-0.071733</td>\n",
       "      <td>5.0</td>\n",
       "      <td>4.0</td>\n",
       "    </tr>\n",
       "    <tr>\n",
       "      <th>2012-01-06</th>\n",
       "      <td>-0.671209</td>\n",
       "      <td>0.166887</td>\n",
       "      <td>-1.510392</td>\n",
       "      <td>5.0</td>\n",
       "      <td>5.0</td>\n",
       "    </tr>\n",
       "  </tbody>\n",
       "</table>\n",
       "</div>"
      ],
      "text/plain": [
       "                   A         B         C    D    F\n",
       "2012-01-01  0.000000  0.000000  0.175544  5.0  NaN\n",
       "2012-01-02 -0.159399 -0.160975 -1.428154  5.0  1.0\n",
       "2012-01-03 -0.084007 -0.130685  0.100007  5.0  2.0\n",
       "2012-01-04  1.492442  0.735142  0.656513  5.0  3.0\n",
       "2012-01-05  1.098571 -0.361257 -0.071733  5.0  4.0\n",
       "2012-01-06 -0.671209  0.166887 -1.510392  5.0  5.0"
      ]
     },
     "execution_count": 71,
     "metadata": {},
     "output_type": "execute_result"
    }
   ],
   "source": [
    "df"
   ]
  },
  {
   "cell_type": "code",
   "execution_count": 72,
   "id": "b19731ef-1b37-4e1d-8e13-578c7e9e701a",
   "metadata": {},
   "outputs": [
    {
     "data": {
      "text/plain": [
       "2012-01-01    NaN\n",
       "2012-01-02    NaN\n",
       "2012-01-03    1.0\n",
       "2012-01-04    3.0\n",
       "2012-01-05    5.0\n",
       "2012-01-06    NaN\n",
       "Freq: D, dtype: float64"
      ]
     },
     "execution_count": 72,
     "metadata": {},
     "output_type": "execute_result"
    }
   ],
   "source": [
    "s = pd.Series([1,3,5,np.nan,6,8], index=dates).shift(2)\n",
    "## shift(2)을 호출하면 시리즈의 모즌 값이 두 단계만큼 위로 이동\n",
    "## 인덱스 0위치에 있던 값은 2로 이동\n",
    "s"
   ]
  },
  {
   "cell_type": "code",
   "execution_count": 73,
   "id": "9c3a373e-b3e8-4d38-97d3-0eff92c9492e",
   "metadata": {},
   "outputs": [
    {
     "data": {
      "text/html": [
       "<div>\n",
       "<style scoped>\n",
       "    .dataframe tbody tr th:only-of-type {\n",
       "        vertical-align: middle;\n",
       "    }\n",
       "\n",
       "    .dataframe tbody tr th {\n",
       "        vertical-align: top;\n",
       "    }\n",
       "\n",
       "    .dataframe thead th {\n",
       "        text-align: right;\n",
       "    }\n",
       "</style>\n",
       "<table border=\"1\" class=\"dataframe\">\n",
       "  <thead>\n",
       "    <tr style=\"text-align: right;\">\n",
       "      <th></th>\n",
       "      <th>A</th>\n",
       "      <th>B</th>\n",
       "      <th>C</th>\n",
       "      <th>D</th>\n",
       "      <th>F</th>\n",
       "    </tr>\n",
       "  </thead>\n",
       "  <tbody>\n",
       "    <tr>\n",
       "      <th>2012-01-01</th>\n",
       "      <td>NaN</td>\n",
       "      <td>NaN</td>\n",
       "      <td>NaN</td>\n",
       "      <td>NaN</td>\n",
       "      <td>NaN</td>\n",
       "    </tr>\n",
       "    <tr>\n",
       "      <th>2012-01-02</th>\n",
       "      <td>NaN</td>\n",
       "      <td>NaN</td>\n",
       "      <td>NaN</td>\n",
       "      <td>NaN</td>\n",
       "      <td>NaN</td>\n",
       "    </tr>\n",
       "    <tr>\n",
       "      <th>2012-01-03</th>\n",
       "      <td>-1.084007</td>\n",
       "      <td>-1.130685</td>\n",
       "      <td>-0.899993</td>\n",
       "      <td>4.0</td>\n",
       "      <td>1.0</td>\n",
       "    </tr>\n",
       "    <tr>\n",
       "      <th>2012-01-04</th>\n",
       "      <td>-1.507558</td>\n",
       "      <td>-2.264858</td>\n",
       "      <td>-2.343487</td>\n",
       "      <td>2.0</td>\n",
       "      <td>0.0</td>\n",
       "    </tr>\n",
       "    <tr>\n",
       "      <th>2012-01-05</th>\n",
       "      <td>-3.901429</td>\n",
       "      <td>-5.361257</td>\n",
       "      <td>-5.071733</td>\n",
       "      <td>0.0</td>\n",
       "      <td>-1.0</td>\n",
       "    </tr>\n",
       "    <tr>\n",
       "      <th>2012-01-06</th>\n",
       "      <td>NaN</td>\n",
       "      <td>NaN</td>\n",
       "      <td>NaN</td>\n",
       "      <td>NaN</td>\n",
       "      <td>NaN</td>\n",
       "    </tr>\n",
       "  </tbody>\n",
       "</table>\n",
       "</div>"
      ],
      "text/plain": [
       "                   A         B         C    D    F\n",
       "2012-01-01       NaN       NaN       NaN  NaN  NaN\n",
       "2012-01-02       NaN       NaN       NaN  NaN  NaN\n",
       "2012-01-03 -1.084007 -1.130685 -0.899993  4.0  1.0\n",
       "2012-01-04 -1.507558 -2.264858 -2.343487  2.0  0.0\n",
       "2012-01-05 -3.901429 -5.361257 -5.071733  0.0 -1.0\n",
       "2012-01-06       NaN       NaN       NaN  NaN  NaN"
      ]
     },
     "execution_count": 73,
     "metadata": {},
     "output_type": "execute_result"
    }
   ],
   "source": [
    "df.sub(s, axis = \"index\")\n",
    "## df에서 s를 뺀 결과를 반환\n",
    "## 두 데이터 구조 간의 요소별 빼기 연산을 수행\n",
    "## 판다스에서 df와 series간의 연산을 수행할 떄 \n",
    "## 각 데이터 구조의 인덱스를 기준으로 브로드캐스팅이 이루어짐\n",
    "\n",
    "## 결과\n",
    "## df의 1,2,6행의 모든 값에서 Nan값 처리 될 것이다. \n",
    "## 왜냐하면 series의 s에는 인덱스 2012-01-01~2012-01-02와 2012-01-06에 해당하는 값이 없기 때문에 Nan처리"
   ]
  },
  {
   "cell_type": "code",
   "execution_count": 74,
   "id": "d424b2c3-cf38-4375-9e22-f67166f58803",
   "metadata": {},
   "outputs": [
    {
     "data": {
      "text/plain": [
       "'\\nDataFrame.agg()와 DataFrame.transform()은 사용자 정의 함수를 적용하여 \\n데이터프레임의 값을 처리하는 데 사용\\n\\nDataFrame.agg(): 열 또는 행에 대해 집계(aggregation)을 수행(결과를 줄임)\\n-> 여러 값을 단일 값으로 줄이는 작업(주로 열에 대한 요약 통계량: 평균, 합계, 표준편차)\\n\\nDataFrame.transform(): 열 또는 행에 대해 요소별 함수를 적용하고 결과를 반환(결과를 브로드캐스팅)\\n-> 각 열 또는 행의 모든 값에 동일한 함수를 적용하여 새로운 결과를 생성\\n-> 원본데이터에 영향을 끼치지 않\\n'"
      ]
     },
     "execution_count": 74,
     "metadata": {},
     "output_type": "execute_result"
    }
   ],
   "source": [
    "# User defined functions\n",
    "## 사용자 정의 함수\n",
    "'''\n",
    "DataFrame.agg()와 DataFrame.transform()은 사용자 정의 함수를 적용하여 \n",
    "데이터프레임의 값을 처리하는 데 사용\n",
    "\n",
    "DataFrame.agg(): 열 또는 행에 대해 집계(aggregation)을 수행(결과를 줄임)\n",
    "-> 여러 값을 단일 값으로 줄이는 작업(주로 열에 대한 요약 통계량: 평균, 합계, 표준편차)\n",
    "\n",
    "DataFrame.transform(): 열 또는 행에 대해 요소별 함수를 적용하고 결과를 반환(결과를 브로드캐스팅)\n",
    "-> 각 열 또는 행의 모든 값에 동일한 함수를 적용하여 새로운 결과를 생성\n",
    "-> 원본데이터에 영향을 끼치지 않\n",
    "'''"
   ]
  },
  {
   "cell_type": "code",
   "execution_count": 75,
   "id": "6c255c0c-4584-4191-94a9-32cf748ae450",
   "metadata": {},
   "outputs": [
    {
     "data": {
      "text/plain": [
       "A     1.564638\n",
       "B     0.232504\n",
       "C    -1.939667\n",
       "D    28.000000\n",
       "F    16.800000\n",
       "dtype: float64"
      ]
     },
     "execution_count": 75,
     "metadata": {},
     "output_type": "execute_result"
    }
   ],
   "source": [
    "df.agg(lambda x: np.mean(x) * 5.6)\n",
    "## 람다함수는 한줄로 작성된 함수\n",
    "## lambda x: np.mean(x) * 5.6 코드 설명\n",
    "## 입력값 x를 받아서 np.mean(x) * 5.6을 계산하여 반환\n",
    "## np.mean(x) 주어진 열x의 평균을 계산"
   ]
  },
  {
   "cell_type": "code",
   "execution_count": 76,
   "id": "8b0db226-947d-4071-9cd0-566b81df9cd4",
   "metadata": {},
   "outputs": [
    {
     "data": {
      "text/plain": [
       "'\\ndf.agg(lambda x: np.mean(x, axis = 1))\\n## 행의 평균을 계산하여 반환하는 람다함수\\n## axis = 1 행끼리\\n'"
      ]
     },
     "execution_count": 76,
     "metadata": {},
     "output_type": "execute_result"
    }
   ],
   "source": [
    "'''\n",
    "df.agg(lambda x: np.mean(x, axis = 1))\n",
    "## 행의 평균을 계산하여 반환하는 람다함수\n",
    "## axis = 1 행끼리\n",
    "'''\n",
    "## 이 집계함수는 각 열에 대해 집계를 수행하기 때문에 axis=1 옵션을 사용할 수 없다"
   ]
  },
  {
   "cell_type": "code",
   "execution_count": 77,
   "id": "c800b37a-7615-4de5-b154-5c4072846703",
   "metadata": {},
   "outputs": [
    {
     "data": {
      "text/html": [
       "<div>\n",
       "<style scoped>\n",
       "    .dataframe tbody tr th:only-of-type {\n",
       "        vertical-align: middle;\n",
       "    }\n",
       "\n",
       "    .dataframe tbody tr th {\n",
       "        vertical-align: top;\n",
       "    }\n",
       "\n",
       "    .dataframe thead th {\n",
       "        text-align: right;\n",
       "    }\n",
       "</style>\n",
       "<table border=\"1\" class=\"dataframe\">\n",
       "  <thead>\n",
       "    <tr style=\"text-align: right;\">\n",
       "      <th></th>\n",
       "      <th>A</th>\n",
       "      <th>B</th>\n",
       "      <th>C</th>\n",
       "      <th>D</th>\n",
       "      <th>F</th>\n",
       "    </tr>\n",
       "  </thead>\n",
       "  <tbody>\n",
       "    <tr>\n",
       "      <th>2012-01-01</th>\n",
       "      <td>0.000000</td>\n",
       "      <td>0.000000</td>\n",
       "      <td>17.765030</td>\n",
       "      <td>506.0</td>\n",
       "      <td>NaN</td>\n",
       "    </tr>\n",
       "    <tr>\n",
       "      <th>2012-01-02</th>\n",
       "      <td>-16.131163</td>\n",
       "      <td>-16.290654</td>\n",
       "      <td>-144.529233</td>\n",
       "      <td>506.0</td>\n",
       "      <td>101.2</td>\n",
       "    </tr>\n",
       "    <tr>\n",
       "      <th>2012-01-03</th>\n",
       "      <td>-8.501470</td>\n",
       "      <td>-13.225346</td>\n",
       "      <td>10.120757</td>\n",
       "      <td>506.0</td>\n",
       "      <td>202.4</td>\n",
       "    </tr>\n",
       "    <tr>\n",
       "      <th>2012-01-04</th>\n",
       "      <td>151.035141</td>\n",
       "      <td>74.396364</td>\n",
       "      <td>66.439162</td>\n",
       "      <td>506.0</td>\n",
       "      <td>303.6</td>\n",
       "    </tr>\n",
       "    <tr>\n",
       "      <th>2012-01-05</th>\n",
       "      <td>111.175341</td>\n",
       "      <td>-36.559181</td>\n",
       "      <td>-7.259424</td>\n",
       "      <td>506.0</td>\n",
       "      <td>404.8</td>\n",
       "    </tr>\n",
       "    <tr>\n",
       "      <th>2012-01-06</th>\n",
       "      <td>-67.926366</td>\n",
       "      <td>16.888926</td>\n",
       "      <td>-152.851627</td>\n",
       "      <td>506.0</td>\n",
       "      <td>506.0</td>\n",
       "    </tr>\n",
       "  </tbody>\n",
       "</table>\n",
       "</div>"
      ],
      "text/plain": [
       "                     A          B           C      D      F\n",
       "2012-01-01    0.000000   0.000000   17.765030  506.0    NaN\n",
       "2012-01-02  -16.131163 -16.290654 -144.529233  506.0  101.2\n",
       "2012-01-03   -8.501470 -13.225346   10.120757  506.0  202.4\n",
       "2012-01-04  151.035141  74.396364   66.439162  506.0  303.6\n",
       "2012-01-05  111.175341 -36.559181   -7.259424  506.0  404.8\n",
       "2012-01-06  -67.926366  16.888926 -152.851627  506.0  506.0"
      ]
     },
     "execution_count": 77,
     "metadata": {},
     "output_type": "execute_result"
    }
   ],
   "source": [
    "df. transform(lambda x:x*101.2)\n",
    "# 열 또는 행에 대해 요소별 동일함 함수를 적용"
   ]
  },
  {
   "cell_type": "code",
   "execution_count": 78,
   "id": "0cae1d2c-4d54-4644-91f6-2a7840dd4fa6",
   "metadata": {},
   "outputs": [
    {
     "data": {
      "text/plain": [
       "2012-01-01      0.000000\n",
       "2012-01-02    -16.131163\n",
       "2012-01-03     -8.501470\n",
       "2012-01-04    151.035141\n",
       "2012-01-05    111.175341\n",
       "2012-01-06    -67.926366\n",
       "Freq: D, Name: A, dtype: float64"
      ]
     },
     "execution_count": 78,
     "metadata": {},
     "output_type": "execute_result"
    }
   ],
   "source": [
    "df['A'].transform(lambda x: x * 101.2)\n",
    "## 특정 열에 대해서만 적용하려면 해당 열에만 함수를 적용해야 한다. "
   ]
  },
  {
   "cell_type": "code",
   "execution_count": 79,
   "id": "ea74f352-3a02-4ea9-ab85-17d206ab881b",
   "metadata": {},
   "outputs": [
    {
     "data": {
      "text/html": [
       "<div>\n",
       "<style scoped>\n",
       "    .dataframe tbody tr th:only-of-type {\n",
       "        vertical-align: middle;\n",
       "    }\n",
       "\n",
       "    .dataframe tbody tr th {\n",
       "        vertical-align: top;\n",
       "    }\n",
       "\n",
       "    .dataframe thead th {\n",
       "        text-align: right;\n",
       "    }\n",
       "</style>\n",
       "<table border=\"1\" class=\"dataframe\">\n",
       "  <thead>\n",
       "    <tr style=\"text-align: right;\">\n",
       "      <th></th>\n",
       "      <th>A</th>\n",
       "      <th>B</th>\n",
       "      <th>C</th>\n",
       "      <th>D</th>\n",
       "      <th>F</th>\n",
       "    </tr>\n",
       "  </thead>\n",
       "  <tbody>\n",
       "    <tr>\n",
       "      <th>2012-01-02</th>\n",
       "      <td>-16.131163</td>\n",
       "      <td>-16.290654</td>\n",
       "      <td>-144.529233</td>\n",
       "      <td>506.0</td>\n",
       "      <td>101.2</td>\n",
       "    </tr>\n",
       "    <tr>\n",
       "      <th>2012-01-03</th>\n",
       "      <td>-8.501470</td>\n",
       "      <td>-13.225346</td>\n",
       "      <td>10.120757</td>\n",
       "      <td>506.0</td>\n",
       "      <td>202.4</td>\n",
       "    </tr>\n",
       "  </tbody>\n",
       "</table>\n",
       "</div>"
      ],
      "text/plain": [
       "                    A          B           C      D      F\n",
       "2012-01-02 -16.131163 -16.290654 -144.529233  506.0  101.2\n",
       "2012-01-03  -8.501470 -13.225346   10.120757  506.0  202.4"
      ]
     },
     "execution_count": 79,
     "metadata": {},
     "output_type": "execute_result"
    }
   ],
   "source": [
    "df.iloc[1:3].transform(lambda x: x * 101.2)\n",
    "## 특정 행에 대해서만 적용하려면 해당 행에만 함수를 적용해야 한다. "
   ]
  },
  {
   "cell_type": "code",
   "execution_count": 80,
   "id": "83f668bc-b5f5-4577-8a5a-415cc1554879",
   "metadata": {},
   "outputs": [],
   "source": [
    "# Value Count"
   ]
  },
  {
   "cell_type": "code",
   "execution_count": 81,
   "id": "15530914-f94b-4bb0-b86e-6319dc73c2e2",
   "metadata": {},
   "outputs": [
    {
     "data": {
      "text/plain": [
       "0    6\n",
       "1    3\n",
       "2    3\n",
       "3    2\n",
       "4    2\n",
       "5    1\n",
       "6    6\n",
       "7    0\n",
       "8    3\n",
       "9    6\n",
       "dtype: int32"
      ]
     },
     "execution_count": 81,
     "metadata": {},
     "output_type": "execute_result"
    }
   ],
   "source": [
    "s = pd.Series(np.random.randint(0,7,size = 10))\n",
    "s\n",
    "## 0부터 7까지의 난수를 생성하여 길이가 10개인 시리즈로 생성\n",
    "## np.random.randint()는 정수형 난수를 생성"
   ]
  },
  {
   "cell_type": "code",
   "execution_count": 82,
   "id": "4b39b156-f7d1-41c5-9bbd-b6824a7284cd",
   "metadata": {},
   "outputs": [
    {
     "data": {
      "text/plain": [
       "6    3\n",
       "3    3\n",
       "2    2\n",
       "1    1\n",
       "0    1\n",
       "Name: count, dtype: int64"
      ]
     },
     "execution_count": 82,
     "metadata": {},
     "output_type": "execute_result"
    }
   ],
   "source": [
    "s.value_counts()\n",
    "## 각 시리즈 내에서 각 값이 몇 번 등장하는지를 세어서 반환\n",
    "## 인덱스: 시리즈 s의 고유한 값\n",
    "## 인덱스의 값: 각 값이 나타나는 횟수"
   ]
  },
  {
   "cell_type": "code",
   "execution_count": 83,
   "id": "6a5919b3-2918-45ad-8e10-85b60696041c",
   "metadata": {},
   "outputs": [],
   "source": [
    "# String Methods"
   ]
  },
  {
   "cell_type": "code",
   "execution_count": 84,
   "id": "30257920-177c-4181-8380-aef72fff89e7",
   "metadata": {},
   "outputs": [
    {
     "data": {
      "text/plain": [
       "0       a\n",
       "1       b\n",
       "2       c\n",
       "3    aaba\n",
       "4    baca\n",
       "5     NaN\n",
       "6    caba\n",
       "7     dog\n",
       "8     cat\n",
       "dtype: object"
      ]
     },
     "execution_count": 84,
     "metadata": {},
     "output_type": "execute_result"
    }
   ],
   "source": [
    "'''\n",
    "시리즈는 문자열 처리 메서드를 포함한 str 속성을 갖추고 있다.\n",
    "이를 통해 배열의 각 요소에 대해 쉽게 작업할 수 있다.\n",
    "'''\n",
    "s = pd.Series([\"A\",\"B\",\"C\",\"Aaba\",\"Baca\",np.nan,\"CABA\",\"dog\",\"cat\"])\n",
    "s.str.lower()\n",
    "## 시리즈 s의 각 문자열 요소를 소문자로 변환하는 데 사용됨"
   ]
  },
  {
   "cell_type": "code",
   "execution_count": 85,
   "id": "6655718d-cbe0-402c-b11c-2a6ee951348a",
   "metadata": {},
   "outputs": [],
   "source": [
    "# 4. Merge\n",
    "## 데이터프레임 간에 공통된 열이나 인덱스를 기준으로 데이터를 합치는 연산 + 시리\n",
    "## how, on, left_on, right_on,left_on, right_index등이 매개변수로 있음"
   ]
  },
  {
   "cell_type": "code",
   "execution_count": 86,
   "id": "1ef3c2c7-b4c2-4c26-bb3e-ab63b2243dd8",
   "metadata": {},
   "outputs": [],
   "source": [
    "# concat"
   ]
  },
  {
   "cell_type": "code",
   "execution_count": 87,
   "id": "27d02b94-7031-448c-9e9a-0dfa57e3d469",
   "metadata": {},
   "outputs": [
    {
     "data": {
      "text/html": [
       "<div>\n",
       "<style scoped>\n",
       "    .dataframe tbody tr th:only-of-type {\n",
       "        vertical-align: middle;\n",
       "    }\n",
       "\n",
       "    .dataframe tbody tr th {\n",
       "        vertical-align: top;\n",
       "    }\n",
       "\n",
       "    .dataframe thead th {\n",
       "        text-align: right;\n",
       "    }\n",
       "</style>\n",
       "<table border=\"1\" class=\"dataframe\">\n",
       "  <thead>\n",
       "    <tr style=\"text-align: right;\">\n",
       "      <th></th>\n",
       "      <th>0</th>\n",
       "      <th>1</th>\n",
       "      <th>2</th>\n",
       "      <th>3</th>\n",
       "    </tr>\n",
       "  </thead>\n",
       "  <tbody>\n",
       "    <tr>\n",
       "      <th>0</th>\n",
       "      <td>0.340093</td>\n",
       "      <td>0.627315</td>\n",
       "      <td>0.824847</td>\n",
       "      <td>-0.718721</td>\n",
       "    </tr>\n",
       "    <tr>\n",
       "      <th>1</th>\n",
       "      <td>1.364922</td>\n",
       "      <td>0.105106</td>\n",
       "      <td>-0.630847</td>\n",
       "      <td>0.208606</td>\n",
       "    </tr>\n",
       "    <tr>\n",
       "      <th>2</th>\n",
       "      <td>-1.013961</td>\n",
       "      <td>1.002598</td>\n",
       "      <td>0.918667</td>\n",
       "      <td>-1.597761</td>\n",
       "    </tr>\n",
       "    <tr>\n",
       "      <th>3</th>\n",
       "      <td>-1.045813</td>\n",
       "      <td>-0.780906</td>\n",
       "      <td>0.610782</td>\n",
       "      <td>0.468640</td>\n",
       "    </tr>\n",
       "    <tr>\n",
       "      <th>4</th>\n",
       "      <td>-1.150693</td>\n",
       "      <td>-1.069459</td>\n",
       "      <td>-0.111466</td>\n",
       "      <td>-1.417969</td>\n",
       "    </tr>\n",
       "    <tr>\n",
       "      <th>5</th>\n",
       "      <td>-0.431687</td>\n",
       "      <td>-1.129019</td>\n",
       "      <td>-0.320052</td>\n",
       "      <td>0.029064</td>\n",
       "    </tr>\n",
       "    <tr>\n",
       "      <th>6</th>\n",
       "      <td>-0.539729</td>\n",
       "      <td>-1.469913</td>\n",
       "      <td>0.120755</td>\n",
       "      <td>-0.392574</td>\n",
       "    </tr>\n",
       "    <tr>\n",
       "      <th>7</th>\n",
       "      <td>0.138951</td>\n",
       "      <td>0.356042</td>\n",
       "      <td>-0.442333</td>\n",
       "      <td>-0.302038</td>\n",
       "    </tr>\n",
       "    <tr>\n",
       "      <th>8</th>\n",
       "      <td>0.787180</td>\n",
       "      <td>0.922061</td>\n",
       "      <td>1.133834</td>\n",
       "      <td>0.911240</td>\n",
       "    </tr>\n",
       "    <tr>\n",
       "      <th>9</th>\n",
       "      <td>0.248633</td>\n",
       "      <td>0.889649</td>\n",
       "      <td>0.836975</td>\n",
       "      <td>0.483583</td>\n",
       "    </tr>\n",
       "  </tbody>\n",
       "</table>\n",
       "</div>"
      ],
      "text/plain": [
       "          0         1         2         3\n",
       "0  0.340093  0.627315  0.824847 -0.718721\n",
       "1  1.364922  0.105106 -0.630847  0.208606\n",
       "2 -1.013961  1.002598  0.918667 -1.597761\n",
       "3 -1.045813 -0.780906  0.610782  0.468640\n",
       "4 -1.150693 -1.069459 -0.111466 -1.417969\n",
       "5 -0.431687 -1.129019 -0.320052  0.029064\n",
       "6 -0.539729 -1.469913  0.120755 -0.392574\n",
       "7  0.138951  0.356042 -0.442333 -0.302038\n",
       "8  0.787180  0.922061  1.133834  0.911240\n",
       "9  0.248633  0.889649  0.836975  0.483583"
      ]
     },
     "execution_count": 87,
     "metadata": {},
     "output_type": "execute_result"
    }
   ],
   "source": [
    "'''\n",
    "concat()은 판다스 객체를 행 방향(axis=0, 행 인덱스 다음으로 붙여짐)으로 이어붙이는 데 사용됨\n",
    "여러 개의 판다스 객체를 하나의 객체로 결합할 수 있습니다.\n",
    "'''\n",
    "df = pd.DataFrame(np.random.randn(10,4))\n",
    "df\n",
    "## np.random.randn()은 표준정규분포에서 랜덤한 샘플 추출\n",
    "## (행 갯수, 열 갯수 )"
   ]
  },
  {
   "cell_type": "code",
   "execution_count": 88,
   "id": "4905b408-957e-435b-b6de-714d6aa8d346",
   "metadata": {},
   "outputs": [
    {
     "data": {
      "text/plain": [
       "[          0         1         2         3\n",
       " 0  0.340093  0.627315  0.824847 -0.718721\n",
       " 1  1.364922  0.105106 -0.630847  0.208606\n",
       " 2 -1.013961  1.002598  0.918667 -1.597761,\n",
       "           0         1         2         3\n",
       " 3 -1.045813 -0.780906  0.610782  0.468640\n",
       " 4 -1.150693 -1.069459 -0.111466 -1.417969\n",
       " 5 -0.431687 -1.129019 -0.320052  0.029064\n",
       " 6 -0.539729 -1.469913  0.120755 -0.392574,\n",
       "           0         1         2         3\n",
       " 7  0.138951  0.356042 -0.442333 -0.302038\n",
       " 8  0.787180  0.922061  1.133834  0.911240\n",
       " 9  0.248633  0.889649  0.836975  0.483583]"
      ]
     },
     "execution_count": 88,
     "metadata": {},
     "output_type": "execute_result"
    }
   ],
   "source": [
    "pieces = [df[:3], df[3:7],df[7:]]\n",
    "pieces\n",
    "## df[:3] 행을 슬라이싱\n",
    "## df[2]와의 차이는 df[2]는 2번째 열을 반환, 특정열을 반환\n",
    "## 두 개의 열을 반환하고 싶다면 df[[2,3]\n",
    "## df[:]와 df[숫자] 또는 df[[숫자들]]의 차이를 구분해야 \n",
    "\n",
    "## df.loc[자를 행, 자를 열],"
   ]
  },
  {
   "cell_type": "code",
   "execution_count": 89,
   "id": "ac75df29-adf0-460b-8cb6-5af6b7a64d0d",
   "metadata": {},
   "outputs": [
    {
     "data": {
      "text/html": [
       "<div>\n",
       "<style scoped>\n",
       "    .dataframe tbody tr th:only-of-type {\n",
       "        vertical-align: middle;\n",
       "    }\n",
       "\n",
       "    .dataframe tbody tr th {\n",
       "        vertical-align: top;\n",
       "    }\n",
       "\n",
       "    .dataframe thead th {\n",
       "        text-align: right;\n",
       "    }\n",
       "</style>\n",
       "<table border=\"1\" class=\"dataframe\">\n",
       "  <thead>\n",
       "    <tr style=\"text-align: right;\">\n",
       "      <th></th>\n",
       "      <th>0</th>\n",
       "      <th>1</th>\n",
       "      <th>2</th>\n",
       "      <th>3</th>\n",
       "    </tr>\n",
       "  </thead>\n",
       "  <tbody>\n",
       "    <tr>\n",
       "      <th>0</th>\n",
       "      <td>0.340093</td>\n",
       "      <td>0.627315</td>\n",
       "      <td>0.824847</td>\n",
       "      <td>-0.718721</td>\n",
       "    </tr>\n",
       "    <tr>\n",
       "      <th>1</th>\n",
       "      <td>1.364922</td>\n",
       "      <td>0.105106</td>\n",
       "      <td>-0.630847</td>\n",
       "      <td>0.208606</td>\n",
       "    </tr>\n",
       "    <tr>\n",
       "      <th>2</th>\n",
       "      <td>-1.013961</td>\n",
       "      <td>1.002598</td>\n",
       "      <td>0.918667</td>\n",
       "      <td>-1.597761</td>\n",
       "    </tr>\n",
       "    <tr>\n",
       "      <th>3</th>\n",
       "      <td>-1.045813</td>\n",
       "      <td>-0.780906</td>\n",
       "      <td>0.610782</td>\n",
       "      <td>0.468640</td>\n",
       "    </tr>\n",
       "    <tr>\n",
       "      <th>4</th>\n",
       "      <td>-1.150693</td>\n",
       "      <td>-1.069459</td>\n",
       "      <td>-0.111466</td>\n",
       "      <td>-1.417969</td>\n",
       "    </tr>\n",
       "    <tr>\n",
       "      <th>5</th>\n",
       "      <td>-0.431687</td>\n",
       "      <td>-1.129019</td>\n",
       "      <td>-0.320052</td>\n",
       "      <td>0.029064</td>\n",
       "    </tr>\n",
       "    <tr>\n",
       "      <th>6</th>\n",
       "      <td>-0.539729</td>\n",
       "      <td>-1.469913</td>\n",
       "      <td>0.120755</td>\n",
       "      <td>-0.392574</td>\n",
       "    </tr>\n",
       "    <tr>\n",
       "      <th>7</th>\n",
       "      <td>0.138951</td>\n",
       "      <td>0.356042</td>\n",
       "      <td>-0.442333</td>\n",
       "      <td>-0.302038</td>\n",
       "    </tr>\n",
       "    <tr>\n",
       "      <th>8</th>\n",
       "      <td>0.787180</td>\n",
       "      <td>0.922061</td>\n",
       "      <td>1.133834</td>\n",
       "      <td>0.911240</td>\n",
       "    </tr>\n",
       "    <tr>\n",
       "      <th>9</th>\n",
       "      <td>0.248633</td>\n",
       "      <td>0.889649</td>\n",
       "      <td>0.836975</td>\n",
       "      <td>0.483583</td>\n",
       "    </tr>\n",
       "  </tbody>\n",
       "</table>\n",
       "</div>"
      ],
      "text/plain": [
       "          0         1         2         3\n",
       "0  0.340093  0.627315  0.824847 -0.718721\n",
       "1  1.364922  0.105106 -0.630847  0.208606\n",
       "2 -1.013961  1.002598  0.918667 -1.597761\n",
       "3 -1.045813 -0.780906  0.610782  0.468640\n",
       "4 -1.150693 -1.069459 -0.111466 -1.417969\n",
       "5 -0.431687 -1.129019 -0.320052  0.029064\n",
       "6 -0.539729 -1.469913  0.120755 -0.392574\n",
       "7  0.138951  0.356042 -0.442333 -0.302038\n",
       "8  0.787180  0.922061  1.133834  0.911240\n",
       "9  0.248633  0.889649  0.836975  0.483583"
      ]
     },
     "execution_count": 89,
     "metadata": {},
     "output_type": "execute_result"
    }
   ],
   "source": [
    "pd.concat(pieces)\n",
    "## 3개의 판다스 객체가 행 방향으로 이어붙여"
   ]
  },
  {
   "cell_type": "code",
   "execution_count": 90,
   "id": "54f46865-166d-4255-bd8e-f18e6c9015ea",
   "metadata": {},
   "outputs": [
    {
     "name": "stdout",
     "output_type": "stream",
     "text": [
      "       key  value\n",
      "df_a 0   A      1\n",
      "     1   B      2\n",
      "     2   C      3\n",
      "df_b 0   B      4\n",
      "     1   C      5\n",
      "     2   D      6\n"
     ]
    }
   ],
   "source": [
    "# 두 데이터프레임의 키 값이 같은 경\n",
    "\n",
    "# 첫 번째 데이터프레임 생성\n",
    "df_a = pd.DataFrame({'key': ['A', 'B', 'C'],\n",
    "                    'value': [1, 2, 3]})\n",
    "\n",
    "# 두 번째 데이터프레임 생성\n",
    "df_b = pd.DataFrame({'key': ['B', 'C', 'D'],\n",
    "                    'value': [4, 5, 6]})\n",
    "\n",
    "# 두 데이터프레임을 'key' 열을 기준으로 이어붙이기\n",
    "concatenated_df = pd.concat([df_a, df_b], keys=['df_a', 'df_b'])\n",
    "\n",
    "print(concatenated_df)\n"
   ]
  },
  {
   "cell_type": "code",
   "execution_count": 91,
   "id": "4d747488-03f3-4acf-a973-b066961948b7",
   "metadata": {},
   "outputs": [
    {
     "name": "stdout",
     "output_type": "stream",
     "text": [
      "     A    B    C     D\n",
      "0  1.0  4.0  NaN   NaN\n",
      "1  2.0  5.0  NaN   NaN\n",
      "2  3.0  6.0  NaN   NaN\n",
      "0  NaN  NaN  7.0  10.0\n",
      "1  NaN  NaN  8.0  11.0\n",
      "2  NaN  NaN  9.0  12.0\n"
     ]
    }
   ],
   "source": [
    "# 두 데이터프레임의 키 값이 다른 경우\n",
    "\n",
    "# 첫 번째 데이터프레임 생성\n",
    "df1 = pd.DataFrame({'A': [1, 2, 3],\n",
    "                    'B': [4, 5, 6]})\n",
    "\n",
    "# 두 번째 데이터프레임 생성\n",
    "df2 = pd.DataFrame({'C': [7, 8, 9],\n",
    "                    'D': [10, 11, 12]})\n",
    "\n",
    "# 두 데이터프레임을 행 방향으로 이어붙이기\n",
    "concatenated_df = pd.concat([df1, df2])\n",
    "\n",
    "print(concatenated_df)"
   ]
  },
  {
   "cell_type": "code",
   "execution_count": 92,
   "id": "b3d7369a-710a-4516-ac9f-52c020e59215",
   "metadata": {},
   "outputs": [
    {
     "data": {
      "text/plain": [
       "'\\n데이터프레임에 열을 추가하는 것은 비교적 빠르지만,\\n행을 추가하는 것은 복사가 필요하고 비용이 많이 든다.\\n\\n행을 하나씩 추가하는 대신에 데이터프레임 생성자에 \\n사전에 준비된 레코드의 목록을 전달하는 것이 좋다고 권장 \\n\\n즉, append() 메서드를 반복적으로 사용하는 것보다는,\\n모든 행의 데이터를 포함한 리스트를 사용하여 \\n한 번에 데이터프레임을 생성하는 것이 더 효율덕이다.\\n즉, concat()함수를 사용하여 한 번에 추\\n'"
      ]
     },
     "execution_count": 92,
     "metadata": {},
     "output_type": "execute_result"
    }
   ],
   "source": [
    "'''\n",
    "데이터프레임에 열을 추가하는 것은 비교적 빠르지만,\n",
    "행을 추가하는 것은 복사가 필요하고 비용이 많이 든다.\n",
    "\n",
    "행을 하나씩 추가하는 대신에 데이터프레임 생성자에 \n",
    "사전에 준비된 레코드의 목록을 전달하는 것이 좋다고 권장 \n",
    "\n",
    "즉, append() 메서드를 반복적으로 사용하는 것보다는,\n",
    "모든 행의 데이터를 포함한 리스트를 사용하여 \n",
    "한 번에 데이터프레임을 생성하는 것이 더 효율덕이다.\n",
    "즉, concat()함수를 사용하여 한 번에 추\n",
    "'''"
   ]
  },
  {
   "cell_type": "code",
   "execution_count": 93,
   "id": "ffe9ec1f-677a-43b0-a9a9-1f9c9f558ce2",
   "metadata": {},
   "outputs": [],
   "source": [
    "# join"
   ]
  },
  {
   "cell_type": "code",
   "execution_count": 94,
   "id": "5bbb2afb-bd7d-4249-a129-5c73c0621e42",
   "metadata": {},
   "outputs": [
    {
     "name": "stdout",
     "output_type": "stream",
     "text": [
      "  keys  lval\n",
      "0  foo     1\n",
      "1  foo     2\n",
      "  keys  lval\n",
      "0  foo     4\n",
      "1  foo     5\n"
     ]
    }
   ],
   "source": [
    "left = pd.DataFrame({\"keys\":[\"foo\",\"foo\"],\"lval\":[1,2]})\n",
    "right = pd.DataFrame({\"keys\":[\"foo\",\"foo\"],\"lval\":[4,5]})\n",
    "print(left)\n",
    "print(right)\n",
    "## key값이 컬럼 명으로 들어감"
   ]
  },
  {
   "cell_type": "code",
   "execution_count": 95,
   "id": "0ce815f1-f2e9-48af-b3b0-260fde914d01",
   "metadata": {},
   "outputs": [
    {
     "data": {
      "text/html": [
       "<div>\n",
       "<style scoped>\n",
       "    .dataframe tbody tr th:only-of-type {\n",
       "        vertical-align: middle;\n",
       "    }\n",
       "\n",
       "    .dataframe tbody tr th {\n",
       "        vertical-align: top;\n",
       "    }\n",
       "\n",
       "    .dataframe thead th {\n",
       "        text-align: right;\n",
       "    }\n",
       "</style>\n",
       "<table border=\"1\" class=\"dataframe\">\n",
       "  <thead>\n",
       "    <tr style=\"text-align: right;\">\n",
       "      <th></th>\n",
       "      <th>keys</th>\n",
       "      <th>lval_x</th>\n",
       "      <th>lval_y</th>\n",
       "    </tr>\n",
       "  </thead>\n",
       "  <tbody>\n",
       "    <tr>\n",
       "      <th>0</th>\n",
       "      <td>foo</td>\n",
       "      <td>1</td>\n",
       "      <td>4</td>\n",
       "    </tr>\n",
       "    <tr>\n",
       "      <th>1</th>\n",
       "      <td>foo</td>\n",
       "      <td>1</td>\n",
       "      <td>5</td>\n",
       "    </tr>\n",
       "    <tr>\n",
       "      <th>2</th>\n",
       "      <td>foo</td>\n",
       "      <td>2</td>\n",
       "      <td>4</td>\n",
       "    </tr>\n",
       "    <tr>\n",
       "      <th>3</th>\n",
       "      <td>foo</td>\n",
       "      <td>2</td>\n",
       "      <td>5</td>\n",
       "    </tr>\n",
       "  </tbody>\n",
       "</table>\n",
       "</div>"
      ],
      "text/plain": [
       "  keys  lval_x  lval_y\n",
       "0  foo       1       4\n",
       "1  foo       1       5\n",
       "2  foo       2       4\n",
       "3  foo       2       5"
      ]
     },
     "execution_count": 95,
     "metadata": {},
     "output_type": "execute_result"
    }
   ],
   "source": [
    "pd.merge(left, right, on=\"keys\")\n",
    "## 판다스의 merge()함수를 사용하여 두 개의 데이터프레임을 병합하는 예시\n",
    "## on매개변수는 병합할 때 사용할 열 또는 열들의 리스트를 지정함\n",
    "## 이를 조합하면 keys 열의 값이 서로 일치하는 행들을 찾아 두 데이터프레임을 병합\n",
    "## 공통된 열을 기준으로 데이터를 합침"
   ]
  },
  {
   "cell_type": "code",
   "execution_count": 96,
   "id": "085a11fc-e670-44a1-8489-3853d7036c92",
   "metadata": {},
   "outputs": [
    {
     "data": {
      "text/html": [
       "<div>\n",
       "<style scoped>\n",
       "    .dataframe tbody tr th:only-of-type {\n",
       "        vertical-align: middle;\n",
       "    }\n",
       "\n",
       "    .dataframe tbody tr th {\n",
       "        vertical-align: top;\n",
       "    }\n",
       "\n",
       "    .dataframe thead th {\n",
       "        text-align: right;\n",
       "    }\n",
       "</style>\n",
       "<table border=\"1\" class=\"dataframe\">\n",
       "  <thead>\n",
       "    <tr style=\"text-align: right;\">\n",
       "      <th></th>\n",
       "      <th>keys</th>\n",
       "      <th>lval_x</th>\n",
       "      <th>lval_y</th>\n",
       "    </tr>\n",
       "  </thead>\n",
       "  <tbody>\n",
       "    <tr>\n",
       "      <th>0</th>\n",
       "      <td>foo</td>\n",
       "      <td>2</td>\n",
       "      <td>5</td>\n",
       "    </tr>\n",
       "  </tbody>\n",
       "</table>\n",
       "</div>"
      ],
      "text/plain": [
       "  keys  lval_x  lval_y\n",
       "0  foo       2       5"
      ]
     },
     "execution_count": 96,
     "metadata": {},
     "output_type": "execute_result"
    }
   ],
   "source": [
    "left = pd.DataFrame({\"keys\":[\"1\",\"foo\"],\"lval\":[1,2]})\n",
    "right = pd.DataFrame({\"keys\":[\"3\",\"foo\"],\"lval\":[4,5]})\n",
    "pd.merge(left, right, on=\"keys\")"
   ]
  },
  {
   "cell_type": "code",
   "execution_count": 97,
   "id": "28df9f4c-aab3-433e-be38-0f9f3e5d1201",
   "metadata": {},
   "outputs": [
    {
     "data": {
      "text/html": [
       "<div>\n",
       "<style scoped>\n",
       "    .dataframe tbody tr th:only-of-type {\n",
       "        vertical-align: middle;\n",
       "    }\n",
       "\n",
       "    .dataframe tbody tr th {\n",
       "        vertical-align: top;\n",
       "    }\n",
       "\n",
       "    .dataframe thead th {\n",
       "        text-align: right;\n",
       "    }\n",
       "</style>\n",
       "<table border=\"1\" class=\"dataframe\">\n",
       "  <thead>\n",
       "    <tr style=\"text-align: right;\">\n",
       "      <th></th>\n",
       "      <th>keys</th>\n",
       "      <th>lval_x</th>\n",
       "      <th>lval_y</th>\n",
       "    </tr>\n",
       "  </thead>\n",
       "  <tbody>\n",
       "    <tr>\n",
       "      <th>0</th>\n",
       "      <td>foo</td>\n",
       "      <td>1</td>\n",
       "      <td>4</td>\n",
       "    </tr>\n",
       "    <tr>\n",
       "      <th>1</th>\n",
       "      <td>bar</td>\n",
       "      <td>2</td>\n",
       "      <td>5</td>\n",
       "    </tr>\n",
       "  </tbody>\n",
       "</table>\n",
       "</div>"
      ],
      "text/plain": [
       "  keys  lval_x  lval_y\n",
       "0  foo       1       4\n",
       "1  bar       2       5"
      ]
     },
     "execution_count": 97,
     "metadata": {},
     "output_type": "execute_result"
    }
   ],
   "source": [
    "left = pd.DataFrame({\"keys\":[\"foo\",\"bar\"],\"lval\":[1,2]})\n",
    "right = pd.DataFrame({\"keys\":[\"foo\",\"bar\"],\"lval\":[4,5]})\n",
    "pd.merge(left, right, on=\"keys\")"
   ]
  },
  {
   "cell_type": "code",
   "execution_count": 98,
   "id": "23a046d9-ede8-4771-ba3e-481aa064e420",
   "metadata": {},
   "outputs": [
    {
     "data": {
      "text/plain": [
       "'\\nGroup By\\n1. Splitting\\n- 데이터를 특정 기준에 따라 여러 그룹으로 나누는 과정\\n- 이 기준은 데이터프레임의 열 값\\nex) 고객 정보를 성별에 따라 그룹으로 나누는 것\\n\\n2. Applying\\n- 각 그룹에 대해 독립적으로 함수를 적용\\n- 각 그룹에 대한 계산이나 변환을 수행\\nex) 각 그룹의 평균을 계산하거나, 각 그룹의 데이터를 정렬\\n\\n3. Combining\\n- 각 그룹에 대해 적용된 함수의 결과를 하나의 데이터 구조로 결합\\n- 이는 보통 새로운 데이터프레임이나 시리즈로 나타남\\n- 각 그룹의 결과를 통합하여 전체 데이터를 요약하거나 분\\n'"
      ]
     },
     "execution_count": 98,
     "metadata": {},
     "output_type": "execute_result"
    }
   ],
   "source": [
    "# Grouping\n",
    "'''\n",
    "Group By\n",
    "1. Splitting\n",
    "- 데이터를 특정 기준에 따라 여러 그룹으로 나누는 과정\n",
    "- 이 기준은 데이터프레임의 열 값\n",
    "ex) 고객 정보를 성별에 따라 그룹으로 나누는 것\n",
    "\n",
    "2. Applying\n",
    "- 각 그룹에 대해 독립적으로 함수를 적용\n",
    "- 각 그룹에 대한 계산이나 변환을 수행\n",
    "ex) 각 그룹의 평균을 계산하거나, 각 그룹의 데이터를 정렬\n",
    "\n",
    "3. Combining\n",
    "- 각 그룹에 대해 적용된 함수의 결과를 하나의 데이터 구조로 결합\n",
    "- 이는 보통 새로운 데이터프레임이나 시리즈로 나타남\n",
    "- 각 그룹의 결과를 통합하여 전체 데이터를 요약하거나 분\n",
    "'''"
   ]
  },
  {
   "cell_type": "code",
   "execution_count": 99,
   "id": "0fdf0d17-c06c-4060-85a1-ce26b56d1ae1",
   "metadata": {},
   "outputs": [
    {
     "data": {
      "text/html": [
       "<div>\n",
       "<style scoped>\n",
       "    .dataframe tbody tr th:only-of-type {\n",
       "        vertical-align: middle;\n",
       "    }\n",
       "\n",
       "    .dataframe tbody tr th {\n",
       "        vertical-align: top;\n",
       "    }\n",
       "\n",
       "    .dataframe thead th {\n",
       "        text-align: right;\n",
       "    }\n",
       "</style>\n",
       "<table border=\"1\" class=\"dataframe\">\n",
       "  <thead>\n",
       "    <tr style=\"text-align: right;\">\n",
       "      <th></th>\n",
       "      <th>A</th>\n",
       "      <th>B</th>\n",
       "      <th>C</th>\n",
       "      <th>D</th>\n",
       "    </tr>\n",
       "  </thead>\n",
       "  <tbody>\n",
       "    <tr>\n",
       "      <th>0</th>\n",
       "      <td>foo</td>\n",
       "      <td>one</td>\n",
       "      <td>-2.344317</td>\n",
       "      <td>-0.408039</td>\n",
       "    </tr>\n",
       "    <tr>\n",
       "      <th>1</th>\n",
       "      <td>bar</td>\n",
       "      <td>one</td>\n",
       "      <td>0.649868</td>\n",
       "      <td>0.410545</td>\n",
       "    </tr>\n",
       "    <tr>\n",
       "      <th>2</th>\n",
       "      <td>foo</td>\n",
       "      <td>two</td>\n",
       "      <td>-0.554529</td>\n",
       "      <td>1.015827</td>\n",
       "    </tr>\n",
       "    <tr>\n",
       "      <th>3</th>\n",
       "      <td>bar</td>\n",
       "      <td>three</td>\n",
       "      <td>-0.874696</td>\n",
       "      <td>0.454582</td>\n",
       "    </tr>\n",
       "    <tr>\n",
       "      <th>4</th>\n",
       "      <td>foo</td>\n",
       "      <td>two</td>\n",
       "      <td>-0.487846</td>\n",
       "      <td>0.234287</td>\n",
       "    </tr>\n",
       "    <tr>\n",
       "      <th>5</th>\n",
       "      <td>bar</td>\n",
       "      <td>two</td>\n",
       "      <td>-0.507993</td>\n",
       "      <td>1.929852</td>\n",
       "    </tr>\n",
       "    <tr>\n",
       "      <th>6</th>\n",
       "      <td>foo</td>\n",
       "      <td>one</td>\n",
       "      <td>-0.219610</td>\n",
       "      <td>1.323247</td>\n",
       "    </tr>\n",
       "    <tr>\n",
       "      <th>7</th>\n",
       "      <td>foo</td>\n",
       "      <td>three</td>\n",
       "      <td>0.213456</td>\n",
       "      <td>0.299740</td>\n",
       "    </tr>\n",
       "  </tbody>\n",
       "</table>\n",
       "</div>"
      ],
      "text/plain": [
       "     A      B         C         D\n",
       "0  foo    one -2.344317 -0.408039\n",
       "1  bar    one  0.649868  0.410545\n",
       "2  foo    two -0.554529  1.015827\n",
       "3  bar  three -0.874696  0.454582\n",
       "4  foo    two -0.487846  0.234287\n",
       "5  bar    two -0.507993  1.929852\n",
       "6  foo    one -0.219610  1.323247\n",
       "7  foo  three  0.213456  0.299740"
      ]
     },
     "execution_count": 99,
     "metadata": {},
     "output_type": "execute_result"
    }
   ],
   "source": [
    "df = pd.DataFrame(\n",
    "    {\n",
    "        \"A\": [\"foo\", \"bar\", \"foo\", \"bar\", \"foo\", \"bar\", \"foo\", \"foo\"],\n",
    "        \"B\": [\"one\", \"one\", \"two\", \"three\", \"two\", \"two\", \"one\", \"three\"],\n",
    "        \"C\": np.random.randn(8),\n",
    "        \"D\": np.random.randn(8),\n",
    "    }\n",
    ")   \n",
    "df\n",
    "## 딕셔너리 형태로 데이터 정의 \n",
    "## 딕셔너리 형태의 데이터를 DataFrame 생성자에 전달하여 DataFrame생성"
   ]
  },
  {
   "cell_type": "code",
   "execution_count": 100,
   "id": "d4e809af-3a9c-439f-af89-fc885c9aed37",
   "metadata": {},
   "outputs": [
    {
     "data": {
      "text/html": [
       "<div>\n",
       "<style scoped>\n",
       "    .dataframe tbody tr th:only-of-type {\n",
       "        vertical-align: middle;\n",
       "    }\n",
       "\n",
       "    .dataframe tbody tr th {\n",
       "        vertical-align: top;\n",
       "    }\n",
       "\n",
       "    .dataframe thead th {\n",
       "        text-align: right;\n",
       "    }\n",
       "</style>\n",
       "<table border=\"1\" class=\"dataframe\">\n",
       "  <thead>\n",
       "    <tr style=\"text-align: right;\">\n",
       "      <th></th>\n",
       "      <th>C</th>\n",
       "      <th>D</th>\n",
       "    </tr>\n",
       "    <tr>\n",
       "      <th>A</th>\n",
       "      <th></th>\n",
       "      <th></th>\n",
       "    </tr>\n",
       "  </thead>\n",
       "  <tbody>\n",
       "    <tr>\n",
       "      <th>bar</th>\n",
       "      <td>-0.732822</td>\n",
       "      <td>2.794979</td>\n",
       "    </tr>\n",
       "    <tr>\n",
       "      <th>foo</th>\n",
       "      <td>-3.392847</td>\n",
       "      <td>2.465063</td>\n",
       "    </tr>\n",
       "  </tbody>\n",
       "</table>\n",
       "</div>"
      ],
      "text/plain": [
       "            C         D\n",
       "A                      \n",
       "bar -0.732822  2.794979\n",
       "foo -3.392847  2.465063"
      ]
     },
     "execution_count": 100,
     "metadata": {},
     "output_type": "execute_result"
    }
   ],
   "source": [
    "'''\n",
    "1. 열 레이블을 기준으로 데이터를 그룹화\n",
    "2. 선택한 열 가져오기\n",
    "3. 결과 그룹에 DataFrameGroupBy.sum()함수를 적용하기\n",
    "\n",
    "## groupny()메서드와 sum()함수를 함께 사용하여 \n",
    "데이터프레임을 그룹화하고 그룹별로 열을 선택한 뒤,\n",
    "선택한 열의 값들을 더하여 그룹별 합계를 계산하는 \n",
    "\n",
    "ex) 컬럼이 A,B,C 3개가 있을때 \n",
    "result = df.groupby(\"C\").sum()\n",
    "열 C를 기준으로 데이터를 그룹화하고, \n",
    "그룹별로 열 C의 값을 합산\n",
    "이렇게 하면 C열을 기준으로 데이터프레임이 그룹화되고,\n",
    "각 그룹의 A와 B열의 값ㅇ르 더한 결과가 반환\n",
    "'''\n",
    "df.groupby(\"A\")[[\"C\",\"D\"]].sum()\n",
    "## df.groupby(\"A\")[[\"C\",\"D\"]].sum() 는 C와 D를 데이터프레임으로 감싸는 방식\n",
    "## df.groupby(\"A\")[\"C\",\"D\"].sum()는 C와 D를 리스트 형태로 선택할 열들을 직접 명시하는 방"
   ]
  },
  {
   "cell_type": "code",
   "execution_count": 101,
   "id": "1ad32d55-3319-446c-8723-0fd0013bdbd8",
   "metadata": {},
   "outputs": [
    {
     "data": {
      "text/html": [
       "<div>\n",
       "<style scoped>\n",
       "    .dataframe tbody tr th:only-of-type {\n",
       "        vertical-align: middle;\n",
       "    }\n",
       "\n",
       "    .dataframe tbody tr th {\n",
       "        vertical-align: top;\n",
       "    }\n",
       "\n",
       "    .dataframe thead th {\n",
       "        text-align: right;\n",
       "    }\n",
       "</style>\n",
       "<table border=\"1\" class=\"dataframe\">\n",
       "  <thead>\n",
       "    <tr style=\"text-align: right;\">\n",
       "      <th></th>\n",
       "      <th>B</th>\n",
       "      <th>C</th>\n",
       "      <th>D</th>\n",
       "    </tr>\n",
       "    <tr>\n",
       "      <th>A</th>\n",
       "      <th></th>\n",
       "      <th></th>\n",
       "      <th></th>\n",
       "    </tr>\n",
       "  </thead>\n",
       "  <tbody>\n",
       "    <tr>\n",
       "      <th>bar</th>\n",
       "      <td>onethreetwo</td>\n",
       "      <td>-0.732822</td>\n",
       "      <td>2.794979</td>\n",
       "    </tr>\n",
       "    <tr>\n",
       "      <th>foo</th>\n",
       "      <td>onetwotwoonethree</td>\n",
       "      <td>-3.392847</td>\n",
       "      <td>2.465063</td>\n",
       "    </tr>\n",
       "  </tbody>\n",
       "</table>\n",
       "</div>"
      ],
      "text/plain": [
       "                     B         C         D\n",
       "A                                         \n",
       "bar        onethreetwo -0.732822  2.794979\n",
       "foo  onetwotwoonethree -3.392847  2.465063"
      ]
     },
     "execution_count": 101,
     "metadata": {},
     "output_type": "execute_result"
    }
   ],
   "source": [
    "df.groupby(\"A\").sum()\n",
    "# 선택할 열을 지정하지 않으면 그룹화한 열을 제외한 모든 열이 반환"
   ]
  },
  {
   "cell_type": "code",
   "execution_count": 102,
   "id": "d54fa10d-a139-4684-ac8c-9db326046846",
   "metadata": {},
   "outputs": [
    {
     "data": {
      "text/html": [
       "<div>\n",
       "<style scoped>\n",
       "    .dataframe tbody tr th:only-of-type {\n",
       "        vertical-align: middle;\n",
       "    }\n",
       "\n",
       "    .dataframe tbody tr th {\n",
       "        vertical-align: top;\n",
       "    }\n",
       "\n",
       "    .dataframe thead th {\n",
       "        text-align: right;\n",
       "    }\n",
       "</style>\n",
       "<table border=\"1\" class=\"dataframe\">\n",
       "  <thead>\n",
       "    <tr style=\"text-align: right;\">\n",
       "      <th></th>\n",
       "      <th></th>\n",
       "      <th>C</th>\n",
       "      <th>D</th>\n",
       "    </tr>\n",
       "    <tr>\n",
       "      <th>A</th>\n",
       "      <th>B</th>\n",
       "      <th></th>\n",
       "      <th></th>\n",
       "    </tr>\n",
       "  </thead>\n",
       "  <tbody>\n",
       "    <tr>\n",
       "      <th rowspan=\"3\" valign=\"top\">bar</th>\n",
       "      <th>one</th>\n",
       "      <td>0.649868</td>\n",
       "      <td>0.410545</td>\n",
       "    </tr>\n",
       "    <tr>\n",
       "      <th>three</th>\n",
       "      <td>-0.874696</td>\n",
       "      <td>0.454582</td>\n",
       "    </tr>\n",
       "    <tr>\n",
       "      <th>two</th>\n",
       "      <td>-0.507993</td>\n",
       "      <td>1.929852</td>\n",
       "    </tr>\n",
       "    <tr>\n",
       "      <th rowspan=\"3\" valign=\"top\">foo</th>\n",
       "      <th>one</th>\n",
       "      <td>-2.563928</td>\n",
       "      <td>0.915209</td>\n",
       "    </tr>\n",
       "    <tr>\n",
       "      <th>three</th>\n",
       "      <td>0.213456</td>\n",
       "      <td>0.299740</td>\n",
       "    </tr>\n",
       "    <tr>\n",
       "      <th>two</th>\n",
       "      <td>-1.042375</td>\n",
       "      <td>1.250114</td>\n",
       "    </tr>\n",
       "  </tbody>\n",
       "</table>\n",
       "</div>"
      ],
      "text/plain": [
       "                  C         D\n",
       "A   B                        \n",
       "bar one    0.649868  0.410545\n",
       "    three -0.874696  0.454582\n",
       "    two   -0.507993  1.929852\n",
       "foo one   -2.563928  0.915209\n",
       "    three  0.213456  0.299740\n",
       "    two   -1.042375  1.250114"
      ]
     },
     "execution_count": 102,
     "metadata": {},
     "output_type": "execute_result"
    }
   ],
   "source": [
    "'''\n",
    "여러 열 레이블을 기준으로 데이터 그룹화\n",
    "MultiIndex는 여러 수준을 가지는 인덱스로 데이터를 효율적으로 표현\n",
    "즉, 여러 열을 기준으로 그룹화된 데이터를 계층적으로 표현할 수 있다. \n",
    "'''\n",
    "df.groupby([\"A\",\"B\"]).sum()\n",
    "## df.groupby([\"A\",\"B\"])[\"C\",\"D\"].sum()"
   ]
  },
  {
   "cell_type": "code",
   "execution_count": 103,
   "id": "af06aa5a-6a6c-485c-9309-f53a59898ec5",
   "metadata": {},
   "outputs": [
    {
     "data": {
      "text/plain": [
       "'\\nHierarchical Indexing(계층적 인덱싱)\\n- MultiIndex객체 생성하여, \\n  다중 인덱스 데이터에서 인덱싱, 슬라이싱 및 통계 연산을 수행\\n  데이터에 단순 인덱스 표현과 계층적 인덱스 표현간 전환\\n  \\nReshaping\\n- 데이터프레임의 형태를 변형하거나 재구성하는 다양한 방\\n'"
      ]
     },
     "execution_count": 103,
     "metadata": {},
     "output_type": "execute_result"
    }
   ],
   "source": [
    "# 5. Reshaping\n",
    "## 데이터프레임의 구조를 변경하는 작업을 의미한다\n",
    "'''\n",
    "Hierarchical Indexing(계층적 인덱싱)\n",
    "- MultiIndex객체 생성하여, \n",
    "  다중 인덱스 데이터에서 인덱싱, 슬라이싱 및 통계 연산을 수행\n",
    "  데이터에 단순 인덱스 표현과 계층적 인덱스 표현간 전환\n",
    "  \n",
    "Reshaping\n",
    "- 데이터프레임의 형태를 변형하거나 재구성하는 다양한 방\n",
    "'''"
   ]
  },
  {
   "cell_type": "code",
   "execution_count": 104,
   "id": "62e92241-1a86-470e-98f2-a73036bd0f31",
   "metadata": {},
   "outputs": [],
   "source": [
    "# Stack"
   ]
  },
  {
   "cell_type": "code",
   "execution_count": 105,
   "id": "ae88b21d-6b45-4d10-9ddc-33949943c01a",
   "metadata": {},
   "outputs": [
    {
     "data": {
      "text/html": [
       "<div>\n",
       "<style scoped>\n",
       "    .dataframe tbody tr th:only-of-type {\n",
       "        vertical-align: middle;\n",
       "    }\n",
       "\n",
       "    .dataframe tbody tr th {\n",
       "        vertical-align: top;\n",
       "    }\n",
       "\n",
       "    .dataframe thead th {\n",
       "        text-align: right;\n",
       "    }\n",
       "</style>\n",
       "<table border=\"1\" class=\"dataframe\">\n",
       "  <thead>\n",
       "    <tr style=\"text-align: right;\">\n",
       "      <th></th>\n",
       "      <th></th>\n",
       "      <th>A</th>\n",
       "      <th>B</th>\n",
       "    </tr>\n",
       "    <tr>\n",
       "      <th>first</th>\n",
       "      <th>second</th>\n",
       "      <th></th>\n",
       "      <th></th>\n",
       "    </tr>\n",
       "  </thead>\n",
       "  <tbody>\n",
       "    <tr>\n",
       "      <th rowspan=\"2\" valign=\"top\">bar</th>\n",
       "      <th>one</th>\n",
       "      <td>-0.056925</td>\n",
       "      <td>-0.361193</td>\n",
       "    </tr>\n",
       "    <tr>\n",
       "      <th>two</th>\n",
       "      <td>-1.214239</td>\n",
       "      <td>0.383381</td>\n",
       "    </tr>\n",
       "    <tr>\n",
       "      <th rowspan=\"2\" valign=\"top\">baz</th>\n",
       "      <th>one</th>\n",
       "      <td>-0.567196</td>\n",
       "      <td>-1.404471</td>\n",
       "    </tr>\n",
       "    <tr>\n",
       "      <th>two</th>\n",
       "      <td>0.089951</td>\n",
       "      <td>0.012322</td>\n",
       "    </tr>\n",
       "  </tbody>\n",
       "</table>\n",
       "</div>"
      ],
      "text/plain": [
       "                     A         B\n",
       "first second                    \n",
       "bar   one    -0.056925 -0.361193\n",
       "      two    -1.214239  0.383381\n",
       "baz   one    -0.567196 -1.404471\n",
       "      two     0.089951  0.012322"
      ]
     },
     "execution_count": 105,
     "metadata": {},
     "output_type": "execute_result"
    }
   ],
   "source": [
    "arrays = [\n",
    "   [\"bar\", \"bar\", \"baz\", \"baz\", \"foo\", \"foo\", \"qux\", \"qux\"],\n",
    "   [\"one\", \"two\", \"one\", \"two\", \"one\", \"two\", \"one\", \"two\"],\n",
    "]\n",
    "index = pd.MultiIndex.from_arrays(arrays, names = [\"first\",\"second\"])\n",
    "## arrays리스트는 다중 인덱스를 구성하는 배열\n",
    "## 첫 번째 배열은 first라는 이름의 인덱스 레벨\n",
    "## 두 번째 배열은 second라는 이름의 두 번째 인덱스 레벨\n",
    "\n",
    "## pd.MultiIndex.from_arrays() 함수는 배열을 기반으로 MultiIndex 객체를 생성\n",
    "## name 매개변수를 사용하여 각 인덱스 레벨의 이름을 지정\n",
    "\n",
    "df = pd.DataFrame(np.random.randn(8,2), index = index, columns = [\"A\",\"B\"])\n",
    "df2 = df[0:4]\n",
    "df2"
   ]
  },
  {
   "cell_type": "code",
   "execution_count": 106,
   "id": "b1122f82-c0bc-4176-bfca-459ae9c6c41c",
   "metadata": {},
   "outputs": [
    {
     "data": {
      "text/plain": [
       "first  second   \n",
       "bar    one     A   -0.056925\n",
       "               B   -0.361193\n",
       "       two     A   -1.214239\n",
       "               B    0.383381\n",
       "baz    one     A   -0.567196\n",
       "               B   -1.404471\n",
       "       two     A    0.089951\n",
       "               B    0.012322\n",
       "dtype: float64"
      ]
     },
     "execution_count": 106,
     "metadata": {},
     "output_type": "execute_result"
    }
   ],
   "source": [
    "'''\n",
    "Stack() 데이터프레임의 열에서 수준을 압축\n",
    "즉, 열의 인덱스의 하위 수준으로 이동시킴\n",
    "'''\n",
    "stacked = df2.stack(future_stack=True)\n",
    "stacked\n",
    "## stack 메서드는 기본적으로 가장 안쪽 열 수준을 행 인덱스의 가장 안쪽 수준으로 압축"
   ]
  },
  {
   "cell_type": "code",
   "execution_count": 107,
   "id": "a64ae0df-67fa-49fd-90d7-6cc743245d02",
   "metadata": {},
   "outputs": [
    {
     "data": {
      "text/plain": [
       "first  second   \n",
       "bar    one     A   -0.056925\n",
       "               B   -0.361193\n",
       "       two     A   -1.214239\n",
       "               B    0.383381\n",
       "baz    one     A   -0.567196\n",
       "               B   -1.404471\n",
       "       two     A    0.089951\n",
       "               B    0.012322\n",
       "dtype: float64"
      ]
     },
     "execution_count": 107,
     "metadata": {},
     "output_type": "execute_result"
    }
   ],
   "source": [
    "stacked = df2.stack(level = 0)\n",
    "stacked"
   ]
  },
  {
   "cell_type": "code",
   "execution_count": 108,
   "id": "734fb293-28e6-4cf8-85cc-f6942cafa419",
   "metadata": {},
   "outputs": [
    {
     "data": {
      "text/html": [
       "<div>\n",
       "<style scoped>\n",
       "    .dataframe tbody tr th:only-of-type {\n",
       "        vertical-align: middle;\n",
       "    }\n",
       "\n",
       "    .dataframe tbody tr th {\n",
       "        vertical-align: top;\n",
       "    }\n",
       "\n",
       "    .dataframe thead th {\n",
       "        text-align: right;\n",
       "    }\n",
       "</style>\n",
       "<table border=\"1\" class=\"dataframe\">\n",
       "  <thead>\n",
       "    <tr style=\"text-align: right;\">\n",
       "      <th></th>\n",
       "      <th></th>\n",
       "      <th>A</th>\n",
       "      <th>B</th>\n",
       "    </tr>\n",
       "    <tr>\n",
       "      <th>first</th>\n",
       "      <th>second</th>\n",
       "      <th></th>\n",
       "      <th></th>\n",
       "    </tr>\n",
       "  </thead>\n",
       "  <tbody>\n",
       "    <tr>\n",
       "      <th rowspan=\"2\" valign=\"top\">bar</th>\n",
       "      <th>one</th>\n",
       "      <td>-0.056925</td>\n",
       "      <td>-0.361193</td>\n",
       "    </tr>\n",
       "    <tr>\n",
       "      <th>two</th>\n",
       "      <td>-1.214239</td>\n",
       "      <td>0.383381</td>\n",
       "    </tr>\n",
       "    <tr>\n",
       "      <th rowspan=\"2\" valign=\"top\">baz</th>\n",
       "      <th>one</th>\n",
       "      <td>-0.567196</td>\n",
       "      <td>-1.404471</td>\n",
       "    </tr>\n",
       "    <tr>\n",
       "      <th>two</th>\n",
       "      <td>0.089951</td>\n",
       "      <td>0.012322</td>\n",
       "    </tr>\n",
       "  </tbody>\n",
       "</table>\n",
       "</div>"
      ],
      "text/plain": [
       "                     A         B\n",
       "first second                    \n",
       "bar   one    -0.056925 -0.361193\n",
       "      two    -1.214239  0.383381\n",
       "baz   one    -0.567196 -1.404471\n",
       "      two     0.089951  0.012322"
      ]
     },
     "execution_count": 108,
     "metadata": {},
     "output_type": "execute_result"
    }
   ],
   "source": [
    "'''\n",
    "unstack()\n",
    "데이터프레임이나 시리즈의 경우 stack()의 역연산은 unstack()메서드이다.\n",
    "stack() 메서드는 열을 인덱스의 가장 안쪽으로 압축하는 반면,\n",
    "unstack()은 기본적으로 가장 마지막 수준을 열로 풀어줌\n",
    "\n",
    "# 각각 다른 수준의 인덱스를 열로 풀어주는 방법\n",
    "# 이들의 차이는 unstack()메서드에 전달되는 매개변수 level의 값에 있다.\n",
    "\n",
    "## stack은 열을 행의 안쪽에 압축\n",
    "## unstack은 행을 열로 품\n",
    "'''\n",
    "stacked.unstack()\n",
    "## 기본적으로 가장 마지막 수준의 인덱스를 열로 풀어줌\n",
    "\n",
    "## index = pd.MultiIndex.from_arrays(arrays, names = [\"first\",\"second\"])\n",
    "## first가 첫 번째 인덱스\n",
    "## second 가 두 번째 수준의 인덱스\n",
    "\n",
    "## stacked의 데이터프레임을 살펴보면 \"A\", \"B\"가 행 인덱스의 가장 안쪽 수준으로 압출하였다.\n",
    "## 즉, \"A\"와 \"B\"가 가장 마지막 수준의 인덱스\n",
    "## (**) 데이터 구조 잘 확인하기"
   ]
  },
  {
   "cell_type": "code",
   "execution_count": 109,
   "id": "3130e94a-cb45-43ea-973d-e9575fa75d41",
   "metadata": {},
   "outputs": [
    {
     "data": {
      "text/html": [
       "<div>\n",
       "<style scoped>\n",
       "    .dataframe tbody tr th:only-of-type {\n",
       "        vertical-align: middle;\n",
       "    }\n",
       "\n",
       "    .dataframe tbody tr th {\n",
       "        vertical-align: top;\n",
       "    }\n",
       "\n",
       "    .dataframe thead th {\n",
       "        text-align: right;\n",
       "    }\n",
       "</style>\n",
       "<table border=\"1\" class=\"dataframe\">\n",
       "  <thead>\n",
       "    <tr style=\"text-align: right;\">\n",
       "      <th></th>\n",
       "      <th>second</th>\n",
       "      <th>one</th>\n",
       "      <th>two</th>\n",
       "    </tr>\n",
       "    <tr>\n",
       "      <th>first</th>\n",
       "      <th></th>\n",
       "      <th></th>\n",
       "      <th></th>\n",
       "    </tr>\n",
       "  </thead>\n",
       "  <tbody>\n",
       "    <tr>\n",
       "      <th rowspan=\"2\" valign=\"top\">bar</th>\n",
       "      <th>A</th>\n",
       "      <td>-0.056925</td>\n",
       "      <td>-1.214239</td>\n",
       "    </tr>\n",
       "    <tr>\n",
       "      <th>B</th>\n",
       "      <td>-0.361193</td>\n",
       "      <td>0.383381</td>\n",
       "    </tr>\n",
       "    <tr>\n",
       "      <th rowspan=\"2\" valign=\"top\">baz</th>\n",
       "      <th>A</th>\n",
       "      <td>-0.567196</td>\n",
       "      <td>0.089951</td>\n",
       "    </tr>\n",
       "    <tr>\n",
       "      <th>B</th>\n",
       "      <td>-1.404471</td>\n",
       "      <td>0.012322</td>\n",
       "    </tr>\n",
       "  </tbody>\n",
       "</table>\n",
       "</div>"
      ],
      "text/plain": [
       "second        one       two\n",
       "first                      \n",
       "bar   A -0.056925 -1.214239\n",
       "      B -0.361193  0.383381\n",
       "baz   A -0.567196  0.089951\n",
       "      B -1.404471  0.012322"
      ]
     },
     "execution_count": 109,
     "metadata": {},
     "output_type": "execute_result"
    }
   ],
   "source": [
    "stacked.unstack(1)\n",
    "## 두 번째 수준의 인덱스를 열로 풀어줌"
   ]
  },
  {
   "cell_type": "code",
   "execution_count": 110,
   "id": "d31e047b-3d84-4d61-a513-5abd6b3d6084",
   "metadata": {},
   "outputs": [
    {
     "data": {
      "text/html": [
       "<div>\n",
       "<style scoped>\n",
       "    .dataframe tbody tr th:only-of-type {\n",
       "        vertical-align: middle;\n",
       "    }\n",
       "\n",
       "    .dataframe tbody tr th {\n",
       "        vertical-align: top;\n",
       "    }\n",
       "\n",
       "    .dataframe thead th {\n",
       "        text-align: right;\n",
       "    }\n",
       "</style>\n",
       "<table border=\"1\" class=\"dataframe\">\n",
       "  <thead>\n",
       "    <tr style=\"text-align: right;\">\n",
       "      <th></th>\n",
       "      <th>first</th>\n",
       "      <th>bar</th>\n",
       "      <th>baz</th>\n",
       "    </tr>\n",
       "    <tr>\n",
       "      <th>second</th>\n",
       "      <th></th>\n",
       "      <th></th>\n",
       "      <th></th>\n",
       "    </tr>\n",
       "  </thead>\n",
       "  <tbody>\n",
       "    <tr>\n",
       "      <th rowspan=\"2\" valign=\"top\">one</th>\n",
       "      <th>A</th>\n",
       "      <td>-0.056925</td>\n",
       "      <td>-0.567196</td>\n",
       "    </tr>\n",
       "    <tr>\n",
       "      <th>B</th>\n",
       "      <td>-0.361193</td>\n",
       "      <td>-1.404471</td>\n",
       "    </tr>\n",
       "    <tr>\n",
       "      <th rowspan=\"2\" valign=\"top\">two</th>\n",
       "      <th>A</th>\n",
       "      <td>-1.214239</td>\n",
       "      <td>0.089951</td>\n",
       "    </tr>\n",
       "    <tr>\n",
       "      <th>B</th>\n",
       "      <td>0.383381</td>\n",
       "      <td>0.012322</td>\n",
       "    </tr>\n",
       "  </tbody>\n",
       "</table>\n",
       "</div>"
      ],
      "text/plain": [
       "first          bar       baz\n",
       "second                      \n",
       "one    A -0.056925 -0.567196\n",
       "       B -0.361193 -1.404471\n",
       "two    A -1.214239  0.089951\n",
       "       B  0.383381  0.012322"
      ]
     },
     "execution_count": 110,
     "metadata": {},
     "output_type": "execute_result"
    }
   ],
   "source": [
    "stacked.unstack(0)\n",
    "## 첫 번째 수준의 인덱스를 열로 풀어줌 "
   ]
  },
  {
   "cell_type": "code",
   "execution_count": 111,
   "id": "bb8253cf-78c4-461f-8d69-73a0572851f3",
   "metadata": {},
   "outputs": [],
   "source": [
    "# Pivot tables"
   ]
  },
  {
   "cell_type": "code",
   "execution_count": 112,
   "id": "8c95cbec-4d97-4d33-a461-dbe06d0bcad4",
   "metadata": {},
   "outputs": [
    {
     "data": {
      "text/html": [
       "<div>\n",
       "<style scoped>\n",
       "    .dataframe tbody tr th:only-of-type {\n",
       "        vertical-align: middle;\n",
       "    }\n",
       "\n",
       "    .dataframe tbody tr th {\n",
       "        vertical-align: top;\n",
       "    }\n",
       "\n",
       "    .dataframe thead th {\n",
       "        text-align: right;\n",
       "    }\n",
       "</style>\n",
       "<table border=\"1\" class=\"dataframe\">\n",
       "  <thead>\n",
       "    <tr style=\"text-align: right;\">\n",
       "      <th></th>\n",
       "      <th>A</th>\n",
       "      <th>B</th>\n",
       "      <th>C</th>\n",
       "      <th>D</th>\n",
       "      <th>E</th>\n",
       "    </tr>\n",
       "  </thead>\n",
       "  <tbody>\n",
       "    <tr>\n",
       "      <th>0</th>\n",
       "      <td>one</td>\n",
       "      <td>A</td>\n",
       "      <td>foo</td>\n",
       "      <td>0.486909</td>\n",
       "      <td>0.188181</td>\n",
       "    </tr>\n",
       "    <tr>\n",
       "      <th>1</th>\n",
       "      <td>one</td>\n",
       "      <td>B</td>\n",
       "      <td>foo</td>\n",
       "      <td>0.976406</td>\n",
       "      <td>-0.687882</td>\n",
       "    </tr>\n",
       "    <tr>\n",
       "      <th>2</th>\n",
       "      <td>two</td>\n",
       "      <td>C</td>\n",
       "      <td>foo</td>\n",
       "      <td>-1.783070</td>\n",
       "      <td>1.632812</td>\n",
       "    </tr>\n",
       "    <tr>\n",
       "      <th>3</th>\n",
       "      <td>three</td>\n",
       "      <td>A</td>\n",
       "      <td>bar</td>\n",
       "      <td>0.450588</td>\n",
       "      <td>0.738736</td>\n",
       "    </tr>\n",
       "    <tr>\n",
       "      <th>4</th>\n",
       "      <td>one</td>\n",
       "      <td>B</td>\n",
       "      <td>bar</td>\n",
       "      <td>0.500471</td>\n",
       "      <td>-0.812915</td>\n",
       "    </tr>\n",
       "    <tr>\n",
       "      <th>5</th>\n",
       "      <td>one</td>\n",
       "      <td>C</td>\n",
       "      <td>bar</td>\n",
       "      <td>1.468807</td>\n",
       "      <td>-0.387273</td>\n",
       "    </tr>\n",
       "    <tr>\n",
       "      <th>6</th>\n",
       "      <td>two</td>\n",
       "      <td>A</td>\n",
       "      <td>foo</td>\n",
       "      <td>-1.710985</td>\n",
       "      <td>-1.399076</td>\n",
       "    </tr>\n",
       "    <tr>\n",
       "      <th>7</th>\n",
       "      <td>three</td>\n",
       "      <td>B</td>\n",
       "      <td>foo</td>\n",
       "      <td>-0.274048</td>\n",
       "      <td>-1.238086</td>\n",
       "    </tr>\n",
       "    <tr>\n",
       "      <th>8</th>\n",
       "      <td>one</td>\n",
       "      <td>C</td>\n",
       "      <td>foo</td>\n",
       "      <td>-1.017167</td>\n",
       "      <td>-1.027985</td>\n",
       "    </tr>\n",
       "    <tr>\n",
       "      <th>9</th>\n",
       "      <td>one</td>\n",
       "      <td>A</td>\n",
       "      <td>bar</td>\n",
       "      <td>1.732331</td>\n",
       "      <td>-1.664131</td>\n",
       "    </tr>\n",
       "    <tr>\n",
       "      <th>10</th>\n",
       "      <td>two</td>\n",
       "      <td>B</td>\n",
       "      <td>bar</td>\n",
       "      <td>0.584659</td>\n",
       "      <td>-0.292174</td>\n",
       "    </tr>\n",
       "    <tr>\n",
       "      <th>11</th>\n",
       "      <td>three</td>\n",
       "      <td>C</td>\n",
       "      <td>bar</td>\n",
       "      <td>2.478320</td>\n",
       "      <td>0.013566</td>\n",
       "    </tr>\n",
       "  </tbody>\n",
       "</table>\n",
       "</div>"
      ],
      "text/plain": [
       "        A  B    C         D         E\n",
       "0     one  A  foo  0.486909  0.188181\n",
       "1     one  B  foo  0.976406 -0.687882\n",
       "2     two  C  foo -1.783070  1.632812\n",
       "3   three  A  bar  0.450588  0.738736\n",
       "4     one  B  bar  0.500471 -0.812915\n",
       "5     one  C  bar  1.468807 -0.387273\n",
       "6     two  A  foo -1.710985 -1.399076\n",
       "7   three  B  foo -0.274048 -1.238086\n",
       "8     one  C  foo -1.017167 -1.027985\n",
       "9     one  A  bar  1.732331 -1.664131\n",
       "10    two  B  bar  0.584659 -0.292174\n",
       "11  three  C  bar  2.478320  0.013566"
      ]
     },
     "execution_count": 112,
     "metadata": {},
     "output_type": "execute_result"
    }
   ],
   "source": [
    "df = pd.DataFrame(\n",
    "    {\n",
    "        \"A\": [\"one\", \"one\", \"two\", \"three\"] * 3,\n",
    "        \"B\": [\"A\", \"B\", \"C\"] * 4,\n",
    "        \"C\": [\"foo\", \"foo\", \"foo\", \"bar\", \"bar\", \"bar\"] * 2,\n",
    "        \"D\": np.random.randn(12),\n",
    "        \"E\": np.random.randn(12),\n",
    "    }\n",
    ")\n",
    "df\n",
    "## 딕셔너리 형태의 데이터를 DataFrame 생성자에 전달하여 DataFrame생성\n"
   ]
  },
  {
   "cell_type": "code",
   "execution_count": 113,
   "id": "fe38ee4a-cff5-4be5-9d5b-fc6e35629bc4",
   "metadata": {},
   "outputs": [
    {
     "data": {
      "text/html": [
       "<div>\n",
       "<style scoped>\n",
       "    .dataframe tbody tr th:only-of-type {\n",
       "        vertical-align: middle;\n",
       "    }\n",
       "\n",
       "    .dataframe tbody tr th {\n",
       "        vertical-align: top;\n",
       "    }\n",
       "\n",
       "    .dataframe thead th {\n",
       "        text-align: right;\n",
       "    }\n",
       "</style>\n",
       "<table border=\"1\" class=\"dataframe\">\n",
       "  <thead>\n",
       "    <tr style=\"text-align: right;\">\n",
       "      <th></th>\n",
       "      <th>C</th>\n",
       "      <th>bar</th>\n",
       "      <th>foo</th>\n",
       "    </tr>\n",
       "    <tr>\n",
       "      <th>A</th>\n",
       "      <th>B</th>\n",
       "      <th></th>\n",
       "      <th></th>\n",
       "    </tr>\n",
       "  </thead>\n",
       "  <tbody>\n",
       "    <tr>\n",
       "      <th rowspan=\"3\" valign=\"top\">one</th>\n",
       "      <th>A</th>\n",
       "      <td>1.732331</td>\n",
       "      <td>0.486909</td>\n",
       "    </tr>\n",
       "    <tr>\n",
       "      <th>B</th>\n",
       "      <td>0.500471</td>\n",
       "      <td>0.976406</td>\n",
       "    </tr>\n",
       "    <tr>\n",
       "      <th>C</th>\n",
       "      <td>1.468807</td>\n",
       "      <td>-1.017167</td>\n",
       "    </tr>\n",
       "    <tr>\n",
       "      <th rowspan=\"3\" valign=\"top\">three</th>\n",
       "      <th>A</th>\n",
       "      <td>0.450588</td>\n",
       "      <td>NaN</td>\n",
       "    </tr>\n",
       "    <tr>\n",
       "      <th>B</th>\n",
       "      <td>NaN</td>\n",
       "      <td>-0.274048</td>\n",
       "    </tr>\n",
       "    <tr>\n",
       "      <th>C</th>\n",
       "      <td>2.478320</td>\n",
       "      <td>NaN</td>\n",
       "    </tr>\n",
       "    <tr>\n",
       "      <th rowspan=\"3\" valign=\"top\">two</th>\n",
       "      <th>A</th>\n",
       "      <td>NaN</td>\n",
       "      <td>-1.710985</td>\n",
       "    </tr>\n",
       "    <tr>\n",
       "      <th>B</th>\n",
       "      <td>0.584659</td>\n",
       "      <td>NaN</td>\n",
       "    </tr>\n",
       "    <tr>\n",
       "      <th>C</th>\n",
       "      <td>NaN</td>\n",
       "      <td>-1.783070</td>\n",
       "    </tr>\n",
       "  </tbody>\n",
       "</table>\n",
       "</div>"
      ],
      "text/plain": [
       "C             bar       foo\n",
       "A     B                    \n",
       "one   A  1.732331  0.486909\n",
       "      B  0.500471  0.976406\n",
       "      C  1.468807 -1.017167\n",
       "three A  0.450588       NaN\n",
       "      B       NaN -0.274048\n",
       "      C  2.478320       NaN\n",
       "two   A       NaN -1.710985\n",
       "      B  0.584659       NaN\n",
       "      C       NaN -1.783070"
      ]
     },
     "execution_count": 113,
     "metadata": {},
     "output_type": "execute_result"
    }
   ],
   "source": [
    "'''\n",
    "pivot_table() \n",
    "DataFrame을 피봇할때 인덱스, 열, 값을 지정하여 데이터를 재구성\n",
    "\n",
    "## DataFrame.pivot(index=None, columns=None, values=None)\n",
    "'''\n",
    "pd.pivot_table(df, values = \"D\", index = [\"A\",\"B\"], columns=[\"C\"])\n",
    "## df에서 데이터를 가져와서 values, index, columns 매개변수에 따라 \n",
    "## 데이터 재구성하여 피봇 테이블을 생성"
   ]
  },
  {
   "cell_type": "code",
   "execution_count": 114,
   "id": "f1491af8-bb27-44cc-a0f5-21175fc2d1a5",
   "metadata": {},
   "outputs": [
    {
     "data": {
      "text/plain": [
       "\"\\npd.date_range() 주어진 일련의 날짜를 생성, 시작 날짜와 끝 날짜 \\n또는 시작 날짜와 날짜 간격을 지정하여 날짜 범위를 생성\\n= start: 생성할 날짜 범위의 시작 날짜 지정\\n- end: 생성할 날짜 범위의 끝 날짜 지정\\n- periods: 생성할 날짜의 개수를 지정\\n- freq: 날짜 간격 지정. 기본값은 'D'로 하루 간격을 나타냅니다.\\n- tz: 타임존 지정\\n\""
      ]
     },
     "execution_count": 114,
     "metadata": {},
     "output_type": "execute_result"
    }
   ],
   "source": [
    "# Time series\n",
    "## 빈도 반환 작업을 수행하는 기능이 포함됨\n",
    "## EX) 초 단위 데이터를 5분간격의 데이터로 변환하는 것과 같은 작업\n",
    "## 주로 금융 분야에서 흔히 발생, 그러나 국한되지는 않음\n",
    "'''\n",
    "pd.date_range() 주어진 일련의 날짜를 생성, 시작 날짜와 끝 날짜 \n",
    "또는 시작 날짜와 날짜 간격을 지정하여 날짜 범위를 생성\n",
    "= start: 생성할 날짜 범위의 시작 날짜 지정\n",
    "- end: 생성할 날짜 범위의 끝 날짜 지정\n",
    "- periods: 생성할 날짜의 개수를 지정\n",
    "- freq: 날짜 간격 지정. 기본값은 'D'로 하루 간격을 나타냅니다.\n",
    "- tz: 타임존 지정\n",
    "'''"
   ]
  },
  {
   "cell_type": "code",
   "execution_count": 115,
   "id": "42cc55aa-b7f0-4050-86fb-62a2a8dea8a2",
   "metadata": {},
   "outputs": [
    {
     "data": {
      "text/plain": [
       "2012-01-01    24817\n",
       "Freq: 5T, dtype: int32"
      ]
     },
     "execution_count": 115,
     "metadata": {},
     "output_type": "execute_result"
    }
   ],
   "source": [
    "rng = pd.date_range(\"1/1/2012\", periods=100, freq=\"s\")\n",
    "## freq=\"s\" 초단위\n",
    "\n",
    "ts = pd.Series(np.random.randint(0,500,len(rng)),index=rng)\n",
    "## rng를 인덱스로 하고 0부터 500사이에서 100개의 정수 난수생성\n",
    "\n",
    "ts.resample(\"5Min\").sum()\n",
    "## 5분 간격으로 재샘플링, 이후 각 구간의 합계 계산\n",
    "## 100개의 초 단위 데이터를 5분 간격으로 나누게 되면 \n",
    "## 대략 12개의 5분 구간이 생성됨\n",
    "## 이들 각각의 구간에 대해 해당 구간 내의 값들을 모두 합산한 결과가 출력"
   ]
  },
  {
   "cell_type": "code",
   "execution_count": 116,
   "id": "45209ac7-6cf4-40bf-b2fe-2954403cfde0",
   "metadata": {},
   "outputs": [
    {
     "data": {
      "text/plain": [
       "2012-03-06    1.446333\n",
       "2012-03-07    0.560013\n",
       "2012-03-08    0.993889\n",
       "2012-03-09    0.209305\n",
       "2012-03-10    0.556651\n",
       "Freq: D, dtype: float64"
      ]
     },
     "execution_count": 116,
     "metadata": {},
     "output_type": "execute_result"
    }
   ],
   "source": [
    "'''\n",
    "Series.tz_localize() 은 시계열을 특정 시간대에 로컬화하는 데 사용됨\n",
    "- 시계열 데이터의 인덱스에 사용됨\n",
    "- 해당 인덱스를 특정 시간대의 시간으로 변경\n",
    "'''\n",
    "rng = pd.date_range(\"3/6/2012 00:00\", periods = 5, freq = \"D\")\n",
    "\n",
    "ts = pd.Series(np.random.randn(len(rng)),rng)\n",
    "## (값, 인덱스) \n",
    "ts"
   ]
  },
  {
   "cell_type": "code",
   "execution_count": 117,
   "id": "e03183d7-7db2-43ae-9bb9-060d2cd7a600",
   "metadata": {},
   "outputs": [
    {
     "data": {
      "text/plain": [
       "2012-03-06 00:00:00+00:00    1.446333\n",
       "2012-03-07 00:00:00+00:00    0.560013\n",
       "2012-03-08 00:00:00+00:00    0.993889\n",
       "2012-03-09 00:00:00+00:00    0.209305\n",
       "2012-03-10 00:00:00+00:00    0.556651\n",
       "Freq: D, dtype: float64"
      ]
     },
     "execution_count": 117,
     "metadata": {},
     "output_type": "execute_result"
    }
   ],
   "source": [
    "ts_utc = ts.tz_localize(\"UTC\")\n",
    "ts_utc\n",
    "## UTC: 세계 표준\n",
    "## 시계열 데이터를 UTC로 로컬화한다는 것을 의"
   ]
  },
  {
   "cell_type": "code",
   "execution_count": 118,
   "id": "d16dd0f3-eff4-4e27-a396-55c39708090d",
   "metadata": {},
   "outputs": [
    {
     "data": {
      "text/plain": [
       "2012-03-05 19:00:00-05:00    1.446333\n",
       "2012-03-06 19:00:00-05:00    0.560013\n",
       "2012-03-07 19:00:00-05:00    0.993889\n",
       "2012-03-08 19:00:00-05:00    0.209305\n",
       "2012-03-09 19:00:00-05:00    0.556651\n",
       "Freq: D, dtype: float64"
      ]
     },
     "execution_count": 118,
     "metadata": {},
     "output_type": "execute_result"
    }
   ],
   "source": [
    "'''\n",
    "Series.tz_convert() 은 시간대 정보를 갖는 시계열 데이터를 다른 시간대로 변환\n",
    "- 시계열 데이터가 특정 시간대로 로컬화되어 있고,\n",
    "- 이를 다른 시간대로 변환하고자 할 때\n",
    "## (예: \"America/New_York\",'Asia/Tokyo', \"UTC\" 등)\n",
    "'''\n",
    "ts_utc.tz_convert(\"US/Eastern\")\n",
    "## UTC 시간이 US 시간으로 변환"
   ]
  },
  {
   "cell_type": "code",
   "execution_count": 119,
   "id": "6ae9f790-9cf0-4987-ba30-65a86df765f6",
   "metadata": {},
   "outputs": [
    {
     "data": {
      "text/plain": [
       "DatetimeIndex(['2012-03-13', '2012-03-14', '2012-03-15', '2012-03-16',\n",
       "               '2012-03-16'],\n",
       "              dtype='datetime64[ns]', freq=None)"
      ]
     },
     "execution_count": 119,
     "metadata": {},
     "output_type": "execute_result"
    }
   ],
   "source": [
    "'''\n",
    "비지니스 데이와 같은 고정되지 않은 기간을 시계열에 추가하는 것\n",
    "- 일반적으로 시계열 데이터에는 고정된 시간 간격(일별, 월별)이 사용됨\n",
    "- 그러나 비지니스 데이와 같은 비정형 기간을 고려해야 할 때가 있습니다, \n",
    "- 이는 주말이나 공휴일과 같은 비지니스 활동이 없는 날짜를 제외할 때 유용\n",
    "\n",
    " pd.offsets.BusinessDay 를 사용하면 비지니스 데이를 나타낼 수 있음\n",
    " pd.DateOffset를 사용하면 비지니스 데이를 시계열 데이터에 추가할 수 있음\n",
    " -> 데이터에 원하는 만큼의 비지니스 데이를 더한다.\n",
    "'''\n",
    "rng\n",
    "\n",
    "rng + pd.offsets.BusinessDay(5)\n",
    "\n",
    "## pd.offsets.BusinessDay(5) 5개의 비지니스 데이 생성\n",
    "## 기존의 시계열 데이터에 이를 더하여 새로운 시계열 데이터를 생성\n",
    "\n",
    "## 포함됨 새로운 날짜는 기존의 날짜 범위에서 평일 기준으로 5일 추가한 결과\n",
    "\n",
    "## 두 개의 같은 날짜가 있는 이유는 원래 날짜 범위의 마지막 날짜와 \n",
    "## 새로운 비지니스 데이를 추가한 결과의 마지막 날짜가 동일하기 때문입니다."
   ]
  },
  {
   "cell_type": "code",
   "execution_count": 1,
   "id": "a4546dc4",
   "metadata": {},
   "outputs": [],
   "source": [
    "import pandas as pd\n",
    "rng = pd.date_range(\"3/6/2012 00:00\", periods = 5, freq = \"D\")\n",
    "rng\n",
    "\n",
    "rng + pd.offsets.BusinessDay(5)\n",
    "\n",
    "# businessDay는 휴일 철저리 쉰다"
   ]
  },
  {
   "cell_type": "code",
   "execution_count": null,
   "id": "26bdeca5",
   "metadata": {},
   "outputs": [],
   "source": [
    "# 다른 예시\n",
    "rng1 = pd.date_range(\"4/10/2024 00:00\", periods = 5, freq = \"D\")\n",
    "rng1\n",
    "\n",
    "rng1 + pd.offsets.BusinessDay(5)"
   ]
  },
  {
   "cell_type": "code",
   "execution_count": null,
   "id": "a9def6da",
   "metadata": {},
   "outputs": [],
   "source": [
    "rng = pd.date_range(\"3/6/2012 00:00\", periods = 5, freq = \"D\")\n",
    "rng\n",
    "# rng 출력\n",
    "print(rng)\n",
    "rng_output = rng\n",
    "\n",
    "# businessDay 오프셋 적용\n",
    "rng_businessday = rng + pd.offsets.BusinessDay(5)\n",
    "print(rng_businessday)"
   ]
  },
  {
   "cell_type": "code",
   "execution_count": null,
   "id": "a934c6f9",
   "metadata": {},
   "outputs": [],
   "source": [
    "# 위의 BusinessDay를 실행한 것과 달리 반복되는 날짜가 출력되지 않는다.\n",
    "def apply_biz_day(dates, offset):\n",
    "    result_dates = []\n",
    "    for date in dates:\n",
    "        #주말: 날짜 추가 없음 >> 다음 날짜 계산\n",
    "        if date.weekday() >= 5 : # 5: 주말(토, 일)\n",
    "            modified_date = date + pd.offsets.BusinessDay()\n",
    "        else:\n",
    "            modified_date = date\n",
    "\n",
    "        result_dates.append(modified_date + pd.offsets.BusinessDay(offset))\n",
    "    return pd.DatetimeIndex(result_dates)\n",
    "\n",
    "# 5개의 비지니스 데이 적용\n",
    "apply_biz_day(rng, 5)"
   ]
  },
  {
   "cell_type": "code",
   "execution_count": 120,
   "id": "c7a9ec94-784e-404c-b3f0-3cbb43076cfa",
   "metadata": {},
   "outputs": [
    {
     "data": {
      "text/plain": [
       "'\\n판다스는 데이터프레임에 범주형 데이터를 포함할 수 있다.\\n범주형 데이터는 고유한 값의 유한한 집합으로 정의되어,\\n데이터의 크기가 크더라도 메모리를 절약하고 성능을 향상시킬 수 있습니다.\\n\\nex)\\n성별이나 학력 수준과 같이 일반적으로 제한된 범위 내에서만 \\n값을 가지는 데이터는 범주형으로 처리할 수 있다.\\n'"
      ]
     },
     "execution_count": 120,
     "metadata": {},
     "output_type": "execute_result"
    }
   ],
   "source": [
    "# Categoricals\n",
    "'''\n",
    "판다스는 데이터프레임에 범주형 데이터를 포함할 수 있다.\n",
    "범주형 데이터는 고유한 값의 유한한 집합으로 정의되어,\n",
    "데이터의 크기가 크더라도 메모리를 절약하고 성능을 향상시킬 수 있습니다.\n",
    "\n",
    "ex)\n",
    "성별이나 학력 수준과 같이 일반적으로 제한된 범위 내에서만 \n",
    "값을 가지는 데이터는 범주형으로 처리할 수 있다.\n",
    "'''"
   ]
  },
  {
   "cell_type": "code",
   "execution_count": 121,
   "id": "270f4531-d72d-49b2-a082-a8041773392a",
   "metadata": {},
   "outputs": [
    {
     "data": {
      "text/html": [
       "<div>\n",
       "<style scoped>\n",
       "    .dataframe tbody tr th:only-of-type {\n",
       "        vertical-align: middle;\n",
       "    }\n",
       "\n",
       "    .dataframe tbody tr th {\n",
       "        vertical-align: top;\n",
       "    }\n",
       "\n",
       "    .dataframe thead th {\n",
       "        text-align: right;\n",
       "    }\n",
       "</style>\n",
       "<table border=\"1\" class=\"dataframe\">\n",
       "  <thead>\n",
       "    <tr style=\"text-align: right;\">\n",
       "      <th></th>\n",
       "      <th>id</th>\n",
       "      <th>raw_grade</th>\n",
       "    </tr>\n",
       "  </thead>\n",
       "  <tbody>\n",
       "    <tr>\n",
       "      <th>0</th>\n",
       "      <td>1</td>\n",
       "      <td>a</td>\n",
       "    </tr>\n",
       "    <tr>\n",
       "      <th>1</th>\n",
       "      <td>2</td>\n",
       "      <td>b</td>\n",
       "    </tr>\n",
       "    <tr>\n",
       "      <th>2</th>\n",
       "      <td>3</td>\n",
       "      <td>b</td>\n",
       "    </tr>\n",
       "    <tr>\n",
       "      <th>3</th>\n",
       "      <td>4</td>\n",
       "      <td>a</td>\n",
       "    </tr>\n",
       "    <tr>\n",
       "      <th>4</th>\n",
       "      <td>5</td>\n",
       "      <td>a</td>\n",
       "    </tr>\n",
       "    <tr>\n",
       "      <th>5</th>\n",
       "      <td>6</td>\n",
       "      <td>e</td>\n",
       "    </tr>\n",
       "  </tbody>\n",
       "</table>\n",
       "</div>"
      ],
      "text/plain": [
       "   id raw_grade\n",
       "0   1         a\n",
       "1   2         b\n",
       "2   3         b\n",
       "3   4         a\n",
       "4   5         a\n",
       "5   6         e"
      ]
     },
     "execution_count": 121,
     "metadata": {},
     "output_type": "execute_result"
    }
   ],
   "source": [
    "df = pd.DataFrame(\n",
    "    {\"id\": [1, 2, 3, 4, 5, 6], \"raw_grade\": [\"a\", \"b\", \"b\", \"a\", \"a\", \"e\"]}\n",
    ")\n",
    "## 딕셔너리 형태로 데이터프레임 정의\n",
    "df"
   ]
  },
  {
   "cell_type": "code",
   "execution_count": 122,
   "id": "2fb56319-b005-4a4e-917b-6d0e1639cb31",
   "metadata": {},
   "outputs": [
    {
     "data": {
      "text/plain": [
       "0    a\n",
       "1    b\n",
       "2    b\n",
       "3    a\n",
       "4    a\n",
       "5    e\n",
       "Name: grade, dtype: category\n",
       "Categories (3, object): ['a', 'b', 'e']"
      ]
     },
     "execution_count": 122,
     "metadata": {},
     "output_type": "execute_result"
    }
   ],
   "source": [
    "'''\n",
    "\"raw_grade\"열의 데이터를 범주형으로 변환\n",
    "'''\n",
    "df[\"grade\"] = df[\"raw_grade\"].astype(\"category\")\n",
    "## 범주형으로 변환하면 메모리 사용 줄이고 데이터를 효율적으로 처리 가능\n",
    "df[\"grade\"] "
   ]
  },
  {
   "cell_type": "code",
   "execution_count": 123,
   "id": "c9ce4d93-e2d4-470c-97fd-89e9c62df06a",
   "metadata": {},
   "outputs": [
    {
     "data": {
      "text/html": [
       "<div>\n",
       "<style scoped>\n",
       "    .dataframe tbody tr th:only-of-type {\n",
       "        vertical-align: middle;\n",
       "    }\n",
       "\n",
       "    .dataframe tbody tr th {\n",
       "        vertical-align: top;\n",
       "    }\n",
       "\n",
       "    .dataframe thead th {\n",
       "        text-align: right;\n",
       "    }\n",
       "</style>\n",
       "<table border=\"1\" class=\"dataframe\">\n",
       "  <thead>\n",
       "    <tr style=\"text-align: right;\">\n",
       "      <th></th>\n",
       "      <th>id</th>\n",
       "      <th>raw_grade</th>\n",
       "      <th>grade</th>\n",
       "    </tr>\n",
       "  </thead>\n",
       "  <tbody>\n",
       "    <tr>\n",
       "      <th>0</th>\n",
       "      <td>1</td>\n",
       "      <td>a</td>\n",
       "      <td>very good</td>\n",
       "    </tr>\n",
       "    <tr>\n",
       "      <th>1</th>\n",
       "      <td>2</td>\n",
       "      <td>b</td>\n",
       "      <td>good</td>\n",
       "    </tr>\n",
       "    <tr>\n",
       "      <th>2</th>\n",
       "      <td>3</td>\n",
       "      <td>b</td>\n",
       "      <td>good</td>\n",
       "    </tr>\n",
       "    <tr>\n",
       "      <th>3</th>\n",
       "      <td>4</td>\n",
       "      <td>a</td>\n",
       "      <td>very good</td>\n",
       "    </tr>\n",
       "    <tr>\n",
       "      <th>4</th>\n",
       "      <td>5</td>\n",
       "      <td>a</td>\n",
       "      <td>very good</td>\n",
       "    </tr>\n",
       "    <tr>\n",
       "      <th>5</th>\n",
       "      <td>6</td>\n",
       "      <td>e</td>\n",
       "      <td>very bad</td>\n",
       "    </tr>\n",
       "  </tbody>\n",
       "</table>\n",
       "</div>"
      ],
      "text/plain": [
       "   id raw_grade      grade\n",
       "0   1         a  very good\n",
       "1   2         b       good\n",
       "2   3         b       good\n",
       "3   4         a  very good\n",
       "4   5         a  very good\n",
       "5   6         e   very bad"
      ]
     },
     "execution_count": 123,
     "metadata": {},
     "output_type": "execute_result"
    }
   ],
   "source": [
    "'''\n",
    "cat.categories \n",
    "범주의 이름을 더 의미 있는 이름으로 변경\n",
    "## df[\"raw_grade\"] = df[\"raw_grade\"].cat.rename_categories({\"A\": \"Excellent\", \"B\": \"Good\", \"C\": \"Average\", \"D\": \"Poor\", \"F\": \"Fail\"})\n",
    "'''\n",
    "new_categories = [\"very good\",\"good\",\"very bad\"]\n",
    "df[\"grade\"] = df[\"grade\"].cat.rename_categories(new_categories)\n",
    "df\n",
    "## rename_categories라는 메서드를 사용,\n",
    "## 이 메서드는 범주형 변수의 범주를 재설정하는 데 사용\n",
    "## new_categories 리스트를 전달하여 grade 열의 기존 범주에 새 이름을 할당"
   ]
  },
  {
   "cell_type": "code",
   "execution_count": 124,
   "id": "400ee974-843c-4dbb-8006-613cf5bcdfc7",
   "metadata": {},
   "outputs": [
    {
     "data": {
      "text/plain": [
       "0    very good\n",
       "1         good\n",
       "2         good\n",
       "3    very good\n",
       "4    very good\n",
       "5     very bad\n",
       "Name: grade, dtype: category\n",
       "Categories (5, object): ['very bad', 'bad', 'medium', 'good', 'very good']"
      ]
     },
     "execution_count": 124,
     "metadata": {},
     "output_type": "execute_result"
    }
   ],
   "source": [
    "'''\n",
    "주어진 범주를 재배열하고 동시에 누락된 범주를 추가\n",
    "판다스의 Series.cat() 메서드를 사용하여 새로운 시리즈를 반환, \n",
    "원래 데이터프레임을 변경하지 않고 새로운 시리즈 생성\n",
    "'''\n",
    "df[\"grade\"] = df[\"grade\"].cat.set_categories(\n",
    "            [\"very bad\", \"bad\", \"medium\", \"good\", \"very good\"]\n",
    "            )\n",
    "## set_categories 메서드를 사용하여 기존 범주를 새로운 범주로 바꿈\n",
    "## 새로운 범주는 \"very bad\", \"bad\", \"medium\", \"good\", \"very good\"으로 지정\n",
    "## 원래 \"grade\" 열에 있는 범주 중에서 새로운 범주에 없는 것이 있다면, 그 범주는 NaN으로 설정\n",
    "\n",
    "df[\"grade\"] \n",
    "\n",
    "## 데이터프레임에 새로운 행이 추가 되기 전에는 새로운 범주를 얻을 수 없다.\n",
    "# 새로운 범주는 해당 열에 새로운 값이 추가될 때만 동적으로 생성된다."
   ]
  },
  {
   "cell_type": "code",
   "execution_count": 125,
   "id": "836393d6-f2e5-49f5-9d3d-a9c7869c71b4",
   "metadata": {},
   "outputs": [
    {
     "data": {
      "text/html": [
       "<div>\n",
       "<style scoped>\n",
       "    .dataframe tbody tr th:only-of-type {\n",
       "        vertical-align: middle;\n",
       "    }\n",
       "\n",
       "    .dataframe tbody tr th {\n",
       "        vertical-align: top;\n",
       "    }\n",
       "\n",
       "    .dataframe thead th {\n",
       "        text-align: right;\n",
       "    }\n",
       "</style>\n",
       "<table border=\"1\" class=\"dataframe\">\n",
       "  <thead>\n",
       "    <tr style=\"text-align: right;\">\n",
       "      <th></th>\n",
       "      <th>id</th>\n",
       "      <th>raw_grade</th>\n",
       "      <th>grade</th>\n",
       "    </tr>\n",
       "  </thead>\n",
       "  <tbody>\n",
       "    <tr>\n",
       "      <th>5</th>\n",
       "      <td>6</td>\n",
       "      <td>e</td>\n",
       "      <td>very bad</td>\n",
       "    </tr>\n",
       "    <tr>\n",
       "      <th>1</th>\n",
       "      <td>2</td>\n",
       "      <td>b</td>\n",
       "      <td>good</td>\n",
       "    </tr>\n",
       "    <tr>\n",
       "      <th>2</th>\n",
       "      <td>3</td>\n",
       "      <td>b</td>\n",
       "      <td>good</td>\n",
       "    </tr>\n",
       "    <tr>\n",
       "      <th>0</th>\n",
       "      <td>1</td>\n",
       "      <td>a</td>\n",
       "      <td>very good</td>\n",
       "    </tr>\n",
       "    <tr>\n",
       "      <th>3</th>\n",
       "      <td>4</td>\n",
       "      <td>a</td>\n",
       "      <td>very good</td>\n",
       "    </tr>\n",
       "    <tr>\n",
       "      <th>4</th>\n",
       "      <td>5</td>\n",
       "      <td>a</td>\n",
       "      <td>very good</td>\n",
       "    </tr>\n",
       "  </tbody>\n",
       "</table>\n",
       "</div>"
      ],
      "text/plain": [
       "   id raw_grade      grade\n",
       "5   6         e   very bad\n",
       "1   2         b       good\n",
       "2   3         b       good\n",
       "0   1         a  very good\n",
       "3   4         a  very good\n",
       "4   5         a  very good"
      ]
     },
     "execution_count": 125,
     "metadata": {},
     "output_type": "execute_result"
    }
   ],
   "source": [
    "'''\n",
    "정렬은 범주의 순서에 따라 이루어지며, 사전적 순서가 아님\n",
    "'''\n",
    "df.sort_values(by=\"grade\")\n",
    "## 범주의 순서대로 이루어진다.\n",
    "## 즉, 범주형 열이 정의된 순서대로 정렬\n",
    "## 일반적인 알파벳 순서나 숫자 순서와는 다름\n",
    "## 범주의 순서 \"very bad\", \"bad\", \"medium\", \"good\", \"very good\""
   ]
  },
  {
   "cell_type": "code",
   "execution_count": 126,
   "id": "7ac84615-34f5-4eda-8d8d-8f78e87102fa",
   "metadata": {},
   "outputs": [
    {
     "data": {
      "text/plain": [
       "grade\n",
       "very bad     1\n",
       "bad          0\n",
       "medium       0\n",
       "good         2\n",
       "very good    3\n",
       "dtype: int64"
      ]
     },
     "execution_count": 126,
     "metadata": {},
     "output_type": "execute_result"
    }
   ],
   "source": [
    "'''\n",
    "범주형 데이터로 정의된 categorical column을 기준으로 observed = False 로 그룹화하면\n",
    "빈 카테고리도 표시된다.\n",
    "\n",
    "## observed=False는 범주형 열을 그룹화할 때, \n",
    "해당 열에 실제로 나타다는 값만을 기준으로 그룹화하라는 의미\n",
    "따라서 모든 범주가 실제로 데이터에 나타나지 않더라도 빈 카테고리도 그룹화 결과에 포함\n",
    "'''\n",
    "df.groupby(\"grade\", observed = False).size()\n",
    "## grade 열의 모든 범주를 포함하여 그룹화하고, 빈카테고리도 결과에 포함시킴\n",
    "## 그리고 각 그룹의 크기(각 범수에 해당하는 행의 수)를 보여줌\n",
    "\n",
    "## observed=True: 빈 카테고리는 결과에 포함되지 않음, 실제 데이터에서 관찰된 범주만을 기준으로"
   ]
  },
  {
   "cell_type": "code",
   "execution_count": 129,
   "id": "f192f7ef-4b6b-4e65-b084-19468f9c0995",
   "metadata": {},
   "outputs": [],
   "source": [
    "# Plotting\n",
    "\n",
    "'''\n",
    "- matplotlib API를 참조할 때 표준 관례를 따른다는 것\n",
    "- Matplotlib는 파이썬에서 데이터 시각화를 위한 라이브러리\n",
    "- 해당 라이브러리의 API를 참조할 때 일관된 형식을 사용하는 것이 중요\n",
    "'''\n",
    "import matplotlib.pyplot as plt\n",
    "plt.close(\"all\")\n",
    "## plt.close()함수를 사용하여 모든 창을 닫는다\n",
    "## 특정한 창만 닫고 싶다면 그 창의 이름을 문자열로 전달\n",
    "\n",
    "## 이 코드는 일반적으로 새로운 그림을 만들기 전, 이전에 열려있던 창을 모두 닫는 경우에 사용\n",
    "## 이로써 이전에 생성된 창이나 플롯이 현재 작업에 영향을 미치치 않도록 할 수 있다. "
   ]
  },
  {
   "cell_type": "code",
   "execution_count": 140,
   "id": "b6fa912d-cfe3-4204-a6fe-67e53efd54a9",
   "metadata": {},
   "outputs": [
    {
     "data": {
      "image/png": "[encoded data removed]",
      "text/plain": [
       "<Figure size 640x480 with 1 Axes>"
      ]
     },
     "metadata": {},
     "output_type": "display_data"
    }
   ],
   "source": [
    "'''\n",
    "plt.close() 메서드는 Matplotlib에서 현재 열려있는 figure 창을 닫는 데 사용됨 \n",
    "\n",
    "- 보통 그림을 그릴 때 이전에 생성된 figure 창이 남아있는 것을 방지하기 위해 사\n",
    "'''\n",
    "ts =pd.Series(np.random.randn(1000), index = pd.date_range(\"1/1/2000\", periods = 1000))\n",
    "ts = ts.cumsum()\n",
    "## ts.cumsum()은 시계열 데이터를 누적 합계로 계산하는 메서드\n",
    "ts.plot();\n",
    "## 시계열 데이터를 그래프로 시각화하는 matplotlib 또는 pandas의 plot 함수를 호"
   ]
  },
  {
   "cell_type": "code",
   "execution_count": 141,
   "id": "7550dbf6-a557-4af3-acc5-27466e6911e8",
   "metadata": {},
   "outputs": [
    {
     "data": {
      "text/plain": [
       "\"\\njupyter notebook의 경우에는 단순히 plot() 함수를 호출하여 그래프를 표시할 수 있지만,\\n다른 환경에서는 Matplotlib의 'show()'함수를 사용라여 그래프를 표시하거나 \\n'savefig()'함수를 사용하여 파일로 저장해야힘\\n\""
      ]
     },
     "execution_count": 141,
     "metadata": {},
     "output_type": "execute_result"
    }
   ],
   "source": [
    "'''\n",
    "jupyter notebook의 경우에는 단순히 plot() 함수를 호출하여 그래프를 표시할 수 있지만,\n",
    "다른 환경에서는 Matplotlib의 'show()'함수를 사용라여 그래프를 표시하거나 \n",
    "'savefig()'함수를 사용하여 파일로 저장해야힘\n",
    "'''"
   ]
  },
  {
   "cell_type": "markdown",
   "id": "3a342642-8c59-4dcc-a469-2b04ff9e5e69",
   "metadata": {},
   "source": [
    "'''\n",
    "plot() 메서드를 호출하면 모든 열이 하나의 그래프에 플로팅됨\n",
    "\n",
    "- 이러한 동작을 원하지 않는 경우, 특정 열 또는 일부 열만 선택하여 호출하면 된다. \n",
    "ex) df[\"column_name\"].plot() 와 같이 특정 열만 선택하기가 가능\n",
    "'''\n",
    "df = pd.DataFrame(\n",
    "    np.random.randn(1000, 4), index=ts.index, columns=[\"A\", \"B\", \"C\", \"D\"]\n",
    ")\n",
    "## np.random.randn(1000, 4) 1000개의 행과 4개의 열을 가진 2차원 NumPy 배열을 생\n",
    "\n",
    "df = df.cumsum()\n",
    "plt.figure();\n",
    "## 새로운 그림(figure)을 생성하는 Matplotlib의 함수\n",
    "\n",
    "df.plot();\n",
    "plt.legend(loc='best');\n",
    "## legend: 범례, 범례는 각 선이나 점니 어떤 의미를 가지는지 설명해주는 역할\n",
    "## loc = 'best'로 설정하면 그래프 상에서 가장 최적의 위치를 자동으로 선택하여 범례를 배치함"
   ]
  },
  {
   "cell_type": "code",
   "execution_count": 147,
   "id": "7ac2d000-e0fb-4e20-83ea-0deb59031bf7",
   "metadata": {},
   "outputs": [],
   "source": [
    "# 6. Importing and exporting data\n",
    "## 데이터를 가져오고 내보내는 방법"
   ]
  },
  {
   "cell_type": "code",
   "execution_count": 149,
   "id": "48c77df2-df18-478f-9f80-c09a12256a44",
   "metadata": {},
   "outputs": [],
   "source": [
    "# CSV\n",
    "'''\n",
    "텍스트 파일 형식으로, 각 행이 레코드를 나타내고 쉼표로 열이 구분됨\n",
    "pd.read_csv() 함수를 사용하여 csv 파일을 가져올 수 있고,\n",
    "df.to_csv() 함수를 사용하여 csv 파일을 내보낼 수 있\n",
    "'''\n",
    "df = pd.DataFrame(np.random.randint(0, 5, (10, 5)))\n",
    "## 0부터 5사이의 랜덤한 정수로 채워진 10*5 크기의 2차원 배열\n",
    "## 이른 데이터프레임으로 변환\n",
    "## 각 열은 0부터 4까지의 정수로 이루어진 랜덤한 데이터를 포함\n",
    "df.to_csv(\"foo.csv\")\n",
    "## df를 foo.csv라는 파일에 저장하는 메서"
   ]
  },
  {
   "cell_type": "code",
   "execution_count": 150,
   "id": "7ac4e5b4-f8df-424a-bdf5-19dbfbfc4f5c",
   "metadata": {},
   "outputs": [
    {
     "data": {
      "text/html": [
       "<div>\n",
       "<style scoped>\n",
       "    .dataframe tbody tr th:only-of-type {\n",
       "        vertical-align: middle;\n",
       "    }\n",
       "\n",
       "    .dataframe tbody tr th {\n",
       "        vertical-align: top;\n",
       "    }\n",
       "\n",
       "    .dataframe thead th {\n",
       "        text-align: right;\n",
       "    }\n",
       "</style>\n",
       "<table border=\"1\" class=\"dataframe\">\n",
       "  <thead>\n",
       "    <tr style=\"text-align: right;\">\n",
       "      <th></th>\n",
       "      <th>Unnamed: 0</th>\n",
       "      <th>0</th>\n",
       "      <th>1</th>\n",
       "      <th>2</th>\n",
       "      <th>3</th>\n",
       "      <th>4</th>\n",
       "    </tr>\n",
       "  </thead>\n",
       "  <tbody>\n",
       "    <tr>\n",
       "      <th>0</th>\n",
       "      <td>0</td>\n",
       "      <td>3</td>\n",
       "      <td>3</td>\n",
       "      <td>2</td>\n",
       "      <td>3</td>\n",
       "      <td>1</td>\n",
       "    </tr>\n",
       "    <tr>\n",
       "      <th>1</th>\n",
       "      <td>1</td>\n",
       "      <td>0</td>\n",
       "      <td>2</td>\n",
       "      <td>0</td>\n",
       "      <td>4</td>\n",
       "      <td>1</td>\n",
       "    </tr>\n",
       "    <tr>\n",
       "      <th>2</th>\n",
       "      <td>2</td>\n",
       "      <td>1</td>\n",
       "      <td>0</td>\n",
       "      <td>0</td>\n",
       "      <td>2</td>\n",
       "      <td>0</td>\n",
       "    </tr>\n",
       "    <tr>\n",
       "      <th>3</th>\n",
       "      <td>3</td>\n",
       "      <td>3</td>\n",
       "      <td>2</td>\n",
       "      <td>3</td>\n",
       "      <td>2</td>\n",
       "      <td>2</td>\n",
       "    </tr>\n",
       "    <tr>\n",
       "      <th>4</th>\n",
       "      <td>4</td>\n",
       "      <td>3</td>\n",
       "      <td>3</td>\n",
       "      <td>2</td>\n",
       "      <td>0</td>\n",
       "      <td>4</td>\n",
       "    </tr>\n",
       "    <tr>\n",
       "      <th>5</th>\n",
       "      <td>5</td>\n",
       "      <td>0</td>\n",
       "      <td>3</td>\n",
       "      <td>0</td>\n",
       "      <td>4</td>\n",
       "      <td>0</td>\n",
       "    </tr>\n",
       "    <tr>\n",
       "      <th>6</th>\n",
       "      <td>6</td>\n",
       "      <td>2</td>\n",
       "      <td>2</td>\n",
       "      <td>3</td>\n",
       "      <td>4</td>\n",
       "      <td>2</td>\n",
       "    </tr>\n",
       "    <tr>\n",
       "      <th>7</th>\n",
       "      <td>7</td>\n",
       "      <td>3</td>\n",
       "      <td>2</td>\n",
       "      <td>4</td>\n",
       "      <td>1</td>\n",
       "      <td>3</td>\n",
       "    </tr>\n",
       "    <tr>\n",
       "      <th>8</th>\n",
       "      <td>8</td>\n",
       "      <td>0</td>\n",
       "      <td>2</td>\n",
       "      <td>2</td>\n",
       "      <td>3</td>\n",
       "      <td>3</td>\n",
       "    </tr>\n",
       "    <tr>\n",
       "      <th>9</th>\n",
       "      <td>9</td>\n",
       "      <td>3</td>\n",
       "      <td>1</td>\n",
       "      <td>2</td>\n",
       "      <td>0</td>\n",
       "      <td>2</td>\n",
       "    </tr>\n",
       "  </tbody>\n",
       "</table>\n",
       "</div>"
      ],
      "text/plain": [
       "   Unnamed: 0  0  1  2  3  4\n",
       "0           0  3  3  2  3  1\n",
       "1           1  0  2  0  4  1\n",
       "2           2  1  0  0  2  0\n",
       "3           3  3  2  3  2  2\n",
       "4           4  3  3  2  0  4\n",
       "5           5  0  3  0  4  0\n",
       "6           6  2  2  3  4  2\n",
       "7           7  3  2  4  1  3\n",
       "8           8  0  2  2  3  3\n",
       "9           9  3  1  2  0  2"
      ]
     },
     "execution_count": 150,
     "metadata": {},
     "output_type": "execute_result"
    }
   ],
   "source": [
    "pd.read_csv(\"foo.csv\")"
   ]
  },
  {
   "cell_type": "code",
   "execution_count": 151,
   "id": "c1963524-f020-4e00-8ae8-f3840d00f077",
   "metadata": {},
   "outputs": [],
   "source": [
    "# Parquet\n",
    "'''\n",
    "Parquet 파일은 이진 형식으로 저장되며, 데이터를 효율적으로 압축하고 \n",
    "저장하여 대용량 데이터를 처리하는 데 효과적.\n",
    "'''\n",
    "df.to_parquet(\"foo.parquet\")"
   ]
  },
  {
   "cell_type": "code",
   "execution_count": 152,
   "id": "4bc536c7-97c9-497d-a72d-c334b5a97884",
   "metadata": {},
   "outputs": [
    {
     "data": {
      "text/html": [
       "<div>\n",
       "<style scoped>\n",
       "    .dataframe tbody tr th:only-of-type {\n",
       "        vertical-align: middle;\n",
       "    }\n",
       "\n",
       "    .dataframe tbody tr th {\n",
       "        vertical-align: top;\n",
       "    }\n",
       "\n",
       "    .dataframe thead th {\n",
       "        text-align: right;\n",
       "    }\n",
       "</style>\n",
       "<table border=\"1\" class=\"dataframe\">\n",
       "  <thead>\n",
       "    <tr style=\"text-align: right;\">\n",
       "      <th></th>\n",
       "      <th>0</th>\n",
       "      <th>1</th>\n",
       "      <th>2</th>\n",
       "      <th>3</th>\n",
       "      <th>4</th>\n",
       "    </tr>\n",
       "  </thead>\n",
       "  <tbody>\n",
       "    <tr>\n",
       "      <th>0</th>\n",
       "      <td>3</td>\n",
       "      <td>3</td>\n",
       "      <td>2</td>\n",
       "      <td>3</td>\n",
       "      <td>1</td>\n",
       "    </tr>\n",
       "    <tr>\n",
       "      <th>1</th>\n",
       "      <td>0</td>\n",
       "      <td>2</td>\n",
       "      <td>0</td>\n",
       "      <td>4</td>\n",
       "      <td>1</td>\n",
       "    </tr>\n",
       "    <tr>\n",
       "      <th>2</th>\n",
       "      <td>1</td>\n",
       "      <td>0</td>\n",
       "      <td>0</td>\n",
       "      <td>2</td>\n",
       "      <td>0</td>\n",
       "    </tr>\n",
       "    <tr>\n",
       "      <th>3</th>\n",
       "      <td>3</td>\n",
       "      <td>2</td>\n",
       "      <td>3</td>\n",
       "      <td>2</td>\n",
       "      <td>2</td>\n",
       "    </tr>\n",
       "    <tr>\n",
       "      <th>4</th>\n",
       "      <td>3</td>\n",
       "      <td>3</td>\n",
       "      <td>2</td>\n",
       "      <td>0</td>\n",
       "      <td>4</td>\n",
       "    </tr>\n",
       "    <tr>\n",
       "      <th>5</th>\n",
       "      <td>0</td>\n",
       "      <td>3</td>\n",
       "      <td>0</td>\n",
       "      <td>4</td>\n",
       "      <td>0</td>\n",
       "    </tr>\n",
       "    <tr>\n",
       "      <th>6</th>\n",
       "      <td>2</td>\n",
       "      <td>2</td>\n",
       "      <td>3</td>\n",
       "      <td>4</td>\n",
       "      <td>2</td>\n",
       "    </tr>\n",
       "    <tr>\n",
       "      <th>7</th>\n",
       "      <td>3</td>\n",
       "      <td>2</td>\n",
       "      <td>4</td>\n",
       "      <td>1</td>\n",
       "      <td>3</td>\n",
       "    </tr>\n",
       "    <tr>\n",
       "      <th>8</th>\n",
       "      <td>0</td>\n",
       "      <td>2</td>\n",
       "      <td>2</td>\n",
       "      <td>3</td>\n",
       "      <td>3</td>\n",
       "    </tr>\n",
       "    <tr>\n",
       "      <th>9</th>\n",
       "      <td>3</td>\n",
       "      <td>1</td>\n",
       "      <td>2</td>\n",
       "      <td>0</td>\n",
       "      <td>2</td>\n",
       "    </tr>\n",
       "  </tbody>\n",
       "</table>\n",
       "</div>"
      ],
      "text/plain": [
       "   0  1  2  3  4\n",
       "0  3  3  2  3  1\n",
       "1  0  2  0  4  1\n",
       "2  1  0  0  2  0\n",
       "3  3  2  3  2  2\n",
       "4  3  3  2  0  4\n",
       "5  0  3  0  4  0\n",
       "6  2  2  3  4  2\n",
       "7  3  2  4  1  3\n",
       "8  0  2  2  3  3\n",
       "9  3  1  2  0  2"
      ]
     },
     "execution_count": 152,
     "metadata": {},
     "output_type": "execute_result"
    }
   ],
   "source": [
    "pd.read_parquet(\"foo.parquet\")"
   ]
  },
  {
   "cell_type": "code",
   "execution_count": 160,
   "id": "c8caf44f-f96c-4f98-9346-269305e63a69",
   "metadata": {},
   "outputs": [
    {
     "data": {
      "text/html": [
       "<div>\n",
       "<style scoped>\n",
       "    .dataframe tbody tr th:only-of-type {\n",
       "        vertical-align: middle;\n",
       "    }\n",
       "\n",
       "    .dataframe tbody tr th {\n",
       "        vertical-align: top;\n",
       "    }\n",
       "\n",
       "    .dataframe thead th {\n",
       "        text-align: right;\n",
       "    }\n",
       "</style>\n",
       "<table border=\"1\" class=\"dataframe\">\n",
       "  <thead>\n",
       "    <tr style=\"text-align: right;\">\n",
       "      <th></th>\n",
       "      <th>Unnamed: 0</th>\n",
       "      <th>0</th>\n",
       "      <th>1</th>\n",
       "      <th>2</th>\n",
       "      <th>3</th>\n",
       "      <th>4</th>\n",
       "    </tr>\n",
       "  </thead>\n",
       "  <tbody>\n",
       "    <tr>\n",
       "      <th>0</th>\n",
       "      <td>0</td>\n",
       "      <td>3</td>\n",
       "      <td>3</td>\n",
       "      <td>2</td>\n",
       "      <td>3</td>\n",
       "      <td>1</td>\n",
       "    </tr>\n",
       "    <tr>\n",
       "      <th>1</th>\n",
       "      <td>1</td>\n",
       "      <td>0</td>\n",
       "      <td>2</td>\n",
       "      <td>0</td>\n",
       "      <td>4</td>\n",
       "      <td>1</td>\n",
       "    </tr>\n",
       "    <tr>\n",
       "      <th>2</th>\n",
       "      <td>2</td>\n",
       "      <td>1</td>\n",
       "      <td>0</td>\n",
       "      <td>0</td>\n",
       "      <td>2</td>\n",
       "      <td>0</td>\n",
       "    </tr>\n",
       "    <tr>\n",
       "      <th>3</th>\n",
       "      <td>3</td>\n",
       "      <td>3</td>\n",
       "      <td>2</td>\n",
       "      <td>3</td>\n",
       "      <td>2</td>\n",
       "      <td>2</td>\n",
       "    </tr>\n",
       "    <tr>\n",
       "      <th>4</th>\n",
       "      <td>4</td>\n",
       "      <td>3</td>\n",
       "      <td>3</td>\n",
       "      <td>2</td>\n",
       "      <td>0</td>\n",
       "      <td>4</td>\n",
       "    </tr>\n",
       "    <tr>\n",
       "      <th>5</th>\n",
       "      <td>5</td>\n",
       "      <td>0</td>\n",
       "      <td>3</td>\n",
       "      <td>0</td>\n",
       "      <td>4</td>\n",
       "      <td>0</td>\n",
       "    </tr>\n",
       "    <tr>\n",
       "      <th>6</th>\n",
       "      <td>6</td>\n",
       "      <td>2</td>\n",
       "      <td>2</td>\n",
       "      <td>3</td>\n",
       "      <td>4</td>\n",
       "      <td>2</td>\n",
       "    </tr>\n",
       "    <tr>\n",
       "      <th>7</th>\n",
       "      <td>7</td>\n",
       "      <td>3</td>\n",
       "      <td>2</td>\n",
       "      <td>4</td>\n",
       "      <td>1</td>\n",
       "      <td>3</td>\n",
       "    </tr>\n",
       "    <tr>\n",
       "      <th>8</th>\n",
       "      <td>8</td>\n",
       "      <td>0</td>\n",
       "      <td>2</td>\n",
       "      <td>2</td>\n",
       "      <td>3</td>\n",
       "      <td>3</td>\n",
       "    </tr>\n",
       "    <tr>\n",
       "      <th>9</th>\n",
       "      <td>9</td>\n",
       "      <td>3</td>\n",
       "      <td>1</td>\n",
       "      <td>2</td>\n",
       "      <td>0</td>\n",
       "      <td>2</td>\n",
       "    </tr>\n",
       "  </tbody>\n",
       "</table>\n",
       "</div>"
      ],
      "text/plain": [
       "   Unnamed: 0  0  1  2  3  4\n",
       "0           0  3  3  2  3  1\n",
       "1           1  0  2  0  4  1\n",
       "2           2  1  0  0  2  0\n",
       "3           3  3  2  3  2  2\n",
       "4           4  3  3  2  0  4\n",
       "5           5  0  3  0  4  0\n",
       "6           6  2  2  3  4  2\n",
       "7           7  3  2  4  1  3\n",
       "8           8  0  2  2  3  3\n",
       "9           9  3  1  2  0  2"
      ]
     },
     "execution_count": 160,
     "metadata": {},
     "output_type": "execute_result"
    }
   ],
   "source": [
    "# Excel\n",
    "df.to_excel(\"foo.xlsx\", sheet_name=\"Sheet1\")\n",
    "pd.read_excel(\"foo.xlsx\", \"Sheet1\", index_col=None, na_values=[\"NA\"])"
   ]
  },
  {
   "cell_type": "code",
   "execution_count": 161,
   "id": "f21a8d5b-7ac8-45ab-b0bb-05720051cc1d",
   "metadata": {},
   "outputs": [
    {
     "ename": "ValueError",
     "evalue": "The truth value of a Series is ambiguous. Use a.empty, a.bool(), a.item(), a.any() or a.all().",
     "output_type": "error",
     "traceback": [
      "\u001b[1;31m---------------------------------------------------------------------------\u001b[0m",
      "\u001b[1;31mValueError\u001b[0m                                Traceback (most recent call last)",
      "Cell \u001b[1;32mIn[161], line 7\u001b[0m\n\u001b[0;32m      1\u001b[0m \u001b[38;5;66;03m# Gotchas\u001b[39;00m\n\u001b[0;32m      2\u001b[0m \u001b[38;5;124;03m'''\u001b[39;00m\n\u001b[0;32m      3\u001b[0m \u001b[38;5;124;03m시리즈나 데이터프레임에서 불리언 연산을 수행하려고 할 때 발생하는 예외 메시지\u001b[39;00m\n\u001b[0;32m      4\u001b[0m \u001b[38;5;124;03m-> 일반적으로 불리언 연산자가 잘못 사용되거나\u001b[39;00m\n\u001b[0;32m      5\u001b[0m \u001b[38;5;124;03m-> 데이터의 형식이 예상과는 다른 경우에 발\u001b[39;00m\n\u001b[0;32m      6\u001b[0m \u001b[38;5;124;03m'''\u001b[39;00m\n\u001b[1;32m----> 7\u001b[0m \u001b[38;5;28;01mif\u001b[39;00m pd\u001b[38;5;241m.\u001b[39mSeries([\u001b[38;5;28;01mFalse\u001b[39;00m, \u001b[38;5;28;01mTrue\u001b[39;00m, \u001b[38;5;28;01mFalse\u001b[39;00m]):\n\u001b[0;32m      8\u001b[0m      \u001b[38;5;28mprint\u001b[39m(\u001b[38;5;124m\"\u001b[39m\u001b[38;5;124mI was true\u001b[39m\u001b[38;5;124m\"\u001b[39m)\n",
      "File \u001b[1;32mC:\\ProgramData\\anaconda3\\Lib\\site-packages\\pandas\\core\\generic.py:1519\u001b[0m, in \u001b[0;36mNDFrame.__nonzero__\u001b[1;34m(self)\u001b[0m\n\u001b[0;32m   1517\u001b[0m \u001b[38;5;129m@final\u001b[39m\n\u001b[0;32m   1518\u001b[0m \u001b[38;5;28;01mdef\u001b[39;00m \u001b[38;5;21m__nonzero__\u001b[39m(\u001b[38;5;28mself\u001b[39m) \u001b[38;5;241m-\u001b[39m\u001b[38;5;241m>\u001b[39m NoReturn:\n\u001b[1;32m-> 1519\u001b[0m     \u001b[38;5;28;01mraise\u001b[39;00m \u001b[38;5;167;01mValueError\u001b[39;00m(\n\u001b[0;32m   1520\u001b[0m         \u001b[38;5;124mf\u001b[39m\u001b[38;5;124m\"\u001b[39m\u001b[38;5;124mThe truth value of a \u001b[39m\u001b[38;5;132;01m{\u001b[39;00m\u001b[38;5;28mtype\u001b[39m(\u001b[38;5;28mself\u001b[39m)\u001b[38;5;241m.\u001b[39m\u001b[38;5;18m__name__\u001b[39m\u001b[38;5;132;01m}\u001b[39;00m\u001b[38;5;124m is ambiguous. \u001b[39m\u001b[38;5;124m\"\u001b[39m\n\u001b[0;32m   1521\u001b[0m         \u001b[38;5;124m\"\u001b[39m\u001b[38;5;124mUse a.empty, a.bool(), a.item(), a.any() or a.all().\u001b[39m\u001b[38;5;124m\"\u001b[39m\n\u001b[0;32m   1522\u001b[0m     )\n",
      "\u001b[1;31mValueError\u001b[0m: The truth value of a Series is ambiguous. Use a.empty, a.bool(), a.item(), a.any() or a.all()."
     ]
    }
   ],
   "source": [
    "# Gotchas\n",
    "'''\n",
    "시리즈나 데이터프레임에서 불리언 연산을 수행하려고 할 때 발생하는 예외 메시지\n",
    "-> 일반적으로 불리언 연산자가 잘못 사용되거나\n",
    "-> 데이터의 형식이 예상과는 다른 경우에 발\n",
    "'''\n",
    "if pd.Series([False, True, False]):\n",
    "     print(\"I was true\")\n",
    "# ValueError: The truth value of a Series is ambiguous. Use a.empty, a.bool(), a.item(), a.any() or a.all().\n",
    "\n",
    "## 시리즈나 데이터프레임에 불리언 값이 포함되어 있더라도 변할 수 없는 참과 거짓이 모두 포함됨"
   ]
  },
  {
   "cell_type": "code",
   "execution_count": 162,
   "id": "7bb54b82-7606-41d4-bbf7-8483c641fefc",
   "metadata": {},
   "outputs": [
    {
     "name": "stdout",
     "output_type": "stream",
     "text": [
      "I was true\n"
     ]
    }
   ],
   "source": [
    "# 대신에, 단일 값에 대한 조건을 확인하려면 \n",
    "# any()나 all() 메서드를 사용\n",
    "\n",
    "if pd.Series([False, True, False]).any():\n",
    "     print(\"I was true\")\n"
   ]
  }
 ],
 "metadata": {
  "kernelspec": {
   "display_name": "Python 3 (ipykernel)",
   "language": "python",
   "name": "python3"
  },
  "language_info": {
   "codemirror_mode": {
    "name": "ipython",
    "version": 3
   },
   "file_extension": ".py",
   "mimetype": "text/x-python",
   "name": "python",
   "nbconvert_exporter": "python",
   "pygments_lexer": "ipython3",
   "version": "3.11.7"
  }
 },
 "nbformat": 4,
 "nbformat_minor": 5
}
