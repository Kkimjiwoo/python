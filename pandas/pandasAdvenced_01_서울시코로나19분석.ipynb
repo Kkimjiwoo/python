{
 "cells": [
  {
   "cell_type": "code",
   "execution_count": 29,
   "metadata": {},
   "outputs": [],
   "source": [
    "import numpy as np\n",
    "import pandas as pd\n",
    "import matplotlib.pyplot as plt"
   ]
  },
  {
   "cell_type": "code",
   "execution_count": 30,
   "metadata": {},
   "outputs": [
    {
     "data": {
      "image/png": "[encoded data removed]",
      "text/plain": [
       "<Figure size 640x480 with 1 Axes>"
      ]
     },
     "metadata": {},
     "output_type": "display_data"
    }
   ],
   "source": [
    "plt.plot([1,2,3],[4,5,6])\n",
    "plt.title('Graph')\n",
    "plt.show()"
   ]
  },
  {
   "cell_type": "code",
   "execution_count": 31,
   "metadata": {},
   "outputs": [],
   "source": [
    "# 그래프를 노트북 안에 그리기 설정\n",
    "%matplotlib inline\n",
    "\n",
    "import matplotlib as mpl\n",
    "import matplotlib.pyplot as plt\n",
    "import matplotlib.font_manager as fm\n",
    "\n",
    "# 그래프에서 마이너스 폰트 깨지는 문제 대처\n",
    "mpl.rcParams['axes.unicode_minus'] = False\n",
    "\n",
    "# 폰트 지정하기\n",
    "plt.rcParams['font.family'] = 'NanumGothic'\n",
    "\n"
   ]
  },
  {
   "cell_type": "code",
   "execution_count": 32,
   "metadata": {},
   "outputs": [
    {
     "name": "stdout",
     "output_type": "stream",
     "text": [
      "['NanumGothic', 'NanumGothic', 'NanumGothic']\n"
     ]
    }
   ],
   "source": [
    "# 폰트 확인하기\n",
    "print([f.name for f in fm.fontManager.ttflist if 'Nanum' in f.name])"
   ]
  },
  {
   "cell_type": "code",
   "execution_count": 33,
   "metadata": {},
   "outputs": [
    {
     "name": "stdout",
     "output_type": "stream",
     "text": [
      "['Malgun Gothic', 'Malgun Gothic', 'Malgun Gothic']\n"
     ]
    }
   ],
   "source": [
    "print([f.name for f in fm.fontManager.ttflist if 'Malgun' in f.name])"
   ]
  },
  {
   "cell_type": "code",
   "execution_count": 34,
   "metadata": {},
   "outputs": [
    {
     "name": "stderr",
     "output_type": "stream",
     "text": [
      "C:\\Users\\82108\\AppData\\Local\\Temp\\ipykernel_13628\\4028182031.py:2: DtypeWarning: Columns (10) have mixed types. Specify dtype option on import or set low_memory=False.\n",
      "  raw = pd.read_csv('../data/서울시코로나19/서울시 코로나19 확진자 현황.csv')\n"
     ]
    }
   ],
   "source": [
    "# 데이터 불러오기\n",
    "raw = pd.read_csv('../data/서울시코로나19/서울시 코로나19 확진자 현황.csv')\n",
    "df = raw.copy()"
   ]
  },
  {
   "cell_type": "code",
   "execution_count": 35,
   "metadata": {},
   "outputs": [
    {
     "name": "stdout",
     "output_type": "stream",
     "text": [
      "      연번         확진일  환자번호  국적  환자정보  지역  여행력       접촉력  조치사항 상태 이동경로  \\\n",
      "0  99550  2021-09-28   NaN NaN   NaN  기타  NaN  감염경로 조사중   NaN  -  NaN   \n",
      "1  99549  2021-09-28   NaN NaN   NaN  기타  NaN  감염경로 조사중   NaN  -  NaN   \n",
      "2  99548  2021-09-28   NaN NaN   NaN  기타  NaN  감염경로 조사중   NaN  -  NaN   \n",
      "3  99547  2021-09-28   NaN NaN   NaN  기타  NaN  감염경로 조사중   NaN  -  NaN   \n",
      "4  99546  2021-09-28   NaN NaN   NaN  기타  NaN  감염경로 조사중   NaN  -  NaN   \n",
      "\n",
      "                등록일               수정일 노출여부  \n",
      "0  2021-09-29 10:54  2021-09-29 10:54    Y  \n",
      "1  2021-09-29 10:54  2021-09-29 10:54    Y  \n",
      "2  2021-09-29 10:54  2021-09-29 10:54    Y  \n",
      "3  2021-09-29 10:54  2021-09-29 10:54    Y  \n",
      "4  2021-09-29 10:54  2021-09-29 10:54    Y  \n",
      "Index(['연번', '확진일', '환자번호', '국적', '환자정보', '지역', '여행력', '접촉력', '조치사항', '상태',\n",
      "       '이동경로', '등록일', '수정일', '노출여부'],\n",
      "      dtype='object')\n"
     ]
    }
   ],
   "source": [
    "# 데이터 확인 >> 전처리\n",
    "# 컬럼별 데이터 확인\n",
    "print(df.head())\n",
    "# Nan 데이터 많음\n",
    "print(df.columns)"
   ]
  },
  {
   "cell_type": "code",
   "execution_count": 36,
   "metadata": {},
   "outputs": [
    {
     "data": {
      "text/plain": [
       "array([nan, '이동경로 공개기간 경과'], dtype=object)"
      ]
     },
     "execution_count": 36,
     "metadata": {},
     "output_type": "execute_result"
    }
   ],
   "source": [
    "df['이동경로'].unique()\n",
    "# nan, '이동경로 공개기간 경과' 두 개의 값이 이동경로 열에 있음"
   ]
  },
  {
   "cell_type": "code",
   "execution_count": 37,
   "metadata": {},
   "outputs": [
    {
     "name": "stdout",
     "output_type": "stream",
     "text": [
      "          연번         확진일   지역  여행력        접촉력  상태\n",
      "0      99550  2021-09-28   기타  NaN   감염경로 조사중   -\n",
      "1      99549  2021-09-28   기타  NaN   감염경로 조사중   -\n",
      "2      99548  2021-09-28   기타  NaN   감염경로 조사중   -\n",
      "3      99547  2021-09-28   기타  NaN   감염경로 조사중   -\n",
      "4      99546  2021-09-28   기타  NaN   감염경로 조사중   -\n",
      "...      ...         ...  ...  ...        ...  ..\n",
      "99545      5  2020-01-31  성북구  NaN  기타 확진자 접촉  퇴원\n",
      "99546      4  2020-01-30  마포구   중국       해외유입  퇴원\n",
      "99547      3  2020-01-30  종로구  NaN   종로구 집단발병  퇴원\n",
      "99548      2  2020-01-30  중랑구   중국       해외유입  퇴원\n",
      "99549      1  2020-01-24  강서구   중국       해외유입  퇴원\n",
      "\n",
      "[99550 rows x 6 columns]\n"
     ]
    }
   ],
   "source": [
    "# 불필요한 컬럼 삭제\n",
    "df.drop(columns=['환자번호','국적','환자정보','조치사항','이동경로','등록일',\n",
    "                 '수정일','노출여부'], inplace = True)\n",
    "print(df)"
   ]
  },
  {
   "cell_type": "code",
   "execution_count": 38,
   "metadata": {},
   "outputs": [
    {
     "name": "stdout",
     "output_type": "stream",
     "text": [
      "연번      int64\n",
      "확진일    object\n",
      "지역     object\n",
      "여행력    object\n",
      "접촉력    object\n",
      "상태     object\n",
      "dtype: object\n"
     ]
    }
   ],
   "source": [
    "# 자료형 변환\n",
    "\n",
    "# 자료형 확인\n",
    "print(df.dtypes)"
   ]
  },
  {
   "cell_type": "code",
   "execution_count": 39,
   "metadata": {},
   "outputs": [
    {
     "data": {
      "text/plain": [
       "연번              int64\n",
       "확진일    datetime64[ns]\n",
       "지역             object\n",
       "여행력            object\n",
       "접촉력            object\n",
       "상태             object\n",
       "dtype: object"
      ]
     },
     "execution_count": 39,
     "metadata": {},
     "output_type": "execute_result"
    }
   ],
   "source": [
    "# 확진일 >> datetime\n",
    "df['확진일'] = pd.to_datetime(df['확진일'])\n",
    "df.dtypes"
   ]
  },
  {
   "cell_type": "code",
   "execution_count": 40,
   "metadata": {},
   "outputs": [
    {
     "name": "stdout",
     "output_type": "stream",
     "text": [
      "29\n"
     ]
    },
    {
     "name": "stdout",
     "output_type": "stream",
     "text": [
      "['기타' '영등포구' '관악구' '서대문구' '송파구' '동대문구' '성동구' '중랑구' '타시도' '종로구' '도봉구' '용산구'\n",
      " '마포구' '구로구' '동작구' '강동구' '중구' '노원구' '양천구' '강서구' '은평구' '성북구' '광진구' '금천구'\n",
      " '강북구' '강남구' '서초구' '타시도 ' ' 성북구']\n",
      "27\n",
      "['기타' '영등포구' '관악구' '서대문구' '송파구' '동대문구' '성동구' '중랑구' '타시도' '종로구' '도봉구' '용산구'\n",
      " '마포구' '구로구' '동작구' '강동구' '중구' '노원구' '양천구' '강서구' '은평구' '성북구' '광진구' '금천구'\n",
      " '강북구' '강남구' '서초구']\n"
     ]
    }
   ],
   "source": [
    "# '지역' 공백 제거\n",
    "\n",
    "# 지역의 고유한 값의 개수\n",
    "print(df['지역'].nunique())\n",
    "# 지역의 고유한 값의 목록\n",
    "print(df['지역'].unique())\n",
    "\n",
    "# 문자 양쪽 공백 제거 >> 업데이트\n",
    "df['지역'] = df['지역'].str.strip()\n",
    "print(df['지역'].nunique())\n",
    "print(df['지역'].unique())"
   ]
  },
  {
   "cell_type": "code",
   "execution_count": 42,
   "metadata": {},
   "outputs": [
    {
     "name": "stdout",
     "output_type": "stream",
     "text": [
      "연번              int64\n",
      "확진일    datetime64[ns]\n",
      "지역           category\n",
      "여행력            object\n",
      "접촉력            object\n",
      "상태             object\n",
      "dtype: object\n",
      "<class 'pandas.core.frame.DataFrame'>\n",
      "RangeIndex: 99550 entries, 0 to 99549\n",
      "Data columns (total 6 columns):\n",
      " #   Column  Non-Null Count  Dtype         \n",
      "---  ------  --------------  -----         \n",
      " 0   연번      99550 non-null  int64         \n",
      " 1   확진일     99550 non-null  datetime64[ns]\n",
      " 2   지역      99550 non-null  category      \n",
      " 3   여행력     1717 non-null   object        \n",
      " 4   접촉력     99550 non-null  object        \n",
      " 5   상태      99550 non-null  object        \n",
      "dtypes: category(1), datetime64[ns](1), int64(1), object(3)\n",
      "memory usage: 3.9+ MB\n",
      "None\n"
     ]
    }
   ],
   "source": [
    "# 지역, 상태 >> category (지역의 공백 제거)\n",
    "df['지역'] = df['지역'].astype('category')\n",
    "print(df.dtypes)\n",
    "print(df.info())\n",
    "# 여행력     1717 non-null   object  "
   ]
  },
  {
   "cell_type": "code",
   "execution_count": 43,
   "metadata": {},
   "outputs": [
    {
     "name": "stdout",
     "output_type": "stream",
     "text": [
      "연번         0\n",
      "확진일        0\n",
      "지역         0\n",
      "여행력    97833\n",
      "접촉력        0\n",
      "상태         0\n",
      "dtype: int64\n"
     ]
    }
   ],
   "source": [
    "# 결측치 분석 \n",
    "print(df.isnull().sum())\n",
    "# 여행력의 결측치 97833"
   ]
  },
  {
   "cell_type": "code",
   "execution_count": 44,
   "metadata": {},
   "outputs": [
    {
     "name": "stdout",
     "output_type": "stream",
     "text": [
      "지역                    강남구   강동구   강북구   강서구   관악구   광진구   구로구   금천구    기타  \\\n",
      "확진일                                                                         \n",
      "2020-01-24 00:00:00     0     0     0     1     0     0     0     0     0   \n",
      "2020-01-30 00:00:00     0     0     0     0     0     0     0     0     0   \n",
      "2020-01-31 00:00:00     0     0     0     0     0     0     0     0     0   \n",
      "2020-02-02 00:00:00     0     0     0     0     0     0     0     0     0   \n",
      "2020-02-05 00:00:00     0     0     0     0     0     0     0     0     0   \n",
      "...                   ...   ...   ...   ...   ...   ...   ...   ...   ...   \n",
      "2021-09-25 00:00:00    37    41    42    48    37    34    31    39     0   \n",
      "2021-09-26 00:00:00    43    17    27    29    37    37    72    19     0   \n",
      "2021-09-27 00:00:00    50    29    20    50    23    34    58    16     0   \n",
      "2021-09-28 00:00:00    45    51    25    41    48    36    55    31    65   \n",
      "All                  6926  3782  2606  4447  5418  3486  4168  2064  2321   \n",
      "\n",
      "지역                    노원구  ...   송파구   양천구  영등포구   용산구   은평구   종로구    중구  \\\n",
      "확진일                        ...                                             \n",
      "2020-01-24 00:00:00     0  ...     0     0     0     0     0     0     0   \n",
      "2020-01-30 00:00:00     0  ...     0     0     0     0     0     1     0   \n",
      "2020-01-31 00:00:00     0  ...     0     0     0     0     0     2     0   \n",
      "2020-02-02 00:00:00     0  ...     0     0     0     0     0     0     0   \n",
      "2020-02-05 00:00:00     0  ...     1     0     0     0     0     0     0   \n",
      "...                   ...  ...   ...   ...   ...   ...   ...   ...   ...   \n",
      "2021-09-25 00:00:00    27  ...    88    20    35    32    31    31    24   \n",
      "2021-09-26 00:00:00    25  ...    55    12    40    13    38    33    27   \n",
      "2021-09-27 00:00:00    37  ...    58    27    41    28    17    20    22   \n",
      "2021-09-28 00:00:00    29  ...    68    27    43    24    47    23    37   \n",
      "All                  3932  ...  6356  3291  4463  2705  4284  1617  1708   \n",
      "\n",
      "지역                    중랑구   타시도    All  \n",
      "확진일                                     \n",
      "2020-01-24 00:00:00     0     0      1  \n",
      "2020-01-30 00:00:00     1     0      3  \n",
      "2020-01-31 00:00:00     0     0      3  \n",
      "2020-02-02 00:00:00     0     1      1  \n",
      "2020-02-05 00:00:00     0     0      2  \n",
      "...                   ...   ...    ...  \n",
      "2021-09-25 00:00:00    35    31    928  \n",
      "2021-09-26 00:00:00    26    32    778  \n",
      "2021-09-27 00:00:00    18    63    842  \n",
      "2021-09-28 00:00:00    26    43   1054  \n",
      "All                  3729  4715  99550  \n",
      "\n",
      "[583 rows x 28 columns]\n"
     ]
    }
   ],
   "source": [
    "# 구 별 확진자 동향\n",
    "# 확진일-구별 확진자 수 집계\n",
    "\n",
    "# 피복테이블 만들기\n",
    "df_gu =\\\n",
    "pd.pivot_table(df,\n",
    "               index = '확진일',\n",
    "               columns = '지역',\n",
    "               values = '연번',\n",
    "               aggfunc = 'count',\n",
    "               margins = True)\n",
    "\n",
    "print(df_gu)"
   ]
  },
  {
   "cell_type": "code",
   "execution_count": 45,
   "metadata": {},
   "outputs": [
    {
     "name": "stdout",
     "output_type": "stream",
     "text": [
      "확진일\n",
      "2020-01-24 00:00:00        1\n",
      "2020-01-30 00:00:00        3\n",
      "2020-01-31 00:00:00        3\n",
      "2020-02-02 00:00:00        1\n",
      "2020-02-05 00:00:00        2\n",
      "                       ...  \n",
      "2021-09-25 00:00:00      928\n",
      "2021-09-26 00:00:00      778\n",
      "2021-09-27 00:00:00      842\n",
      "2021-09-28 00:00:00     1054\n",
      "All                    99550\n",
      "Name: All, Length: 583, dtype: int64\n",
      "\n",
      "확진일\n",
      "2020-01-24       1\n",
      "2020-01-30       3\n",
      "2020-01-31       3\n",
      "2020-02-02       1\n",
      "2020-02-05       2\n",
      "              ... \n",
      "2021-09-24    1222\n",
      "2021-09-25     928\n",
      "2021-09-26     778\n",
      "2021-09-27     842\n",
      "2021-09-28    1054\n",
      "Name: All, Length: 582, dtype: int64\n"
     ]
    }
   ],
   "source": [
    "# 서울시 일별 추가 확진자 동향\n",
    "print(df_gu['All'])\n",
    "print()\n",
    "print(df_gu['All'][:-1])\n",
    "s_date = df_gu['All'][:-1]"
   ]
  },
  {
   "cell_type": "code",
   "execution_count": 46,
   "metadata": {},
   "outputs": [
    {
     "data": {
      "text/plain": [
       "확진일\n",
       "2021-09-24    1222\n",
       "2021-09-28    1054\n",
       "2021-09-25     928\n",
       "2021-09-23     905\n",
       "2021-09-27     842\n",
       "              ... \n",
       "2020-04-24       1\n",
       "2020-04-30       1\n",
       "2020-05-01       1\n",
       "2020-05-17       1\n",
       "2020-01-24       1\n",
       "Name: All, Length: 582, dtype: int64"
      ]
     },
     "execution_count": 46,
     "metadata": {},
     "output_type": "execute_result"
    }
   ],
   "source": [
    "# 서울시 일별 추가확진자가 많았던 순으로 보기\n",
    "s_date.sort_values(ascending = False)"
   ]
  },
  {
   "cell_type": "code",
   "execution_count": 47,
   "metadata": {},
   "outputs": [
    {
     "data": {
      "image/png": "[encoded data removed]",
      "text/plain": [
       "<Figure size 640x480 with 1 Axes>"
      ]
     },
     "metadata": {},
     "output_type": "display_data"
    }
   ],
   "source": [
    "# 서울시 일별 추가 확진자 시각화\n",
    "x = s_date.index    # 일자\n",
    "y = s_date.values   # 확진자 수\n",
    "\n",
    "plt.plot(x,y)\n",
    "plt.title('서울시 일별 추가 확진자(2021.09.28 현재)')\n",
    "plt.xlabel('확진일')\n",
    "plt.ylabel('추가확진작수')\n",
    "plt.xticks(rotation = 45)\n",
    "plt.show()"
   ]
  },
  {
   "cell_type": "code",
   "execution_count": 48,
   "metadata": {},
   "outputs": [
    {
     "data": {
      "text/plain": [
       "지역\n",
       "강남구     6926\n",
       "강동구     3782\n",
       "강북구     2606\n",
       "강서구     4447\n",
       "관악구     5418\n",
       "광진구     3486\n",
       "구로구     4168\n",
       "금천구     2064\n",
       "기타      2321\n",
       "노원구     3932\n",
       "도봉구     2605\n",
       "동대문구    3487\n",
       "동작구     4120\n",
       "마포구     3726\n",
       "서대문구    2692\n",
       "서초구     4284\n",
       "성동구     2839\n",
       "성북구     3779\n",
       "송파구     6356\n",
       "양천구     3291\n",
       "영등포구    4463\n",
       "용산구     2705\n",
       "은평구     4284\n",
       "종로구     1617\n",
       "중구      1708\n",
       "중랑구     3729\n",
       "타시도     4715\n",
       "Name: All, dtype: int64"
      ]
     },
     "execution_count": 48,
     "metadata": {},
     "output_type": "execute_result"
    }
   ],
   "source": [
    "# 서울시 구별 누적확진자 비교\n",
    "s_gu = df_gu.loc['All'][:-1]\n",
    "# df_gu DataFrame에서 'All' 행을 제외한 모든 행을 선택하는 코드 \n",
    "# [:-1]는 슬라이싱을 사용하여 'All' 행을 제외한 마지막 행까지 선택\n",
    "s_gu"
   ]
  },
  {
   "cell_type": "code",
   "execution_count": 49,
   "metadata": {},
   "outputs": [
    {
     "data": {
      "text/plain": [
       "지역\n",
       "강남구     6926\n",
       "송파구     6356\n",
       "관악구     5418\n",
       "타시도     4715\n",
       "영등포구    4463\n",
       "강서구     4447\n",
       "은평구     4284\n",
       "서초구     4284\n",
       "구로구     4168\n",
       "동작구     4120\n",
       "노원구     3932\n",
       "강동구     3782\n",
       "성북구     3779\n",
       "중랑구     3729\n",
       "마포구     3726\n",
       "동대문구    3487\n",
       "광진구     3486\n",
       "양천구     3291\n",
       "성동구     2839\n",
       "용산구     2705\n",
       "서대문구    2692\n",
       "강북구     2606\n",
       "도봉구     2605\n",
       "기타      2321\n",
       "금천구     2064\n",
       "중구      1708\n",
       "종로구     1617\n",
       "Name: All, dtype: int64"
      ]
     },
     "execution_count": 49,
     "metadata": {},
     "output_type": "execute_result"
    }
   ],
   "source": [
    "# 서울시 구별 누적확진자가 많은 순으로 보기\n",
    "s_gu = s_gu.sort_values(ascending=False)\n",
    "s_gu"
   ]
  },
  {
   "cell_type": "code",
   "execution_count": 50,
   "metadata": {},
   "outputs": [
    {
     "data": {
      "image/png": "[encoded data removed]",
      "text/plain": [
       "<Figure size 1000x600 with 1 Axes>"
      ]
     },
     "metadata": {},
     "output_type": "display_data"
    }
   ],
   "source": [
    "# 서울시 구별 누적확진자 시각화\n",
    "\n",
    "x = s_gu.index  # 서울시 구\n",
    "y = s_gu.values # 누적 확진자 수\n",
    "\n",
    "plt.figure(figsize = (10,6))\n",
    "plt.title('서울시 구별 누적 확진자(2021.09.28 현재)', size = 20)\n",
    "plt.barh(x,y)\n",
    "plt.show()"
   ]
  },
  {
   "cell_type": "code",
   "execution_count": 51,
   "metadata": {},
   "outputs": [
    {
     "name": "stdout",
     "output_type": "stream",
     "text": [
      "지역                    강남구   강동구   강북구   강서구   관악구   광진구   구로구   금천구    기타  \\\n",
      "확진일                                                                         \n",
      "2020-01-24 00:00:00     0     0     0     1     0     0     0     0     0   \n",
      "2020-01-30 00:00:00     0     0     0     0     0     0     0     0     0   \n",
      "2020-01-31 00:00:00     0     0     0     0     0     0     0     0     0   \n",
      "2020-02-02 00:00:00     0     0     0     0     0     0     0     0     0   \n",
      "2020-02-05 00:00:00     0     0     0     0     0     0     0     0     0   \n",
      "...                   ...   ...   ...   ...   ...   ...   ...   ...   ...   \n",
      "2021-09-25 00:00:00    37    41    42    48    37    34    31    39     0   \n",
      "2021-09-26 00:00:00    43    17    27    29    37    37    72    19     0   \n",
      "2021-09-27 00:00:00    50    29    20    50    23    34    58    16     0   \n",
      "2021-09-28 00:00:00    45    51    25    41    48    36    55    31    65   \n",
      "All                  6926  3782  2606  4447  5418  3486  4168  2064  2321   \n",
      "\n",
      "지역                    노원구  ...   송파구   양천구  영등포구   용산구   은평구   종로구    중구  \\\n",
      "확진일                        ...                                             \n",
      "2020-01-24 00:00:00     0  ...     0     0     0     0     0     0     0   \n",
      "2020-01-30 00:00:00     0  ...     0     0     0     0     0     1     0   \n",
      "2020-01-31 00:00:00     0  ...     0     0     0     0     0     2     0   \n",
      "2020-02-02 00:00:00     0  ...     0     0     0     0     0     0     0   \n",
      "2020-02-05 00:00:00     0  ...     1     0     0     0     0     0     0   \n",
      "...                   ...  ...   ...   ...   ...   ...   ...   ...   ...   \n",
      "2021-09-25 00:00:00    27  ...    88    20    35    32    31    31    24   \n",
      "2021-09-26 00:00:00    25  ...    55    12    40    13    38    33    27   \n",
      "2021-09-27 00:00:00    37  ...    58    27    41    28    17    20    22   \n",
      "2021-09-28 00:00:00    29  ...    68    27    43    24    47    23    37   \n",
      "All                  3932  ...  6356  3291  4463  2705  4284  1617  1708   \n",
      "\n",
      "지역                    중랑구   타시도    All  \n",
      "확진일                                     \n",
      "2020-01-24 00:00:00     0     0      1  \n",
      "2020-01-30 00:00:00     1     0      3  \n",
      "2020-01-31 00:00:00     0     0      3  \n",
      "2020-02-02 00:00:00     0     1      1  \n",
      "2020-02-05 00:00:00     0     0      2  \n",
      "...                   ...   ...    ...  \n",
      "2021-09-25 00:00:00    35    31    928  \n",
      "2021-09-26 00:00:00    26    32    778  \n",
      "2021-09-27 00:00:00    18    63    842  \n",
      "2021-09-28 00:00:00    26    43   1054  \n",
      "All                  3729  4715  99550  \n",
      "\n",
      "[583 rows x 28 columns]\n",
      "\n",
      "지역\n",
      "강남구       45\n",
      "강동구       51\n",
      "강북구       25\n",
      "강서구       41\n",
      "관악구       48\n",
      "광진구       36\n",
      "구로구       55\n",
      "금천구       31\n",
      "기타        65\n",
      "노원구       29\n",
      "도봉구       35\n",
      "동대문구      66\n",
      "동작구       28\n",
      "마포구       47\n",
      "서대문구      30\n",
      "서초구       19\n",
      "성동구       24\n",
      "성북구       41\n",
      "송파구       68\n",
      "양천구       27\n",
      "영등포구      43\n",
      "용산구       24\n",
      "은평구       47\n",
      "종로구       23\n",
      "중구        37\n",
      "중랑구       26\n",
      "타시도       43\n",
      "All     1054\n",
      "Name: 2021-09-28 00:00:00, dtype: int64\n",
      "지역\n",
      "강남구     45\n",
      "강동구     51\n",
      "강북구     25\n",
      "강서구     41\n",
      "관악구     48\n",
      "광진구     36\n",
      "구로구     55\n",
      "금천구     31\n",
      "기타      65\n",
      "노원구     29\n",
      "도봉구     35\n",
      "동대문구    66\n",
      "동작구     28\n",
      "마포구     47\n",
      "서대문구    30\n",
      "서초구     19\n",
      "성동구     24\n",
      "성북구     41\n",
      "송파구     68\n",
      "양천구     27\n",
      "영등포구    43\n",
      "용산구     24\n",
      "은평구     47\n",
      "종로구     23\n",
      "중구      37\n",
      "중랑구     26\n",
      "타시도     43\n",
      "Name: 2021-09-28 00:00:00, dtype: int64\n"
     ]
    }
   ],
   "source": [
    "# 최근일 기준, 지역별 추가 확진자\n",
    "print(df_gu)\n",
    "print()\n",
    "print(df_gu.iloc[-2])\n",
    "# 행 기준 마지막에서 두번째의 행을 선택\n",
    "print(df_gu.iloc[-2][:-1])  # 선택한 행의 마지막 열 제외\n",
    "# 'All'이 빠진다는 것을 알 수 있다. "
   ]
  },
  {
   "cell_type": "code",
   "execution_count": 54,
   "metadata": {},
   "outputs": [
    {
     "data": {
      "text/plain": [
       "지역\n",
       "송파구     68\n",
       "동대문구    66\n",
       "기타      65\n",
       "구로구     55\n",
       "강동구     51\n",
       "관악구     48\n",
       "마포구     47\n",
       "은평구     47\n",
       "강남구     45\n",
       "타시도     43\n",
       "영등포구    43\n",
       "성북구     41\n",
       "강서구     41\n",
       "중구      37\n",
       "광진구     36\n",
       "도봉구     35\n",
       "금천구     31\n",
       "서대문구    30\n",
       "노원구     29\n",
       "동작구     28\n",
       "양천구     27\n",
       "중랑구     26\n",
       "강북구     25\n",
       "성동구     24\n",
       "용산구     24\n",
       "종로구     23\n",
       "서초구     19\n",
       "Name: 2021-09-28 00:00:00, dtype: int64"
      ]
     },
     "execution_count": 54,
     "metadata": {},
     "output_type": "execute_result"
    }
   ],
   "source": [
    "s_gu = df_gu.iloc[-2][:-1]\n",
    "s_gu = s_gu.sort_values(ascending = False)\n",
    "s_gu "
   ]
  },
  {
   "cell_type": "code",
   "execution_count": 55,
   "metadata": {},
   "outputs": [
    {
     "data": {
      "image/png": "[encoded data removed]",
      "text/plain": [
       "<Figure size 1000x600 with 1 Axes>"
      ]
     },
     "metadata": {},
     "output_type": "display_data"
    }
   ],
   "source": [
    "# 시각화 \n",
    "x = s_gu.index\n",
    "y = s_gu.values \n",
    "plt.figure(figsize=(10,6))\n",
    "plt.barh(x,y)\n",
    "plt.show()"
   ]
  },
  {
   "cell_type": "code",
   "execution_count": 58,
   "metadata": {},
   "outputs": [
    {
     "name": "stdout",
     "output_type": "stream",
     "text": [
      "0         감염경로 조사중\n",
      "1         감염경로 조사중\n",
      "2         감염경로 조사중\n",
      "3         감염경로 조사중\n",
      "4         감염경로 조사중\n",
      "           ...    \n",
      "99545    기타 확진자 접촉\n",
      "99546         해외유입\n",
      "99547     종로구 집단발병\n",
      "99548         해외유입\n",
      "99549         해외유입\n",
      "Name: 접촉력, Length: 99550, dtype: object\n",
      "                      count\n",
      "접촉력                        \n",
      "기타 확진자 접촉             37943\n",
      "감염경로 조사중              31964\n",
      "타시도 확진자 접촉             4244\n",
      "해외유입                   1729\n",
      "동부구치소 관련               1175\n",
      "병원 및 요양시설               988\n",
      "송파구 소재 시장 관련(?21.9.)    659\n",
      "성북구 사랑제일교회 관련           641\n",
      "중구 소재 시장 관련(?21.9.)     277\n",
      "강서구 교회 관련               246\n"
     ]
    }
   ],
   "source": [
    "# 접촉력에 따른 확진 분석\n",
    "# 접촉력에 따른 확진 건수 베스트 10 선정\n",
    "print(df['접촉력'])\n",
    "print(df['접촉력'].value_counts()[:10].to_frame())\n",
    "# counts를 하면 내림차순으로 나옴"
   ]
  },
  {
   "cell_type": "code",
   "execution_count": 59,
   "metadata": {},
   "outputs": [
    {
     "name": "stdout",
     "output_type": "stream",
     "text": [
      "0       2021-09-28\n",
      "1       2021-09-28\n",
      "2       2021-09-28\n",
      "3       2021-09-28\n",
      "4       2021-09-28\n",
      "           ...    \n",
      "99545   2020-01-31\n",
      "99546   2020-01-30\n",
      "99547   2020-01-30\n",
      "99548   2020-01-30\n",
      "99549   2020-01-24\n",
      "Name: 확진일, Length: 99550, dtype: datetime64[ns]\n",
      "          연번        확진일   지역  여행력        접촉력  상태\n",
      "0      99550 2021-09-28   기타  NaN   감염경로 조사중   -\n",
      "1      99549 2021-09-28   기타  NaN   감염경로 조사중   -\n",
      "2      99548 2021-09-28   기타  NaN   감염경로 조사중   -\n",
      "3      99547 2021-09-28   기타  NaN   감염경로 조사중   -\n",
      "4      99546 2021-09-28   기타  NaN   감염경로 조사중   -\n",
      "...      ...        ...  ...  ...        ...  ..\n",
      "19529  80021 2021-09-01  동작구  NaN   감염경로 조사중  퇴원\n",
      "19530  80020 2021-09-01  중랑구  NaN   감염경로 조사중  퇴원\n",
      "19531  80019 2021-09-01  동작구  NaN  기타 확진자 접촉   -\n",
      "19532  80018 2021-09-01  중랑구  NaN   감염경로 조사중  퇴원\n",
      "19533  80017 2021-09-01  타시도  NaN  기타 확진자 접촉  퇴원\n",
      "\n",
      "[19534 rows x 6 columns]\n"
     ]
    }
   ],
   "source": [
    "# 최근 월 접촉력에 따른 확진 건수 베스트 10선정\n",
    "# 2021-09\n",
    "print(df['확진일'])\n",
    "condition = (df['확진일'].dt.year == 2021) & (df['확진일'].dt.month == 9)\n",
    "print(df[condition])"
   ]
  },
  {
   "cell_type": "code",
   "execution_count": 60,
   "metadata": {},
   "outputs": [
    {
     "name": "stdout",
     "output_type": "stream",
     "text": [
      "                      count\n",
      "접촉력                        \n",
      "감염경로 조사중               8117\n",
      "기타 확진자 접촉              8088\n",
      "송파구 소재 시장 관련(?21.9.)    658\n",
      "타시도 확진자 접촉              587\n",
      "중구 소재 시장 관련(?21.9.)     277\n",
      "병원 및 요양시설               186\n",
      "해외유입                    122\n",
      "용산구 소재 병원 관련(?21.9.)     77\n",
      "동대문구 소재 시장 관련            44\n",
      "강서구 소재 시장 관련             44\n"
     ]
    }
   ],
   "source": [
    "condition = (df['확진일'].dt.year == 2021) & (df['확진일'].dt.month == 9)\n",
    "print(df[condition]['접촉력'].value_counts()[:10].to_frame())"
   ]
  },
  {
   "cell_type": "code",
   "execution_count": null,
   "metadata": {},
   "outputs": [],
   "source": []
  }
 ],
 "metadata": {
  "kernelspec": {
   "display_name": "base",
   "language": "python",
   "name": "python3"
  },
  "language_info": {
   "codemirror_mode": {
    "name": "ipython",
    "version": 3
   },
   "file_extension": ".py",
   "mimetype": "text/x-python",
   "name": "python",
   "nbconvert_exporter": "python",
   "pygments_lexer": "ipython3",
   "version": "3.11.7"
  }
 },
 "nbformat": 4,
 "nbformat_minor": 2
}
